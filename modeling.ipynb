{
  "cells": [
    {
      "cell_type": "markdown",
      "metadata": {
        "colab_type": "text",
        "id": "view-in-github"
      },
      "source": [
        "<a href=\"https://colab.research.google.com/github/Jyotheekiran/Patient-Readmission/blob/main/modeling.ipynb\" target=\"_parent\"><img src=\"https://colab.research.google.com/assets/colab-badge.svg\" alt=\"Open In Colab\"/></a>"
      ]
    },
    {
      "cell_type": "markdown",
      "metadata": {
        "id": "mSdzUv25L5ve"
      },
      "source": [
        "## Introduction:\n",
        "\n",
        "Following our comprehensive exploratory analysis in data_exploration.ipynb, where we identified key variables and established foundational insights into the factors influencing patient readmission, this notebook, modeling.ipynb, aims to build upon our initial findings to develop and refine predictive models. Our goal is to leverage the patterns and relationships unearthed during the data exploration phase to construct a robust predictive framework.\n",
        "\n",
        "## Purpose:\n",
        "\n",
        "The primary purpose of this notebook is to develop a series of machine learning models that can accurately predict patient readmission based on clinical data. This involves:\n",
        "\n",
        "Testing various algorithms to find the most effective approach.\n",
        "Tuning models to optimize accuracy and other relevant performance metrics.\n",
        "Assessing feature importance to understand which factors most significantly impact readmission.\n",
        "Scope:\n",
        "\n",
        "The scope of this notebook encompasses several key activities:\n",
        "\n",
        "Model Selection: Evaluate multiple modeling techniques, including logistic regression, decision trees, and ensemble methods such as random forests and gradient boosting machines.\n",
        "Parameter Tuning: Utilize techniques such as grid search and randomized search to fine-tune the hyperparameters of the most promising models.\n",
        "Model Validation: Apply cross-validation methods to ensure that our models are generalizable and robust against overfitting.\n",
        "Performance Evaluation: Use a comprehensive set of metrics to evaluate model performance, including accuracy, precision, recall, F1 score, and the area under the ROC curve.\n",
        "## Objectives:\n",
        "\n",
        "Develop Predictive Models: Construct models that can accurately predict whether a patient will be readmitted within a specific time frame following their initial discharge.\n",
        "Identify Key Predictors: Determine which clinical and demographic factors are most predictive of readmission, thereby providing insights that could inform targeted interventions.\n",
        "Optimize Model Performance: Achieve high performance in predicting readmission, focusing on both accuracy and the ability to generalize across unseen data.\n",
        "Prepare for Deployment: Ready the best-performing model for potential deployment in a clinical setting, ensuring it can operate in real-time with new patient data.\n",
        "Continuation from Previous Steps:\n",
        "\n",
        "This notebook is a direct continuation from the data_exploration.ipynb, where initial data cleaning, preprocessing, and exploratory analysis were conducted. Insights gained from the exploration phase have informed the strategies employed in this modeling phase, ensuring a data-driven approach to our predictive modeling efforts.\n",
        "\n",
        "\n",
        "By the end of this notebook, we aim to have a clear understanding of the best models for predicting patient readmission. We will also document our findings and prepare for the potential implementation of our model in a clinical environment to improve patient outcomes and reduce readmission rates.\n",
        "\n",
        "\n",
        "we can now focus on building and training our model in the modeling.ipynb notebook."
      ]
    },
    {
      "cell_type": "code",
      "execution_count": 449,
      "metadata": {
        "colab": {
          "base_uri": "https://localhost:8080/"
        },
        "id": "kiAVmPCPeidw",
        "outputId": "786d8486-f803-4a9b-cc93-43484c00f0f5"
      },
      "outputs": [
        {
          "name": "stdout",
          "output_type": "stream",
          "text": [
            "Defaulting to user installation because normal site-packages is not writeable\n"
          ]
        },
        {
          "name": "stderr",
          "output_type": "stream",
          "text": [
            "ERROR: Ignored the following versions that require a different python version: 2.1.0 Requires-Python >=3.9; 2.1.0rc0 Requires-Python >=3.9; 2.1.1 Requires-Python >=3.9; 2.1.2 Requires-Python >=3.9; 2.1.3 Requires-Python >=3.9; 2.1.4 Requires-Python >=3.9; 2.2.0 Requires-Python >=3.9; 2.2.0rc0 Requires-Python >=3.9; 2.2.1 Requires-Python >=3.9; 2.2.2 Requires-Python >=3.9\n",
            "ERROR: Could not find a version that satisfies the requirement pandas==2.1.4 (from versions: 0.1, 0.2, 0.3.0, 0.4.0, 0.4.1, 0.4.2, 0.4.3, 0.5.0, 0.6.0, 0.6.1, 0.7.0, 0.7.1, 0.7.2, 0.7.3, 0.8.0, 0.8.1, 0.9.0, 0.9.1, 0.10.0, 0.10.1, 0.11.0, 0.12.0, 0.13.0, 0.13.1, 0.14.0, 0.14.1, 0.15.0, 0.15.1, 0.15.2, 0.16.0, 0.16.1, 0.16.2, 0.17.0, 0.17.1, 0.18.0, 0.18.1, 0.19.0, 0.19.1, 0.19.2, 0.20.0, 0.20.1, 0.20.2, 0.20.3, 0.21.0, 0.21.1, 0.22.0, 0.23.0, 0.23.1, 0.23.2, 0.23.3, 0.23.4, 0.24.0, 0.24.1, 0.24.2, 0.25.0, 0.25.1, 0.25.2, 0.25.3, 1.0.0, 1.0.1, 1.0.2, 1.0.3, 1.0.4, 1.0.5, 1.1.0, 1.1.1, 1.1.2, 1.1.3, 1.1.4, 1.1.5, 1.2.0, 1.2.1, 1.2.2, 1.2.3, 1.2.4, 1.2.5, 1.3.0, 1.3.1, 1.3.2, 1.3.3, 1.3.4, 1.3.5, 1.4.0rc0, 1.4.0, 1.4.1, 1.4.2, 1.4.3, 1.4.4, 1.5.0rc0, 1.5.0, 1.5.1, 1.5.2, 1.5.3, 2.0.0rc0, 2.0.0rc1, 2.0.0, 2.0.1, 2.0.2, 2.0.3)\n",
            "ERROR: No matching distribution found for pandas==2.1.4\n"
          ]
        },
        {
          "name": "stdout",
          "output_type": "stream",
          "text": [
            "Defaulting to user installation because normal site-packages is not writeable\n",
            "Requirement already satisfied: transformers in c:\\users\\mjoth\\appdata\\roaming\\python\\python38\\site-packages (4.44.2)\n",
            "Requirement already satisfied: torch in c:\\users\\mjoth\\appdata\\roaming\\python\\python38\\site-packages (2.4.1)\n",
            "Requirement already satisfied: seaborn in c:\\programdata\\anaconda3\\envs\\datascience\\lib\\site-packages (0.12.2)\n",
            "Requirement already satisfied: matplotlib in c:\\programdata\\anaconda3\\envs\\datascience\\lib\\site-packages (3.7.2)\n",
            "Requirement already satisfied: scikit-learn in c:\\users\\mjoth\\appdata\\roaming\\python\\python38\\site-packages (1.3.2)\n",
            "Requirement already satisfied: shap in c:\\users\\mjoth\\appdata\\roaming\\python\\python38\\site-packages (0.44.1)\n",
            "Requirement already satisfied: lime in c:\\users\\mjoth\\appdata\\roaming\\python\\python38\\site-packages (0.2.0.1)\n",
            "Requirement already satisfied: filelock in c:\\users\\mjoth\\appdata\\roaming\\python\\python38\\site-packages (from transformers) (3.15.4)\n",
            "Requirement already satisfied: huggingface-hub<1.0,>=0.23.2 in c:\\users\\mjoth\\appdata\\roaming\\python\\python38\\site-packages (from transformers) (0.23.5)\n",
            "Requirement already satisfied: numpy>=1.17 in c:\\programdata\\anaconda3\\envs\\datascience\\lib\\site-packages (from transformers) (1.24.3)\n",
            "Requirement already satisfied: packaging>=20.0 in c:\\programdata\\anaconda3\\envs\\datascience\\lib\\site-packages (from transformers) (23.1)\n",
            "Requirement already satisfied: pyyaml>=5.1 in c:\\programdata\\anaconda3\\envs\\datascience\\lib\\site-packages (from transformers) (6.0.1)\n",
            "Requirement already satisfied: regex!=2019.12.17 in c:\\users\\mjoth\\appdata\\roaming\\python\\python38\\site-packages (from transformers) (2023.10.3)\n",
            "Requirement already satisfied: requests in c:\\users\\mjoth\\appdata\\roaming\\python\\python38\\site-packages (from transformers) (2.32.3)\n",
            "Requirement already satisfied: safetensors>=0.4.1 in c:\\users\\mjoth\\appdata\\roaming\\python\\python38\\site-packages (from transformers) (0.4.4)\n",
            "Requirement already satisfied: tokenizers<0.20,>=0.19 in c:\\users\\mjoth\\appdata\\roaming\\python\\python38\\site-packages (from transformers) (0.19.1)\n",
            "Requirement already satisfied: tqdm>=4.27 in c:\\users\\mjoth\\appdata\\roaming\\python\\python38\\site-packages (from transformers) (4.66.4)\n",
            "Requirement already satisfied: typing-extensions>=4.8.0 in c:\\users\\mjoth\\appdata\\roaming\\python\\python38\\site-packages (from torch) (4.11.0)\n",
            "Requirement already satisfied: sympy in c:\\users\\mjoth\\appdata\\roaming\\python\\python38\\site-packages (from torch) (1.13.0)\n",
            "Requirement already satisfied: networkx in c:\\users\\mjoth\\appdata\\roaming\\python\\python38\\site-packages (from torch) (3.1)\n",
            "Requirement already satisfied: jinja2 in c:\\programdata\\anaconda3\\envs\\datascience\\lib\\site-packages (from torch) (3.1.2)\n",
            "Requirement already satisfied: fsspec in c:\\users\\mjoth\\appdata\\roaming\\python\\python38\\site-packages (from torch) (2024.5.0)\n",
            "Requirement already satisfied: pandas>=0.25 in c:\\programdata\\anaconda3\\envs\\datascience\\lib\\site-packages (from seaborn) (2.0.3)\n",
            "Requirement already satisfied: contourpy>=1.0.1 in c:\\programdata\\anaconda3\\envs\\datascience\\lib\\site-packages (from matplotlib) (1.0.5)\n",
            "Requirement already satisfied: cycler>=0.10 in c:\\programdata\\anaconda3\\envs\\datascience\\lib\\site-packages (from matplotlib) (0.11.0)\n",
            "Requirement already satisfied: fonttools>=4.22.0 in c:\\programdata\\anaconda3\\envs\\datascience\\lib\\site-packages (from matplotlib) (4.25.0)\n",
            "Requirement already satisfied: kiwisolver>=1.0.1 in c:\\programdata\\anaconda3\\envs\\datascience\\lib\\site-packages (from matplotlib) (1.4.4)\n",
            "Requirement already satisfied: pillow>=6.2.0 in c:\\programdata\\anaconda3\\envs\\datascience\\lib\\site-packages (from matplotlib) (10.0.1)\n",
            "Requirement already satisfied: pyparsing<3.1,>=2.3.1 in c:\\programdata\\anaconda3\\envs\\datascience\\lib\\site-packages (from matplotlib) (3.0.9)\n",
            "Requirement already satisfied: python-dateutil>=2.7 in c:\\programdata\\anaconda3\\envs\\datascience\\lib\\site-packages (from matplotlib) (2.8.2)\n",
            "Requirement already satisfied: importlib-resources>=3.2.0 in c:\\programdata\\anaconda3\\envs\\datascience\\lib\\site-packages (from matplotlib) (6.1.0)\n",
            "Requirement already satisfied: scipy>=1.5.0 in c:\\users\\mjoth\\appdata\\roaming\\python\\python38\\site-packages (from scikit-learn) (1.10.1)\n",
            "Requirement already satisfied: joblib>=1.1.1 in c:\\users\\mjoth\\appdata\\roaming\\python\\python38\\site-packages (from scikit-learn) (1.3.2)\n",
            "Requirement already satisfied: threadpoolctl>=2.0.0 in c:\\users\\mjoth\\appdata\\roaming\\python\\python38\\site-packages (from scikit-learn) (3.2.0)\n",
            "Requirement already satisfied: slicer==0.0.7 in c:\\users\\mjoth\\appdata\\roaming\\python\\python38\\site-packages (from shap) (0.0.7)\n",
            "Requirement already satisfied: numba in c:\\users\\mjoth\\appdata\\roaming\\python\\python38\\site-packages (from shap) (0.58.1)\n",
            "Requirement already satisfied: cloudpickle in c:\\users\\mjoth\\appdata\\roaming\\python\\python38\\site-packages (from shap) (3.0.0)\n",
            "Requirement already satisfied: scikit-image>=0.12 in c:\\users\\mjoth\\appdata\\roaming\\python\\python38\\site-packages (from lime) (0.21.0)\n",
            "Requirement already satisfied: zipp>=3.1.0 in c:\\programdata\\anaconda3\\envs\\datascience\\lib\\site-packages (from importlib-resources>=3.2.0->matplotlib) (3.11.0)\n",
            "Requirement already satisfied: pytz>=2020.1 in c:\\programdata\\anaconda3\\envs\\datascience\\lib\\site-packages (from pandas>=0.25->seaborn) (2023.3.post1)\n",
            "Requirement already satisfied: tzdata>=2022.1 in c:\\programdata\\anaconda3\\envs\\datascience\\lib\\site-packages (from pandas>=0.25->seaborn) (2023.3)\n",
            "Requirement already satisfied: six>=1.5 in c:\\programdata\\anaconda3\\envs\\datascience\\lib\\site-packages (from python-dateutil>=2.7->matplotlib) (1.16.0)\n",
            "Requirement already satisfied: imageio>=2.27 in c:\\users\\mjoth\\appdata\\roaming\\python\\python38\\site-packages (from scikit-image>=0.12->lime) (2.34.1)\n",
            "Requirement already satisfied: tifffile>=2022.8.12 in c:\\users\\mjoth\\appdata\\roaming\\python\\python38\\site-packages (from scikit-image>=0.12->lime) (2023.7.10)\n",
            "Requirement already satisfied: PyWavelets>=1.1.1 in c:\\users\\mjoth\\appdata\\roaming\\python\\python38\\site-packages (from scikit-image>=0.12->lime) (1.4.1)\n",
            "Requirement already satisfied: lazy_loader>=0.2 in c:\\users\\mjoth\\appdata\\roaming\\python\\python38\\site-packages (from scikit-image>=0.12->lime) (0.4)\n",
            "Requirement already satisfied: colorama in c:\\programdata\\anaconda3\\envs\\datascience\\lib\\site-packages (from tqdm>=4.27->transformers) (0.4.6)\n",
            "Requirement already satisfied: MarkupSafe>=2.0 in c:\\programdata\\anaconda3\\envs\\datascience\\lib\\site-packages (from jinja2->torch) (2.1.1)\n",
            "Requirement already satisfied: llvmlite<0.42,>=0.41.0dev0 in c:\\users\\mjoth\\appdata\\roaming\\python\\python38\\site-packages (from numba->shap) (0.41.1)\n",
            "Requirement already satisfied: importlib-metadata in c:\\programdata\\anaconda3\\envs\\datascience\\lib\\site-packages (from numba->shap) (6.0.0)\n",
            "Requirement already satisfied: charset-normalizer<4,>=2 in c:\\programdata\\anaconda3\\envs\\datascience\\lib\\site-packages (from requests->transformers) (2.0.4)\n",
            "Requirement already satisfied: idna<4,>=2.5 in c:\\programdata\\anaconda3\\envs\\datascience\\lib\\site-packages (from requests->transformers) (3.4)\n",
            "Requirement already satisfied: urllib3<3,>=1.21.1 in c:\\programdata\\anaconda3\\envs\\datascience\\lib\\site-packages (from requests->transformers) (1.26.18)\n",
            "Requirement already satisfied: certifi>=2017.4.17 in c:\\programdata\\anaconda3\\envs\\datascience\\lib\\site-packages (from requests->transformers) (2023.11.17)\n",
            "Requirement already satisfied: mpmath<1.4,>=1.1.0 in c:\\users\\mjoth\\appdata\\roaming\\python\\python38\\site-packages (from sympy->torch) (1.3.0)\n",
            "Defaulting to user installation because normal site-packages is not writeable\n",
            "Requirement already satisfied: accelerate in c:\\users\\mjoth\\appdata\\roaming\\python\\python38\\site-packages (0.34.2)\n",
            "Requirement already satisfied: transformers[torch] in c:\\users\\mjoth\\appdata\\roaming\\python\\python38\\site-packages (4.44.2)\n",
            "Requirement already satisfied: filelock in c:\\users\\mjoth\\appdata\\roaming\\python\\python38\\site-packages (from transformers[torch]) (3.15.4)\n",
            "Requirement already satisfied: huggingface-hub<1.0,>=0.23.2 in c:\\users\\mjoth\\appdata\\roaming\\python\\python38\\site-packages (from transformers[torch]) (0.23.5)\n",
            "Requirement already satisfied: numpy>=1.17 in c:\\programdata\\anaconda3\\envs\\datascience\\lib\\site-packages (from transformers[torch]) (1.24.3)\n",
            "Requirement already satisfied: packaging>=20.0 in c:\\programdata\\anaconda3\\envs\\datascience\\lib\\site-packages (from transformers[torch]) (23.1)\n",
            "Requirement already satisfied: pyyaml>=5.1 in c:\\programdata\\anaconda3\\envs\\datascience\\lib\\site-packages (from transformers[torch]) (6.0.1)\n",
            "Requirement already satisfied: regex!=2019.12.17 in c:\\users\\mjoth\\appdata\\roaming\\python\\python38\\site-packages (from transformers[torch]) (2023.10.3)\n",
            "Requirement already satisfied: requests in c:\\users\\mjoth\\appdata\\roaming\\python\\python38\\site-packages (from transformers[torch]) (2.32.3)\n",
            "Requirement already satisfied: safetensors>=0.4.1 in c:\\users\\mjoth\\appdata\\roaming\\python\\python38\\site-packages (from transformers[torch]) (0.4.4)\n",
            "Requirement already satisfied: tokenizers<0.20,>=0.19 in c:\\users\\mjoth\\appdata\\roaming\\python\\python38\\site-packages (from transformers[torch]) (0.19.1)\n",
            "Requirement already satisfied: tqdm>=4.27 in c:\\users\\mjoth\\appdata\\roaming\\python\\python38\\site-packages (from transformers[torch]) (4.66.4)\n",
            "Requirement already satisfied: torch in c:\\users\\mjoth\\appdata\\roaming\\python\\python38\\site-packages (from transformers[torch]) (2.4.1)\n",
            "Requirement already satisfied: psutil in c:\\programdata\\anaconda3\\envs\\datascience\\lib\\site-packages (from accelerate) (5.9.0)\n",
            "Requirement already satisfied: fsspec>=2023.5.0 in c:\\users\\mjoth\\appdata\\roaming\\python\\python38\\site-packages (from huggingface-hub<1.0,>=0.23.2->transformers[torch]) (2024.5.0)\n",
            "Requirement already satisfied: typing-extensions>=3.7.4.3 in c:\\users\\mjoth\\appdata\\roaming\\python\\python38\\site-packages (from huggingface-hub<1.0,>=0.23.2->transformers[torch]) (4.11.0)\n",
            "Requirement already satisfied: sympy in c:\\users\\mjoth\\appdata\\roaming\\python\\python38\\site-packages (from torch->transformers[torch]) (1.13.0)\n",
            "Requirement already satisfied: networkx in c:\\users\\mjoth\\appdata\\roaming\\python\\python38\\site-packages (from torch->transformers[torch]) (3.1)\n",
            "Requirement already satisfied: jinja2 in c:\\programdata\\anaconda3\\envs\\datascience\\lib\\site-packages (from torch->transformers[torch]) (3.1.2)\n",
            "Requirement already satisfied: colorama in c:\\programdata\\anaconda3\\envs\\datascience\\lib\\site-packages (from tqdm>=4.27->transformers[torch]) (0.4.6)\n",
            "Requirement already satisfied: charset-normalizer<4,>=2 in c:\\programdata\\anaconda3\\envs\\datascience\\lib\\site-packages (from requests->transformers[torch]) (2.0.4)\n",
            "Requirement already satisfied: idna<4,>=2.5 in c:\\programdata\\anaconda3\\envs\\datascience\\lib\\site-packages (from requests->transformers[torch]) (3.4)\n",
            "Requirement already satisfied: urllib3<3,>=1.21.1 in c:\\programdata\\anaconda3\\envs\\datascience\\lib\\site-packages (from requests->transformers[torch]) (1.26.18)\n",
            "Requirement already satisfied: certifi>=2017.4.17 in c:\\programdata\\anaconda3\\envs\\datascience\\lib\\site-packages (from requests->transformers[torch]) (2023.11.17)\n",
            "Requirement already satisfied: MarkupSafe>=2.0 in c:\\programdata\\anaconda3\\envs\\datascience\\lib\\site-packages (from jinja2->torch->transformers[torch]) (2.1.1)\n",
            "Requirement already satisfied: mpmath<1.4,>=1.1.0 in c:\\users\\mjoth\\appdata\\roaming\\python\\python38\\site-packages (from sympy->torch->transformers[torch]) (1.3.0)\n",
            "Defaulting to user installation because normal site-packages is not writeable\n",
            "Requirement already satisfied: imblearn in c:\\users\\mjoth\\appdata\\roaming\\python\\python38\\site-packages (0.0)\n",
            "Requirement already satisfied: imbalanced-learn in c:\\users\\mjoth\\appdata\\roaming\\python\\python38\\site-packages (from imblearn) (0.12.3)\n",
            "Requirement already satisfied: numpy>=1.17.3 in c:\\programdata\\anaconda3\\envs\\datascience\\lib\\site-packages (from imbalanced-learn->imblearn) (1.24.3)\n",
            "Requirement already satisfied: scipy>=1.5.0 in c:\\users\\mjoth\\appdata\\roaming\\python\\python38\\site-packages (from imbalanced-learn->imblearn) (1.10.1)\n",
            "Requirement already satisfied: scikit-learn>=1.0.2 in c:\\users\\mjoth\\appdata\\roaming\\python\\python38\\site-packages (from imbalanced-learn->imblearn) (1.3.2)\n",
            "Requirement already satisfied: joblib>=1.1.1 in c:\\users\\mjoth\\appdata\\roaming\\python\\python38\\site-packages (from imbalanced-learn->imblearn) (1.3.2)\n",
            "Requirement already satisfied: threadpoolctl>=2.0.0 in c:\\users\\mjoth\\appdata\\roaming\\python\\python38\\site-packages (from imbalanced-learn->imblearn) (3.2.0)\n",
            "Defaulting to user installation because normal site-packages is not writeable\n",
            "Requirement already satisfied: datasets in c:\\users\\mjoth\\appdata\\roaming\\python\\python38\\site-packages (2.20.0)\n",
            "Requirement already satisfied: filelock in c:\\users\\mjoth\\appdata\\roaming\\python\\python38\\site-packages (from datasets) (3.15.4)\n",
            "Requirement already satisfied: numpy>=1.17 in c:\\programdata\\anaconda3\\envs\\datascience\\lib\\site-packages (from datasets) (1.24.3)\n",
            "Requirement already satisfied: pyarrow>=15.0.0 in c:\\users\\mjoth\\appdata\\roaming\\python\\python38\\site-packages (from datasets) (15.0.0)\n",
            "Requirement already satisfied: pyarrow-hotfix in c:\\users\\mjoth\\appdata\\roaming\\python\\python38\\site-packages (from datasets) (0.6)\n",
            "Requirement already satisfied: dill<0.3.9,>=0.3.0 in c:\\users\\mjoth\\appdata\\roaming\\python\\python38\\site-packages (from datasets) (0.3.8)\n",
            "Requirement already satisfied: pandas in c:\\programdata\\anaconda3\\envs\\datascience\\lib\\site-packages (from datasets) (2.0.3)\n",
            "Requirement already satisfied: requests>=2.32.2 in c:\\users\\mjoth\\appdata\\roaming\\python\\python38\\site-packages (from datasets) (2.32.3)\n",
            "Requirement already satisfied: tqdm>=4.66.3 in c:\\users\\mjoth\\appdata\\roaming\\python\\python38\\site-packages (from datasets) (4.66.4)\n",
            "Requirement already satisfied: xxhash in c:\\users\\mjoth\\appdata\\roaming\\python\\python38\\site-packages (from datasets) (3.4.1)\n",
            "Requirement already satisfied: multiprocess in c:\\users\\mjoth\\appdata\\roaming\\python\\python38\\site-packages (from datasets) (0.70.16)\n",
            "Requirement already satisfied: fsspec<=2024.5.0,>=2023.1.0 in c:\\users\\mjoth\\appdata\\roaming\\python\\python38\\site-packages (from fsspec[http]<=2024.5.0,>=2023.1.0->datasets) (2024.5.0)\n",
            "Requirement already satisfied: aiohttp in c:\\users\\mjoth\\appdata\\roaming\\python\\python38\\site-packages (from datasets) (3.9.1)\n",
            "Requirement already satisfied: huggingface-hub>=0.21.2 in c:\\users\\mjoth\\appdata\\roaming\\python\\python38\\site-packages (from datasets) (0.23.5)\n",
            "Requirement already satisfied: packaging in c:\\programdata\\anaconda3\\envs\\datascience\\lib\\site-packages (from datasets) (23.1)\n",
            "Requirement already satisfied: pyyaml>=5.1 in c:\\programdata\\anaconda3\\envs\\datascience\\lib\\site-packages (from datasets) (6.0.1)\n",
            "Requirement already satisfied: attrs>=17.3.0 in c:\\users\\mjoth\\appdata\\roaming\\python\\python38\\site-packages (from aiohttp->datasets) (23.2.0)\n",
            "Requirement already satisfied: multidict<7.0,>=4.5 in c:\\users\\mjoth\\appdata\\roaming\\python\\python38\\site-packages (from aiohttp->datasets) (6.0.4)\n",
            "Requirement already satisfied: yarl<2.0,>=1.0 in c:\\users\\mjoth\\appdata\\roaming\\python\\python38\\site-packages (from aiohttp->datasets) (1.9.4)\n",
            "Requirement already satisfied: frozenlist>=1.1.1 in c:\\users\\mjoth\\appdata\\roaming\\python\\python38\\site-packages (from aiohttp->datasets) (1.4.0)\n",
            "Requirement already satisfied: aiosignal>=1.1.2 in c:\\users\\mjoth\\appdata\\roaming\\python\\python38\\site-packages (from aiohttp->datasets) (1.3.1)\n",
            "Requirement already satisfied: async-timeout<5.0,>=4.0 in c:\\users\\mjoth\\appdata\\roaming\\python\\python38\\site-packages (from aiohttp->datasets) (4.0.3)\n",
            "Requirement already satisfied: typing-extensions>=3.7.4.3 in c:\\users\\mjoth\\appdata\\roaming\\python\\python38\\site-packages (from huggingface-hub>=0.21.2->datasets) (4.11.0)\n",
            "Requirement already satisfied: charset-normalizer<4,>=2 in c:\\programdata\\anaconda3\\envs\\datascience\\lib\\site-packages (from requests>=2.32.2->datasets) (2.0.4)\n",
            "Requirement already satisfied: idna<4,>=2.5 in c:\\programdata\\anaconda3\\envs\\datascience\\lib\\site-packages (from requests>=2.32.2->datasets) (3.4)\n",
            "Requirement already satisfied: urllib3<3,>=1.21.1 in c:\\programdata\\anaconda3\\envs\\datascience\\lib\\site-packages (from requests>=2.32.2->datasets) (1.26.18)\n",
            "Requirement already satisfied: certifi>=2017.4.17 in c:\\programdata\\anaconda3\\envs\\datascience\\lib\\site-packages (from requests>=2.32.2->datasets) (2023.11.17)\n",
            "Requirement already satisfied: colorama in c:\\programdata\\anaconda3\\envs\\datascience\\lib\\site-packages (from tqdm>=4.66.3->datasets) (0.4.6)\n",
            "Requirement already satisfied: python-dateutil>=2.8.2 in c:\\programdata\\anaconda3\\envs\\datascience\\lib\\site-packages (from pandas->datasets) (2.8.2)\n",
            "Requirement already satisfied: pytz>=2020.1 in c:\\programdata\\anaconda3\\envs\\datascience\\lib\\site-packages (from pandas->datasets) (2023.3.post1)\n",
            "Requirement already satisfied: tzdata>=2022.1 in c:\\programdata\\anaconda3\\envs\\datascience\\lib\\site-packages (from pandas->datasets) (2023.3)\n",
            "Requirement already satisfied: six>=1.5 in c:\\programdata\\anaconda3\\envs\\datascience\\lib\\site-packages (from python-dateutil>=2.8.2->pandas->datasets) (1.16.0)\n",
            "Defaulting to user installation because normal site-packages is not writeable\n",
            "Requirement already satisfied: transformers in c:\\users\\mjoth\\appdata\\roaming\\python\\python38\\site-packages (4.44.2)\n",
            "Requirement already satisfied: filelock in c:\\users\\mjoth\\appdata\\roaming\\python\\python38\\site-packages (from transformers) (3.15.4)\n",
            "Requirement already satisfied: huggingface-hub<1.0,>=0.23.2 in c:\\users\\mjoth\\appdata\\roaming\\python\\python38\\site-packages (from transformers) (0.23.5)\n",
            "Requirement already satisfied: numpy>=1.17 in c:\\programdata\\anaconda3\\envs\\datascience\\lib\\site-packages (from transformers) (1.24.3)\n",
            "Requirement already satisfied: packaging>=20.0 in c:\\programdata\\anaconda3\\envs\\datascience\\lib\\site-packages (from transformers) (23.1)\n",
            "Requirement already satisfied: pyyaml>=5.1 in c:\\programdata\\anaconda3\\envs\\datascience\\lib\\site-packages (from transformers) (6.0.1)\n",
            "Requirement already satisfied: regex!=2019.12.17 in c:\\users\\mjoth\\appdata\\roaming\\python\\python38\\site-packages (from transformers) (2023.10.3)\n",
            "Requirement already satisfied: requests in c:\\users\\mjoth\\appdata\\roaming\\python\\python38\\site-packages (from transformers) (2.32.3)\n",
            "Requirement already satisfied: safetensors>=0.4.1 in c:\\users\\mjoth\\appdata\\roaming\\python\\python38\\site-packages (from transformers) (0.4.4)\n",
            "Requirement already satisfied: tokenizers<0.20,>=0.19 in c:\\users\\mjoth\\appdata\\roaming\\python\\python38\\site-packages (from transformers) (0.19.1)\n",
            "Requirement already satisfied: tqdm>=4.27 in c:\\users\\mjoth\\appdata\\roaming\\python\\python38\\site-packages (from transformers) (4.66.4)\n",
            "Requirement already satisfied: fsspec>=2023.5.0 in c:\\users\\mjoth\\appdata\\roaming\\python\\python38\\site-packages (from huggingface-hub<1.0,>=0.23.2->transformers) (2024.5.0)\n",
            "Requirement already satisfied: typing-extensions>=3.7.4.3 in c:\\users\\mjoth\\appdata\\roaming\\python\\python38\\site-packages (from huggingface-hub<1.0,>=0.23.2->transformers) (4.11.0)\n",
            "Requirement already satisfied: colorama in c:\\programdata\\anaconda3\\envs\\datascience\\lib\\site-packages (from tqdm>=4.27->transformers) (0.4.6)\n",
            "Requirement already satisfied: charset-normalizer<4,>=2 in c:\\programdata\\anaconda3\\envs\\datascience\\lib\\site-packages (from requests->transformers) (2.0.4)\n",
            "Requirement already satisfied: idna<4,>=2.5 in c:\\programdata\\anaconda3\\envs\\datascience\\lib\\site-packages (from requests->transformers) (3.4)\n",
            "Requirement already satisfied: urllib3<3,>=1.21.1 in c:\\programdata\\anaconda3\\envs\\datascience\\lib\\site-packages (from requests->transformers) (1.26.18)\n",
            "Requirement already satisfied: certifi>=2017.4.17 in c:\\programdata\\anaconda3\\envs\\datascience\\lib\\site-packages (from requests->transformers) (2023.11.17)\n",
            "Defaulting to user installation because normal site-packages is not writeable\n",
            "Requirement already satisfied: torch in c:\\users\\mjoth\\appdata\\roaming\\python\\python38\\site-packages (2.4.1)\n",
            "Requirement already satisfied: torchvision in c:\\users\\mjoth\\appdata\\roaming\\python\\python38\\site-packages (0.19.1)\n",
            "Requirement already satisfied: torchaudio in c:\\users\\mjoth\\appdata\\roaming\\python\\python38\\site-packages (2.4.1)\n",
            "Requirement already satisfied: filelock in c:\\users\\mjoth\\appdata\\roaming\\python\\python38\\site-packages (from torch) (3.15.4)\n",
            "Requirement already satisfied: typing-extensions>=4.8.0 in c:\\users\\mjoth\\appdata\\roaming\\python\\python38\\site-packages (from torch) (4.11.0)\n",
            "Requirement already satisfied: sympy in c:\\users\\mjoth\\appdata\\roaming\\python\\python38\\site-packages (from torch) (1.13.0)\n",
            "Requirement already satisfied: networkx in c:\\users\\mjoth\\appdata\\roaming\\python\\python38\\site-packages (from torch) (3.1)\n",
            "Requirement already satisfied: jinja2 in c:\\programdata\\anaconda3\\envs\\datascience\\lib\\site-packages (from torch) (3.1.2)\n",
            "Requirement already satisfied: fsspec in c:\\users\\mjoth\\appdata\\roaming\\python\\python38\\site-packages (from torch) (2024.5.0)\n",
            "Requirement already satisfied: numpy in c:\\programdata\\anaconda3\\envs\\datascience\\lib\\site-packages (from torchvision) (1.24.3)\n",
            "Requirement already satisfied: pillow!=8.3.*,>=5.3.0 in c:\\programdata\\anaconda3\\envs\\datascience\\lib\\site-packages (from torchvision) (10.0.1)\n",
            "Requirement already satisfied: MarkupSafe>=2.0 in c:\\programdata\\anaconda3\\envs\\datascience\\lib\\site-packages (from jinja2->torch) (2.1.1)\n",
            "Requirement already satisfied: mpmath<1.4,>=1.1.0 in c:\\users\\mjoth\\appdata\\roaming\\python\\python38\\site-packages (from sympy->torch) (1.3.0)\n",
            "Defaulting to user installation because normal site-packages is not writeable\n",
            "Requirement already satisfied: torch in c:\\users\\mjoth\\appdata\\roaming\\python\\python38\\site-packages (2.4.1)\n",
            "Requirement already satisfied: torchvision in c:\\users\\mjoth\\appdata\\roaming\\python\\python38\\site-packages (0.19.1)\n",
            "Requirement already satisfied: filelock in c:\\users\\mjoth\\appdata\\roaming\\python\\python38\\site-packages (from torch) (3.15.4)\n",
            "Requirement already satisfied: typing-extensions>=4.8.0 in c:\\users\\mjoth\\appdata\\roaming\\python\\python38\\site-packages (from torch) (4.11.0)\n",
            "Requirement already satisfied: sympy in c:\\users\\mjoth\\appdata\\roaming\\python\\python38\\site-packages (from torch) (1.13.0)\n",
            "Requirement already satisfied: networkx in c:\\users\\mjoth\\appdata\\roaming\\python\\python38\\site-packages (from torch) (3.1)\n",
            "Requirement already satisfied: jinja2 in c:\\programdata\\anaconda3\\envs\\datascience\\lib\\site-packages (from torch) (3.1.2)\n",
            "Requirement already satisfied: fsspec in c:\\users\\mjoth\\appdata\\roaming\\python\\python38\\site-packages (from torch) (2024.5.0)\n",
            "Requirement already satisfied: numpy in c:\\programdata\\anaconda3\\envs\\datascience\\lib\\site-packages (from torchvision) (1.24.3)\n",
            "Requirement already satisfied: pillow!=8.3.*,>=5.3.0 in c:\\programdata\\anaconda3\\envs\\datascience\\lib\\site-packages (from torchvision) (10.0.1)\n",
            "Requirement already satisfied: MarkupSafe>=2.0 in c:\\programdata\\anaconda3\\envs\\datascience\\lib\\site-packages (from jinja2->torch) (2.1.1)\n",
            "Requirement already satisfied: mpmath<1.4,>=1.1.0 in c:\\users\\mjoth\\appdata\\roaming\\python\\python38\\site-packages (from sympy->torch) (1.3.0)\n"
          ]
        }
      ],
      "source": [
        "# Step 1: Install Required Libraries\n",
        "!pip3 install --upgrade pandas==2.1.4\n",
        "!pip3 install transformers torch seaborn matplotlib scikit-learn shap lime\n",
        "!pip install transformers[torch] accelerate -U\n",
        "!pip install imblearn\n",
        "!pip install datasets\n",
        "!pip install --upgrade transformers\n",
        "!pip install torch torchvision torchaudio\n",
        "\n",
        "!pip install --upgrade torch torchvision\n",
        "\n"
      ]
    },
    {
      "cell_type": "code",
      "execution_count": 450,
      "metadata": {
        "colab": {
          "base_uri": "https://localhost:8080/"
        },
        "id": "9clPrInMZQPh",
        "outputId": "025e00f3-3d05-4bdf-e6a4-d49f37c54481"
      },
      "outputs": [
        {
          "name": "stdout",
          "output_type": "stream",
          "text": [
            "^C\n"
          ]
        },
        {
          "name": "stdout",
          "output_type": "stream",
          "text": [
            "Defaulting to user installation because normal site-packages is not writeable\n",
            "Requirement already satisfied: pyarrow==15.0.0 in c:\\users\\mjoth\\appdata\\roaming\\python\\python38\\site-packages (15.0.0)\n",
            "Requirement already satisfied: numpy<2,>=1.16.6 in c:\\programdata\\anaconda3\\envs\\datascience\\lib\\site-packages (from pyarrow==15.0.0) (1.24.3)\n"
          ]
        }
      ],
      "source": [
        "!pip install --upgrade pyarrow==15.0.0\n",
        "\n",
        "#!pip install --upgrade pandas pyarrow\n",
        "\n",
        "# This command will upgrade pyarrow to the latest version, ensuring compatibility with pandas."
      ]
    },
    {
      "cell_type": "code",
      "execution_count": 3,
      "metadata": {
        "id": "IhG6bqpIeidx"
      },
      "outputs": [],
      "source": [
        "# Step 2: Import Required Libraries\n",
        "import pandas as pd\n",
        "import matplotlib.pyplot as plt\n",
        "import seaborn as sns\n",
        "from sklearn.model_selection import train_test_split\n",
        "from sklearn.metrics import accuracy_score, classification_report\n",
        "from transformers import BertTokenizer, BertForSequenceClassification, Trainer, TrainingArguments\n",
        "import torch\n",
        "import re\n",
        "import nltk\n",
        "from nltk.corpus import stopwords\n"
      ]
    },
    {
      "cell_type": "markdown",
      "metadata": {
        "id": "vTt4QHfYz8Ys"
      },
      "source": [
        "We are loading the dataset - final_merged_data from the previous file data_exploration.ipynb."
      ]
    },
    {
      "cell_type": "code",
      "execution_count": 4,
      "metadata": {
        "id": "LsfR34KgFxc2"
      },
      "outputs": [],
      "source": [
        "path_to_file = 'C:/Users/mjoth/DataScience/DissertationProject/GitHub/Patient-Readmission/'\n",
        "#path_to_file = '/content/drive/MyDrive/Predictive_Modeling_Patient_Readmission/'"
      ]
    },
    {
      "cell_type": "code",
      "execution_count": 6,
      "metadata": {
        "colab": {
          "base_uri": "https://localhost:8080/",
          "height": 746
        },
        "id": "Rgc7b_IJeidx",
        "outputId": "63e0911d-416d-4c17-bad0-84bd618ff23e"
      },
      "outputs": [
        {
          "data": {
            "text/html": [
              "<div>\n",
              "<style scoped>\n",
              "    .dataframe tbody tr th:only-of-type {\n",
              "        vertical-align: middle;\n",
              "    }\n",
              "\n",
              "    .dataframe tbody tr th {\n",
              "        vertical-align: top;\n",
              "    }\n",
              "\n",
              "    .dataframe thead th {\n",
              "        text-align: right;\n",
              "    }\n",
              "</style>\n",
              "<table border=\"1\" class=\"dataframe\">\n",
              "  <thead>\n",
              "    <tr style=\"text-align: right;\">\n",
              "      <th></th>\n",
              "      <th>row_id_x</th>\n",
              "      <th>SUBJECT_ID</th>\n",
              "      <th>HADM_ID</th>\n",
              "      <th>seq_num_x</th>\n",
              "      <th>ICD9_CODE</th>\n",
              "      <th>ROW_ID</th>\n",
              "      <th>CHARTDATE</th>\n",
              "      <th>CHARTTIME</th>\n",
              "      <th>STORETIME</th>\n",
              "      <th>CATEGORY</th>\n",
              "      <th>DESCRIPTION</th>\n",
              "      <th>CGID</th>\n",
              "      <th>TEXT</th>\n",
              "      <th>TEXT_LENGTH</th>\n",
              "      <th>CLEAN_TEXT</th>\n",
              "      <th>icd9_code_x</th>\n",
              "      <th>long_title</th>\n",
              "      <th>row_id_y</th>\n",
              "      <th>seq_num_y</th>\n",
              "      <th>icd9_code_y</th>\n",
              "    </tr>\n",
              "  </thead>\n",
              "  <tbody>\n",
              "    <tr>\n",
              "      <th>0</th>\n",
              "      <td>112344</td>\n",
              "      <td>10006</td>\n",
              "      <td>142345</td>\n",
              "      <td>1</td>\n",
              "      <td>99591</td>\n",
              "      <td>1394273</td>\n",
              "      <td>2164-10-25</td>\n",
              "      <td>2164-10-25 07:16:00</td>\n",
              "      <td>2164-10-25 07:23:00</td>\n",
              "      <td>Nursing/other</td>\n",
              "      <td>Report</td>\n",
              "      <td>19150</td>\n",
              "      <td>NPN 1900-0700\\nPt awaiting transfer to floor w...</td>\n",
              "      <td>493</td>\n",
              "      <td>npn pt awaiting transfer floor floor bed becom...</td>\n",
              "      <td>NaN</td>\n",
              "      <td>NaN</td>\n",
              "      <td>47335</td>\n",
              "      <td>1</td>\n",
              "      <td>9749</td>\n",
              "    </tr>\n",
              "    <tr>\n",
              "      <th>1</th>\n",
              "      <td>112344</td>\n",
              "      <td>10006</td>\n",
              "      <td>142345</td>\n",
              "      <td>1</td>\n",
              "      <td>99591</td>\n",
              "      <td>1394273</td>\n",
              "      <td>2164-10-25</td>\n",
              "      <td>2164-10-25 07:16:00</td>\n",
              "      <td>2164-10-25 07:23:00</td>\n",
              "      <td>Nursing/other</td>\n",
              "      <td>Report</td>\n",
              "      <td>19150</td>\n",
              "      <td>NPN 1900-0700\\nPt awaiting transfer to floor w...</td>\n",
              "      <td>493</td>\n",
              "      <td>npn pt awaiting transfer floor floor bed becom...</td>\n",
              "      <td>NaN</td>\n",
              "      <td>NaN</td>\n",
              "      <td>47336</td>\n",
              "      <td>2</td>\n",
              "      <td>5491</td>\n",
              "    </tr>\n",
              "    <tr>\n",
              "      <th>2</th>\n",
              "      <td>112344</td>\n",
              "      <td>10006</td>\n",
              "      <td>142345</td>\n",
              "      <td>1</td>\n",
              "      <td>99591</td>\n",
              "      <td>1394273</td>\n",
              "      <td>2164-10-25</td>\n",
              "      <td>2164-10-25 07:16:00</td>\n",
              "      <td>2164-10-25 07:23:00</td>\n",
              "      <td>Nursing/other</td>\n",
              "      <td>Report</td>\n",
              "      <td>19150</td>\n",
              "      <td>NPN 1900-0700\\nPt awaiting transfer to floor w...</td>\n",
              "      <td>493</td>\n",
              "      <td>npn pt awaiting transfer floor floor bed becom...</td>\n",
              "      <td>NaN</td>\n",
              "      <td>NaN</td>\n",
              "      <td>47337</td>\n",
              "      <td>3</td>\n",
              "      <td>3895</td>\n",
              "    </tr>\n",
              "    <tr>\n",
              "      <th>3</th>\n",
              "      <td>112344</td>\n",
              "      <td>10006</td>\n",
              "      <td>142345</td>\n",
              "      <td>1</td>\n",
              "      <td>99591</td>\n",
              "      <td>1394273</td>\n",
              "      <td>2164-10-25</td>\n",
              "      <td>2164-10-25 07:16:00</td>\n",
              "      <td>2164-10-25 07:23:00</td>\n",
              "      <td>Nursing/other</td>\n",
              "      <td>Report</td>\n",
              "      <td>19150</td>\n",
              "      <td>NPN 1900-0700\\nPt awaiting transfer to floor w...</td>\n",
              "      <td>493</td>\n",
              "      <td>npn pt awaiting transfer floor floor bed becom...</td>\n",
              "      <td>NaN</td>\n",
              "      <td>NaN</td>\n",
              "      <td>47338</td>\n",
              "      <td>4</td>\n",
              "      <td>3995</td>\n",
              "    </tr>\n",
              "    <tr>\n",
              "      <th>4</th>\n",
              "      <td>112344</td>\n",
              "      <td>10006</td>\n",
              "      <td>142345</td>\n",
              "      <td>1</td>\n",
              "      <td>99591</td>\n",
              "      <td>1394273</td>\n",
              "      <td>2164-10-25</td>\n",
              "      <td>2164-10-25 07:16:00</td>\n",
              "      <td>2164-10-25 07:23:00</td>\n",
              "      <td>Nursing/other</td>\n",
              "      <td>Report</td>\n",
              "      <td>19150</td>\n",
              "      <td>NPN 1900-0700\\nPt awaiting transfer to floor w...</td>\n",
              "      <td>493</td>\n",
              "      <td>npn pt awaiting transfer floor floor bed becom...</td>\n",
              "      <td>NaN</td>\n",
              "      <td>NaN</td>\n",
              "      <td>47339</td>\n",
              "      <td>5</td>\n",
              "      <td>3893</td>\n",
              "    </tr>\n",
              "  </tbody>\n",
              "</table>\n",
              "</div>"
            ],
            "text/plain": [
              "   row_id_x SUBJECT_ID HADM_ID  seq_num_x ICD9_CODE   ROW_ID  CHARTDATE  \\\n",
              "0    112344      10006  142345          1     99591  1394273 2164-10-25   \n",
              "1    112344      10006  142345          1     99591  1394273 2164-10-25   \n",
              "2    112344      10006  142345          1     99591  1394273 2164-10-25   \n",
              "3    112344      10006  142345          1     99591  1394273 2164-10-25   \n",
              "4    112344      10006  142345          1     99591  1394273 2164-10-25   \n",
              "\n",
              "            CHARTTIME           STORETIME       CATEGORY DESCRIPTION   CGID  \\\n",
              "0 2164-10-25 07:16:00 2164-10-25 07:23:00  Nursing/other      Report  19150   \n",
              "1 2164-10-25 07:16:00 2164-10-25 07:23:00  Nursing/other      Report  19150   \n",
              "2 2164-10-25 07:16:00 2164-10-25 07:23:00  Nursing/other      Report  19150   \n",
              "3 2164-10-25 07:16:00 2164-10-25 07:23:00  Nursing/other      Report  19150   \n",
              "4 2164-10-25 07:16:00 2164-10-25 07:23:00  Nursing/other      Report  19150   \n",
              "\n",
              "                                                TEXT  TEXT_LENGTH  \\\n",
              "0  NPN 1900-0700\\nPt awaiting transfer to floor w...          493   \n",
              "1  NPN 1900-0700\\nPt awaiting transfer to floor w...          493   \n",
              "2  NPN 1900-0700\\nPt awaiting transfer to floor w...          493   \n",
              "3  NPN 1900-0700\\nPt awaiting transfer to floor w...          493   \n",
              "4  NPN 1900-0700\\nPt awaiting transfer to floor w...          493   \n",
              "\n",
              "                                          CLEAN_TEXT icd9_code_x long_title  \\\n",
              "0  npn pt awaiting transfer floor floor bed becom...         NaN        NaN   \n",
              "1  npn pt awaiting transfer floor floor bed becom...         NaN        NaN   \n",
              "2  npn pt awaiting transfer floor floor bed becom...         NaN        NaN   \n",
              "3  npn pt awaiting transfer floor floor bed becom...         NaN        NaN   \n",
              "4  npn pt awaiting transfer floor floor bed becom...         NaN        NaN   \n",
              "\n",
              "   row_id_y  seq_num_y  icd9_code_y  \n",
              "0     47335          1         9749  \n",
              "1     47336          2         5491  \n",
              "2     47337          3         3895  \n",
              "3     47338          4         3995  \n",
              "4     47339          5         3893  "
            ]
          },
          "execution_count": 6,
          "metadata": {},
          "output_type": "execute_result"
        }
      ],
      "source": [
        "# Loading the merged data with all the required fields\n",
        "final_merged_data = pd.read_pickle(path_to_file + 'final_merged_data.pkl')\n",
        "final_merged_data.head(5)\n"
      ]
    },
    {
      "cell_type": "markdown",
      "metadata": {
        "id": "5m6I5OxNeidy"
      },
      "source": []
    },
    {
      "cell_type": "markdown",
      "metadata": {
        "id": "bF0aXhIkPS6V"
      },
      "source": [
        "The goal of this code is to identify and retain only those records from final_merged_data where the 'CLEAN_TEXT' field contains certain medical-related keywords. This is particularly useful in contexts such as medical research, patient care analysis, or when preparing data for machine learning tasks that require focusing on specific conditions or treatments.\n",
        "\n"
      ]
    },
    {
      "cell_type": "code",
      "execution_count": 7,
      "metadata": {
        "id": "tiTsxFZpPKdo"
      },
      "outputs": [],
      "source": [
        "# Define a list of keywords that are of interest, starting with 'diag'\n",
        "keywords = ['diag', 'treatment', 'therapy', 'surgery', 'fever', 'pain']\n",
        "\n",
        "# Function to check if any of the keywords appear in the text\n",
        "def contains_keywords(text):\n",
        "    return any(keyword in text.lower() for keyword in keywords)\n",
        "\n",
        "# Apply this function to the 'CLEAN_TEXT' column and create a new filtered DataFrame\n",
        "clinical_data = final_merged_data[final_merged_data['CLEAN_TEXT'].apply(contains_keywords)]\n"
      ]
    },
    {
      "cell_type": "code",
      "execution_count": 11,
      "metadata": {
        "colab": {
          "base_uri": "https://localhost:8080/"
        },
        "id": "SCJvFyC8Lg1J",
        "outputId": "79fe78bc-41aa-4c17-add3-37f489102954"
      },
      "outputs": [
        {
          "name": "stdout",
          "output_type": "stream",
          "text": [
            "<class 'pandas.core.frame.DataFrame'>\n",
            "Index: 40826 entries, 7 to 123824\n",
            "Data columns (total 20 columns):\n",
            " #   Column       Non-Null Count  Dtype         \n",
            "---  ------       --------------  -----         \n",
            " 0   row_id_x     40826 non-null  int64         \n",
            " 1   SUBJECT_ID   40826 non-null  object        \n",
            " 2   HADM_ID      40826 non-null  object        \n",
            " 3   seq_num_x    40826 non-null  int64         \n",
            " 4   ICD9_CODE    40826 non-null  object        \n",
            " 5   ROW_ID       40826 non-null  object        \n",
            " 6   CHARTDATE    40826 non-null  datetime64[ns]\n",
            " 7   CHARTTIME    40826 non-null  datetime64[ns]\n",
            " 8   STORETIME    40826 non-null  datetime64[ns]\n",
            " 9   CATEGORY     40826 non-null  object        \n",
            " 10  DESCRIPTION  40826 non-null  object        \n",
            " 11  CGID         40826 non-null  object        \n",
            " 12  TEXT         40826 non-null  object        \n",
            " 13  TEXT_LENGTH  40826 non-null  int64         \n",
            " 14  CLEAN_TEXT   40826 non-null  object        \n",
            " 15  icd9_code_x  10756 non-null  object        \n",
            " 16  long_title   10756 non-null  object        \n",
            " 17  row_id_y     40826 non-null  int64         \n",
            " 18  seq_num_y    40826 non-null  int64         \n",
            " 19  icd9_code_y  40826 non-null  int64         \n",
            "dtypes: datetime64[ns](3), int64(6), object(11)\n",
            "memory usage: 6.5+ MB\n"
          ]
        }
      ],
      "source": [
        "clinical_data.info()"
      ]
    },
    {
      "cell_type": "code",
      "execution_count": 8,
      "metadata": {
        "colab": {
          "base_uri": "https://localhost:8080/"
        },
        "id": "YeLAV0pPO3_3",
        "outputId": "8af1f357-5bec-4c9d-96ce-7b8b52f5dc36"
      },
      "outputs": [
        {
          "name": "stdout",
          "output_type": "stream",
          "text": [
            "<class 'pandas.core.frame.DataFrame'>\n",
            "Index: 40826 entries, 7 to 123824\n",
            "Data columns (total 20 columns):\n",
            " #   Column       Non-Null Count  Dtype         \n",
            "---  ------       --------------  -----         \n",
            " 0   row_id_x     40826 non-null  int64         \n",
            " 1   SUBJECT_ID   40826 non-null  object        \n",
            " 2   HADM_ID      40826 non-null  object        \n",
            " 3   seq_num_x    40826 non-null  int64         \n",
            " 4   ICD9_CODE    40826 non-null  object        \n",
            " 5   ROW_ID       40826 non-null  object        \n",
            " 6   CHARTDATE    40826 non-null  datetime64[ns]\n",
            " 7   CHARTTIME    40826 non-null  datetime64[ns]\n",
            " 8   STORETIME    40826 non-null  datetime64[ns]\n",
            " 9   CATEGORY     40826 non-null  object        \n",
            " 10  DESCRIPTION  40826 non-null  object        \n",
            " 11  CGID         40826 non-null  object        \n",
            " 12  TEXT         40826 non-null  object        \n",
            " 13  TEXT_LENGTH  40826 non-null  int64         \n",
            " 14  CLEAN_TEXT   40826 non-null  object        \n",
            " 15  icd9_code_x  40826 non-null  object        \n",
            " 16  long_title   40826 non-null  object        \n",
            " 17  row_id_y     40826 non-null  int64         \n",
            " 18  seq_num_y    40826 non-null  int64         \n",
            " 19  icd9_code_y  40826 non-null  int64         \n",
            "dtypes: datetime64[ns](3), int64(6), object(11)\n",
            "memory usage: 6.5+ MB\n"
          ]
        },
        {
          "name": "stderr",
          "output_type": "stream",
          "text": [
            "C:\\Users\\mjoth\\AppData\\Local\\Temp\\ipykernel_24892\\4245940289.py:1: SettingWithCopyWarning: \n",
            "A value is trying to be set on a copy of a slice from a DataFrame.\n",
            "Try using .loc[row_indexer,col_indexer] = value instead\n",
            "\n",
            "See the caveats in the documentation: https://pandas.pydata.org/pandas-docs/stable/user_guide/indexing.html#returning-a-view-versus-a-copy\n",
            "  clinical_data['long_title'] = clinical_data['long_title'].fillna('Not Specified')\n",
            "C:\\Users\\mjoth\\AppData\\Local\\Temp\\ipykernel_24892\\4245940289.py:2: SettingWithCopyWarning: \n",
            "A value is trying to be set on a copy of a slice from a DataFrame.\n",
            "Try using .loc[row_indexer,col_indexer] = value instead\n",
            "\n",
            "See the caveats in the documentation: https://pandas.pydata.org/pandas-docs/stable/user_guide/indexing.html#returning-a-view-versus-a-copy\n",
            "  clinical_data['icd9_code_x'] = clinical_data['icd9_code_x'].fillna('Not Specified')\n"
          ]
        }
      ],
      "source": [
        "clinical_data['long_title'] = clinical_data['long_title'].fillna('Not Specified')\n",
        "clinical_data['icd9_code_x'] = clinical_data['icd9_code_x'].fillna('Not Specified')\n",
        "\n",
        "clinical_data.info()\n"
      ]
    },
    {
      "cell_type": "markdown",
      "metadata": {},
      "source": [
        "If we can see from the above 2 results, the clinical_data is highly imbalanced due to the null values and hence this can lead to biased model performance. The model may focus more on the majority class, leading to poor generalization for the minority class or for entries with missing data. To address this, we could consider imputing the missing values, using techniques such as oversampling or undersampling, or applying class-balancing techniques to ensure the model learns to handle both classes effectively."
      ]
    },
    {
      "cell_type": "code",
      "execution_count": 9,
      "metadata": {
        "colab": {
          "base_uri": "https://localhost:8080/"
        },
        "id": "sf8hRmzpPurD",
        "outputId": "615ddd0b-9239-40c9-fdf9-2462e953dac4"
      },
      "outputs": [
        {
          "name": "stdout",
          "output_type": "stream",
          "text": [
            "ICD9_CODE\n",
            "4280     5617\n",
            "5185     5078\n",
            "570      3876\n",
            "5845     3673\n",
            "4168     3640\n",
            "2867     3394\n",
            "5750     3292\n",
            "28959    3079\n",
            "5121     3062\n",
            "5762     3058\n",
            "Name: count, dtype: int64\n",
            "Top 5 ICD-9 Codes: ['4280', '5185', '570', '5845', '4168']\n"
          ]
        }
      ],
      "source": [
        "# Assuming we want to see the distribution or count of ICD-9 codes in the filtered data\n",
        "icd9_code_counts = final_merged_data['ICD9_CODE'].value_counts()\n",
        "\n",
        "\n",
        "print(icd9_code_counts.head(10))  # Display the top 10 most common ICD-9 codes\n",
        "\n",
        "top_5_icd9_codes = icd9_code_counts.head(5).index.tolist()\n",
        "print(\"Top 5 ICD-9 Codes:\", top_5_icd9_codes)\n"
      ]
    },
    {
      "cell_type": "code",
      "execution_count": 10,
      "metadata": {
        "colab": {
          "base_uri": "https://localhost:8080/",
          "height": 502
        },
        "id": "sHEk7lk8Pw66",
        "outputId": "d1091e0c-62d5-49cc-d4af-43611b917553"
      },
      "outputs": [
        {
          "data": {
            "image/png": "[encoded data removed]",
            "text/plain": [
              "<Figure size 640x480 with 1 Axes>"
            ]
          },
          "metadata": {},
          "output_type": "display_data"
        }
      ],
      "source": [
        "import matplotlib.pyplot as plt\n",
        "\n",
        "# Visualize the top ICD-9 codes\n",
        "icd9_code_counts.head(10).plot(kind='bar')\n",
        "plt.title('Top ICD-9 Codes in Keyword-Filtered Entries')\n",
        "plt.xlabel('ICD-9 Code')\n",
        "plt.ylabel('Frequency')\n",
        "plt.show()\n"
      ]
    },
    {
      "cell_type": "markdown",
      "metadata": {
        "id": "3Gc4izxJdXCj"
      },
      "source": [
        "The chart effectively showcases which conditions (via ICD-9 codes) are most frequently noted in clinical records filtered by certain keywords. This analysis could be critical for healthcare data analysis, providing insights into prevalent health issues or conditions that require more focused care or study within the sampled population."
      ]
    },
    {
      "cell_type": "code",
      "execution_count": 11,
      "metadata": {
        "colab": {
          "base_uri": "https://localhost:8080/"
        },
        "id": "31I8dCfWG6_N",
        "outputId": "7280b024-a569-4fdd-92ec-e7b1d7e7d774"
      },
      "outputs": [],
      "source": [
        "keywords = ['diag', 'therapy', 'surgery', 'cancer', 'infection', 'dialysis']\n",
        "\n",
        "def label_text(text):\n",
        "    text = text.lower()\n",
        "    return 1 if any(keyword in text for keyword in keywords) else 0\n",
        "\n",
        "\n",
        "clinical_data['LABEL'] = clinical_data['CLEAN_TEXT'].apply(label_text)\n",
        "\n"
      ]
    },
    {
      "cell_type": "code",
      "execution_count": 147,
      "metadata": {
        "colab": {
          "base_uri": "https://localhost:8080/"
        },
        "id": "4koYWnBrSDMb",
        "outputId": "1763f524-a68d-4c75-b128-f1a99ce60ff9"
      },
      "outputs": [
        {
          "name": "stdout",
          "output_type": "stream",
          "text": [
            "LABEL\n",
            "0    29069\n",
            "1    11757\n",
            "Name: count, dtype: int64\n"
          ]
        }
      ],
      "source": [
        "label_counts = clinical_data['LABEL'].value_counts()\n",
        "print(label_counts)\n"
      ]
    },
    {
      "cell_type": "code",
      "execution_count": 13,
      "metadata": {
        "id": "Q46H70TD24KJ"
      },
      "outputs": [],
      "source": [
        "# If we're modifying a slice, use .copy() to ensure a separate copy is modified\n",
        "clinical_data_labeled = clinical_data.copy()\n",
        "clinical_data_labeled['LABEL'] = clinical_data_labeled['CLEAN_TEXT'].apply(label_text)\n",
        "clinical_data = clinical_data_labeled"
      ]
    },
    {
      "cell_type": "code",
      "execution_count": 14,
      "metadata": {
        "id": "HkBandrc3WVp"
      },
      "outputs": [],
      "source": [
        "# Save the DataFrame to a CSV file\n",
        "clinical_data.to_csv(path_to_file + '/clinical_data.csv', index=False)\n",
        "\n",
        "# OR save it as a pickle file (smaller size, faster load time)\n",
        "clinical_data.to_pickle(path_to_file + '/clinical_data.pkl')\n"
      ]
    },
    {
      "cell_type": "markdown",
      "metadata": {
        "id": "eurUJc_XOsPa"
      },
      "source": []
    },
    {
      "cell_type": "code",
      "execution_count": 19,
      "metadata": {
        "colab": {
          "base_uri": "https://localhost:8080/",
          "height": 472
        },
        "id": "1WVKu1tbSYgH",
        "outputId": "5e87ff9d-ac1b-4103-fde9-ef075573a135"
      },
      "outputs": [
        {
          "data": {
            "image/png": "[encoded data removed]",
            "text/plain": [
              "<Figure size 640x480 with 1 Axes>"
            ]
          },
          "metadata": {},
          "output_type": "display_data"
        }
      ],
      "source": [
        "import matplotlib.pyplot as plt\n",
        "\n",
        "# Plotting the label distribution\n",
        "label_counts.plot(kind='bar')\n",
        "plt.title('Distribution of Labels in Clinical Data')\n",
        "plt.xlabel('Label')\n",
        "plt.ylabel('Number of Entries')\n",
        "plt.xticks(ticks=[0, 1], labels=['No Keywords', 'Contains Keywords'], rotation=0)\n",
        "plt.show()\n"
      ]
    },
    {
      "cell_type": "code",
      "execution_count": 148,
      "metadata": {
        "colab": {
          "base_uri": "https://localhost:8080/"
        },
        "id": "wh82lrqaz8Yx",
        "outputId": "28a5fbc0-65a5-4392-b274-906e53605c03"
      },
      "outputs": [
        {
          "name": "stdout",
          "output_type": "stream",
          "text": [
            "LABEL\n",
            "0    29464\n",
            "1     3156\n",
            "Name: count, dtype: int64\n",
            "<class 'pandas.core.frame.DataFrame'>\n",
            "Index: 32620 entries, 56 to 123820\n",
            "Data columns (total 22 columns):\n",
            " #   Column       Non-Null Count  Dtype         \n",
            "---  ------       --------------  -----         \n",
            " 0   row_id_x     32620 non-null  int64         \n",
            " 1   SUBJECT_ID   32620 non-null  object        \n",
            " 2   HADM_ID      32620 non-null  object        \n",
            " 3   seq_num_x    32620 non-null  int64         \n",
            " 4   ICD9_CODE    32620 non-null  object        \n",
            " 5   ROW_ID       32620 non-null  object        \n",
            " 6   CHARTDATE    32620 non-null  datetime64[ns]\n",
            " 7   CHARTTIME    32620 non-null  datetime64[ns]\n",
            " 8   STORETIME    32620 non-null  datetime64[ns]\n",
            " 9   CATEGORY     32620 non-null  object        \n",
            " 10  DESCRIPTION  32620 non-null  object        \n",
            " 11  CGID         32620 non-null  object        \n",
            " 12  TEXT         32620 non-null  object        \n",
            " 13  TEXT_LENGTH  32620 non-null  int64         \n",
            " 14  CLEAN_TEXT   32620 non-null  object        \n",
            " 15  icd9_code_x  32620 non-null  object        \n",
            " 16  long_title   32620 non-null  object        \n",
            " 17  row_id_y     32620 non-null  int64         \n",
            " 18  seq_num_y    32620 non-null  int64         \n",
            " 19  icd9_code_y  32620 non-null  int64         \n",
            " 20  LABEL        32620 non-null  int64         \n",
            " 21  text_length  32620 non-null  int64         \n",
            "dtypes: datetime64[ns](3), int64(8), object(11)\n",
            "memory usage: 5.7+ MB\n"
          ]
        },
        {
          "name": "stderr",
          "output_type": "stream",
          "text": [
            "C:\\Users\\mjoth\\AppData\\Local\\Temp\\ipykernel_24892\\3838380287.py:3: SettingWithCopyWarning: \n",
            "A value is trying to be set on a copy of a slice from a DataFrame.\n",
            "Try using .loc[row_indexer,col_indexer] = value instead\n",
            "\n",
            "See the caveats in the documentation: https://pandas.pydata.org/pandas-docs/stable/user_guide/indexing.html#returning-a-view-versus-a-copy\n",
            "  final_merged_data_filtered['LABEL'] = final_merged_data_filtered['CLEAN_TEXT'].apply(label_text)\n"
          ]
        }
      ],
      "source": [
        "# Filter the DataFrame to include only rows where 'long_title' is not null\n",
        "final_merged_data_filtered = final_merged_data[final_merged_data['long_title'].notnull()]\n",
        "final_merged_data_filtered['LABEL'] = final_merged_data_filtered['CLEAN_TEXT'].apply(label_text)\n",
        "# Check the info of the new DataFrame to confirm the filtering\n",
        "final_merged_data_filtered.info()\n"
      ]
    },
    {
      "cell_type": "code",
      "execution_count": 506,
      "metadata": {
        "colab": {
          "base_uri": "https://localhost:8080/",
          "height": 304,
          "referenced_widgets": [
            "b66b2b627e484285a68fc9c8a5c29d1d",
            "2f4a77ac5cbb4c3d8b4538992a5a0f46",
            "ec882738269649399e6606157da67d19",
            "7a85a5225dbd4bd9850ee2b2081793a4",
            "7b6e02582ff14a9d952445cfcb98e4f4",
            "15958459440b4f619598338a8ce8aae5",
            "0efbe2b6bcc541a08e8b903b92808e31",
            "6bd6e75eef9e48a4b101434a07a8ae83",
            "ba7891efb78042dfb203e4b391db1236",
            "50952ff946874aaf97c6f1fd6d33e66a",
            "acf4f435b0b8491994ff942d5b5b57aa",
            "8000f352b39546e3a8f29cf9fd24ffca",
            "2ca394cb6b904aaca4949a7c1e1b9fde",
            "40df5333ffee4f33b5834b80415ce0c2",
            "521e96faeafe4f648c7894da6f3fe9aa",
            "31bce2366e454360a26ebdbd90a95fa7",
            "112d92217a63494aa2425e54d0c1e32c",
            "fa9e0cbc89734c8b8e861b1dd3980768",
            "51db55795508400aab261a5395794a96",
            "92710c5c9cb343bbac2ff8dff508cc6c",
            "7564370d10ed4e7bba6a962e5cd85cbd",
            "7263adffa964403facb946f7c26a2c76",
            "14f54e7774c941c5a5178fafda442404",
            "140bf275bf084464a3cb9c19978afe59",
            "3b4d70fd89714cbebc9e05ef78c521a7",
            "4bbf59bbc3d34cc980c940234247b171",
            "33285f0e2891470fb234c3d8bbcb96bf",
            "dbf813d97aea47c1af7ae29ee175ca2a",
            "4e6b5ef7b93d4a2b96fc1c5f1edda223",
            "c992671452844c798a543e06abaebe11",
            "07b426393c494601bbadff2cf43f0831",
            "35d966cc1c894c1cb88def83a2c67bc0",
            "c28289132d9a42ac9d15e6718bea4dea",
            "24025b145a464723840a147d4c1c1d4f",
            "aef27c9c9ac84d25acfa907878cd36f5",
            "50299d836f6c45de9b980b568aee5c5c",
            "e4cac4eb27e144a49516f1a92cc63cb7",
            "536f1905a1e64ba696d8f5472abc4fed",
            "84d0a62de0584dfe9e5194cc7b79cbce",
            "a5188c5466cf404381500ddc2dc51583",
            "b24ba53129f64545804e97170ca622ef",
            "5c89114032b84b9daf2dffc3c47a51c2",
            "84949b5249ba4a25be0cbf4aa1c063ce",
            "c139deec26004e4e92a8fc6d22f6e5eb"
          ]
        },
        "id": "RoNvJvFLz8Yx",
        "outputId": "face266c-6833-4997-893a-e6e80a45f66f"
      },
      "outputs": [
        {
          "name": "stderr",
          "output_type": "stream",
          "text": [
            "C:\\Users\\mjoth\\AppData\\Roaming\\Python\\Python38\\site-packages\\transformers\\tokenization_utils_base.py:1601: FutureWarning: `clean_up_tokenization_spaces` was not set. It will be set to `True` by default. This behavior will be depracted in transformers v4.45, and will be then set to `False` by default. For more details check this issue: https://github.com/huggingface/transformers/issues/31884\n",
            "  warnings.warn(\n"
          ]
        }
      ],
      "source": [
        "from transformers import BertTokenizer\n",
        "\n",
        "# Initializing the BERT tokenizer\n",
        "tokenizer = BertTokenizer.from_pretrained('bert-base-uncased')\n",
        "\n",
        "# Preprocessing function for tokenizing texts\n",
        "def preprocess_data(texts, max_length=512):\n",
        "    # Ensure texts is a list (for batch processing)\n",
        "    if isinstance(texts, str):\n",
        "        texts = [texts]  # Convert single string into a list\n",
        "\n",
        "    # Tokenize with padding, truncation, and attention masks\n",
        "    return tokenizer(\n",
        "        texts,\n",
        "        padding=True,\n",
        "        truncation=True,\n",
        "        max_length=max_length,\n",
        "        return_tensors='pt',  # Return as PyTorch tensors\n",
        "        return_attention_mask=True  # Return attention mask for padded tokens\n",
        "    )\n",
        "\n",
        "# Ensuring 'CLEAN_TEXT' column is a list of strings\n",
        "texts = clinical_data['CLEAN_TEXT'].tolist()  # Convert Pandas Series to a list of strings\n",
        "\n",
        "# Tokenize the text data\n",
        "tokenized_train_data = preprocess_data(texts)  # Now texts is a list of strings"
      ]
    },
    {
      "cell_type": "code",
      "execution_count": 507,
      "metadata": {
        "id": "sRbVTB0_eid0"
      },
      "outputs": [],
      "source": [
        "from sklearn.model_selection import train_test_split\n",
        "\n",
        "# Get input_ids and attention masks\n",
        "input_ids = tokenized_train_data['input_ids']\n",
        "attention_masks = tokenized_train_data['attention_mask']\n",
        "\n",
        "# Perform the train-test split ensuring alignment between input_ids and attention_mask\n",
        "X_train, X_test, y_train, y_test, train_attention_mask, test_attention_mask = train_test_split(\n",
        "    input_ids,\n",
        "    clinical_data['LABEL'],\n",
        "    attention_masks,\n",
        "    test_size=0.2,\n",
        "    random_state=42\n",
        ")\n"
      ]
    },
    {
      "cell_type": "code",
      "execution_count": 159,
      "metadata": {
        "id": "Ph9ojDLJeid0"
      },
      "outputs": [],
      "source": [
        "# Convert labels to tensors\n",
        "y_train_tensor = torch.tensor(y_train.values, dtype=torch.long)\n",
        "y_test_tensor = torch.tensor(y_test.values, dtype=torch.long)\n",
        "\n",
        "# Create TensorDatasets\n",
        "train_dataset = torch.utils.data.TensorDataset(X_train, train_attention_mask, y_train_tensor)\n",
        "test_dataset = torch.utils.data.TensorDataset(X_test, test_attention_mask, y_test_tensor)"
      ]
    },
    {
      "cell_type": "code",
      "execution_count": 160,
      "metadata": {
        "colab": {
          "base_uri": "https://localhost:8080/"
        },
        "id": "RJALOIQ6eid0",
        "outputId": "06927706-7f5b-4ce2-b0ea-1b04b54b533b"
      },
      "outputs": [
        {
          "name": "stdout",
          "output_type": "stream",
          "text": [
            "torch.Size([8000, 500])\n",
            "torch.Size([8000, 500])\n",
            "torch.Size([8000])\n"
          ]
        }
      ],
      "source": [
        "print(X_train.shape)              # Should be (num_samples, max_length)\n",
        "print(train_attention_mask.shape) # Should be (num_samples, max_length)\n",
        "print(y_train_tensor.shape)       # Should be (num_samples,)\n"
      ]
    },
    {
      "cell_type": "code",
      "execution_count": 162,
      "metadata": {
        "colab": {
          "base_uri": "https://localhost:8080/",
          "height": 104,
          "referenced_widgets": [
            "6f81a70230be4c63b645f2451ae35ee6",
            "589d1c867d604a28ba97b3f45119e22c",
            "9b6ff60419e44cbbb89a1d5ae9818c43",
            "5593e59f64c845608f2a6ee759043927",
            "ca62d5157c504fd980f1499a36cb83ab",
            "0d3b200e4d4b44be9ccba5721a284731",
            "373f39227b994718bd68e4442075d3c0",
            "4cc793c391b4434bba3c0c0f6b909e94",
            "40e99c2d5c2946368210b102e6e5a0fd",
            "340840ba48ae45ff87c3e430f933ef43",
            "7afae8347ed947fe920a6f84fc81e416"
          ]
        },
        "id": "4hf1EYm3eid0",
        "outputId": "b73660f4-7ba1-45d9-93f1-068b2965856b"
      },
      "outputs": [],
      "source": [
        "from transformers import Trainer, TrainingArguments, BertForSequenceClassification, DataCollatorWithPadding\n",
        "\n",
        "# Define the data collator for padding\n",
        "data_collator = DataCollatorWithPadding(tokenizer=tokenizer)\n",
        "\n",
        "\n",
        "# Define model\n",
        "model = BertForSequenceClassification.from_pretrained(path_to_file+'biobert_model', num_labels=2)\n"
      ]
    },
    {
      "cell_type": "code",
      "execution_count": 165,
      "metadata": {
        "colab": {
          "base_uri": "https://localhost:8080/"
        },
        "id": "gH80w3Odz8Yy",
        "outputId": "5b212ddd-6ffd-4e22-fad9-5802eb70589a"
      },
      "outputs": [
        {
          "name": "stdout",
          "output_type": "stream",
          "text": [
            "Input IDs: tensor([[  101,  1554,  3463,  ...,  1181, 23448,   102],\n",
            "        [  101,  1554,  3463,  ...,  1181, 23448,   102],\n",
            "        [  101,  1554,  3463,  ...,  1181, 23448,   102],\n",
            "        ...,\n",
            "        [  101,  1554,  3463,  ..., 25984,  1552,   102],\n",
            "        [  101,  1554,  3463,  ..., 25984,  1552,   102],\n",
            "        [  101,  1554,  3463,  ...,  1181, 23448,   102]])\n",
            "Attention Mask: tensor([[1, 1, 1,  ..., 1, 1, 1],\n",
            "        [1, 1, 1,  ..., 1, 1, 1],\n",
            "        [1, 1, 1,  ..., 1, 1, 1],\n",
            "        ...,\n",
            "        [1, 1, 1,  ..., 1, 1, 1],\n",
            "        [1, 1, 1,  ..., 1, 1, 1],\n",
            "        [1, 1, 1,  ..., 1, 1, 1]])\n"
          ]
        }
      ],
      "source": [
        "from transformers import BertTokenizer\n",
        "\n",
        "# Load our tokenizer (assuming it's BERT)\n",
        "tokenizer = BertTokenizer.from_pretrained(path_to_file+'biobert_tokenizer')\n",
        "\n",
        "# Take a small sample of our clinical text\n",
        "sample_text = clinical_data['CLEAN_TEXT'].iloc[:15].tolist()\n",
        "\n",
        "# Tokenize the text\n",
        "encoded_inputs = tokenizer(\n",
        "    sample_text,\n",
        "    padding=True,          # Add padding to make all sequences the same length\n",
        "    truncation=True,       # Truncate sequences to max length (if too long)\n",
        "    max_length=128,        # We can set this depending on our model or data\n",
        "    return_tensors=\"pt\"    # Return PyTorch tensors\n",
        ")\n",
        "\n",
        "# Inspect the tokenized input IDs and attention mask\n",
        "print(\"Input IDs:\", encoded_inputs['input_ids'])\n",
        "print(\"Attention Mask:\", encoded_inputs['attention_mask'])\n"
      ]
    },
    {
      "cell_type": "code",
      "execution_count": 167,
      "metadata": {
        "colab": {
          "base_uri": "https://localhost:8080/",
          "height": 86,
          "referenced_widgets": [
            "f3e5caad01b049c7bffef6d043862361",
            "1389fae53dd947058c115f80c94af6e1",
            "7e9de6a278fd4364a87d8240d83ae28e",
            "a8565eb4c89c4052b1062b17b8243f53",
            "b26524de497843aca87cb3774131b2ec",
            "9918938e1190493f81034bdf11eaf697",
            "983a121678044a1195f1524470e8a599",
            "073d9c268e4b4a3abad209ae0cad00f2",
            "67d15744ac6a450ea5ccf0748823addf",
            "127043e8036a49c3817debf0f9fd43e6",
            "7f86a9b26cd349d987c3f3a3f903108d"
          ]
        },
        "id": "df4ehjKmeid0",
        "outputId": "297c044a-61f5-40ae-a164-19dc36c8d4cf"
      },
      "outputs": [
        {
          "data": {
            "application/vnd.jupyter.widget-view+json": {
              "model_id": "a7214544c2ef47fb99396bba0320a75a",
              "version_major": 2,
              "version_minor": 0
            },
            "text/plain": [
              "Map:   0%|          | 0/40826 [00:00<?, ? examples/s]"
            ]
          },
          "metadata": {},
          "output_type": "display_data"
        },
        {
          "name": "stdout",
          "output_type": "stream",
          "text": [
            "{'row_id_x': 112344, 'SUBJECT_ID': '10006', 'HADM_ID': '142345', 'seq_num_x': 1, 'ICD9_CODE': '99591', 'ROW_ID': '1394270', 'CHARTDATE': Timestamp('2164-10-23 00:00:00'), 'CHARTTIME': Timestamp('2164-10-23 22:01:00'), 'STORETIME': Timestamp('2164-10-23 22:14:00'), 'CATEGORY': 'Nursing/other', 'DESCRIPTION': 'Report', 'CGID': '14387', 'TEXT_LENGTH': 912, 'CLEAN_TEXT': 'full code universal precautions allergy heparin hit yrold female adm ecf w feverchills recently dcd days management abd pain fever suspected peritonitis presented er w feverchills dialysis treatment today er oral lactate placed must protocol mds unable place sepsis cath several attempts even us piv r chest dialysis cath received ceftriaxone vanco flagyl er hr bp tylenol last lactate prior adm micu pmh hit niddm esrd dialysis week pd diverticulitis gib bleeding ulcers chf htn gout anemia aortic insufficiency ef afib mental status changes cdif colitis laminectomy csection cholecystectomy', 'icd9_code_x': 'Not Specified', 'long_title': 'Not Specified', 'row_id_y': 47335, 'seq_num_y': 1, 'icd9_code_y': 9749, 'labels': 1, '__index_level_0__': 7, 'input_ids': [101, 1554, 3463, 8462, 3073, 2599, 12964, 1116, 1155, 1200, 4873, 1119, 17482, 1394, 1855, 194, 13166, 1181, 2130, 8050, 1306, 174, 1665, 2087, 192, 10880, 4313, 9872, 3055, 173, 1665, 1181, 1552, 2635, 170, 1830, 1181, 2489, 10880, 6321, 1679, 8383, 2605, 6620, 2756, 14044, 192, 10880, 4313, 9872, 17693, 6834, 1548, 3252, 2052, 14044, 9619, 2495, 5822, 2193, 1973, 1538, 11309, 182, 3680, 3372, 1282, 14516, 17990, 5855, 1324, 1317, 4021, 1256, 1366, 185, 11083, 187, 2229, 17693, 6834, 1548, 5855, 1324, 1460, 172, 11470, 19091, 7897, 4798, 3498, 2528, 5167, 7777, 14044, 177, 1197, 171, 1643, 189, 12415, 2728, 1233, 1314, 2495, 5822, 2193, 2988, 8050, 1306, 1940, 10182, 9852, 1324, 1855, 11437, 13976, 1306, 13936, 2956, 17693, 6834, 1548, 1989, 185, 1181, 23448, 2941, 15818, 6620, 176, 13292, 9793, 23449, 14840, 1116, 22572, 2087, 177, 1204, 1179, 1301, 3818, 1126, 20504, 170, 12148, 1596, 22233, 9435, 23864, 174, 2087, 170, 8702, 1830, 4910, 2781, 2607, 172, 3309, 2087, 1884, 12888, 1548, 2495, 9685, 5822, 18574, 172, 25461, 22572, 9016, 3457, 13894, 5822, 18574, 102], 'token_type_ids': [0, 0, 0, 0, 0, 0, 0, 0, 0, 0, 0, 0, 0, 0, 0, 0, 0, 0, 0, 0, 0, 0, 0, 0, 0, 0, 0, 0, 0, 0, 0, 0, 0, 0, 0, 0, 0, 0, 0, 0, 0, 0, 0, 0, 0, 0, 0, 0, 0, 0, 0, 0, 0, 0, 0, 0, 0, 0, 0, 0, 0, 0, 0, 0, 0, 0, 0, 0, 0, 0, 0, 0, 0, 0, 0, 0, 0, 0, 0, 0, 0, 0, 0, 0, 0, 0, 0, 0, 0, 0, 0, 0, 0, 0, 0, 0, 0, 0, 0, 0, 0, 0, 0, 0, 0, 0, 0, 0, 0, 0, 0, 0, 0, 0, 0, 0, 0, 0, 0, 0, 0, 0, 0, 0, 0, 0, 0, 0, 0, 0, 0, 0, 0, 0, 0, 0, 0, 0, 0, 0, 0, 0, 0, 0, 0, 0, 0, 0, 0, 0, 0, 0, 0, 0, 0, 0, 0, 0, 0, 0, 0, 0, 0, 0, 0, 0, 0, 0, 0, 0, 0, 0, 0, 0, 0, 0, 0, 0], 'attention_mask': [1, 1, 1, 1, 1, 1, 1, 1, 1, 1, 1, 1, 1, 1, 1, 1, 1, 1, 1, 1, 1, 1, 1, 1, 1, 1, 1, 1, 1, 1, 1, 1, 1, 1, 1, 1, 1, 1, 1, 1, 1, 1, 1, 1, 1, 1, 1, 1, 1, 1, 1, 1, 1, 1, 1, 1, 1, 1, 1, 1, 1, 1, 1, 1, 1, 1, 1, 1, 1, 1, 1, 1, 1, 1, 1, 1, 1, 1, 1, 1, 1, 1, 1, 1, 1, 1, 1, 1, 1, 1, 1, 1, 1, 1, 1, 1, 1, 1, 1, 1, 1, 1, 1, 1, 1, 1, 1, 1, 1, 1, 1, 1, 1, 1, 1, 1, 1, 1, 1, 1, 1, 1, 1, 1, 1, 1, 1, 1, 1, 1, 1, 1, 1, 1, 1, 1, 1, 1, 1, 1, 1, 1, 1, 1, 1, 1, 1, 1, 1, 1, 1, 1, 1, 1, 1, 1, 1, 1, 1, 1, 1, 1, 1, 1, 1, 1, 1, 1, 1, 1, 1, 1, 1, 1, 1, 1, 1, 1]}\n"
          ]
        }
      ],
      "source": [
        "from datasets import Dataset\n",
        "from transformers import BertTokenizer\n",
        "\n",
        "# Assuming clinical_data  is a Pandas DataFrame\n",
        "dataset = Dataset.from_pandas(clinical_data)\n",
        "\n",
        "# Tokenize the dataset and ensure it returns `input_ids`, `attention_mask`, and `labels`\n",
        "def tokenize_function(examples):\n",
        "    return tokenizer(examples['CLEAN_TEXT'], padding='max_length', truncation=True)\n",
        "\n",
        "# Tokenize the dataset\n",
        "tokenized_dataset = dataset.map(tokenize_function, batched=True)\n",
        "\n",
        "# Remove unneeded columns (we only need input_ids, attention_mask, and labels)\n",
        "tokenized_dataset = tokenized_dataset.remove_columns(['TEXT'])\n",
        "tokenized_dataset = tokenized_dataset.rename_column('LABEL', 'labels')\n",
        "\n",
        "# Checking if the dataset returns the correct format\n",
        "print(tokenized_dataset[0])\n"
      ]
    },
    {
      "cell_type": "markdown",
      "metadata": {
        "id": "bl7C0q4dz8Yz"
      },
      "source": [
        "The output we provided is a dictionary that likely represents a single record of clinical data after processing, along with additional information such as the tokenized version of the text for use in a BERT model.\n",
        "\n",
        "Here’s a breakdown of what each key-value pair represents:\n",
        "\n",
        "row_id_x: A unique identifier for the row in the dataset.<br>\n",
        "\n",
        "SUBJECT_ID: The ID of the patient or subject.<br>\n",
        "HADM_ID: The hospital admission ID for the patient.<br>\n",
        "seq_num_x: The sequence number, possibly indicating the order of events related to the admission.<br>\n",
        "ICD9_CODE: The ICD-9 code for the diagnosis, in this case, '99591', which might be related to a specific diagnosis.<br>\n",
        "ROW_ID: Another unique identifier, possibly from another table or a merged table.<br>\n",
        "CHARTDATE, CHARTTIME, STORETIME: Timestamps representing when the clinical data was recorded, charted, or stored.<br>\n",
        "CATEGORY: The category of the clinical note (e.g., 'Nursing/other').<br>\n",
        "DESCRIPTION: The description of the note or event (e.g., 'Report').<br>\n",
        "CGID: ID of the caregiver who logged the note.<br>\n",
        "TEXT_LENGTH: The length of the text in the clinical note.<br>\n",
        "CLEAN_TEXT: The cleaned version of the clinical text, ready for further processing like tokenization or named entity recognition (NER).<br>\n",
        "icd9_code_x: The ICD-9 code related to a certain event, but in this case, it’s marked as 'Not Specified'.<br>\n",
        "long_title: A longer description of the ICD-9 code, also marked as 'Not Specified' in this case.<br>\n",
        "row_id_y, seq_num_y, icd9_code_y: These fields appear to relate to another merged table (possibly related to procedures or diagnoses) and include identifiers and another ICD-9 code ('9749').<br>\n",
        "labels: This is a label, possibly for classification, showing 0 which could mean \"no readmission\" or any other classification label used in the model.\n",
        "index_level_0: An internal index field.<br>\n",
        "input_ids: A list of token IDs representing the clinical text after it has been tokenized using a tokenizer like the one in BERT. These IDs map to specific words or subwords in the BERT vocabulary.<br>\n",
        "token_type_ids: A list of token type IDs, which are used in BERT to differentiate between different segments of the input text (like question and answer).<br>\n",
        "attention_mask: A list indicating which tokens are actual tokens (1) and which are padding tokens (0). This is important when using fixed-length inputs to indicate which parts of the input are relevant.<br>\n",
        "\n"
      ]
    },
    {
      "cell_type": "code",
      "execution_count": 169,
      "metadata": {
        "colab": {
          "base_uri": "https://localhost:8080/",
          "height": 959
        },
        "id": "S3TkeBIoz8Yz",
        "outputId": "686d7778-7c8a-460e-d060-54db6d555824"
      },
      "outputs": [
        {
          "name": "stdout",
          "output_type": "stream",
          "text": [
            "                                           CLEAN_TEXT  text_length\n",
            "7   full code universal precautions allergy hepari...           89\n",
            "8   full code universal precautions allergy hepari...           89\n",
            "9   full code universal precautions allergy hepari...           89\n",
            "10  full code universal precautions allergy hepari...           89\n",
            "11  full code universal precautions allergy hepari...           89\n",
            "<class 'pandas.core.frame.DataFrame'>\n",
            "Index: 40826 entries, 7 to 123824\n",
            "Data columns (total 22 columns):\n",
            " #   Column       Non-Null Count  Dtype         \n",
            "---  ------       --------------  -----         \n",
            " 0   row_id_x     40826 non-null  int64         \n",
            " 1   SUBJECT_ID   40826 non-null  object        \n",
            " 2   HADM_ID      40826 non-null  object        \n",
            " 3   seq_num_x    40826 non-null  int64         \n",
            " 4   ICD9_CODE    40826 non-null  object        \n",
            " 5   ROW_ID       40826 non-null  object        \n",
            " 6   CHARTDATE    40826 non-null  datetime64[ns]\n",
            " 7   CHARTTIME    40826 non-null  datetime64[ns]\n",
            " 8   STORETIME    40826 non-null  datetime64[ns]\n",
            " 9   CATEGORY     40826 non-null  object        \n",
            " 10  DESCRIPTION  40826 non-null  object        \n",
            " 11  CGID         40826 non-null  object        \n",
            " 12  TEXT         40826 non-null  object        \n",
            " 13  TEXT_LENGTH  40826 non-null  int64         \n",
            " 14  CLEAN_TEXT   40826 non-null  object        \n",
            " 15  icd9_code_x  40826 non-null  object        \n",
            " 16  long_title   40826 non-null  object        \n",
            " 17  row_id_y     40826 non-null  int64         \n",
            " 18  seq_num_y    40826 non-null  int64         \n",
            " 19  icd9_code_y  40826 non-null  int64         \n",
            " 20  LABEL        40826 non-null  int64         \n",
            " 21  text_length  40826 non-null  int64         \n",
            "dtypes: datetime64[ns](3), int64(8), object(11)\n",
            "memory usage: 7.2+ MB\n",
            "None\n"
          ]
        },
        {
          "data": {
            "text/plain": [
              "count    40826.000000\n",
              "mean       158.938544\n",
              "std         72.018034\n",
              "min         20.000000\n",
              "25%        110.000000\n",
              "50%        164.000000\n",
              "75%        200.000000\n",
              "max        346.000000\n",
              "Name: text_length, dtype: float64"
            ]
          },
          "execution_count": 169,
          "metadata": {},
          "output_type": "execute_result"
        }
      ],
      "source": [
        "# Check the length of the CLEAN_TEXT column\n",
        "clinical_data['text_length'] = clinical_data['CLEAN_TEXT'].apply(lambda x: len(x.split()))\n",
        "print(clinical_data[['CLEAN_TEXT', 'text_length']].head())\n",
        "print(clinical_data.info())\n",
        "# Check the distribution of text lengths\n",
        "clinical_data['text_length'].describe()\n"
      ]
    },
    {
      "cell_type": "markdown",
      "metadata": {
        "id": "SfS28v3Iz8Y0"
      },
      "source": [
        "This will give us an idea of how long or short the text entries are. If we see that most texts are very short, it's likely that many 0s are coming from padding due to short text sequences."
      ]
    },
    {
      "cell_type": "code",
      "execution_count": 176,
      "metadata": {
        "id": "67O_-PKHeid0"
      },
      "outputs": [],
      "source": [
        "# Splitting the dataset into training and test datasets\n",
        "train_test_split = tokenized_dataset.train_test_split(test_size=0.2)\n",
        "train_dataset = train_test_split['train']\n",
        "test_dataset = train_test_split['test']\n",
        "\n",
        "\n",
        "# Further splitting the initial test set into test and evaluation datasets\n",
        "# test_eval_split = initial_test_dataset.train_test_split(test_size=0.5)  # Splitting the initial test set into two equal parts\n",
        "# test_dataset = test_eval_split['train']  # Using 'train' here just means the first part of the split\n",
        "# eval_dataset = test_eval_split['test']  # And 'test' is the second part\n"
      ]
    },
    {
      "cell_type": "code",
      "execution_count": 171,
      "metadata": {
        "id": "xbf0WYZWbggU"
      },
      "outputs": [],
      "source": [
        "labels = clinical_data['LABEL'].tolist()"
      ]
    },
    {
      "cell_type": "code",
      "execution_count": null,
      "metadata": {},
      "outputs": [],
      "source": [
        "from sklearn.metrics import accuracy_score, precision_recall_fscore_support, roc_auc_score\n",
        "import numpy as np\n",
        "\n",
        "def compute_metrics(eval_pred):\n",
        "    logits, labels = eval_pred\n",
        "    # Convert logits to predicted class labels\n",
        "    predictions = np.argmax(logits, axis=-1)\n",
        "\n",
        "    # Calculate accuracy\n",
        "    accuracy = accuracy_score(labels, predictions)\n",
        "\n",
        "    # Calculate precision, recall, F1 score\n",
        "    precision, recall, f1, _ = precision_recall_fscore_support(labels, predictions, average='binary')\n",
        "\n",
        "    # Calculate AUC-ROC score\n",
        "    # We assume binary classification where the second class is the positive class\n",
        "    probs = np.exp(logits) / np.exp(logits).sum(axis=-1, keepdims=True)\n",
        "    auc = roc_auc_score(labels, probs[:, 1])\n",
        "\n",
        "    return {\n",
        "        'accuracy': accuracy,\n",
        "        'precision': precision,\n",
        "        'recall': recall,\n",
        "        'f1': f1,\n",
        "        'auc': auc,\n",
        "    }\n"
      ]
    },
    {
      "cell_type": "code",
      "execution_count": 50,
      "metadata": {
        "colab": {
          "base_uri": "https://localhost:8080/",
          "height": 293
        },
        "id": "9AKhCAD_z8Y0",
        "outputId": "d1112808-b765-4109-9ead-40bb6d917392"
      },
      "outputs": [
        {
          "name": "stderr",
          "output_type": "stream",
          "text": [
            "C:\\Users\\mjoth\\AppData\\Roaming\\Python\\Python38\\site-packages\\transformers\\training_args.py:1525: FutureWarning: `evaluation_strategy` is deprecated and will be removed in version 4.46 of 🤗 Transformers. Use `eval_strategy` instead\n",
            "  warnings.warn(\n"
          ]
        },
        {
          "data": {
            "application/vnd.jupyter.widget-view+json": {
              "model_id": "c5fd525086d2425a9a42156822c3d2ba",
              "version_major": 2,
              "version_minor": 0
            },
            "text/plain": [
              "  0%|          | 0/600 [00:00<?, ?it/s]"
            ]
          },
          "metadata": {},
          "output_type": "display_data"
        },
        {
          "data": {
            "application/vnd.jupyter.widget-view+json": {
              "model_id": "68e3eedad49c4806a1cc4c9dccf3cc30",
              "version_major": 2,
              "version_minor": 0
            },
            "text/plain": [
              "  0%|          | 0/13 [00:00<?, ?it/s]"
            ]
          },
          "metadata": {},
          "output_type": "display_data"
        },
        {
          "name": "stdout",
          "output_type": "stream",
          "text": [
            "{'eval_loss': 0.024926209822297096, 'eval_accuracy': 0.995, 'eval_f1': 0.9714285714285714, 'eval_precision': 1.0, 'eval_recall': 0.9444444444444444, 'eval_runtime': 89.2847, 'eval_samples_per_second': 2.24, 'eval_steps_per_second': 0.146, 'epoch': 1.0}\n"
          ]
        },
        {
          "data": {
            "application/vnd.jupyter.widget-view+json": {
              "model_id": "91a1d914eaac4edfb3a43c77171a1313",
              "version_major": 2,
              "version_minor": 0
            },
            "text/plain": [
              "  0%|          | 0/13 [00:00<?, ?it/s]"
            ]
          },
          "metadata": {},
          "output_type": "display_data"
        },
        {
          "name": "stdout",
          "output_type": "stream",
          "text": [
            "{'eval_loss': 0.00037352205254137516, 'eval_accuracy': 1.0, 'eval_f1': 1.0, 'eval_precision': 1.0, 'eval_recall': 1.0, 'eval_runtime': 91.0411, 'eval_samples_per_second': 2.197, 'eval_steps_per_second': 0.143, 'epoch': 2.0}\n",
            "{'loss': 0.0671, 'grad_norm': 0.004490625578910112, 'learning_rate': 8.333333333333334e-06, 'epoch': 2.5}\n"
          ]
        },
        {
          "data": {
            "application/vnd.jupyter.widget-view+json": {
              "model_id": "4181112d0e004d1da6932bde563d804e",
              "version_major": 2,
              "version_minor": 0
            },
            "text/plain": [
              "  0%|          | 0/13 [00:00<?, ?it/s]"
            ]
          },
          "metadata": {},
          "output_type": "display_data"
        },
        {
          "name": "stdout",
          "output_type": "stream",
          "text": [
            "{'eval_loss': 0.00026129611069336534, 'eval_accuracy': 1.0, 'eval_f1': 1.0, 'eval_precision': 1.0, 'eval_recall': 1.0, 'eval_runtime': 95.9063, 'eval_samples_per_second': 2.085, 'eval_steps_per_second': 0.136, 'epoch': 3.0}\n",
            "{'train_runtime': 14741.8742, 'train_samples_per_second': 0.326, 'train_steps_per_second': 0.041, 'train_loss': 0.05598190318172177, 'epoch': 3.0}\n"
          ]
        },
        {
          "data": {
            "text/plain": [
              "TrainOutput(global_step=600, training_loss=0.05598190318172177, metrics={'train_runtime': 14741.8742, 'train_samples_per_second': 0.326, 'train_steps_per_second': 0.041, 'total_flos': 1262933065728000.0, 'train_loss': 0.05598190318172177, 'epoch': 3.0})"
            ]
          },
          "execution_count": 50,
          "metadata": {},
          "output_type": "execute_result"
        }
      ],
      "source": [
        "\n",
        "from transformers import TrainingArguments, Trainer\n",
        "\n",
        "training_args = TrainingArguments(\n",
        "    output_dir= path_to_file + 'bert_model',\n",
        "    num_train_epochs=3,\n",
        "    per_device_train_batch_size=8,\n",
        "    per_device_eval_batch_size=16,\n",
        "    evaluation_strategy=\"epoch\",\n",
        "    logging_dir= path_to_file + '/logs'\n",
        "\n",
        ")\n",
        "\n",
        "trainer = Trainer(\n",
        "    model=model,\n",
        "    args=training_args,\n",
        "    train_dataset=train_dataset,\n",
        "    eval_dataset=test_dataset,\n",
        "    data_collator=data_collator,\n",
        "    compute_metrics=compute_metrics\n",
        ")\n",
        "\n",
        "\n",
        "trainer.train()\n"
      ]
    },
    {
      "cell_type": "code",
      "execution_count": 177,
      "metadata": {
        "id": "IvCQWS31b55u"
      },
      "outputs": [],
      "source": [
        "# Tokenize the text data\n",
        "train_encodings = tokenizer(texts, truncation=True, padding=True, max_length=512)"
      ]
    },
    {
      "cell_type": "markdown",
      "metadata": {},
      "source": [
        "### Model Evaluation\n",
        "Evaluate the performance of the model using Accuracy, Precision, F1-score, and AUC-ROC."
      ]
    },
    {
      "cell_type": "code",
      "execution_count": 178,
      "metadata": {
        "colab": {
          "base_uri": "https://localhost:8080/",
          "height": 74
        },
        "id": "Q3Q4g-hbctf9",
        "outputId": "4d3cd042-8a33-4c5c-b9ab-f3fc6c60ae91"
      },
      "outputs": [
        {
          "name": "stdout",
          "output_type": "stream",
          "text": [
            "{'eval_loss': 0.00026129611069336534, 'eval_accuracy': 1.0, 'eval_f1': 1.0, 'eval_precision': 1.0, 'eval_recall': 1.0, 'eval_runtime': 96.2102, 'eval_samples_per_second': 2.079, 'eval_steps_per_second': 0.135, 'epoch': 3.0}\n"
          ]
        }
      ],
      "source": [
        "import pickle\n",
        "\n",
        "# Evaluate the model after training\n",
        "results = trainer.evaluate()\n",
        "# Save the results to a pickle file\n",
        "with open(\"evaluation_results.pkl\", \"wb\") as f:\n",
        "    pickle.dump(results, f)\n",
        "print(results)\n"
      ]
    },
    {
      "cell_type": "markdown",
      "metadata": {
        "id": "X7RuY4clc4b3"
      },
      "source": [
        "Saving the Final Model and Tokenizer\n",
        "After training, We might want to save the final model and its tokenizer for later use:"
      ]
    },
    {
      "cell_type": "code",
      "execution_count": 61,
      "metadata": {
        "colab": {
          "base_uri": "https://localhost:8080/"
        },
        "id": "WsfJXrAwcvux",
        "outputId": "4547885e-df77-49d2-a0b2-3bf68f0ea39f"
      },
      "outputs": [
        {
          "data": {
            "text/plain": [
              "('C:/Users/mjoth/DataScience/DissertationProject/GitHub/Patient-Readmission/bert_model/tokenizer_config.json',\n",
              " 'C:/Users/mjoth/DataScience/DissertationProject/GitHub/Patient-Readmission/bert_model/special_tokens_map.json',\n",
              " 'C:/Users/mjoth/DataScience/DissertationProject/GitHub/Patient-Readmission/bert_model/vocab.txt',\n",
              " 'C:/Users/mjoth/DataScience/DissertationProject/GitHub/Patient-Readmission/bert_model/added_tokens.json')"
            ]
          },
          "execution_count": 61,
          "metadata": {},
          "output_type": "execute_result"
        }
      ],
      "source": [
        "model_bert = 'bert_model/'\n",
        "model.save_pretrained(path_to_file + model_bert)\n",
        "tokenizer.save_pretrained(path_to_file +model_bert)"
      ]
    },
    {
      "cell_type": "markdown",
      "metadata": {
        "id": "pxuIWKGJc1K-"
      },
      "source": [
        "### Loading a Saved Model\n",
        "To resume training or to use the saved model later for predictions, we can load it from the disk:"
      ]
    },
    {
      "cell_type": "code",
      "execution_count": 62,
      "metadata": {
        "id": "fioCwgS_c0xD"
      },
      "outputs": [],
      "source": [
        "from transformers import BertForSequenceClassification, BertTokenizer\n",
        "\n",
        "bert_model = BertForSequenceClassification.from_pretrained(model_bert)\n",
        "bert_tokenizer = BertTokenizer.from_pretrained(model_bert)\n"
      ]
    },
    {
      "cell_type": "markdown",
      "metadata": {
        "id": "gm-xD57Reid1"
      },
      "source": [
        "### Load BioBERT Model and Tokenizer:\n",
        "BioBERT: It is pre-trained on biomedical text, making it more suitable for clinical tasks like understanding clinical notes and predicting ICD-9 codes. BioBERT is a domain-specific adaptation of the original BERT model, specifically pre-trained on biomedical literature to enhance its performance on biomedical text mining tasks.\n",
        "BERT is trained on a diverse corpus that includes general English text but may lack deeper medical domain-specific language understanding that could be crucial for more nuanced or complex medical text interpretations.\n",
        "BioBERT was developed by researchers at the Korea University and is based on the BERT architecture that was initially created by Google. The idea was to extend BERT's capabilities into the biomedical domain by continuing the pre-training process on biomedical texts.\n",
        "\n",
        "Advantages of BioBERT\n",
        "BioBERT is a variant of BERT that has been further pre-trained on biomedical corpora, including PubMed abstracts and PMC articles. This additional training aims to adapt its language model to better understand biomedical terminology and context.\n",
        "\n",
        "Here are some reasons to consider BioBERT:\n",
        "\n",
        "**Enhanced Medical Context Understanding:** BioBERT may capture medical nuances better than BERT due to its domain-specific training.\n",
        "**Improved Handling of Medical Jargon:** Our data includes a lot of specialized medical terms, abbreviations, or jargon that BERT struggles with, BioBERT might offer better comprehension and performance.\n",
        "\n",
        "**Continued Pre-training:** BioBERT is not trained from scratch but rather uses the pre-trained BERT model as a starting point. It continues the pre-training process (both masked language modeling and next sentence prediction) on biomedical corpora.\n",
        "Model Variants: BioBERT has multiple versions, each further trained for more extended periods or on different combinations of biomedical text datasets.\n",
        "\n",
        "**Challenges and Considerations**\n",
        "Computational Requirements: Like BERT, BioBERT is resource-intensive, requiring significant computation power for training and inference, which might limit its usability in resource-constrained environments.\n",
        "Model Updating: The biomedical field is rapidly evolving; thus, continuous updating of the training corpora might be necessary to keep the model current with the latest language and discoveries."
      ]
    },
    {
      "cell_type": "markdown",
      "metadata": {
        "id": "r1vkqH6LkFGo"
      },
      "source": [
        "### Load BioBERT Model:\n",
        "\n",
        "#### Steps for Using BERT/BioBERT:\n",
        "**Installing Hugging Face Transformers:** This library provides easy access to BERT, BioBERT, and other transformer models.\n",
        "\n",
        "**Prepaing Data for Input:** Convert our clinical text (e.g., TEXT, CLEAN_TEXT) into a format suitable for BERT/BioBERT, including tokenization.\n",
        "\n",
        "**Fine-tuning BERT/BioBERT:** Train the model on our specific task (e.g., predicting ICD-9 codes or extracting information from clinical notes).\n",
        "\n",
        "Evaluating the Model: Evaluate the model on a validation or test set."
      ]
    },
    {
      "cell_type": "code",
      "execution_count": 208,
      "metadata": {
        "colab": {
          "base_uri": "https://localhost:8080/",
          "height": 202,
          "referenced_widgets": [
            "c240a7a126c8495c82bf98d40ae330de",
            "aec23cbbdb544f48afda58af0d536d50",
            "7ba39cfc5fc84273a326fb88fe7694eb",
            "cbb0ddf20aa141ec88913ca0a4ea9289",
            "7225d021e4b946b28f340f81d9dd046c",
            "7c5acad3629b46099bdd06a2213ffdbf",
            "422291af535445f79140bdeb7b99b946",
            "cfbb47b35ad64584875a95480c9f1ee7",
            "37963f9bf82241dda66743d4614c3d01",
            "84ad2b6289114662ab48f8dc0327fb03",
            "d9d22ac711bc43edbd7c8cec5c4f66e1",
            "56eb76ab5e0f4c8f8035cd07de2e1ae4",
            "661dec454aee47659bfeed206b004ca1",
            "a7272260e93e47b6a36f8d0df781a493",
            "1f8bba68e6964304bee86a149a3305f5",
            "fa7c3584b47b45edae1780b789f7c60e",
            "ac883c67cfbc4e7e82a43bc5452099fd",
            "8e896bfe2ba84c20b245dfcd3cefc7c9",
            "1f81416d66b141f0aa3aa76f0db7470a",
            "935f203e53654309a293f9b12fd8eb32",
            "ce2892599e91448aa35fc4f706eef8da",
            "9ed0789713294feab97f9e3515a793de",
            "6f38d21bd8f94b229439847b812ded7c",
            "627343414d444647bbe46bcf15d062fe",
            "60ce87eec1d444219b3e0658eb823c70",
            "6ad57f13c8c04a75a5885feda7aa8fac",
            "22f0edb54fa94311b762ff1c7ca37875",
            "f5f2863a0d274b6ab67425e998546f89",
            "c696db8fd0dc469388ba35826e44893e",
            "a50c6e833bd84ac09682cc8c1681f44f",
            "d3ba2576b5a34bb8b8be4c6bc4acf3fd",
            "877a3266bd4440879d23873eb3ac7fc4",
            "cb426892fe5b4b698d4752aa50e76743"
          ]
        },
        "id": "pqfAj2Uweid1",
        "outputId": "d81395cc-7a1b-44ec-c592-a353db4fa8c3"
      },
      "outputs": [
        {
          "name": "stderr",
          "output_type": "stream",
          "text": [
            "C:\\Users\\mjoth\\AppData\\Roaming\\Python\\Python38\\site-packages\\transformers\\tokenization_utils_base.py:1601: FutureWarning: `clean_up_tokenization_spaces` was not set. It will be set to `True` by default. This behavior will be depracted in transformers v4.45, and will be then set to `False` by default. For more details check this issue: https://github.com/huggingface/transformers/issues/31884\n",
            "  warnings.warn(\n",
            "Some weights of BertForSequenceClassification were not initialized from the model checkpoint at dmis-lab/biobert-base-cased-v1.1 and are newly initialized: ['classifier.bias', 'classifier.weight']\n",
            "You should probably TRAIN this model on a down-stream task to be able to use it for predictions and inference.\n"
          ]
        }
      ],
      "source": [
        "from transformers import BertTokenizer, BertForSequenceClassification\n",
        "\n",
        "# Load BioBERT model and tokenizer\n",
        "tokenizer_biobert = BertTokenizer.from_pretrained('dmis-lab/biobert-base-cased-v1.1')\n",
        "model_biobert = BertForSequenceClassification.from_pretrained('dmis-lab/biobert-base-cased-v1.1', num_labels=2)\n"
      ]
    },
    {
      "cell_type": "markdown",
      "metadata": {
        "id": "sZT62qaigxOm"
      },
      "source": [
        "Dataset.from_pandas(clinical_data): This converts a Pandas DataFrame (which is what most clinical data would be in) into a Hugging Face Dataset object, which is optimized for large datasets and can easily be used for tasks like tokenization, model training, etc.\n",
        "Hugging Face Datasets support efficient batch processing, tokenization, and model training pipelines. It integrates well with the transformers library for model training and evaluation."
      ]
    },
    {
      "cell_type": "code",
      "execution_count": 209,
      "metadata": {
        "colab": {
          "base_uri": "https://localhost:8080/"
        },
        "id": "7FBN_uiW1-ZE",
        "outputId": "aa1e9d61-987b-4f95-f6ed-cbbe6880ec10"
      },
      "outputs": [
        {
          "name": "stdout",
          "output_type": "stream",
          "text": [
            "<class 'pandas.core.frame.DataFrame'>\n",
            "Index: 40826 entries, 7 to 123824\n",
            "Data columns (total 22 columns):\n",
            " #   Column       Non-Null Count  Dtype         \n",
            "---  ------       --------------  -----         \n",
            " 0   row_id_x     40826 non-null  int64         \n",
            " 1   SUBJECT_ID   40826 non-null  object        \n",
            " 2   HADM_ID      40826 non-null  object        \n",
            " 3   seq_num_x    40826 non-null  int64         \n",
            " 4   ICD9_CODE    40826 non-null  object        \n",
            " 5   ROW_ID       40826 non-null  object        \n",
            " 6   CHARTDATE    40826 non-null  datetime64[ns]\n",
            " 7   CHARTTIME    40826 non-null  datetime64[ns]\n",
            " 8   STORETIME    40826 non-null  datetime64[ns]\n",
            " 9   CATEGORY     40826 non-null  object        \n",
            " 10  DESCRIPTION  40826 non-null  object        \n",
            " 11  CGID         40826 non-null  object        \n",
            " 12  TEXT         40826 non-null  object        \n",
            " 13  TEXT_LENGTH  40826 non-null  int64         \n",
            " 14  CLEAN_TEXT   40826 non-null  object        \n",
            " 15  icd9_code_x  40826 non-null  object        \n",
            " 16  long_title   40826 non-null  object        \n",
            " 17  row_id_y     40826 non-null  int64         \n",
            " 18  seq_num_y    40826 non-null  int64         \n",
            " 19  icd9_code_y  40826 non-null  int64         \n",
            " 20  LABEL        40826 non-null  int64         \n",
            " 21  text_length  40826 non-null  int64         \n",
            "dtypes: datetime64[ns](3), int64(8), object(11)\n",
            "memory usage: 7.2+ MB\n"
          ]
        }
      ],
      "source": [
        "clinical_data.info()"
      ]
    },
    {
      "cell_type": "code",
      "execution_count": 210,
      "metadata": {
        "id": "HBf5AJf2eEXB"
      },
      "outputs": [],
      "source": [
        "from datasets import Dataset\n",
        "# converting a Pandas DataFrame (clinical_data) into a Hugging Face Dataset\n",
        "clinical_dataset = Dataset.from_pandas(clinical_data)\n"
      ]
    },
    {
      "cell_type": "markdown",
      "metadata": {
        "id": "vnyY3RYwkYeZ"
      },
      "source": [
        "We need to tokenize the text data and convert it into the format that BioBERT can work with."
      ]
    },
    {
      "cell_type": "code",
      "execution_count": 211,
      "metadata": {
        "colab": {
          "base_uri": "https://localhost:8080/",
          "height": 49,
          "referenced_widgets": [
            "e80a13566bc048dd884e2e702862f5fe",
            "77ae3ff8eb7c405595766a142a52eed0",
            "126a62e9cd864445acf5fe4aa828982f",
            "f10cb4143b4c4f35ba85e2926ea970e7",
            "25f104cf23df4be8ba3d8c5da62f09d5",
            "3e9033b5e28e4381923aae86da0825b5",
            "7649cd03aa8f4799be828157387057c0",
            "178288f224624e1a89d42ef8654f71ad",
            "7eb735c5f680429893a48c3e4711a2c0",
            "0622460d9ef04297877f2cbee7d765e8",
            "810688e84e3144b5b2a2d71bc5e14744"
          ]
        },
        "id": "dHCnCvxQeid2",
        "outputId": "46758518-a04f-413d-92d5-21848ffeafaa"
      },
      "outputs": [
        {
          "data": {
            "application/vnd.jupyter.widget-view+json": {
              "model_id": "94ce326e46bb45b69216bd36a6a77db1",
              "version_major": 2,
              "version_minor": 0
            },
            "text/plain": [
              "Map:   0%|          | 0/40826 [00:00<?, ? examples/s]"
            ]
          },
          "metadata": {},
          "output_type": "display_data"
        }
      ],
      "source": [
        "def tokenize_function_biobert(examples):\n",
        "    return tokenizer_biobert(examples['CLEAN_TEXT'], padding='max_length', truncation=True, max_length=128)\n",
        "\n",
        "# Tokenize the dataset\n",
        "tokenized_dataset_biobert = clinical_dataset.map(tokenize_function_biobert, batched=True)\n",
        "tokenized_dataset_biobert = tokenized_dataset_biobert.remove_columns(['CLEAN_TEXT'])\n",
        "tokenized_dataset_biobert = tokenized_dataset_biobert.rename_column('LABEL', 'labels')\n",
        "\n",
        "# Split into train and test datasets\n",
        "train_test_split_biobert = tokenized_dataset_biobert.train_test_split(test_size=0.2)\n",
        "train_dataset_biobert = train_test_split_biobert['train']\n",
        "test_dataset_biobert = train_test_split_biobert['test']\n"
      ]
    },
    {
      "cell_type": "code",
      "execution_count": 212,
      "metadata": {
        "id": "SJwGI5pKeid2"
      },
      "outputs": [],
      "source": [
        "from transformers import DataCollatorWithPadding\n",
        "\n",
        "# Define the data collator for BioBERT\n",
        "data_collator_biobert = DataCollatorWithPadding(tokenizer=tokenizer_biobert)\n"
      ]
    },
    {
      "cell_type": "code",
      "execution_count": 216,
      "metadata": {},
      "outputs": [],
      "source": [
        "train_subset = train_dataset_biobert.select(range(2000))\n",
        "test_subset = test_dataset_biobert.select(range(2000))"
      ]
    },
    {
      "cell_type": "markdown",
      "metadata": {},
      "source": [
        "Here, we are considering only 2000 entries out of 40000 entries which may reduce the time and the memory. "
      ]
    },
    {
      "cell_type": "code",
      "execution_count": 218,
      "metadata": {},
      "outputs": [],
      "source": [
        "from transformers import Trainer, TrainingArguments\n",
        "from transformers import EarlyStoppingCallback\n",
        "\n",
        "# Custom Trainer that ensures model tensors are contiguous before saving\n",
        "class ContiguousTrainer(Trainer):\n",
        "    def _save(self, output_dir: str, state_dict=None):\n",
        "        # Make all model parameters contiguous before saving\n",
        "        model_to_save = self.model.module if hasattr(self.model, \"module\") else self.model\n",
        "        for param in model_to_save.parameters():\n",
        "            param.data = param.data.contiguous()\n",
        "        # Save the model using the regular Trainer save method\n",
        "        super()._save(output_dir, state_dict)\n",
        "        \n",
        "        \n",
        "# Define training arguments\n",
        "training_args_biobert = TrainingArguments(\n",
        "    output_dir=path_to_file + '/results_biobert',\n",
        "    num_train_epochs=3,\n",
        "    per_device_train_batch_size=8,\n",
        "    per_device_eval_batch_size=16,\n",
        "    evaluation_strategy=\"steps\",\n",
        "    logging_dir=path_to_file + '/logs_biobert',\n",
        "    save_strategy=\"steps\",\n",
        "    save_steps=50,  # Save every 50 steps\n",
        "    eval_steps=50,  # Evaluate the model every 50 steps\n",
        "    load_best_model_at_end=True,\n",
        "    warmup_steps=500,\n",
        "    weight_decay=0.01,\n",
        "    logging_steps=10,  # Log metrics every 10 steps\n",
        ")\n",
        "\n",
        "# Initialize the Trainer\n",
        "trainer_biobert = ContiguousTrainer(\n",
        "    model=model_biobert,\n",
        "    args=training_args_biobert,\n",
        "    train_dataset=train_subset,\n",
        "    eval_dataset=test_subset,\n",
        "    compute_metrics=compute_metrics,  # Define our function to compute metrics\n",
        "    callbacks=[EarlyStoppingCallback(early_stopping_patience=3)],\n",
        ")\n"
      ]
    },
    {
      "cell_type": "code",
      "execution_count": 219,
      "metadata": {},
      "outputs": [
        {
          "data": {
            "application/vnd.jupyter.widget-view+json": {
              "model_id": "f6c8c986246c4a1e9d25ea547f328135",
              "version_major": 2,
              "version_minor": 0
            },
            "text/plain": [
              "  0%|          | 0/750 [00:00<?, ?it/s]"
            ]
          },
          "metadata": {},
          "output_type": "display_data"
        },
        {
          "name": "stdout",
          "output_type": "stream",
          "text": [
            "{'loss': 0.1631, 'grad_norm': 4.791025161743164, 'learning_rate': 1.0000000000000002e-06, 'epoch': 0.04}\n",
            "{'loss': 0.0775, 'grad_norm': 0.22363008558750153, 'learning_rate': 2.0000000000000003e-06, 'epoch': 0.08}\n",
            "{'loss': 0.1307, 'grad_norm': 9.738423347473145, 'learning_rate': 3e-06, 'epoch': 0.12}\n",
            "{'loss': 0.2013, 'grad_norm': 71.05075073242188, 'learning_rate': 4.000000000000001e-06, 'epoch': 0.16}\n",
            "{'loss': 0.1971, 'grad_norm': 33.723567962646484, 'learning_rate': 5e-06, 'epoch': 0.2}\n"
          ]
        },
        {
          "data": {
            "application/vnd.jupyter.widget-view+json": {
              "model_id": "f51c2fc8d60d495ab4c61543d0d06698",
              "version_major": 2,
              "version_minor": 0
            },
            "text/plain": [
              "  0%|          | 0/125 [00:00<?, ?it/s]"
            ]
          },
          "metadata": {},
          "output_type": "display_data"
        },
        {
          "name": "stdout",
          "output_type": "stream",
          "text": [
            "{'eval_loss': 0.20472247898578644, 'eval_accuracy': 0.951, 'eval_f1': 0.9192751235584845, 'eval_precision': 0.9, 'eval_recall': 0.9393939393939394, 'eval_runtime': 315.8657, 'eval_samples_per_second': 6.332, 'eval_steps_per_second': 0.396, 'epoch': 0.2}\n",
            "{'loss': 0.2855, 'grad_norm': 1.1076973676681519, 'learning_rate': 6e-06, 'epoch': 0.24}\n",
            "{'loss': 0.1908, 'grad_norm': 8.595379829406738, 'learning_rate': 7.000000000000001e-06, 'epoch': 0.28}\n",
            "{'loss': 0.2141, 'grad_norm': 0.9567968249320984, 'learning_rate': 8.000000000000001e-06, 'epoch': 0.32}\n",
            "{'loss': 0.2721, 'grad_norm': 0.2437148243188858, 'learning_rate': 9e-06, 'epoch': 0.36}\n",
            "{'loss': 0.1238, 'grad_norm': 25.427431106567383, 'learning_rate': 1e-05, 'epoch': 0.4}\n"
          ]
        },
        {
          "data": {
            "application/vnd.jupyter.widget-view+json": {
              "model_id": "3782ac80d16743aa983ac926a0d599ed",
              "version_major": 2,
              "version_minor": 0
            },
            "text/plain": [
              "  0%|          | 0/125 [00:00<?, ?it/s]"
            ]
          },
          "metadata": {},
          "output_type": "display_data"
        },
        {
          "name": "stdout",
          "output_type": "stream",
          "text": [
            "{'eval_loss': 0.1146768182516098, 'eval_accuracy': 0.9725, 'eval_f1': 0.9524632670700086, 'eval_precision': 0.9786856127886323, 'eval_recall': 0.9276094276094277, 'eval_runtime': 492.1863, 'eval_samples_per_second': 4.064, 'eval_steps_per_second': 0.254, 'epoch': 0.4}\n",
            "{'loss': 0.0278, 'grad_norm': 4.896041393280029, 'learning_rate': 1.1000000000000001e-05, 'epoch': 0.44}\n",
            "{'loss': 0.0104, 'grad_norm': 13.537858963012695, 'learning_rate': 1.2e-05, 'epoch': 0.48}\n",
            "{'loss': 0.119, 'grad_norm': 0.08324604481458664, 'learning_rate': 1.3000000000000001e-05, 'epoch': 0.52}\n",
            "{'loss': 0.1451, 'grad_norm': 0.1192641407251358, 'learning_rate': 1.4000000000000001e-05, 'epoch': 0.56}\n",
            "{'loss': 0.0377, 'grad_norm': 0.12906809151172638, 'learning_rate': 1.5e-05, 'epoch': 0.6}\n"
          ]
        },
        {
          "data": {
            "application/vnd.jupyter.widget-view+json": {
              "model_id": "7cf1432400a64186a71538f5abb36eee",
              "version_major": 2,
              "version_minor": 0
            },
            "text/plain": [
              "  0%|          | 0/125 [00:00<?, ?it/s]"
            ]
          },
          "metadata": {},
          "output_type": "display_data"
        },
        {
          "name": "stdout",
          "output_type": "stream",
          "text": [
            "{'eval_loss': 0.14267835021018982, 'eval_accuracy': 0.9645, 'eval_f1': 0.939471440750213, 'eval_precision': 0.9516407599309153, 'eval_recall': 0.9276094276094277, 'eval_runtime': 304.3585, 'eval_samples_per_second': 6.571, 'eval_steps_per_second': 0.411, 'epoch': 0.6}\n",
            "{'loss': 0.0887, 'grad_norm': 94.222412109375, 'learning_rate': 1.6000000000000003e-05, 'epoch': 0.64}\n",
            "{'loss': 0.1115, 'grad_norm': 0.1150839775800705, 'learning_rate': 1.7000000000000003e-05, 'epoch': 0.68}\n",
            "{'loss': 0.1813, 'grad_norm': 269.6637268066406, 'learning_rate': 1.8e-05, 'epoch': 0.72}\n",
            "{'loss': 0.0704, 'grad_norm': 0.12116462737321854, 'learning_rate': 1.9e-05, 'epoch': 0.76}\n",
            "{'loss': 0.1355, 'grad_norm': 1.6107673645019531, 'learning_rate': 2e-05, 'epoch': 0.8}\n"
          ]
        },
        {
          "data": {
            "application/vnd.jupyter.widget-view+json": {
              "model_id": "db473374d4354bba8ccf98166372945f",
              "version_major": 2,
              "version_minor": 0
            },
            "text/plain": [
              "  0%|          | 0/125 [00:00<?, ?it/s]"
            ]
          },
          "metadata": {},
          "output_type": "display_data"
        },
        {
          "name": "stdout",
          "output_type": "stream",
          "text": [
            "{'eval_loss': 0.1235118955373764, 'eval_accuracy': 0.975, 'eval_f1': 0.9566724436741768, 'eval_precision': 0.9857142857142858, 'eval_recall': 0.9292929292929293, 'eval_runtime': 304.4769, 'eval_samples_per_second': 6.569, 'eval_steps_per_second': 0.411, 'epoch': 0.8}\n",
            "{'loss': 0.2969, 'grad_norm': 4.175694465637207, 'learning_rate': 2.1e-05, 'epoch': 0.84}\n",
            "{'loss': 0.6329, 'grad_norm': 9.065491676330566, 'learning_rate': 2.2000000000000003e-05, 'epoch': 0.88}\n",
            "{'loss': 0.2153, 'grad_norm': 0.4375366270542145, 'learning_rate': 2.3000000000000003e-05, 'epoch': 0.92}\n",
            "{'loss': 0.0679, 'grad_norm': 0.6087069511413574, 'learning_rate': 2.4e-05, 'epoch': 0.96}\n",
            "{'loss': 0.273, 'grad_norm': 0.06159605830907822, 'learning_rate': 2.5e-05, 'epoch': 1.0}\n"
          ]
        },
        {
          "data": {
            "application/vnd.jupyter.widget-view+json": {
              "model_id": "a2c464e3c3654368aa720f4ea3fe891d",
              "version_major": 2,
              "version_minor": 0
            },
            "text/plain": [
              "  0%|          | 0/125 [00:00<?, ?it/s]"
            ]
          },
          "metadata": {},
          "output_type": "display_data"
        },
        {
          "name": "stdout",
          "output_type": "stream",
          "text": [
            "{'eval_loss': 0.11497964709997177, 'eval_accuracy': 0.9805, 'eval_f1': 0.9666951323654995, 'eval_precision': 0.9809358752166378, 'eval_recall': 0.9528619528619529, 'eval_runtime': 202.3776, 'eval_samples_per_second': 9.883, 'eval_steps_per_second': 0.618, 'epoch': 1.0}\n",
            "{'train_runtime': 3210.4527, 'train_samples_per_second': 1.869, 'train_steps_per_second': 0.234, 'train_loss': 0.1707709634900093, 'epoch': 1.0}\n"
          ]
        },
        {
          "data": {
            "text/plain": [
              "TrainOutput(global_step=250, training_loss=0.1707709634900093, metrics={'train_runtime': 3210.4527, 'train_samples_per_second': 1.869, 'train_steps_per_second': 0.234, 'total_flos': 131555527680000.0, 'train_loss': 0.1707709634900093, 'epoch': 1.0})"
            ]
          },
          "execution_count": 219,
          "metadata": {},
          "output_type": "execute_result"
        }
      ],
      "source": [
        "# Train BioBERT on the subset\n",
        "trainer_biobert.train()\n"
      ]
    },
    {
      "cell_type": "markdown",
      "metadata": {},
      "source": [
        "Training Loss: The training loss fluctuates as expected but generally decreases, showing that the model is learning. However, there are some spikes (e.g., loss of 0.2855 at epoch 0.24), indicating moments when the model might be struggling.\n",
        "\n",
        "Gradient Norm: There are some extreme values in the gradient norm (e.g., 269.66 at epoch 0.72 and 94.22 at epoch 0.64), indicating potential training instability at certain points. We might want to consider gradient clipping if these spikes are problematic.\n",
        "\n",
        "Evaluation Loss and Accuracy: The evaluation loss improves over time, and the accuracy increases from 95.1% at epoch 0.2 to 98.05% at epoch 1.0, indicating strong generalization to unseen data.\n",
        "\n",
        "F1-Score, Precision, and Recall: These metrics are consistently strong, with the F1-score increasing from 0.919 to 0.9666 over time, showing the model’s balanced performance between precision and recall.\n",
        "\n",
        "The results show that our BioBERT model is performing well with high accuracy, precision, recall, and F1-score.\n",
        "\n",
        "The previous results we shared were during or after specific epochs (e.g., after epoch 0.2, 0.4, 1.0).\n",
        "These results were logged periodically during training and represented the evaluation metrics after different training phases.\n",
        "Metrics like eval_loss, eval_accuracy, eval_f1, eval_precision, and eval_recall were logged at specific points in time, as the model progressed through different stages of training."
      ]
    },
    {
      "cell_type": "code",
      "execution_count": 370,
      "metadata": {
        "colab": {
          "base_uri": "https://localhost:8080/"
        },
        "id": "OZDPKyNzjKYb",
        "outputId": "0ccda6d2-08eb-4251-925f-487a0c4919fc"
      },
      "outputs": [
        {
          "data": {
            "text/plain": [
              "('model_path_bio\\\\tokenizer_config.json',\n",
              " 'model_path_bio\\\\special_tokens_map.json',\n",
              " 'model_path_bio\\\\vocab.txt',\n",
              " 'model_path_bio\\\\added_tokens.json')"
            ]
          },
          "execution_count": 370,
          "metadata": {},
          "output_type": "execute_result"
        }
      ],
      "source": [
        "# Save the model and tokenizer\n",
        "model_path_bio = path_to_file+'/results_biobert'\n",
        "model_biobert.save_pretrained(\"model_path_bio\")\n",
        "tokenizer_biobert.save_pretrained(\"model_path_bio\")"
      ]
    },
    {
      "cell_type": "code",
      "execution_count": 221,
      "metadata": {
        "colab": {
          "base_uri": "https://localhost:8080/",
          "height": 211
        },
        "id": "W50jw1Xqeid2",
        "outputId": "7e6ffe86-db38-43f1-ef52-af8b5ecba55e"
      },
      "outputs": [
        {
          "data": {
            "application/vnd.jupyter.widget-view+json": {
              "model_id": "4a59909178994c0489f7d15f1bb8e845",
              "version_major": 2,
              "version_minor": 0
            },
            "text/plain": [
              "  0%|          | 0/125 [00:00<?, ?it/s]"
            ]
          },
          "metadata": {},
          "output_type": "display_data"
        },
        {
          "data": {
            "text/plain": [
              "{'eval_loss': 0.1146768182516098,\n",
              " 'eval_accuracy': 0.9725,\n",
              " 'eval_f1': 0.9524632670700086,\n",
              " 'eval_precision': 0.9786856127886323,\n",
              " 'eval_recall': 0.9276094276094277,\n",
              " 'eval_runtime': 200.0017,\n",
              " 'eval_samples_per_second': 10.0,\n",
              " 'eval_steps_per_second': 0.625,\n",
              " 'epoch': 1.0}"
            ]
          },
          "execution_count": 221,
          "metadata": {},
          "output_type": "execute_result"
        }
      ],
      "source": [
        "eval_results_biobert = trainer_biobert.evaluate()\n",
        "eval_results_biobert"
      ]
    },
    {
      "cell_type": "markdown",
      "metadata": {
        "id": "SLVnDmu2hpEA"
      },
      "source": [
        "These results show exceptionally high performance across all metrics, which suggests that the model is performing extremely well on our evaluation dataset:\n",
        "\n",
        "eval_loss: 0.0036\n",
        "The evaluation loss is very low, indicating that the model's predictions are very close to the actual data.\n",
        "\n",
        "eval_accuracy: 99.95%\n",
        "Almost all predictions are correct. High accuracy is typically desired, but it's crucial to look at other metrics, especially in imbalanced datasets.\n",
        "\n",
        "eval_precision: 99.85%\n",
        "Almost every positive prediction made by the model is correct, indicating very few false positives.\n",
        "\n",
        "eval_recall: 100%\n",
        "The model successfully identifies all actual positives, indicating no false negatives.\n",
        "\n",
        "eval_f1: 99.93%\n",
        "The F1 score, which is the harmonic mean of precision and recall, is extremely high, suggesting excellent balance between precision and recall.\n",
        "\n",
        "eval_auc: 99.98%\n",
        "The AUC-ROC score is near perfect, indicating outstanding discrimination between the positive and negative classes.\n",
        "\n",
        "eval_runtime: 8.9707 seconds\n",
        "Shows the time taken for evaluation.\n",
        "\n",
        "eval_samples_per_second: 487.921\n",
        "Indicates the processing speed; higher numbers mean faster processing.\n",
        "\n",
        "eval_steps_per_second: 30.544\n",
        "Reflects how many batches per second were processed during evaluation.\n",
        "\n",
        "epoch: 3\n",
        "Indicates that these results were obtained at the end of the third epoch.\n",
        "\n",
        "The current results come from running an explicit evaluation after training or fine-tuning has completed. This means the model is being evaluated in its final state (after it has seen all the data and optimized its weights).\n",
        "These results are a snapshot of how the model performs on the test/validation set after training has finished, providing a final assessment of the model’s performance."
      ]
    },
    {
      "cell_type": "code",
      "execution_count": 368,
      "metadata": {
        "id": "hcxdjnfDeid3"
      },
      "outputs": [],
      "source": [
        "# Save the evaluation results to a text file\n",
        "with open('biobert_evaluation_results.txt', 'w') as f:\n",
        "    for key, value in eval_results_biobert.items():\n",
        "        f.write(f\"{key}: {value}\\n\")\n"
      ]
    },
    {
      "cell_type": "code",
      "execution_count": 369,
      "metadata": {
        "colab": {
          "base_uri": "https://localhost:8080/"
        },
        "id": "kPs_sw04eid3",
        "outputId": "22ac74cf-3d66-4845-d916-51707adb2b75"
      },
      "outputs": [
        {
          "name": "stdout",
          "output_type": "stream",
          "text": [
            "Vocabulary size: 28996\n"
          ]
        }
      ],
      "source": [
        "vocab_size = tokenizer_biobert.vocab_size\n",
        "print(f\"Vocabulary size: {vocab_size}\")\n"
      ]
    },
    {
      "cell_type": "markdown",
      "metadata": {},
      "source": [
        "The vocabulary size determines how many different tokens the model can process. A larger vocabulary means the model can handle a broader range of words and subwords, but it also increases the complexity of the model.\n",
        "The size of the vocabulary directly influences the input embeddings of the model. For example, if the vocabulary size is 30,000, the input layer of the model will have an embedding matrix with 30,000 rows, where each row corresponds to a token in the vocabulary."
      ]
    },
    {
      "cell_type": "code",
      "execution_count": 227,
      "metadata": {
        "id": "dNVjrf6ieid4"
      },
      "outputs": [],
      "source": [
        "import json\n",
        "\n",
        "# Save test results\n",
        "with open(\"test_results.json\", \"w\") as f:\n",
        "    json.dump(eval_results_biobert, f)"
      ]
    },
    {
      "cell_type": "code",
      "execution_count": 364,
      "metadata": {
        "colab": {
          "base_uri": "https://localhost:8080/",
          "height": 211
        },
        "id": "RpCab1NFeid4",
        "outputId": "26a726c2-9fd7-402b-ca06-efd2d71735a1"
      },
      "outputs": [
        {
          "data": {
            "application/vnd.jupyter.widget-view+json": {
              "model_id": "fb9fc5b5d4c94d8dab544b72b866adf2",
              "version_major": 2,
              "version_minor": 0
            },
            "text/plain": [
              "  0%|          | 0/511 [00:00<?, ?it/s]"
            ]
          },
          "metadata": {},
          "output_type": "display_data"
        },
        {
          "data": {
            "text/plain": [
              "{'eval_loss': 0.26545995473861694,\n",
              " 'eval_model_preparation_time': 0.0145,\n",
              " 'eval_accuracy': 0.9751408278226794,\n",
              " 'eval_f1': 0.9555701466404027,\n",
              " 'eval_precision': 0.9864437415273385,\n",
              " 'eval_recall': 0.9265704584040747,\n",
              " 'eval_runtime': 5072.0999,\n",
              " 'eval_samples_per_second': 1.61,\n",
              " 'eval_steps_per_second': 0.101}"
            ]
          },
          "execution_count": 364,
          "metadata": {},
          "output_type": "execute_result"
        }
      ],
      "source": [
        "from torch.optim import AdamW\n",
        "\n",
        "# Define the optimizer\n",
        "optimizer = AdamW(model_biobert.parameters(), lr=2e-5)  # Learning rate can be adjusted\n",
        "\n",
        "# Define the loss function (CrossEntropyLoss for classification)\n",
        "criterion = torch.nn.CrossEntropyLoss()\n",
        "\n",
        "eval_results_biobert_finetuned = trainer_biobert.evaluate(eval_dataset=test_dataset_biobert)\n",
        "eval_results_biobert_finetuned\n"
      ]
    },
    {
      "cell_type": "markdown",
      "metadata": {},
      "source": [
        "The output shows the evaluation metrics of our fine-tuned BioBERT model on a test dataset. Here's a breakdown of each element in the output:<br>\n",
        "\n",
        "**1. eval_loss: 0.26545995473861694**\n",
        "This is the average loss of the model on the evaluation dataset. Loss represents how well the model predictions match the actual labels. A lower loss indicates better performance. In this case, the loss is quite low, indicating the model has performed well. <br>\n",
        "**2. eval_model_preparation_time: 0.0145**\n",
        "This is the time taken (in seconds) to prepare the model for evaluation. It represents how long it took to set up the model on the evaluation data.<br>\n",
        "**3. eval_accuracy: 0.9751408278226794**\n",
        "Accuracy is the proportion of correct predictions out of all predictions. In this case, the accuracy is 97.5%, meaning that approximately 97.5% of the predictions made by the model were correct.\n",
        "\n",
        "**4. eval_f1: 0.9555701466404027**\n",
        "The F1-score is the harmonic mean of precision and recall, providing a balanced metric for classification performance, especially useful for imbalanced datasets. The F1-score of 0.96 shows the model has performed very well, indicating a good balance between precision and recall.\n",
        "\n",
        "**5. eval_precision: 0.9864437415273385**\n",
        "Precision represents the proportion of positive predictions that are actually correct (true positives / (true positives + false positives)). A precision of 98.6% means that when the model predicts a positive class, it is correct 98.6% of the time. This is a very high precision score, indicating that the model makes few false positive errors.\n",
        "\n",
        "**6. eval_recall: 0.9265704584040747**\n",
        "Recall (or sensitivity) is the proportion of actual positives that the model correctly identified (true positives / (true positives + false negatives)). A recall of 92.7% means the model is correctly identifying 92.7% of the actual positive instances. This indicates that the model misses about 7.3% of the true positives.\n",
        "\n",
        "**7. eval_runtime: 5072.0999**\n",
        "This is the total runtime (in seconds) for the evaluation process. In this case, the evaluation took around 5072 seconds (~84.5 minutes).\n",
        "\n",
        "**8. eval_samples_per_second: 1.61**\n",
        "This is the number of samples the model evaluated per second during the evaluation. In this case, the model processed approximately 1.61 samples per second, which suggests that the evaluation might involve a large dataset or complex computations.\n",
        "\n",
        "**9. eval_steps_per_second: 0.101**\n",
        "This indicates the number of steps the model took per second during the evaluation. A step usually refers to processing a batch of samples. The model evaluated 0.101 steps per second, meaning each batch took approximately 10 seconds to process.\n",
        "\n",
        "**Summary of Model Performance:**\n",
        "Our BioBERT model is performing exceptionally well, with high accuracy (97.5%), precision (98.6%), recall (92.7%), and an F1-score of 95.6%.\n",
        "The relatively low evaluation loss (0.265) suggests that the model generalizes well to the test data.\n",
        "\n",
        "The evaluation time (5072 seconds) indicates that it took a while to evaluate the model, possibly due to a large dataset or complex computations.\n",
        "This output shows that our fine-tuned BioBERT model is making accurate and reliable predictions."
      ]
    },
    {
      "cell_type": "code",
      "execution_count": 365,
      "metadata": {
        "id": "XbXKdkWWABwI"
      },
      "outputs": [],
      "source": [
        "import os\n",
        "os.environ['CUDA_LAUNCH_BLOCKING'] = \"1\"\n"
      ]
    },
    {
      "cell_type": "code",
      "execution_count": 366,
      "metadata": {
        "colab": {
          "base_uri": "https://localhost:8080/"
        },
        "id": "ndwrWvZcNQrx",
        "outputId": "3bf7dcb8-446f-432c-c6e4-bdbe3233980f"
      },
      "outputs": [
        {
          "data": {
            "text/plain": [
              "18078"
            ]
          },
          "execution_count": 366,
          "metadata": {},
          "output_type": "execute_result"
        }
      ],
      "source": [
        "import gc\n",
        "torch.cuda.empty_cache()  # Clear unused memory\n",
        "gc.collect()\n"
      ]
    },
    {
      "cell_type": "code",
      "execution_count": 367,
      "metadata": {
        "id": "NViNZcwuNSaZ"
      },
      "outputs": [],
      "source": [
        "import os\n",
        "os.environ['PYTORCH_CUDA_ALLOC_CONF'] = \"expandable_segments:True\"\n"
      ]
    },
    {
      "cell_type": "code",
      "execution_count": null,
      "metadata": {},
      "outputs": [],
      "source": [
        "# Check if CUDA (GPU) is available and set the device accordingly\n",
        "device = torch.device(\"cuda\" if torch.cuda.is_available() else \"cpu\")\n",
        "# Move the model to the appropriate device (GPU or CPU)\n",
        "model_biobert.to(device)\n",
        "\n",
        "# Switch the model to evaluation mode\n",
        "model_biobert.eval()\n",
        "# Define a smaller batch size\n",
        "smaller_batch_size = 32  # Adjust this number based on our GPU capacity\n",
        "\n",
        "# Perform tokenization in batches to reduce memory usage\n",
        "all_predictions = []\n",
        "\n",
        "for i in range(0, len(clinical_data), smaller_batch_size):\n",
        "    batch = clinical_data['CLEAN_TEXT'][i : i + smaller_batch_size].tolist()\n",
        "    print(f\"Processing batch {i//smaller_batch_size + 1}, batch size: {len(batch)}\")  # Add this line\n",
        "\n",
        "    if not batch:\n",
        "        continue # Skip empty batches\n",
        "    inputs = tokenizer_biobert(batch,\n",
        "                                return_tensors=\"pt\",\n",
        "                                truncation=True,\n",
        "                                padding=True,\n",
        "                                max_length=512)\n",
        "\n",
        "    for k, v in inputs.items():\n",
        "        if not torch.isfinite(v).all():\n",
        "            print(f\"Non-finite values found in {k}\")\n",
        "\n",
        "    # Move the inputs to the same device as the model\n",
        "    inputs = {k: v.to(device) for k, v in inputs.items()}\n",
        "\n",
        "    # Make predictions using the model\n",
        "    with torch.no_grad():\n",
        "        outputs = model_biobert(**inputs)\n",
        "        predictions = torch.argmax(outputs.logits, dim=-1)\n",
        "\n",
        "    # Extend the list with the current batch predictions\n",
        "    all_predictions.extend(predictions.tolist())\n",
        "    print(f\"Predictions so far: {len(all_predictions)}\")  # Track the number of predictions\n",
        "\n",
        "\n",
        "# Check if lengths match\n",
        "if len(all_predictions) != len(clinical_data):\n",
        "    print(f\"Length mismatch: Predictions ({len(all_predictions)}) vs Data ({len(clinical_data)})\")\n",
        "    \n",
        "    # Fill missing predictions with a default value (e.g., 0) or handle accordingly\n",
        "    missing_predictions = len(clinical_data) - len(all_predictions)\n",
        "    all_predictions.extend([0] * missing_predictions)  # Extend predictions with default value (e.g., 0)\n",
        "\n",
        "# Convert predictions to a list for easier interpretation\n",
        "readmission_predictions = all_predictions\n",
        "\n",
        "# Add predictions to the DataFrame\n",
        "clinical_data['Readmission_Prediction'] = all_predictions"
      ]
    },
    {
      "cell_type": "markdown",
      "metadata": {},
      "source": [
        "**Batch Processing:** Processes the text data in smaller batches (smaller_batch_size = 32), which is more memory-efficient and scalable for large datasets. <br>\n",
        "**Device Handling:** Similar to the first block, moves the inputs and model to the appropriate device (CPU or GPU).<br>\n",
        "**Tokenization:** Each batch is tokenized separately, ensuring memory efficiency by avoiding tokenizing a large chunk of data at once. <br>\n",
        "**Prediction:** Predictions are made batch-wise, which ensures that the model can handle larger datasets without running out of memory.<br>\n",
        "**Post-processing:** Extends the list of predictions after processing each batch, ensuring the entire dataset can be processed without memory bottlenecks.<br>\n",
        "#### Advantages:\n",
        "More memory-efficient due to batch processing.<br>\n",
        "Handles large datasets more gracefully by processing them in smaller chunks.<br>\n",
        "Proper use of batch size, ensuring that memory usage is optimized.<br>\n",
        "Less prone to memory exhaustion errors, especially on GPUs with limited VRAM.<br>"
      ]
    },
    {
      "cell_type": "code",
      "execution_count": 460,
      "metadata": {},
      "outputs": [
        {
          "name": "stdout",
          "output_type": "stream",
          "text": [
            "DataFrame successfully saved to 'clinical_data_predicted.pkl'.\n"
          ]
        }
      ],
      "source": [
        "# Save the DataFrame\n",
        "if 'clinical_data_predicted' in locals():\n",
        "    clinical_data.to_pickle('clinical_data_predicted.pkl')\n",
        "    print(\"DataFrame successfully saved to 'clinical_data_predicted.pkl'.\")\n",
        "\n",
        "else:\n",
        "    print(\"DataFrame does not exist to save.\")\n"
      ]
    },
    {
      "cell_type": "code",
      "execution_count": 462,
      "metadata": {},
      "outputs": [],
      "source": [
        "clinical_data_predicted = clinical_data.copy()"
      ]
    },
    {
      "cell_type": "code",
      "execution_count": 463,
      "metadata": {},
      "outputs": [
        {
          "name": "stdout",
          "output_type": "stream",
          "text": [
            "LABEL\n",
            "0    29069\n",
            "1    11757\n",
            "Name: count, dtype: int64\n",
            "<class 'pandas.core.frame.DataFrame'>\n",
            "Index: 40826 entries, 7 to 123824\n",
            "Data columns (total 23 columns):\n",
            " #   Column                  Non-Null Count  Dtype         \n",
            "---  ------                  --------------  -----         \n",
            " 0   row_id_x                40826 non-null  int64         \n",
            " 1   SUBJECT_ID              40826 non-null  object        \n",
            " 2   HADM_ID                 40826 non-null  object        \n",
            " 3   seq_num_x               40826 non-null  int64         \n",
            " 4   ICD9_CODE               40826 non-null  object        \n",
            " 5   ROW_ID                  40826 non-null  object        \n",
            " 6   CHARTDATE               40826 non-null  datetime64[ns]\n",
            " 7   CHARTTIME               40826 non-null  datetime64[ns]\n",
            " 8   STORETIME               40826 non-null  datetime64[ns]\n",
            " 9   CATEGORY                40826 non-null  object        \n",
            " 10  DESCRIPTION             40826 non-null  object        \n",
            " 11  CGID                    40826 non-null  object        \n",
            " 12  TEXT                    40826 non-null  object        \n",
            " 13  TEXT_LENGTH             40826 non-null  int64         \n",
            " 14  CLEAN_TEXT              40826 non-null  object        \n",
            " 15  icd9_code_x             40826 non-null  object        \n",
            " 16  long_title              40826 non-null  object        \n",
            " 17  row_id_y                40826 non-null  int64         \n",
            " 18  seq_num_y               40826 non-null  int64         \n",
            " 19  icd9_code_y             40826 non-null  int64         \n",
            " 20  LABEL                   40826 non-null  int64         \n",
            " 21  text_length             40826 non-null  int64         \n",
            " 22  Readmission_Prediction  40826 non-null  int64         \n",
            "dtypes: datetime64[ns](3), int64(9), object(11)\n",
            "memory usage: 7.5+ MB\n"
          ]
        }
      ],
      "source": [
        "readmission_counts = clinical_data['LABEL'].value_counts()\n",
        "print(readmission_counts)\n",
        "clinical_data_predicted.info()"
      ]
    },
    {
      "cell_type": "markdown",
      "metadata": {},
      "source": [
        "We are copying the clinical_data to another dataset for our convenience and to keep a copy of it."
      ]
    },
    {
      "cell_type": "code",
      "execution_count": 441,
      "metadata": {},
      "outputs": [],
      "source": [
        "clinical_data_predicted = clinical_data[clinical_data['CLEAN_TEXT'].apply(lambda x: len(x.strip()) > 0)]\n"
      ]
    },
    {
      "cell_type": "code",
      "execution_count": 455,
      "metadata": {},
      "outputs": [
        {
          "name": "stdout",
          "output_type": "stream",
          "text": [
            "Number of valid (non-empty) entries in clinical_data: 40826\n"
          ]
        },
        {
          "data": {
            "text/plain": [
              "40826"
            ]
          },
          "execution_count": 455,
          "metadata": {},
          "output_type": "execute_result"
        }
      ],
      "source": [
        "print(f\"Number of valid (non-empty) entries in clinical_data: {clinical_data['CLEAN_TEXT'].apply(lambda x: len(x.strip()) > 0).sum()}\")\n",
        "len(all_predictions)\n"
      ]
    },
    {
      "cell_type": "code",
      "execution_count": 464,
      "metadata": {},
      "outputs": [
        {
          "data": {
            "text/html": [
              "<div>\n",
              "<style scoped>\n",
              "    .dataframe tbody tr th:only-of-type {\n",
              "        vertical-align: middle;\n",
              "    }\n",
              "\n",
              "    .dataframe tbody tr th {\n",
              "        vertical-align: top;\n",
              "    }\n",
              "\n",
              "    .dataframe thead th {\n",
              "        text-align: right;\n",
              "    }\n",
              "</style>\n",
              "<table border=\"1\" class=\"dataframe\">\n",
              "  <thead>\n",
              "    <tr style=\"text-align: right;\">\n",
              "      <th></th>\n",
              "      <th>CLEAN_TEXT</th>\n",
              "      <th>Readmission_Prediction</th>\n",
              "    </tr>\n",
              "  </thead>\n",
              "  <tbody>\n",
              "    <tr>\n",
              "      <th>7</th>\n",
              "      <td>full code universal precautions allergy hepari...</td>\n",
              "      <td>1</td>\n",
              "    </tr>\n",
              "    <tr>\n",
              "      <th>8</th>\n",
              "      <td>full code universal precautions allergy hepari...</td>\n",
              "      <td>1</td>\n",
              "    </tr>\n",
              "    <tr>\n",
              "      <th>9</th>\n",
              "      <td>full code universal precautions allergy hepari...</td>\n",
              "      <td>1</td>\n",
              "    </tr>\n",
              "    <tr>\n",
              "      <th>10</th>\n",
              "      <td>full code universal precautions allergy hepari...</td>\n",
              "      <td>1</td>\n",
              "    </tr>\n",
              "    <tr>\n",
              "      <th>11</th>\n",
              "      <td>full code universal precautions allergy hepari...</td>\n",
              "      <td>1</td>\n",
              "    </tr>\n",
              "  </tbody>\n",
              "</table>\n",
              "</div>"
            ],
            "text/plain": [
              "                                           CLEAN_TEXT  Readmission_Prediction\n",
              "7   full code universal precautions allergy hepari...                       1\n",
              "8   full code universal precautions allergy hepari...                       1\n",
              "9   full code universal precautions allergy hepari...                       1\n",
              "10  full code universal precautions allergy hepari...                       1\n",
              "11  full code universal precautions allergy hepari...                       1"
            ]
          },
          "execution_count": 464,
          "metadata": {},
          "output_type": "execute_result"
        }
      ],
      "source": [
        "\n",
        "# Check the predictions\n",
        "clinical_data_predicted[['CLEAN_TEXT', 'Readmission_Prediction']].head(5)\n"
      ]
    },
    {
      "cell_type": "markdown",
      "metadata": {
        "id": "uC7iDOA8oiNM"
      },
      "source": [
        "CLEAN_TEXT:\n",
        "\n",
        "This column contains processed or \"cleaned\" text data, typically derived from clinical notes or medical records. The text \"cleaning\" process might involve removing unnecessary characters, correcting typos, standardizing terminology, and other preprocessing steps to make the text more suitable for analysis.\n",
        "Example entries like “addmit note neuro alert oriented x neuro defic...” suggest these are snippets of admission notes from a healthcare setting, detailing patient assessments or conditions.\n",
        "Readmission_Prediction:\n",
        "\n",
        "This column likely represents a binary classification target variable with values 0 or 1, where 1 could indicate that a patient was readmitted, and 0 might signify that there was no readmission.\n",
        "The presence of multiple 1 values corresponding to texts starting with \"smicu nsg admission note women recently dx non...\" indicates that these notes are associated with cases of patient readmission.\n",
        "\n",
        "This output represents a prepared dataset ready for use in a predictive modeling task, specifically aimed at predicting patient readmissions from clinical text notes. The data setup is crucial for developing AI tools in healthcare, which can lead to better patient outcomes and more efficient healthcare services."
      ]
    },
    {
      "cell_type": "markdown",
      "metadata": {},
      "source": [
        "We are saving this file for our future reference to explain the results even more better with the names of cinical_data_predicted.pkl and clinical_data_predicted_csv files in both the formats."
      ]
    },
    {
      "cell_type": "code",
      "execution_count": 465,
      "metadata": {
        "colab": {
          "base_uri": "https://localhost:8080/",
          "height": 452
        },
        "id": "55dzg-bCO0nV",
        "outputId": "f37f15e2-29e8-44b0-b908-9e7bde00f248"
      },
      "outputs": [
        {
          "data": {
            "image/png": "[encoded data removed]",
            "text/plain": [
              "<Figure size 640x480 with 1 Axes>"
            ]
          },
          "metadata": {},
          "output_type": "display_data"
        }
      ],
      "source": [
        "from matplotlib import pyplot as plt\n",
        "clinical_data_predicted['Readmission_Prediction'].plot(kind='hist', bins=20, title='Readmission_Prediction')\n",
        "plt.gca().spines[['top', 'right',]].set_visible(False)"
      ]
    },
    {
      "cell_type": "code",
      "execution_count": 466,
      "metadata": {},
      "outputs": [
        {
          "name": "stdout",
          "output_type": "stream",
          "text": [
            "Readmission_Prediction\n",
            "0    34236\n",
            "1     6590\n",
            "Name: count, dtype: int64\n"
          ]
        }
      ],
      "source": [
        "# This will show the counts of each unique value in the 'Readmission_Prediction' column\n",
        "value_counts = clinical_data_predicted['Readmission_Prediction'].value_counts()\n",
        "print(value_counts)\n"
      ]
    },
    {
      "cell_type": "markdown",
      "metadata": {},
      "source": [
        "The histogram we've shown represents the frequency distribution of predictions for readmission, classified into two categories: 0.0 (no readmission) and 1.0 (readmission). Here are some key observations:\n",
        "\n",
        "Imbalance in Predictions: The majority of the predictions fall into the 0.0 category, indicating that the model predicts \"no readmission\" for most of the instances. The category 1.0 has significantly fewer counts, suggesting that \"readmission\" is predicted less frequently.\n",
        "\n",
        "Potential Class Imbalance: If these predictions reflect the actual underlying class distribution, this could indicate a class imbalance in our dataset. Models can sometimes be biased towards the majority class, which in this case appears to be the 0.0 category.\n",
        "\n",
        "Model Performance Considerations: When dealing with imbalanced classes, standard accuracy might not be the best metric to evaluate model performance. Metrics like Precision, Recall, F1-score, and especially AUC-ROC become crucial to understand how well the model performs across both classes.\n",
        "\n",
        "Need for Model Calibration: If the model's threshold for predicting 1.0 is too conservative, it might be useful to adjust the classification threshold or employ techniques like SMOTE for oversampling the minority class during training, or adjusting class weights to make the model more sensitive to the minority class."
      ]
    },
    {
      "cell_type": "code",
      "execution_count": 467,
      "metadata": {},
      "outputs": [],
      "source": [
        "train_labels = clinical_data_predicted['Readmission_Prediction'].values"
      ]
    },
    {
      "cell_type": "code",
      "execution_count": 468,
      "metadata": {},
      "outputs": [],
      "source": [
        "from sklearn.utils.class_weight import compute_class_weight\n",
        "import torch.nn as nn\n",
        "\n",
        "# Calculate class weights\n",
        "class_weights = compute_class_weight('balanced', classes=[0, 1], y=train_labels)\n",
        "class_weights = torch.tensor(class_weights, dtype=torch.float)\n",
        "\n",
        "criterion = nn.CrossEntropyLoss(weight=class_weights.to(device))\n"
      ]
    },
    {
      "cell_type": "code",
      "execution_count": 469,
      "metadata": {},
      "outputs": [],
      "source": [
        "from sklearn.metrics import roc_auc_score, f1_score, precision_score, recall_score, confusion_matrix, accuracy_score\n",
        "\n",
        "def evaluate_model(y_true, y_pred, y_proba):\n",
        "    # Calculate necessary metrics\n",
        "    acc = accuracy_score(y_true, y_pred)\n",
        "    auc_roc = roc_auc_score(y_true, y_proba)\n",
        "    f1 = f1_score(y_true, y_pred)\n",
        "    precision = precision_score(y_true, y_pred)\n",
        "    recall = recall_score(y_true, y_pred)\n",
        "    conf_matrix = confusion_matrix(y_true, y_pred)\n",
        "    \n",
        "    print(f\"Accuracy: {acc:.4f}\")\n",
        "    print(f\"AUC-ROC: {auc_roc:.4f}\")\n",
        "    print(f\"F1 Score: {f1:.4f}\")\n",
        "    print(f\"Precision: {precision:.4f}\")\n",
        "    print(f\"Recall: {recall:.4f}\")\n",
        "    print(\"Confusion Matrix:\")\n",
        "    print(conf_matrix)\n"
      ]
    },
    {
      "cell_type": "code",
      "execution_count": 470,
      "metadata": {},
      "outputs": [],
      "source": [
        "from torch.utils.data import DataLoader, TensorDataset\n",
        "data = clinical_data_predicted.drop(columns=['CHARTDATE', 'CHARTTIME', 'STORETIME'])  # Drop date-time columns\n",
        "\n",
        "class CustomDataset(Dataset):\n",
        "    def __init__(self, dataframe):\n",
        "        self.dataframe = dataframe.drop(columns=['CHARTDATE', 'CHARTTIME', 'STORETIME'])\n",
        "\n",
        "    def __len__(self):\n",
        "        return len(self.dataframe)\n",
        "\n",
        "    def __getitem__(self, idx):\n",
        "        x = torch.tensor(self.dataframe.iloc[idx, :-1].values, dtype=torch.float32)  # Assuming last column is label\n",
        "        y = torch.tensor(self.dataframe.iloc[idx, -1], dtype=torch.long)\n",
        "        return x, y\n",
        "\n",
        "# Creating DataLoader\n",
        "loader = DataLoader(dataset, batch_size=32, shuffle=True)\n"
      ]
    },
    {
      "cell_type": "code",
      "execution_count": 521,
      "metadata": {},
      "outputs": [],
      "source": [
        "import torch\n",
        "import torch.nn.functional as F\n",
        "\n",
        "def predict(model, data_loader, device):\n",
        "    model.eval()  # Set the model to evaluation mode\n",
        "    true_labels = []\n",
        "    predictions = []\n",
        "    probabilities = []\n",
        "\n",
        "    with torch.no_grad():  # Disable gradient calculation for inference\n",
        "        for inputs, labels in data_loader:  # Assuming 'inputs' now is a tensor or a tuple of tensors\n",
        "            if isinstance(inputs, tuple):  # Check if inputs are given as a tuple\n",
        "                inputs = {k: v.to(device) for k, v in zip(['input_ids', 'attention_mask'], inputs)}\n",
        "            else:  # If there's only one input tensor\n",
        "                inputs = inputs.to(device)\n",
        "            \n",
        "            labels = labels.to(device)  # Move labels to the correct device\n",
        "            outputs = model(inputs)  # Pass the tensor directly if not a dictionary\n",
        "            probs = torch.nn.functional.softmax(outputs.logits, dim=1)\n",
        "            pred = torch.argmax(probs, dim=1)\n",
        "\n",
        "            true_labels.extend(labels.cpu().numpy())\n",
        "            predictions.extend(pred.cpu().numpy())\n",
        "            probabilities.extend(probs.cpu().tolist())\n",
        "\n",
        "    return true_labels, predictions, probabilities\n",
        "\n"
      ]
    },
    {
      "cell_type": "code",
      "execution_count": 522,
      "metadata": {},
      "outputs": [],
      "source": [
        "# Example setup\n",
        "device = torch.device(\"cuda\" if torch.cuda.is_available() else \"cpu\")\n",
        "model = model_biobert.to(device)\n",
        "data_loader = DataLoader(dataset, batch_size=32, shuffle=True)\n",
        "\n",
        "# Call the predict function\n",
        "true_labels, predictions, probabilities = predict(model, data_loader, device)\n"
      ]
    },
    {
      "cell_type": "code",
      "execution_count": null,
      "metadata": {},
      "outputs": [],
      "source": [
        "# For binary classification, extract probabilities for the positive class (class 1)\n",
        "prob_positive_class = [proba[1] for proba in probabilities]\n",
        "\n",
        "# Call the evaluation function\n",
        "evaluate_model(true_labels, predictions, prob_positive_class)\n"
      ]
    },
    {
      "cell_type": "code",
      "execution_count": 531,
      "metadata": {
        "id": "bAghyZlxeid6"
      },
      "outputs": [],
      "source": [
        "from imblearn.over_sampling import SMOTE\n",
        "from sklearn.model_selection import train_test_split\n",
        "\n",
        "# Assuming 'X_train' is our feature matrix and 'y_train' are the labels\n",
        "smote = SMOTE(random_state=42)\n",
        "X_resampled, y_resampled = smote.fit_resample(X_train, y_train)\n",
        "\n",
        "# Split the resampled data into train/test sets again\n",
        "X_train_balanced, X_test_balanced, y_train_balanced, y_test_balanced = train_test_split(X_resampled, y_resampled, test_size=0.2, random_state=42)\n"
      ]
    },
    {
      "cell_type": "code",
      "execution_count": 532,
      "metadata": {
        "id": "S0fIt_GUeid6"
      },
      "outputs": [],
      "source": [
        "from imblearn.under_sampling import RandomUnderSampler\n",
        "\n",
        "# Undersample the majority class\n",
        "rus = RandomUnderSampler(random_state=42)\n",
        "X_resampled, y_resampled = rus.fit_resample(X_train, y_train)\n"
      ]
    },
    {
      "cell_type": "code",
      "execution_count": 533,
      "metadata": {
        "id": "1M_BjPjIeid6"
      },
      "outputs": [],
      "source": [
        "import torch\n",
        "from torch.nn import CrossEntropyLoss\n",
        "\n",
        "# Calculate class weights (adjust the values based on the class imbalance)\n",
        "class_weights = torch.tensor([0.1, 0.9]).to(device)  # we can adjust these values based on our dataset\n",
        "\n",
        "# Define the loss function with class weights\n",
        "loss_fn = torch.nn.CrossEntropyLoss(weight=class_weights)\n",
        "\n"
      ]
    },
    {
      "cell_type": "code",
      "execution_count": 534,
      "metadata": {
        "id": "zuNzqza9eid6"
      },
      "outputs": [],
      "source": [
        "class WeightedTrainer(Trainer):\n",
        "    def compute_loss(self, model, inputs, return_outputs=False):\n",
        "        labels = inputs.get(\"labels\")\n",
        "        # Move class_weights to the device the model is using\n",
        "        class_weights = torch.tensor([0.1, 0.9]).to(model.device)\n",
        "        loss_fn = CrossEntropyLoss(weight=class_weights)\n",
        "\n",
        "        outputs = model(**inputs)\n",
        "        logits = outputs.get(\"logits\")\n",
        "        loss = loss_fn(logits, labels)\n",
        "\n",
        "        return (loss, outputs) if return_outputs else loss\n",
        "\n",
        "trainer_biobert = WeightedTrainer(\n",
        "    model=model_biobert,\n",
        "    args=training_args_biobert,\n",
        "    train_dataset=train_dataset_biobert,\n",
        "    eval_dataset=test_dataset_biobert,\n",
        "    data_collator=data_collator_biobert,\n",
        "    compute_metrics=compute_metrics\n",
        ")\n"
      ]
    },
    {
      "cell_type": "code",
      "execution_count": 274,
      "metadata": {},
      "outputs": [
        {
          "name": "stdout",
          "output_type": "stream",
          "text": [
            "AUC-ROC: 0.9843484821303696\n"
          ]
        }
      ],
      "source": [
        "import torch\n",
        "from torch.nn.functional import softmax\n",
        "from sklearn.metrics import roc_auc_score\n",
        "from torch.utils.data import DataLoader, TensorDataset\n",
        "\n",
        "y_true = clinical_data_predicted['LABEL'].tolist()  # Extract true labels\n",
        "# Tokenize the entire dataset\n",
        "inputs = tokenizer_biobert(clinical_data_predicted['CLEAN_TEXT'].tolist(),\n",
        "                           return_tensors=\"pt\",\n",
        "                           truncation=True,\n",
        "                           padding=True,\n",
        "                           max_length=128)\n",
        "\n",
        "# Ensure inputs are on the same device as the model\n",
        "device = torch.device(\"cuda\" if torch.cuda.is_available() else \"cpu\")\n",
        "inputs = inputs.to(device)\n",
        "\n",
        "# Create a DataLoader to handle batching\n",
        "dataset = TensorDataset(inputs['input_ids'], inputs['attention_mask'])\n",
        "dataloader = DataLoader(dataset, batch_size=32)  # Adjust batch_size as needed\n",
        "\n",
        "# Set the model to evaluation mode and move it to the device\n",
        "model_biobert.eval()\n",
        "model_biobert.to(device)\n",
        "\n",
        "y_pred_proba = []\n",
        "\n",
        "# Get predictions from the model in batches\n",
        "with torch.no_grad():\n",
        "    for batch in dataloader:\n",
        "        input_ids, attention_mask = batch\n",
        "        # Move batch to the same device as the model\n",
        "        input_ids = input_ids.to(device)\n",
        "        attention_mask = attention_mask.to(device)\n",
        "\n",
        "        outputs = model_biobert(input_ids=input_ids, attention_mask=attention_mask)\n",
        "        # Convert logits to probabilities for class 1\n",
        "        probabilities = softmax(outputs.logits, dim=-1)[:, 1].cpu().numpy()\n",
        "        y_pred_proba.extend(probabilities)\n",
        "\n",
        "# Ensure the number of predictions matches the number of true labels\n",
        "assert len(y_true) == len(y_pred_proba), \"Mismatch in number of predictions and true labels!\"\n",
        "\n",
        "# Calculate AUC-ROC using true labels and predicted probabilities\n",
        "auc = roc_auc_score(y_true, y_pred_proba)\n",
        "print(f'AUC-ROC: {auc}')"
      ]
    },
    {
      "cell_type": "markdown",
      "metadata": {},
      "source": [
        "The AUC-ROC score (Area Under the Receiver Operating Characteristic curve) is a performance measurement used for binary classification models. It reflects the model’s ability to distinguish between the two classes.\n",
        "\n",
        "**Breakdown:**\n",
        "AUC (Area Under the Curve): The area under the ROC curve ranges from 0 to 1. A value closer to 1 indicates better performance. In our case, the AUC of 0.984 suggests that the model is performing very well at distinguishing between the two classes.\n",
        "\n",
        "ROC (Receiver Operating Characteristic) Curve: This curve plots the True Positive Rate (TPR) against the False Positive Rate (FPR) at various classification thresholds. It visualizes how well the model is able to separate the positive and negative classes.\n",
        "\n",
        "**AUC-ROC = 0.984:**\n",
        "This means that our model has a 98.4% probability of correctly distinguishing between a positive class (e.g., patient readmitted) and a negative class (e.g., patient not readmitted).\n",
        "It indicates that the model has a very high level of discrimination between the two classes, with a near-perfect classification performance.\n",
        "In summary, an AUC-ROC of 0.984 suggests that our model is excellent at classifying the instances correctly between the two classes."
      ]
    },
    {
      "cell_type": "code",
      "execution_count": 481,
      "metadata": {},
      "outputs": [
        {
          "name": "stderr",
          "output_type": "stream",
          "text": [
            "C:\\Users\\mjoth\\AppData\\Local\\Temp\\ipykernel_24892\\2886938308.py:8: UserWarning: To copy construct from a tensor, it is recommended to use sourceTensor.clone().detach() or sourceTensor.clone().detach().requires_grad_(True), rather than torch.tensor(sourceTensor).\n",
            "  X_test_tensor = torch.tensor(X_test, dtype=torch.long) # Assuming X_test is a list or a NumPy array\n"
          ]
        }
      ],
      "source": [
        "all_predictions = []\n",
        "all_labels = []\n",
        "\n",
        "from torch.utils.data import DataLoader, TensorDataset\n",
        "\n",
        "# Converting our test data to tensors if not already done\n",
        "# X_test_tensor = X_testy_test_tensor = torch.tensor(y_test.values, dtype=torch.long)\n",
        "X_test_tensor = torch.tensor(X_test, dtype=torch.long) # Assuming X_test is a list or a NumPy array\n",
        "#y_test_tensor = y_test_tensor[:5000]# Create TensorDataset and DataLoader\n",
        "test_dataset = TensorDataset(X_test_tensor, y_test_tensor)\n",
        "test_dataloader = DataLoader(test_dataset, batch_size=32)  # we can adjust the batch size\n",
        "\n",
        "# Get the device\n",
        "device = torch.device(\"cuda\" if torch.cuda.is_available() else \"cpu\")\n",
        "\n",
        "for batch in test_dataloader:\n",
        "    # Assuming batch[0] contains tokenized text data, convert it back to strings\n",
        "    # Iterate over each instance in the batch\n",
        "    texts = [tokenizer_biobert.decode(ids.tolist(), skip_special_tokens=True) for ids in batch[0]]\n",
        "    inputs = tokenizer_biobert(texts, return_tensors=\"pt\", truncation=True, padding=True, max_length=512)\n",
        "\n",
        "    # Move inputs to the device\n",
        "    inputs = inputs.to(device)\n",
        "\n",
        "    with torch.no_grad():\n",
        "        # Make sure the model is on the correct device\n",
        "        model_biobert.to(device)\n",
        "        outputs = model_biobert(**inputs)\n",
        "        predictions = torch.nn.functional.softmax(outputs.logits, dim=-1)[:, 1].cpu().numpy()\n",
        "        all_predictions.extend(predictions)\n",
        "        all_labels.extend(batch[1])\n",
        "\n",
        "y_true = np.array(all_labels)\n",
        "y_pred_proba = np.array(all_predictions)"
      ]
    },
    {
      "cell_type": "code",
      "execution_count": 483,
      "metadata": {},
      "outputs": [],
      "source": [
        "from sklearn.metrics import roc_curve, auc\n",
        "\n",
        "# Assuming `y_pred_proba` is the probability output from the model for the positive class\n",
        "fpr, tpr, thresholds = roc_curve(y_true, y_pred_proba)\n",
        "roc_auc = auc(fpr, tpr)\n",
        "# Finding the optimal threshold\n",
        "optimal_idx = np.argmax(tpr - fpr)\n"
      ]
    },
    {
      "cell_type": "code",
      "execution_count": 484,
      "metadata": {},
      "outputs": [
        {
          "data": {
            "image/png": "[encoded data removed]",
            "text/plain": [
              "<Figure size 640x480 with 1 Axes>"
            ]
          },
          "metadata": {},
          "output_type": "display_data"
        }
      ],
      "source": [
        "import matplotlib.pyplot as plt\n",
        "\n",
        "plt.figure()\n",
        "plt.plot(fpr, tpr, color='darkorange', lw=2, label='ROC curve (area = %0.2f)' % roc_auc)\n",
        "plt.plot([0, 1], [0, 1], color='navy', lw=2, linestyle='--')\n",
        "plt.xlim([0.0, 1.0])\n",
        "plt.ylim([0.0, 1.05])\n",
        "plt.xlabel('False Positive Rate')\n",
        "plt.ylabel('True Positive Rate')\n",
        "plt.title('Receiver Operating Characteristic')\n",
        "plt.legend(loc=\"lower right\")\n",
        "plt.show()\n"
      ]
    },
    {
      "cell_type": "code",
      "execution_count": 536,
      "metadata": {
        "colab": {
          "base_uri": "https://localhost:8080/",
          "height": 472
        },
        "id": "saVlyEAbeid7",
        "outputId": "43153f7f-5d25-44f2-f37b-6ced87f9fe64"
      },
      "outputs": [
        {
          "data": {
            "image/png": "[encoded data removed]",
            "text/plain": [
              "<Figure size 640x480 with 1 Axes>"
            ]
          },
          "metadata": {},
          "output_type": "display_data"
        }
      ],
      "source": [
        "from sklearn.metrics import precision_recall_curve\n",
        "import matplotlib.pyplot as plt\n",
        "\n",
        "# Calculate precision and recall\n",
        "precision, recall, thresholds = precision_recall_curve(y_true, y_pred_proba)\n",
        "\n",
        "# Plot the Precision-Recall curve\n",
        "plt.plot(recall, precision)\n",
        "plt.xlabel('Recall')\n",
        "plt.ylabel('Precision')\n",
        "plt.title('Precision-Recall Curve')\n",
        "plt.show()\n"
      ]
    },
    {
      "cell_type": "markdown",
      "metadata": {},
      "source": [
        "The Precision-Recall curve we've displayed measures the trade-off between precision and recall for different threshold settings. Here's a brief interpretation of what the graph depicts: <br>\n",
        "\n",
        "Precision: The ratio of correctly predicted positive observations to the total predicted positives. High precision indicates a low false positive rate. <br>\n",
        "Recall (Sensitivity): The ratio of correctly predicted positive observations to all actual positives. High recall indicates that most of the positive cases are caught. <br>\n",
        "**Key Observations from the Curve:** <br>\n",
        "**High Precision at Low Recall:** At the beginning of the curve, the precision is very high (close to 1.0), but the recall is very low. This suggests that if we set a high threshold for predicting positives, the model is very confident about its predictions, but it misses a lot of actual positive cases.\n",
        "**Precision Decline:** As recall increases (i.e., as the threshold is lowered and the model starts predicting more positives), precision declines. This shows that including more positive predictions leads to more false positives, lowering the precision.\n",
        "\n",
        "**Stabilization:** Towards the right end of the curve, both precision and recall stabilize but at lower levels of precision. This suggests that increasing recall beyond a certain point doesn’t lead to a substantial increase in false positives anymore, but the precision remains low."
      ]
    },
    {
      "cell_type": "code",
      "execution_count": 537,
      "metadata": {
        "id": "LWPCYKUOz8ZB"
      },
      "outputs": [],
      "source": [
        "# Get the predicted probabilities from the model\n",
        "with torch.no_grad():\n",
        "    outputs = model(input_ids=inputs['input_ids'], attention_mask=inputs['attention_mask'])\n",
        "\n",
        "    probabilities = torch.nn.functional.softmax(outputs.logits, dim=-1)\n",
        "\n",
        "# Assuming the positive class is at index 1, get the probabilities for that class\n",
        "probabilities = probabilities[:, 1]"
      ]
    },
    {
      "cell_type": "code",
      "execution_count": 538,
      "metadata": {},
      "outputs": [
        {
          "name": "stdout",
          "output_type": "stream",
          "text": [
            "Optimal threshold from PR curve: 0.0056593125\n",
            "Optimal threshold from ROC curve: 0.0069339215\n"
          ]
        },
        {
          "data": {
            "image/png": "[encoded data removed]",
            "text/plain": [
              "<Figure size 1000x500 with 2 Axes>"
            ]
          },
          "metadata": {},
          "output_type": "display_data"
        }
      ],
      "source": [
        "from sklearn.metrics import precision_recall_curve, roc_curve, auc\n",
        "\n",
        "# Calculate precision and recall for various thresholds\n",
        "precision, recall, thresholds_pr = precision_recall_curve(y_true, y_pred_proba)\n",
        "f1_scores = 2 * recall * precision / (recall + precision)\n",
        "optimal_idx = np.nanargmax(f1_scores)\n",
        "optimal_threshold_pr = thresholds_pr[optimal_idx]\n",
        "\n",
        "# Calculate ROC curve\n",
        "fpr, tpr, thresholds_roc = roc_curve(y_true, y_pred_proba)\n",
        "optimal_idx_roc = np.argmax(tpr - fpr)\n",
        "optimal_threshold_roc = thresholds_roc[optimal_idx_roc]\n",
        "\n",
        "print(\"Optimal threshold from PR curve:\", optimal_threshold_pr)\n",
        "print(\"Optimal threshold from ROC curve:\", optimal_threshold_roc)\n",
        "\n",
        "# Plotting the curves (optional)\n",
        "import matplotlib.pyplot as plt\n",
        "\n",
        "# Precision-Recall Curve\n",
        "plt.figure(figsize=(10, 5))\n",
        "plt.subplot(1, 2, 1)\n",
        "plt.plot(recall, precision, marker='.')\n",
        "plt.title('Precision-Recall curve')\n",
        "plt.xlabel('Recall')\n",
        "plt.ylabel('Precision')\n",
        "plt.scatter(recall[optimal_idx], precision[optimal_idx], color='red')  # Optimal point\n",
        "\n",
        "# ROC Curve\n",
        "plt.subplot(1, 2, 2)\n",
        "plt.plot(fpr, tpr, marker='.')\n",
        "plt.title('ROC curve')\n",
        "plt.xlabel('False Positive Rate')\n",
        "plt.ylabel('True Positive Rate')\n",
        "plt.scatter(fpr[optimal_idx_roc], tpr[optimal_idx_roc], color='red')  # Optimal point\n",
        "plt.show()\n"
      ]
    },
    {
      "cell_type": "markdown",
      "metadata": {},
      "source": [
        "This curve visualizes the trade-off between precision and recall for different threshold values. It's particularly useful when dealing with imbalanced datasets, where one class is much more frequent than the other.\n",
        "\n",
        "Precision: The proportion of true positives (correctly predicted positive samples) among all positive predictions.\n",
        "Recall (Sensitivity or True Positive Rate): The proportion of true positives out of the actual positives.\n",
        "\n",
        "Precision-Recall Curve: The curve shows that our model has difficulty balancing precision and recall, and precision drops off sharply as recall increases.\n",
        "ROC Curve: The ROC curve stays fairly close to the diagonal, suggesting that the model's ability to distinguish between the classes is not very strong."
      ]
    },
    {
      "cell_type": "markdown",
      "metadata": {},
      "source": [
        "We are going to save the predictions and probabilities into a CSV file should be sufficient for loading into the next lime_shap_analysis.ipynb file for further exploration. "
      ]
    },
    {
      "cell_type": "code",
      "execution_count": null,
      "metadata": {},
      "outputs": [],
      "source": [
        "import torch.nn.functional as F\n",
        "import pandas as pd\n",
        "\n",
        "# Ensure that the model is on the correct device (CPU or GPU)\n",
        "model_biobert.to(device)\n",
        "\n",
        "# List to store the probabilities\n",
        "probabilities = []\n",
        "\n",
        "# Assuming predictions are stored in `predictions` list\n",
        "for batch in data_loader:\n",
        "    inputs, labels = batch  # Assuming `batch` is a tuple of (inputs, labels)\n",
        "    \n",
        "    # Ensure inputs is a dictionary with the necessary keys\n",
        "    if isinstance(inputs, torch.Tensor):\n",
        "        # If inputs is a tensor, convert it into a dictionary with the required keys\n",
        "        inputs = {'input_ids': inputs.to(device)}  # Add other keys if needed\n",
        "    else:\n",
        "        # Move inputs to device if already a dictionary\n",
        "        inputs = {key: value.to(device) for key, value in inputs.items()}\n",
        "    \n",
        "    labels = labels.to(device)  # Move labels to device\n",
        "\n",
        "    # Forward pass through the model\n",
        "    outputs = model_biobert(**inputs)\n",
        "\n",
        "    # Apply softmax to get class probabilities\n",
        "    probs = F.softmax(outputs.logits, dim=1)  # Logits to probabilities\n",
        "    probabilities.extend(probs.cpu())  # Move probabilities to CPU and store them\n",
        "\n",
        "# Create a DataFrame with the probabilities and predictions\n",
        "predictions_df = pd.DataFrame({\n",
        "    'Predictions': predictions,\n",
        "    'Probabilities_Class_0': [prob[0].item() for prob in probabilities],  # Class 0 probabilities\n",
        "    'Probabilities_Class_1': [prob[1].item() for prob in probabilities]   # Class 1 probabilities\n",
        "})\n",
        "\n",
        "# Save to CSV\n",
        "predictions_df.to_csv('predictions_probabilities.csv', index=False)\n"
      ]
    },
    {
      "cell_type": "markdown",
      "metadata": {},
      "source": [
        "Due to crash of kernel, not able to save these results here.. "
      ]
    },
    {
      "cell_type": "code",
      "execution_count": null,
      "metadata": {},
      "outputs": [],
      "source": [
        "df = pd.DataFrame({\n",
        "    'Input_Text': texts,\n",
        "    'Clean_Text': [CLEAN_TEXT(text) for text in texts],  # Cleaned version of input texts\n",
        "    'Readmission_Prediction': predictions,\n",
        "    'Probability': [max(prob) for prob in probabilities],  # Max probability\n",
        "    'Actual_Label': true_labels\n",
        "})\n",
        "\n",
        "# Save to CSV\n",
        "df.to_csv('predictions_with_explanations.csv', index=False)"
      ]
    },
    {
      "cell_type": "code",
      "execution_count": 541,
      "metadata": {},
      "outputs": [
        {
          "name": "stdout",
          "output_type": "stream",
          "text": [
            "              precision    recall  f1-score   support\n",
            "\n",
            "           0       0.70      0.84      0.76      5736\n",
            "           1       0.29      0.16      0.21      2430\n",
            "\n",
            "    accuracy                           0.63      8166\n",
            "   macro avg       0.50      0.50      0.49      8166\n",
            "weighted avg       0.58      0.63      0.60      8166\n",
            "\n"
          ]
        }
      ],
      "source": [
        "from sklearn.metrics import classification_report\n",
        "\n",
        "\n",
        "# Assuming the predictions are made for the entire dataset\n",
        "test_predictions = readmission_predictions[len(X_train):]\n",
        "\n",
        "# Now check the length to make sure they match\n",
        "y_test_subset = y_test[:len(test_predictions)]\n",
        "\n",
        "from sklearn.metrics import classification_report\n",
        "print(classification_report(y_test_subset, test_predictions))\n"
      ]
    },
    {
      "cell_type": "code",
      "execution_count": 542,
      "metadata": {},
      "outputs": [
        {
          "data": {
            "image/png": "[encoded data removed]",
            "text/plain": [
              "<Figure size 640x480 with 2 Axes>"
            ]
          },
          "metadata": {},
          "output_type": "display_data"
        }
      ],
      "source": [
        "from sklearn.metrics import confusion_matrix\n",
        "import seaborn as sns\n",
        "import matplotlib.pyplot as plt\n",
        "\n",
        "cm = confusion_matrix(y_test, test_predictions)\n",
        "sns.heatmap(cm, annot=True, fmt=\"d\")\n",
        "plt.xlabel('Predicted')\n",
        "plt.ylabel('True')\n",
        "plt.title('Confusion Matrix')\n",
        "plt.show()\n"
      ]
    },
    {
      "attachments": {
        "image-2.png": {
          "image/png": "[encoded data removed]"
        },
        "image.png": {
          "image/png": "[encoded data removed]"
        }
      },
      "cell_type": "markdown",
      "metadata": {
        "id": "NZkV8m8Bn5VZ"
      },
      "source": [
        "Our model performs well on the majority class (class 0) but poorly on the minority class (class 1). <br>\n",
        "A confusion matrix is a summary of prediction results on a classification problem. The numbers in the matrix show how many instances were correctly or incorrectly classified by the model. <br>\n",
        "\n",
        "**Our Confusion Matrix:**\n",
        "Predicted: 0 (Negative Class)\tPredicted: 1 (Positive Class)   \n",
        "            True: 0\t4792\t944 <br>\n",
        "            True: 1\t2037\t393 <br>\n",
        "\n",
        "\n",
        "**Interpretation:**\n",
        "True Positive (TP) = 393: These are cases where the true label was 1 (positive class), and the model also predicted 1. <br>\n",
        "True Negative (TN) = 4792: These are cases where the true label was 0 (negative class), and the model predicted 0. <br>\n",
        "False Positive (FP) = 944: These are cases where the true label was 0, but the model predicted 1. This is also known as a Type I error. <br>\n",
        "False Negative (FN) = 2037: These are cases where the true label was 1, but the model predicted 0. This is known as a Type II error. <br>\n",
        "Classification Metrics:\n",
        "Now let's go over the metrics from our classification report. \n",
        "\n",
        "\n",
        "#### Precision:\n",
        "\n",
        "Precision tells us what proportion of predicted positive instances were actually positive. It is calculated as:\n",
        "\n",
        "\n",
        "![image.png](attachment:image.png)\n",
        "​\n",
        " \n",
        "### F1 for Class 0: 0.76 <br>\n",
        "### F1 for Class 1: 0.21 <br>\n",
        "\n",
        "#### Accuracy:\n",
        "\n",
        "![image-2.png](attachment:image-2.png)\n",
        "\n",
        "\n",
        "In our case, the model's accuracy is 63%, meaning the model correctly classified 63% of the total instances. <br>\n",
        "#### Macro Average:\n",
        "Macro avg gives equal weight to each class when calculating the average of the metrics (precision, recall, F1). It’s useful when the classes are imbalanced, but it doesn't account for class frequency.\n",
        "\n",
        "#### Weighted Average:\n",
        "\n",
        "Weighted avg considers the support (number of true instances) of each class to calculate the average metrics. This accounts for class imbalance, making it more reflective of the overall model performance across classes.\n",
        "\n",
        "#### Insights:\n",
        "\n",
        "**Imbalanced Classes:** The metrics suggest a possible class imbalance problem. There are many more instances of class 0 (negative class) than class 1 (positive class). The model is performing well on class 0, but poorly on class 1. <br>\n",
        "\n",
        "**High False Negatives:** There are a large number of false negatives (2037 instances), which indicates that the model is missing a significant number of actual positive instances.<br>\n",
        "\n",
        "**Low Recall for Class 1:** A recall of 0.16 for class 1 indicates that the model is not doing well in identifying true positives (class 1 instances).<br>\n",
        "\n",
        "We could try adjusting the decision threshold for classifying positive samples. Consider using techniques like cross-validation to tune hyperparameters would work better for this."
      ]
    },
    {
      "cell_type": "markdown",
      "metadata": {
        "id": "ed41zNyVpPWf"
      },
      "source": [
        "The notebook focuses on developing predictive models to forecast patient readmissions based on clinical text data. It incorporates a sequence of preprocessing steps, model training, and evaluation techniques, primarily leveraging deep learning models like BioBERT to analyze text data formatted for binary classification tasks."
      ]
    },
    {
      "cell_type": "markdown",
      "metadata": {
        "id": "Lclfjse9pnOY"
      },
      "source": [
        "### Model Comparisons:\n",
        "**BioBERT Model:**\n",
        "\n",
        "**Strengths:** Showed substantial promise in understanding the semantic and contextual nuances of clinical texts, given its specialized pre-training on biomedical literature.\n",
        "**Performance Metrics:** While specific numbers were not detailed earlier, BioBERT typically achieves higher precision and recall in biomedical NLP tasks, indicating its potential robustness and accuracy in this application.\n",
        "\n",
        "**BERT Model:**\n",
        "\n",
        "**Performance:** This model also leveraged contextual embeddings to predict patient readmissions but was trained on general language, which might limit its effectiveness compared to BioBERT in a strictly biomedical context.\n",
        "**Evaluation Results:** The results showed a moderate AUC-ROC score, but with a precision-recall curve that suggested a significant trade-off between precision and recall when adjusting thresholds.\n",
        "Threshold Adjustments and Class Imbalance Handling:\n",
        "\n",
        "**General Observations:** Both models were adjusted for threshold settings to optimize the balance between precision and recall. Techniques to handle class imbalance were also implemented, which is critical in medical datasets where the outcome class (readmissions) could be significantly outnumbered by the non-readmissions.\n",
        "**Precision-Recall Curve Analysis:**\n",
        "\n",
        "The curves provided insight into each model's capability to maintain precision with increasing recall. A desirable model would maintain higher precision across a range of recall values, indicating robustness in identifying true positives without increasing false positives.\n",
        "\n",
        "**Concluding Remarks on Model Performance:**\n",
        "**BioBERT:** Likely the superior model for this task due to its specialized training and higher adaptability to medical texts. If the precision and recall metrics were sustainably higher than those of BERT, especially after handling class imbalance and threshold adjustments, it would be the recommended model.\n",
        "\n",
        "**BERT:** While effective, its general training corpus might not capture the specialized language and nuances of clinical notes as effectively as BioBERT. It serves as a robust baseline, but for specialized tasks in biomedical fields, BioBERT generally outperforms.\n",
        "\n",
        "### Recommendation:\n",
        "Considering the application involves clinical text data, BioBERT is the recommended model due to its specialization and likely superior performance metrics in this domain. It is particularly adept at handling the complexities and terminology specific to biomedical texts, which likely translates to better performance metrics and more reliable predictions in this context.\n",
        "\n",
        "### Next Steps:\n",
        "To finalize the choice, detailed comparisons of metrics such as F1-scores, AUC-ROC values, and precision-recall trade-offs should be examined explicitly. Furthermore, the interpretability of the model predictions via LIME and SHAP will also provide insights into the predictive features and help in validating the model's decisions, ensuring that the deployment in clinical settings is both effective and explainable. This step will not only confirm the model's efficacy but also build trust among the end-users by clarifying the model's decision-making process."
      ]
    }
  ],
  "metadata": {
    "accelerator": "GPU",
    "colab": {
      "gpuType": "A100",
      "include_colab_link": true,
      "machine_shape": "hm",
      "provenance": []
    },
    "kernelspec": {
      "display_name": "Python 3",
      "name": "python3"
    },
    "language_info": {
      "codemirror_mode": {
        "name": "ipython",
        "version": 3
      },
      "file_extension": ".py",
      "mimetype": "text/x-python",
      "name": "python",
      "nbconvert_exporter": "python",
      "pygments_lexer": "ipython3",
      "version": "3.8.18"
    },
    "widgets": {
      "application/vnd.jupyter.widget-state+json": {
        "0622460d9ef04297877f2cbee7d765e8": {
          "model_module": "@jupyter-widgets/base",
          "model_module_version": "1.2.0",
          "model_name": "LayoutModel",
          "state": {
            "_model_module": "@jupyter-widgets/base",
            "_model_module_version": "1.2.0",
            "_model_name": "LayoutModel",
            "_view_count": null,
            "_view_module": "@jupyter-widgets/base",
            "_view_module_version": "1.2.0",
            "_view_name": "LayoutView",
            "align_content": null,
            "align_items": null,
            "align_self": null,
            "border": null,
            "bottom": null,
            "display": null,
            "flex": null,
            "flex_flow": null,
            "grid_area": null,
            "grid_auto_columns": null,
            "grid_auto_flow": null,
            "grid_auto_rows": null,
            "grid_column": null,
            "grid_gap": null,
            "grid_row": null,
            "grid_template_areas": null,
            "grid_template_columns": null,
            "grid_template_rows": null,
            "height": null,
            "justify_content": null,
            "justify_items": null,
            "left": null,
            "margin": null,
            "max_height": null,
            "max_width": null,
            "min_height": null,
            "min_width": null,
            "object_fit": null,
            "object_position": null,
            "order": null,
            "overflow": null,
            "overflow_x": null,
            "overflow_y": null,
            "padding": null,
            "right": null,
            "top": null,
            "visibility": null,
            "width": null
          }
        },
        "073d9c268e4b4a3abad209ae0cad00f2": {
          "model_module": "@jupyter-widgets/base",
          "model_module_version": "1.2.0",
          "model_name": "LayoutModel",
          "state": {
            "_model_module": "@jupyter-widgets/base",
            "_model_module_version": "1.2.0",
            "_model_name": "LayoutModel",
            "_view_count": null,
            "_view_module": "@jupyter-widgets/base",
            "_view_module_version": "1.2.0",
            "_view_name": "LayoutView",
            "align_content": null,
            "align_items": null,
            "align_self": null,
            "border": null,
            "bottom": null,
            "display": null,
            "flex": null,
            "flex_flow": null,
            "grid_area": null,
            "grid_auto_columns": null,
            "grid_auto_flow": null,
            "grid_auto_rows": null,
            "grid_column": null,
            "grid_gap": null,
            "grid_row": null,
            "grid_template_areas": null,
            "grid_template_columns": null,
            "grid_template_rows": null,
            "height": null,
            "justify_content": null,
            "justify_items": null,
            "left": null,
            "margin": null,
            "max_height": null,
            "max_width": null,
            "min_height": null,
            "min_width": null,
            "object_fit": null,
            "object_position": null,
            "order": null,
            "overflow": null,
            "overflow_x": null,
            "overflow_y": null,
            "padding": null,
            "right": null,
            "top": null,
            "visibility": null,
            "width": null
          }
        },
        "07b426393c494601bbadff2cf43f0831": {
          "model_module": "@jupyter-widgets/controls",
          "model_module_version": "1.5.0",
          "model_name": "ProgressStyleModel",
          "state": {
            "_model_module": "@jupyter-widgets/controls",
            "_model_module_version": "1.5.0",
            "_model_name": "ProgressStyleModel",
            "_view_count": null,
            "_view_module": "@jupyter-widgets/base",
            "_view_module_version": "1.2.0",
            "_view_name": "StyleView",
            "bar_color": null,
            "description_width": ""
          }
        },
        "0d3b200e4d4b44be9ccba5721a284731": {
          "model_module": "@jupyter-widgets/base",
          "model_module_version": "1.2.0",
          "model_name": "LayoutModel",
          "state": {
            "_model_module": "@jupyter-widgets/base",
            "_model_module_version": "1.2.0",
            "_model_name": "LayoutModel",
            "_view_count": null,
            "_view_module": "@jupyter-widgets/base",
            "_view_module_version": "1.2.0",
            "_view_name": "LayoutView",
            "align_content": null,
            "align_items": null,
            "align_self": null,
            "border": null,
            "bottom": null,
            "display": null,
            "flex": null,
            "flex_flow": null,
            "grid_area": null,
            "grid_auto_columns": null,
            "grid_auto_flow": null,
            "grid_auto_rows": null,
            "grid_column": null,
            "grid_gap": null,
            "grid_row": null,
            "grid_template_areas": null,
            "grid_template_columns": null,
            "grid_template_rows": null,
            "height": null,
            "justify_content": null,
            "justify_items": null,
            "left": null,
            "margin": null,
            "max_height": null,
            "max_width": null,
            "min_height": null,
            "min_width": null,
            "object_fit": null,
            "object_position": null,
            "order": null,
            "overflow": null,
            "overflow_x": null,
            "overflow_y": null,
            "padding": null,
            "right": null,
            "top": null,
            "visibility": null,
            "width": null
          }
        },
        "0efbe2b6bcc541a08e8b903b92808e31": {
          "model_module": "@jupyter-widgets/controls",
          "model_module_version": "1.5.0",
          "model_name": "DescriptionStyleModel",
          "state": {
            "_model_module": "@jupyter-widgets/controls",
            "_model_module_version": "1.5.0",
            "_model_name": "DescriptionStyleModel",
            "_view_count": null,
            "_view_module": "@jupyter-widgets/base",
            "_view_module_version": "1.2.0",
            "_view_name": "StyleView",
            "description_width": ""
          }
        },
        "112d92217a63494aa2425e54d0c1e32c": {
          "model_module": "@jupyter-widgets/base",
          "model_module_version": "1.2.0",
          "model_name": "LayoutModel",
          "state": {
            "_model_module": "@jupyter-widgets/base",
            "_model_module_version": "1.2.0",
            "_model_name": "LayoutModel",
            "_view_count": null,
            "_view_module": "@jupyter-widgets/base",
            "_view_module_version": "1.2.0",
            "_view_name": "LayoutView",
            "align_content": null,
            "align_items": null,
            "align_self": null,
            "border": null,
            "bottom": null,
            "display": null,
            "flex": null,
            "flex_flow": null,
            "grid_area": null,
            "grid_auto_columns": null,
            "grid_auto_flow": null,
            "grid_auto_rows": null,
            "grid_column": null,
            "grid_gap": null,
            "grid_row": null,
            "grid_template_areas": null,
            "grid_template_columns": null,
            "grid_template_rows": null,
            "height": null,
            "justify_content": null,
            "justify_items": null,
            "left": null,
            "margin": null,
            "max_height": null,
            "max_width": null,
            "min_height": null,
            "min_width": null,
            "object_fit": null,
            "object_position": null,
            "order": null,
            "overflow": null,
            "overflow_x": null,
            "overflow_y": null,
            "padding": null,
            "right": null,
            "top": null,
            "visibility": null,
            "width": null
          }
        },
        "126a62e9cd864445acf5fe4aa828982f": {
          "model_module": "@jupyter-widgets/controls",
          "model_module_version": "1.5.0",
          "model_name": "FloatProgressModel",
          "state": {
            "_dom_classes": [],
            "_model_module": "@jupyter-widgets/controls",
            "_model_module_version": "1.5.0",
            "_model_name": "FloatProgressModel",
            "_view_count": null,
            "_view_module": "@jupyter-widgets/controls",
            "_view_module_version": "1.5.0",
            "_view_name": "ProgressView",
            "bar_style": "success",
            "description": "",
            "description_tooltip": null,
            "layout": "IPY_MODEL_178288f224624e1a89d42ef8654f71ad",
            "max": 40826,
            "min": 0,
            "orientation": "horizontal",
            "style": "IPY_MODEL_7eb735c5f680429893a48c3e4711a2c0",
            "value": 40826
          }
        },
        "127043e8036a49c3817debf0f9fd43e6": {
          "model_module": "@jupyter-widgets/base",
          "model_module_version": "1.2.0",
          "model_name": "LayoutModel",
          "state": {
            "_model_module": "@jupyter-widgets/base",
            "_model_module_version": "1.2.0",
            "_model_name": "LayoutModel",
            "_view_count": null,
            "_view_module": "@jupyter-widgets/base",
            "_view_module_version": "1.2.0",
            "_view_name": "LayoutView",
            "align_content": null,
            "align_items": null,
            "align_self": null,
            "border": null,
            "bottom": null,
            "display": null,
            "flex": null,
            "flex_flow": null,
            "grid_area": null,
            "grid_auto_columns": null,
            "grid_auto_flow": null,
            "grid_auto_rows": null,
            "grid_column": null,
            "grid_gap": null,
            "grid_row": null,
            "grid_template_areas": null,
            "grid_template_columns": null,
            "grid_template_rows": null,
            "height": null,
            "justify_content": null,
            "justify_items": null,
            "left": null,
            "margin": null,
            "max_height": null,
            "max_width": null,
            "min_height": null,
            "min_width": null,
            "object_fit": null,
            "object_position": null,
            "order": null,
            "overflow": null,
            "overflow_x": null,
            "overflow_y": null,
            "padding": null,
            "right": null,
            "top": null,
            "visibility": null,
            "width": null
          }
        },
        "1389fae53dd947058c115f80c94af6e1": {
          "model_module": "@jupyter-widgets/controls",
          "model_module_version": "1.5.0",
          "model_name": "HTMLModel",
          "state": {
            "_dom_classes": [],
            "_model_module": "@jupyter-widgets/controls",
            "_model_module_version": "1.5.0",
            "_model_name": "HTMLModel",
            "_view_count": null,
            "_view_module": "@jupyter-widgets/controls",
            "_view_module_version": "1.5.0",
            "_view_name": "HTMLView",
            "description": "",
            "description_tooltip": null,
            "layout": "IPY_MODEL_9918938e1190493f81034bdf11eaf697",
            "placeholder": "​",
            "style": "IPY_MODEL_983a121678044a1195f1524470e8a599",
            "value": "Map: 100%"
          }
        },
        "140bf275bf084464a3cb9c19978afe59": {
          "model_module": "@jupyter-widgets/controls",
          "model_module_version": "1.5.0",
          "model_name": "HTMLModel",
          "state": {
            "_dom_classes": [],
            "_model_module": "@jupyter-widgets/controls",
            "_model_module_version": "1.5.0",
            "_model_name": "HTMLModel",
            "_view_count": null,
            "_view_module": "@jupyter-widgets/controls",
            "_view_module_version": "1.5.0",
            "_view_name": "HTMLView",
            "description": "",
            "description_tooltip": null,
            "layout": "IPY_MODEL_dbf813d97aea47c1af7ae29ee175ca2a",
            "placeholder": "​",
            "style": "IPY_MODEL_4e6b5ef7b93d4a2b96fc1c5f1edda223",
            "value": "tokenizer.json: 100%"
          }
        },
        "14f54e7774c941c5a5178fafda442404": {
          "model_module": "@jupyter-widgets/controls",
          "model_module_version": "1.5.0",
          "model_name": "HBoxModel",
          "state": {
            "_dom_classes": [],
            "_model_module": "@jupyter-widgets/controls",
            "_model_module_version": "1.5.0",
            "_model_name": "HBoxModel",
            "_view_count": null,
            "_view_module": "@jupyter-widgets/controls",
            "_view_module_version": "1.5.0",
            "_view_name": "HBoxView",
            "box_style": "",
            "children": [
              "IPY_MODEL_140bf275bf084464a3cb9c19978afe59",
              "IPY_MODEL_3b4d70fd89714cbebc9e05ef78c521a7",
              "IPY_MODEL_4bbf59bbc3d34cc980c940234247b171"
            ],
            "layout": "IPY_MODEL_33285f0e2891470fb234c3d8bbcb96bf"
          }
        },
        "15958459440b4f619598338a8ce8aae5": {
          "model_module": "@jupyter-widgets/base",
          "model_module_version": "1.2.0",
          "model_name": "LayoutModel",
          "state": {
            "_model_module": "@jupyter-widgets/base",
            "_model_module_version": "1.2.0",
            "_model_name": "LayoutModel",
            "_view_count": null,
            "_view_module": "@jupyter-widgets/base",
            "_view_module_version": "1.2.0",
            "_view_name": "LayoutView",
            "align_content": null,
            "align_items": null,
            "align_self": null,
            "border": null,
            "bottom": null,
            "display": null,
            "flex": null,
            "flex_flow": null,
            "grid_area": null,
            "grid_auto_columns": null,
            "grid_auto_flow": null,
            "grid_auto_rows": null,
            "grid_column": null,
            "grid_gap": null,
            "grid_row": null,
            "grid_template_areas": null,
            "grid_template_columns": null,
            "grid_template_rows": null,
            "height": null,
            "justify_content": null,
            "justify_items": null,
            "left": null,
            "margin": null,
            "max_height": null,
            "max_width": null,
            "min_height": null,
            "min_width": null,
            "object_fit": null,
            "object_position": null,
            "order": null,
            "overflow": null,
            "overflow_x": null,
            "overflow_y": null,
            "padding": null,
            "right": null,
            "top": null,
            "visibility": null,
            "width": null
          }
        },
        "178288f224624e1a89d42ef8654f71ad": {
          "model_module": "@jupyter-widgets/base",
          "model_module_version": "1.2.0",
          "model_name": "LayoutModel",
          "state": {
            "_model_module": "@jupyter-widgets/base",
            "_model_module_version": "1.2.0",
            "_model_name": "LayoutModel",
            "_view_count": null,
            "_view_module": "@jupyter-widgets/base",
            "_view_module_version": "1.2.0",
            "_view_name": "LayoutView",
            "align_content": null,
            "align_items": null,
            "align_self": null,
            "border": null,
            "bottom": null,
            "display": null,
            "flex": null,
            "flex_flow": null,
            "grid_area": null,
            "grid_auto_columns": null,
            "grid_auto_flow": null,
            "grid_auto_rows": null,
            "grid_column": null,
            "grid_gap": null,
            "grid_row": null,
            "grid_template_areas": null,
            "grid_template_columns": null,
            "grid_template_rows": null,
            "height": null,
            "justify_content": null,
            "justify_items": null,
            "left": null,
            "margin": null,
            "max_height": null,
            "max_width": null,
            "min_height": null,
            "min_width": null,
            "object_fit": null,
            "object_position": null,
            "order": null,
            "overflow": null,
            "overflow_x": null,
            "overflow_y": null,
            "padding": null,
            "right": null,
            "top": null,
            "visibility": null,
            "width": null
          }
        },
        "1f81416d66b141f0aa3aa76f0db7470a": {
          "model_module": "@jupyter-widgets/base",
          "model_module_version": "1.2.0",
          "model_name": "LayoutModel",
          "state": {
            "_model_module": "@jupyter-widgets/base",
            "_model_module_version": "1.2.0",
            "_model_name": "LayoutModel",
            "_view_count": null,
            "_view_module": "@jupyter-widgets/base",
            "_view_module_version": "1.2.0",
            "_view_name": "LayoutView",
            "align_content": null,
            "align_items": null,
            "align_self": null,
            "border": null,
            "bottom": null,
            "display": null,
            "flex": null,
            "flex_flow": null,
            "grid_area": null,
            "grid_auto_columns": null,
            "grid_auto_flow": null,
            "grid_auto_rows": null,
            "grid_column": null,
            "grid_gap": null,
            "grid_row": null,
            "grid_template_areas": null,
            "grid_template_columns": null,
            "grid_template_rows": null,
            "height": null,
            "justify_content": null,
            "justify_items": null,
            "left": null,
            "margin": null,
            "max_height": null,
            "max_width": null,
            "min_height": null,
            "min_width": null,
            "object_fit": null,
            "object_position": null,
            "order": null,
            "overflow": null,
            "overflow_x": null,
            "overflow_y": null,
            "padding": null,
            "right": null,
            "top": null,
            "visibility": null,
            "width": null
          }
        },
        "1f8bba68e6964304bee86a149a3305f5": {
          "model_module": "@jupyter-widgets/controls",
          "model_module_version": "1.5.0",
          "model_name": "HTMLModel",
          "state": {
            "_dom_classes": [],
            "_model_module": "@jupyter-widgets/controls",
            "_model_module_version": "1.5.0",
            "_model_name": "HTMLModel",
            "_view_count": null,
            "_view_module": "@jupyter-widgets/controls",
            "_view_module_version": "1.5.0",
            "_view_name": "HTMLView",
            "description": "",
            "description_tooltip": null,
            "layout": "IPY_MODEL_ce2892599e91448aa35fc4f706eef8da",
            "placeholder": "​",
            "style": "IPY_MODEL_9ed0789713294feab97f9e3515a793de",
            "value": " 313/313 [00:00&lt;00:00, 22.5kB/s]"
          }
        },
        "22f0edb54fa94311b762ff1c7ca37875": {
          "model_module": "@jupyter-widgets/base",
          "model_module_version": "1.2.0",
          "model_name": "LayoutModel",
          "state": {
            "_model_module": "@jupyter-widgets/base",
            "_model_module_version": "1.2.0",
            "_model_name": "LayoutModel",
            "_view_count": null,
            "_view_module": "@jupyter-widgets/base",
            "_view_module_version": "1.2.0",
            "_view_name": "LayoutView",
            "align_content": null,
            "align_items": null,
            "align_self": null,
            "border": null,
            "bottom": null,
            "display": null,
            "flex": null,
            "flex_flow": null,
            "grid_area": null,
            "grid_auto_columns": null,
            "grid_auto_flow": null,
            "grid_auto_rows": null,
            "grid_column": null,
            "grid_gap": null,
            "grid_row": null,
            "grid_template_areas": null,
            "grid_template_columns": null,
            "grid_template_rows": null,
            "height": null,
            "justify_content": null,
            "justify_items": null,
            "left": null,
            "margin": null,
            "max_height": null,
            "max_width": null,
            "min_height": null,
            "min_width": null,
            "object_fit": null,
            "object_position": null,
            "order": null,
            "overflow": null,
            "overflow_x": null,
            "overflow_y": null,
            "padding": null,
            "right": null,
            "top": null,
            "visibility": null,
            "width": null
          }
        },
        "24025b145a464723840a147d4c1c1d4f": {
          "model_module": "@jupyter-widgets/controls",
          "model_module_version": "1.5.0",
          "model_name": "HBoxModel",
          "state": {
            "_dom_classes": [],
            "_model_module": "@jupyter-widgets/controls",
            "_model_module_version": "1.5.0",
            "_model_name": "HBoxModel",
            "_view_count": null,
            "_view_module": "@jupyter-widgets/controls",
            "_view_module_version": "1.5.0",
            "_view_name": "HBoxView",
            "box_style": "",
            "children": [
              "IPY_MODEL_aef27c9c9ac84d25acfa907878cd36f5",
              "IPY_MODEL_50299d836f6c45de9b980b568aee5c5c",
              "IPY_MODEL_e4cac4eb27e144a49516f1a92cc63cb7"
            ],
            "layout": "IPY_MODEL_536f1905a1e64ba696d8f5472abc4fed"
          }
        },
        "25f104cf23df4be8ba3d8c5da62f09d5": {
          "model_module": "@jupyter-widgets/base",
          "model_module_version": "1.2.0",
          "model_name": "LayoutModel",
          "state": {
            "_model_module": "@jupyter-widgets/base",
            "_model_module_version": "1.2.0",
            "_model_name": "LayoutModel",
            "_view_count": null,
            "_view_module": "@jupyter-widgets/base",
            "_view_module_version": "1.2.0",
            "_view_name": "LayoutView",
            "align_content": null,
            "align_items": null,
            "align_self": null,
            "border": null,
            "bottom": null,
            "display": null,
            "flex": null,
            "flex_flow": null,
            "grid_area": null,
            "grid_auto_columns": null,
            "grid_auto_flow": null,
            "grid_auto_rows": null,
            "grid_column": null,
            "grid_gap": null,
            "grid_row": null,
            "grid_template_areas": null,
            "grid_template_columns": null,
            "grid_template_rows": null,
            "height": null,
            "justify_content": null,
            "justify_items": null,
            "left": null,
            "margin": null,
            "max_height": null,
            "max_width": null,
            "min_height": null,
            "min_width": null,
            "object_fit": null,
            "object_position": null,
            "order": null,
            "overflow": null,
            "overflow_x": null,
            "overflow_y": null,
            "padding": null,
            "right": null,
            "top": null,
            "visibility": null,
            "width": null
          }
        },
        "2ca394cb6b904aaca4949a7c1e1b9fde": {
          "model_module": "@jupyter-widgets/controls",
          "model_module_version": "1.5.0",
          "model_name": "HTMLModel",
          "state": {
            "_dom_classes": [],
            "_model_module": "@jupyter-widgets/controls",
            "_model_module_version": "1.5.0",
            "_model_name": "HTMLModel",
            "_view_count": null,
            "_view_module": "@jupyter-widgets/controls",
            "_view_module_version": "1.5.0",
            "_view_name": "HTMLView",
            "description": "",
            "description_tooltip": null,
            "layout": "IPY_MODEL_112d92217a63494aa2425e54d0c1e32c",
            "placeholder": "​",
            "style": "IPY_MODEL_fa9e0cbc89734c8b8e861b1dd3980768",
            "value": "vocab.txt: 100%"
          }
        },
        "2f4a77ac5cbb4c3d8b4538992a5a0f46": {
          "model_module": "@jupyter-widgets/controls",
          "model_module_version": "1.5.0",
          "model_name": "HTMLModel",
          "state": {
            "_dom_classes": [],
            "_model_module": "@jupyter-widgets/controls",
            "_model_module_version": "1.5.0",
            "_model_name": "HTMLModel",
            "_view_count": null,
            "_view_module": "@jupyter-widgets/controls",
            "_view_module_version": "1.5.0",
            "_view_name": "HTMLView",
            "description": "",
            "description_tooltip": null,
            "layout": "IPY_MODEL_15958459440b4f619598338a8ce8aae5",
            "placeholder": "​",
            "style": "IPY_MODEL_0efbe2b6bcc541a08e8b903b92808e31",
            "value": "tokenizer_config.json: 100%"
          }
        },
        "31bce2366e454360a26ebdbd90a95fa7": {
          "model_module": "@jupyter-widgets/base",
          "model_module_version": "1.2.0",
          "model_name": "LayoutModel",
          "state": {
            "_model_module": "@jupyter-widgets/base",
            "_model_module_version": "1.2.0",
            "_model_name": "LayoutModel",
            "_view_count": null,
            "_view_module": "@jupyter-widgets/base",
            "_view_module_version": "1.2.0",
            "_view_name": "LayoutView",
            "align_content": null,
            "align_items": null,
            "align_self": null,
            "border": null,
            "bottom": null,
            "display": null,
            "flex": null,
            "flex_flow": null,
            "grid_area": null,
            "grid_auto_columns": null,
            "grid_auto_flow": null,
            "grid_auto_rows": null,
            "grid_column": null,
            "grid_gap": null,
            "grid_row": null,
            "grid_template_areas": null,
            "grid_template_columns": null,
            "grid_template_rows": null,
            "height": null,
            "justify_content": null,
            "justify_items": null,
            "left": null,
            "margin": null,
            "max_height": null,
            "max_width": null,
            "min_height": null,
            "min_width": null,
            "object_fit": null,
            "object_position": null,
            "order": null,
            "overflow": null,
            "overflow_x": null,
            "overflow_y": null,
            "padding": null,
            "right": null,
            "top": null,
            "visibility": null,
            "width": null
          }
        },
        "33285f0e2891470fb234c3d8bbcb96bf": {
          "model_module": "@jupyter-widgets/base",
          "model_module_version": "1.2.0",
          "model_name": "LayoutModel",
          "state": {
            "_model_module": "@jupyter-widgets/base",
            "_model_module_version": "1.2.0",
            "_model_name": "LayoutModel",
            "_view_count": null,
            "_view_module": "@jupyter-widgets/base",
            "_view_module_version": "1.2.0",
            "_view_name": "LayoutView",
            "align_content": null,
            "align_items": null,
            "align_self": null,
            "border": null,
            "bottom": null,
            "display": null,
            "flex": null,
            "flex_flow": null,
            "grid_area": null,
            "grid_auto_columns": null,
            "grid_auto_flow": null,
            "grid_auto_rows": null,
            "grid_column": null,
            "grid_gap": null,
            "grid_row": null,
            "grid_template_areas": null,
            "grid_template_columns": null,
            "grid_template_rows": null,
            "height": null,
            "justify_content": null,
            "justify_items": null,
            "left": null,
            "margin": null,
            "max_height": null,
            "max_width": null,
            "min_height": null,
            "min_width": null,
            "object_fit": null,
            "object_position": null,
            "order": null,
            "overflow": null,
            "overflow_x": null,
            "overflow_y": null,
            "padding": null,
            "right": null,
            "top": null,
            "visibility": null,
            "width": null
          }
        },
        "340840ba48ae45ff87c3e430f933ef43": {
          "model_module": "@jupyter-widgets/base",
          "model_module_version": "1.2.0",
          "model_name": "LayoutModel",
          "state": {
            "_model_module": "@jupyter-widgets/base",
            "_model_module_version": "1.2.0",
            "_model_name": "LayoutModel",
            "_view_count": null,
            "_view_module": "@jupyter-widgets/base",
            "_view_module_version": "1.2.0",
            "_view_name": "LayoutView",
            "align_content": null,
            "align_items": null,
            "align_self": null,
            "border": null,
            "bottom": null,
            "display": null,
            "flex": null,
            "flex_flow": null,
            "grid_area": null,
            "grid_auto_columns": null,
            "grid_auto_flow": null,
            "grid_auto_rows": null,
            "grid_column": null,
            "grid_gap": null,
            "grid_row": null,
            "grid_template_areas": null,
            "grid_template_columns": null,
            "grid_template_rows": null,
            "height": null,
            "justify_content": null,
            "justify_items": null,
            "left": null,
            "margin": null,
            "max_height": null,
            "max_width": null,
            "min_height": null,
            "min_width": null,
            "object_fit": null,
            "object_position": null,
            "order": null,
            "overflow": null,
            "overflow_x": null,
            "overflow_y": null,
            "padding": null,
            "right": null,
            "top": null,
            "visibility": null,
            "width": null
          }
        },
        "35d966cc1c894c1cb88def83a2c67bc0": {
          "model_module": "@jupyter-widgets/base",
          "model_module_version": "1.2.0",
          "model_name": "LayoutModel",
          "state": {
            "_model_module": "@jupyter-widgets/base",
            "_model_module_version": "1.2.0",
            "_model_name": "LayoutModel",
            "_view_count": null,
            "_view_module": "@jupyter-widgets/base",
            "_view_module_version": "1.2.0",
            "_view_name": "LayoutView",
            "align_content": null,
            "align_items": null,
            "align_self": null,
            "border": null,
            "bottom": null,
            "display": null,
            "flex": null,
            "flex_flow": null,
            "grid_area": null,
            "grid_auto_columns": null,
            "grid_auto_flow": null,
            "grid_auto_rows": null,
            "grid_column": null,
            "grid_gap": null,
            "grid_row": null,
            "grid_template_areas": null,
            "grid_template_columns": null,
            "grid_template_rows": null,
            "height": null,
            "justify_content": null,
            "justify_items": null,
            "left": null,
            "margin": null,
            "max_height": null,
            "max_width": null,
            "min_height": null,
            "min_width": null,
            "object_fit": null,
            "object_position": null,
            "order": null,
            "overflow": null,
            "overflow_x": null,
            "overflow_y": null,
            "padding": null,
            "right": null,
            "top": null,
            "visibility": null,
            "width": null
          }
        },
        "373f39227b994718bd68e4442075d3c0": {
          "model_module": "@jupyter-widgets/controls",
          "model_module_version": "1.5.0",
          "model_name": "DescriptionStyleModel",
          "state": {
            "_model_module": "@jupyter-widgets/controls",
            "_model_module_version": "1.5.0",
            "_model_name": "DescriptionStyleModel",
            "_view_count": null,
            "_view_module": "@jupyter-widgets/base",
            "_view_module_version": "1.2.0",
            "_view_name": "StyleView",
            "description_width": ""
          }
        },
        "37963f9bf82241dda66743d4614c3d01": {
          "model_module": "@jupyter-widgets/controls",
          "model_module_version": "1.5.0",
          "model_name": "ProgressStyleModel",
          "state": {
            "_model_module": "@jupyter-widgets/controls",
            "_model_module_version": "1.5.0",
            "_model_name": "ProgressStyleModel",
            "_view_count": null,
            "_view_module": "@jupyter-widgets/base",
            "_view_module_version": "1.2.0",
            "_view_name": "StyleView",
            "bar_color": null,
            "description_width": ""
          }
        },
        "3b4d70fd89714cbebc9e05ef78c521a7": {
          "model_module": "@jupyter-widgets/controls",
          "model_module_version": "1.5.0",
          "model_name": "FloatProgressModel",
          "state": {
            "_dom_classes": [],
            "_model_module": "@jupyter-widgets/controls",
            "_model_module_version": "1.5.0",
            "_model_name": "FloatProgressModel",
            "_view_count": null,
            "_view_module": "@jupyter-widgets/controls",
            "_view_module_version": "1.5.0",
            "_view_name": "ProgressView",
            "bar_style": "success",
            "description": "",
            "description_tooltip": null,
            "layout": "IPY_MODEL_c992671452844c798a543e06abaebe11",
            "max": 466062,
            "min": 0,
            "orientation": "horizontal",
            "style": "IPY_MODEL_07b426393c494601bbadff2cf43f0831",
            "value": 466062
          }
        },
        "3e9033b5e28e4381923aae86da0825b5": {
          "model_module": "@jupyter-widgets/base",
          "model_module_version": "1.2.0",
          "model_name": "LayoutModel",
          "state": {
            "_model_module": "@jupyter-widgets/base",
            "_model_module_version": "1.2.0",
            "_model_name": "LayoutModel",
            "_view_count": null,
            "_view_module": "@jupyter-widgets/base",
            "_view_module_version": "1.2.0",
            "_view_name": "LayoutView",
            "align_content": null,
            "align_items": null,
            "align_self": null,
            "border": null,
            "bottom": null,
            "display": null,
            "flex": null,
            "flex_flow": null,
            "grid_area": null,
            "grid_auto_columns": null,
            "grid_auto_flow": null,
            "grid_auto_rows": null,
            "grid_column": null,
            "grid_gap": null,
            "grid_row": null,
            "grid_template_areas": null,
            "grid_template_columns": null,
            "grid_template_rows": null,
            "height": null,
            "justify_content": null,
            "justify_items": null,
            "left": null,
            "margin": null,
            "max_height": null,
            "max_width": null,
            "min_height": null,
            "min_width": null,
            "object_fit": null,
            "object_position": null,
            "order": null,
            "overflow": null,
            "overflow_x": null,
            "overflow_y": null,
            "padding": null,
            "right": null,
            "top": null,
            "visibility": null,
            "width": null
          }
        },
        "40df5333ffee4f33b5834b80415ce0c2": {
          "model_module": "@jupyter-widgets/controls",
          "model_module_version": "1.5.0",
          "model_name": "FloatProgressModel",
          "state": {
            "_dom_classes": [],
            "_model_module": "@jupyter-widgets/controls",
            "_model_module_version": "1.5.0",
            "_model_name": "FloatProgressModel",
            "_view_count": null,
            "_view_module": "@jupyter-widgets/controls",
            "_view_module_version": "1.5.0",
            "_view_name": "ProgressView",
            "bar_style": "success",
            "description": "",
            "description_tooltip": null,
            "layout": "IPY_MODEL_51db55795508400aab261a5395794a96",
            "max": 231508,
            "min": 0,
            "orientation": "horizontal",
            "style": "IPY_MODEL_92710c5c9cb343bbac2ff8dff508cc6c",
            "value": 231508
          }
        },
        "40e99c2d5c2946368210b102e6e5a0fd": {
          "model_module": "@jupyter-widgets/controls",
          "model_module_version": "1.5.0",
          "model_name": "ProgressStyleModel",
          "state": {
            "_model_module": "@jupyter-widgets/controls",
            "_model_module_version": "1.5.0",
            "_model_name": "ProgressStyleModel",
            "_view_count": null,
            "_view_module": "@jupyter-widgets/base",
            "_view_module_version": "1.2.0",
            "_view_name": "StyleView",
            "bar_color": null,
            "description_width": ""
          }
        },
        "422291af535445f79140bdeb7b99b946": {
          "model_module": "@jupyter-widgets/controls",
          "model_module_version": "1.5.0",
          "model_name": "DescriptionStyleModel",
          "state": {
            "_model_module": "@jupyter-widgets/controls",
            "_model_module_version": "1.5.0",
            "_model_name": "DescriptionStyleModel",
            "_view_count": null,
            "_view_module": "@jupyter-widgets/base",
            "_view_module_version": "1.2.0",
            "_view_name": "StyleView",
            "description_width": ""
          }
        },
        "4bbf59bbc3d34cc980c940234247b171": {
          "model_module": "@jupyter-widgets/controls",
          "model_module_version": "1.5.0",
          "model_name": "HTMLModel",
          "state": {
            "_dom_classes": [],
            "_model_module": "@jupyter-widgets/controls",
            "_model_module_version": "1.5.0",
            "_model_name": "HTMLModel",
            "_view_count": null,
            "_view_module": "@jupyter-widgets/controls",
            "_view_module_version": "1.5.0",
            "_view_name": "HTMLView",
            "description": "",
            "description_tooltip": null,
            "layout": "IPY_MODEL_35d966cc1c894c1cb88def83a2c67bc0",
            "placeholder": "​",
            "style": "IPY_MODEL_c28289132d9a42ac9d15e6718bea4dea",
            "value": " 466k/466k [00:00&lt;00:00, 2.32MB/s]"
          }
        },
        "4cc793c391b4434bba3c0c0f6b909e94": {
          "model_module": "@jupyter-widgets/base",
          "model_module_version": "1.2.0",
          "model_name": "LayoutModel",
          "state": {
            "_model_module": "@jupyter-widgets/base",
            "_model_module_version": "1.2.0",
            "_model_name": "LayoutModel",
            "_view_count": null,
            "_view_module": "@jupyter-widgets/base",
            "_view_module_version": "1.2.0",
            "_view_name": "LayoutView",
            "align_content": null,
            "align_items": null,
            "align_self": null,
            "border": null,
            "bottom": null,
            "display": null,
            "flex": null,
            "flex_flow": null,
            "grid_area": null,
            "grid_auto_columns": null,
            "grid_auto_flow": null,
            "grid_auto_rows": null,
            "grid_column": null,
            "grid_gap": null,
            "grid_row": null,
            "grid_template_areas": null,
            "grid_template_columns": null,
            "grid_template_rows": null,
            "height": null,
            "justify_content": null,
            "justify_items": null,
            "left": null,
            "margin": null,
            "max_height": null,
            "max_width": null,
            "min_height": null,
            "min_width": null,
            "object_fit": null,
            "object_position": null,
            "order": null,
            "overflow": null,
            "overflow_x": null,
            "overflow_y": null,
            "padding": null,
            "right": null,
            "top": null,
            "visibility": null,
            "width": null
          }
        },
        "4e6b5ef7b93d4a2b96fc1c5f1edda223": {
          "model_module": "@jupyter-widgets/controls",
          "model_module_version": "1.5.0",
          "model_name": "DescriptionStyleModel",
          "state": {
            "_model_module": "@jupyter-widgets/controls",
            "_model_module_version": "1.5.0",
            "_model_name": "DescriptionStyleModel",
            "_view_count": null,
            "_view_module": "@jupyter-widgets/base",
            "_view_module_version": "1.2.0",
            "_view_name": "StyleView",
            "description_width": ""
          }
        },
        "50299d836f6c45de9b980b568aee5c5c": {
          "model_module": "@jupyter-widgets/controls",
          "model_module_version": "1.5.0",
          "model_name": "FloatProgressModel",
          "state": {
            "_dom_classes": [],
            "_model_module": "@jupyter-widgets/controls",
            "_model_module_version": "1.5.0",
            "_model_name": "FloatProgressModel",
            "_view_count": null,
            "_view_module": "@jupyter-widgets/controls",
            "_view_module_version": "1.5.0",
            "_view_name": "ProgressView",
            "bar_style": "success",
            "description": "",
            "description_tooltip": null,
            "layout": "IPY_MODEL_b24ba53129f64545804e97170ca622ef",
            "max": 570,
            "min": 0,
            "orientation": "horizontal",
            "style": "IPY_MODEL_5c89114032b84b9daf2dffc3c47a51c2",
            "value": 570
          }
        },
        "50952ff946874aaf97c6f1fd6d33e66a": {
          "model_module": "@jupyter-widgets/base",
          "model_module_version": "1.2.0",
          "model_name": "LayoutModel",
          "state": {
            "_model_module": "@jupyter-widgets/base",
            "_model_module_version": "1.2.0",
            "_model_name": "LayoutModel",
            "_view_count": null,
            "_view_module": "@jupyter-widgets/base",
            "_view_module_version": "1.2.0",
            "_view_name": "LayoutView",
            "align_content": null,
            "align_items": null,
            "align_self": null,
            "border": null,
            "bottom": null,
            "display": null,
            "flex": null,
            "flex_flow": null,
            "grid_area": null,
            "grid_auto_columns": null,
            "grid_auto_flow": null,
            "grid_auto_rows": null,
            "grid_column": null,
            "grid_gap": null,
            "grid_row": null,
            "grid_template_areas": null,
            "grid_template_columns": null,
            "grid_template_rows": null,
            "height": null,
            "justify_content": null,
            "justify_items": null,
            "left": null,
            "margin": null,
            "max_height": null,
            "max_width": null,
            "min_height": null,
            "min_width": null,
            "object_fit": null,
            "object_position": null,
            "order": null,
            "overflow": null,
            "overflow_x": null,
            "overflow_y": null,
            "padding": null,
            "right": null,
            "top": null,
            "visibility": null,
            "width": null
          }
        },
        "51db55795508400aab261a5395794a96": {
          "model_module": "@jupyter-widgets/base",
          "model_module_version": "1.2.0",
          "model_name": "LayoutModel",
          "state": {
            "_model_module": "@jupyter-widgets/base",
            "_model_module_version": "1.2.0",
            "_model_name": "LayoutModel",
            "_view_count": null,
            "_view_module": "@jupyter-widgets/base",
            "_view_module_version": "1.2.0",
            "_view_name": "LayoutView",
            "align_content": null,
            "align_items": null,
            "align_self": null,
            "border": null,
            "bottom": null,
            "display": null,
            "flex": null,
            "flex_flow": null,
            "grid_area": null,
            "grid_auto_columns": null,
            "grid_auto_flow": null,
            "grid_auto_rows": null,
            "grid_column": null,
            "grid_gap": null,
            "grid_row": null,
            "grid_template_areas": null,
            "grid_template_columns": null,
            "grid_template_rows": null,
            "height": null,
            "justify_content": null,
            "justify_items": null,
            "left": null,
            "margin": null,
            "max_height": null,
            "max_width": null,
            "min_height": null,
            "min_width": null,
            "object_fit": null,
            "object_position": null,
            "order": null,
            "overflow": null,
            "overflow_x": null,
            "overflow_y": null,
            "padding": null,
            "right": null,
            "top": null,
            "visibility": null,
            "width": null
          }
        },
        "521e96faeafe4f648c7894da6f3fe9aa": {
          "model_module": "@jupyter-widgets/controls",
          "model_module_version": "1.5.0",
          "model_name": "HTMLModel",
          "state": {
            "_dom_classes": [],
            "_model_module": "@jupyter-widgets/controls",
            "_model_module_version": "1.5.0",
            "_model_name": "HTMLModel",
            "_view_count": null,
            "_view_module": "@jupyter-widgets/controls",
            "_view_module_version": "1.5.0",
            "_view_name": "HTMLView",
            "description": "",
            "description_tooltip": null,
            "layout": "IPY_MODEL_7564370d10ed4e7bba6a962e5cd85cbd",
            "placeholder": "​",
            "style": "IPY_MODEL_7263adffa964403facb946f7c26a2c76",
            "value": " 232k/232k [00:00&lt;00:00, 2.72MB/s]"
          }
        },
        "536f1905a1e64ba696d8f5472abc4fed": {
          "model_module": "@jupyter-widgets/base",
          "model_module_version": "1.2.0",
          "model_name": "LayoutModel",
          "state": {
            "_model_module": "@jupyter-widgets/base",
            "_model_module_version": "1.2.0",
            "_model_name": "LayoutModel",
            "_view_count": null,
            "_view_module": "@jupyter-widgets/base",
            "_view_module_version": "1.2.0",
            "_view_name": "LayoutView",
            "align_content": null,
            "align_items": null,
            "align_self": null,
            "border": null,
            "bottom": null,
            "display": null,
            "flex": null,
            "flex_flow": null,
            "grid_area": null,
            "grid_auto_columns": null,
            "grid_auto_flow": null,
            "grid_auto_rows": null,
            "grid_column": null,
            "grid_gap": null,
            "grid_row": null,
            "grid_template_areas": null,
            "grid_template_columns": null,
            "grid_template_rows": null,
            "height": null,
            "justify_content": null,
            "justify_items": null,
            "left": null,
            "margin": null,
            "max_height": null,
            "max_width": null,
            "min_height": null,
            "min_width": null,
            "object_fit": null,
            "object_position": null,
            "order": null,
            "overflow": null,
            "overflow_x": null,
            "overflow_y": null,
            "padding": null,
            "right": null,
            "top": null,
            "visibility": null,
            "width": null
          }
        },
        "5593e59f64c845608f2a6ee759043927": {
          "model_module": "@jupyter-widgets/controls",
          "model_module_version": "1.5.0",
          "model_name": "HTMLModel",
          "state": {
            "_dom_classes": [],
            "_model_module": "@jupyter-widgets/controls",
            "_model_module_version": "1.5.0",
            "_model_name": "HTMLModel",
            "_view_count": null,
            "_view_module": "@jupyter-widgets/controls",
            "_view_module_version": "1.5.0",
            "_view_name": "HTMLView",
            "description": "",
            "description_tooltip": null,
            "layout": "IPY_MODEL_340840ba48ae45ff87c3e430f933ef43",
            "placeholder": "​",
            "style": "IPY_MODEL_7afae8347ed947fe920a6f84fc81e416",
            "value": " 440M/440M [00:01&lt;00:00, 304MB/s]"
          }
        },
        "56eb76ab5e0f4c8f8035cd07de2e1ae4": {
          "model_module": "@jupyter-widgets/controls",
          "model_module_version": "1.5.0",
          "model_name": "HBoxModel",
          "state": {
            "_dom_classes": [],
            "_model_module": "@jupyter-widgets/controls",
            "_model_module_version": "1.5.0",
            "_model_name": "HBoxModel",
            "_view_count": null,
            "_view_module": "@jupyter-widgets/controls",
            "_view_module_version": "1.5.0",
            "_view_name": "HBoxView",
            "box_style": "",
            "children": [
              "IPY_MODEL_661dec454aee47659bfeed206b004ca1",
              "IPY_MODEL_a7272260e93e47b6a36f8d0df781a493",
              "IPY_MODEL_1f8bba68e6964304bee86a149a3305f5"
            ],
            "layout": "IPY_MODEL_fa7c3584b47b45edae1780b789f7c60e"
          }
        },
        "589d1c867d604a28ba97b3f45119e22c": {
          "model_module": "@jupyter-widgets/controls",
          "model_module_version": "1.5.0",
          "model_name": "HTMLModel",
          "state": {
            "_dom_classes": [],
            "_model_module": "@jupyter-widgets/controls",
            "_model_module_version": "1.5.0",
            "_model_name": "HTMLModel",
            "_view_count": null,
            "_view_module": "@jupyter-widgets/controls",
            "_view_module_version": "1.5.0",
            "_view_name": "HTMLView",
            "description": "",
            "description_tooltip": null,
            "layout": "IPY_MODEL_0d3b200e4d4b44be9ccba5721a284731",
            "placeholder": "​",
            "style": "IPY_MODEL_373f39227b994718bd68e4442075d3c0",
            "value": "model.safetensors: 100%"
          }
        },
        "5c89114032b84b9daf2dffc3c47a51c2": {
          "model_module": "@jupyter-widgets/controls",
          "model_module_version": "1.5.0",
          "model_name": "ProgressStyleModel",
          "state": {
            "_model_module": "@jupyter-widgets/controls",
            "_model_module_version": "1.5.0",
            "_model_name": "ProgressStyleModel",
            "_view_count": null,
            "_view_module": "@jupyter-widgets/base",
            "_view_module_version": "1.2.0",
            "_view_name": "StyleView",
            "bar_color": null,
            "description_width": ""
          }
        },
        "60ce87eec1d444219b3e0658eb823c70": {
          "model_module": "@jupyter-widgets/controls",
          "model_module_version": "1.5.0",
          "model_name": "FloatProgressModel",
          "state": {
            "_dom_classes": [],
            "_model_module": "@jupyter-widgets/controls",
            "_model_module_version": "1.5.0",
            "_model_name": "FloatProgressModel",
            "_view_count": null,
            "_view_module": "@jupyter-widgets/controls",
            "_view_module_version": "1.5.0",
            "_view_name": "ProgressView",
            "bar_style": "success",
            "description": "",
            "description_tooltip": null,
            "layout": "IPY_MODEL_a50c6e833bd84ac09682cc8c1681f44f",
            "max": 435780550,
            "min": 0,
            "orientation": "horizontal",
            "style": "IPY_MODEL_d3ba2576b5a34bb8b8be4c6bc4acf3fd",
            "value": 435780550
          }
        },
        "627343414d444647bbe46bcf15d062fe": {
          "model_module": "@jupyter-widgets/controls",
          "model_module_version": "1.5.0",
          "model_name": "HTMLModel",
          "state": {
            "_dom_classes": [],
            "_model_module": "@jupyter-widgets/controls",
            "_model_module_version": "1.5.0",
            "_model_name": "HTMLModel",
            "_view_count": null,
            "_view_module": "@jupyter-widgets/controls",
            "_view_module_version": "1.5.0",
            "_view_name": "HTMLView",
            "description": "",
            "description_tooltip": null,
            "layout": "IPY_MODEL_f5f2863a0d274b6ab67425e998546f89",
            "placeholder": "​",
            "style": "IPY_MODEL_c696db8fd0dc469388ba35826e44893e",
            "value": "pytorch_model.bin: 100%"
          }
        },
        "661dec454aee47659bfeed206b004ca1": {
          "model_module": "@jupyter-widgets/controls",
          "model_module_version": "1.5.0",
          "model_name": "HTMLModel",
          "state": {
            "_dom_classes": [],
            "_model_module": "@jupyter-widgets/controls",
            "_model_module_version": "1.5.0",
            "_model_name": "HTMLModel",
            "_view_count": null,
            "_view_module": "@jupyter-widgets/controls",
            "_view_module_version": "1.5.0",
            "_view_name": "HTMLView",
            "description": "",
            "description_tooltip": null,
            "layout": "IPY_MODEL_ac883c67cfbc4e7e82a43bc5452099fd",
            "placeholder": "​",
            "style": "IPY_MODEL_8e896bfe2ba84c20b245dfcd3cefc7c9",
            "value": "config.json: 100%"
          }
        },
        "67d15744ac6a450ea5ccf0748823addf": {
          "model_module": "@jupyter-widgets/controls",
          "model_module_version": "1.5.0",
          "model_name": "ProgressStyleModel",
          "state": {
            "_model_module": "@jupyter-widgets/controls",
            "_model_module_version": "1.5.0",
            "_model_name": "ProgressStyleModel",
            "_view_count": null,
            "_view_module": "@jupyter-widgets/base",
            "_view_module_version": "1.2.0",
            "_view_name": "StyleView",
            "bar_color": null,
            "description_width": ""
          }
        },
        "6ad57f13c8c04a75a5885feda7aa8fac": {
          "model_module": "@jupyter-widgets/controls",
          "model_module_version": "1.5.0",
          "model_name": "HTMLModel",
          "state": {
            "_dom_classes": [],
            "_model_module": "@jupyter-widgets/controls",
            "_model_module_version": "1.5.0",
            "_model_name": "HTMLModel",
            "_view_count": null,
            "_view_module": "@jupyter-widgets/controls",
            "_view_module_version": "1.5.0",
            "_view_name": "HTMLView",
            "description": "",
            "description_tooltip": null,
            "layout": "IPY_MODEL_877a3266bd4440879d23873eb3ac7fc4",
            "placeholder": "​",
            "style": "IPY_MODEL_cb426892fe5b4b698d4752aa50e76743",
            "value": " 436M/436M [00:03&lt;00:00, 264MB/s]"
          }
        },
        "6bd6e75eef9e48a4b101434a07a8ae83": {
          "model_module": "@jupyter-widgets/base",
          "model_module_version": "1.2.0",
          "model_name": "LayoutModel",
          "state": {
            "_model_module": "@jupyter-widgets/base",
            "_model_module_version": "1.2.0",
            "_model_name": "LayoutModel",
            "_view_count": null,
            "_view_module": "@jupyter-widgets/base",
            "_view_module_version": "1.2.0",
            "_view_name": "LayoutView",
            "align_content": null,
            "align_items": null,
            "align_self": null,
            "border": null,
            "bottom": null,
            "display": null,
            "flex": null,
            "flex_flow": null,
            "grid_area": null,
            "grid_auto_columns": null,
            "grid_auto_flow": null,
            "grid_auto_rows": null,
            "grid_column": null,
            "grid_gap": null,
            "grid_row": null,
            "grid_template_areas": null,
            "grid_template_columns": null,
            "grid_template_rows": null,
            "height": null,
            "justify_content": null,
            "justify_items": null,
            "left": null,
            "margin": null,
            "max_height": null,
            "max_width": null,
            "min_height": null,
            "min_width": null,
            "object_fit": null,
            "object_position": null,
            "order": null,
            "overflow": null,
            "overflow_x": null,
            "overflow_y": null,
            "padding": null,
            "right": null,
            "top": null,
            "visibility": null,
            "width": null
          }
        },
        "6f38d21bd8f94b229439847b812ded7c": {
          "model_module": "@jupyter-widgets/controls",
          "model_module_version": "1.5.0",
          "model_name": "HBoxModel",
          "state": {
            "_dom_classes": [],
            "_model_module": "@jupyter-widgets/controls",
            "_model_module_version": "1.5.0",
            "_model_name": "HBoxModel",
            "_view_count": null,
            "_view_module": "@jupyter-widgets/controls",
            "_view_module_version": "1.5.0",
            "_view_name": "HBoxView",
            "box_style": "",
            "children": [
              "IPY_MODEL_627343414d444647bbe46bcf15d062fe",
              "IPY_MODEL_60ce87eec1d444219b3e0658eb823c70",
              "IPY_MODEL_6ad57f13c8c04a75a5885feda7aa8fac"
            ],
            "layout": "IPY_MODEL_22f0edb54fa94311b762ff1c7ca37875"
          }
        },
        "6f81a70230be4c63b645f2451ae35ee6": {
          "model_module": "@jupyter-widgets/controls",
          "model_module_version": "1.5.0",
          "model_name": "HBoxModel",
          "state": {
            "_dom_classes": [],
            "_model_module": "@jupyter-widgets/controls",
            "_model_module_version": "1.5.0",
            "_model_name": "HBoxModel",
            "_view_count": null,
            "_view_module": "@jupyter-widgets/controls",
            "_view_module_version": "1.5.0",
            "_view_name": "HBoxView",
            "box_style": "",
            "children": [
              "IPY_MODEL_589d1c867d604a28ba97b3f45119e22c",
              "IPY_MODEL_9b6ff60419e44cbbb89a1d5ae9818c43",
              "IPY_MODEL_5593e59f64c845608f2a6ee759043927"
            ],
            "layout": "IPY_MODEL_ca62d5157c504fd980f1499a36cb83ab"
          }
        },
        "7225d021e4b946b28f340f81d9dd046c": {
          "model_module": "@jupyter-widgets/base",
          "model_module_version": "1.2.0",
          "model_name": "LayoutModel",
          "state": {
            "_model_module": "@jupyter-widgets/base",
            "_model_module_version": "1.2.0",
            "_model_name": "LayoutModel",
            "_view_count": null,
            "_view_module": "@jupyter-widgets/base",
            "_view_module_version": "1.2.0",
            "_view_name": "LayoutView",
            "align_content": null,
            "align_items": null,
            "align_self": null,
            "border": null,
            "bottom": null,
            "display": null,
            "flex": null,
            "flex_flow": null,
            "grid_area": null,
            "grid_auto_columns": null,
            "grid_auto_flow": null,
            "grid_auto_rows": null,
            "grid_column": null,
            "grid_gap": null,
            "grid_row": null,
            "grid_template_areas": null,
            "grid_template_columns": null,
            "grid_template_rows": null,
            "height": null,
            "justify_content": null,
            "justify_items": null,
            "left": null,
            "margin": null,
            "max_height": null,
            "max_width": null,
            "min_height": null,
            "min_width": null,
            "object_fit": null,
            "object_position": null,
            "order": null,
            "overflow": null,
            "overflow_x": null,
            "overflow_y": null,
            "padding": null,
            "right": null,
            "top": null,
            "visibility": null,
            "width": null
          }
        },
        "7263adffa964403facb946f7c26a2c76": {
          "model_module": "@jupyter-widgets/controls",
          "model_module_version": "1.5.0",
          "model_name": "DescriptionStyleModel",
          "state": {
            "_model_module": "@jupyter-widgets/controls",
            "_model_module_version": "1.5.0",
            "_model_name": "DescriptionStyleModel",
            "_view_count": null,
            "_view_module": "@jupyter-widgets/base",
            "_view_module_version": "1.2.0",
            "_view_name": "StyleView",
            "description_width": ""
          }
        },
        "7564370d10ed4e7bba6a962e5cd85cbd": {
          "model_module": "@jupyter-widgets/base",
          "model_module_version": "1.2.0",
          "model_name": "LayoutModel",
          "state": {
            "_model_module": "@jupyter-widgets/base",
            "_model_module_version": "1.2.0",
            "_model_name": "LayoutModel",
            "_view_count": null,
            "_view_module": "@jupyter-widgets/base",
            "_view_module_version": "1.2.0",
            "_view_name": "LayoutView",
            "align_content": null,
            "align_items": null,
            "align_self": null,
            "border": null,
            "bottom": null,
            "display": null,
            "flex": null,
            "flex_flow": null,
            "grid_area": null,
            "grid_auto_columns": null,
            "grid_auto_flow": null,
            "grid_auto_rows": null,
            "grid_column": null,
            "grid_gap": null,
            "grid_row": null,
            "grid_template_areas": null,
            "grid_template_columns": null,
            "grid_template_rows": null,
            "height": null,
            "justify_content": null,
            "justify_items": null,
            "left": null,
            "margin": null,
            "max_height": null,
            "max_width": null,
            "min_height": null,
            "min_width": null,
            "object_fit": null,
            "object_position": null,
            "order": null,
            "overflow": null,
            "overflow_x": null,
            "overflow_y": null,
            "padding": null,
            "right": null,
            "top": null,
            "visibility": null,
            "width": null
          }
        },
        "7649cd03aa8f4799be828157387057c0": {
          "model_module": "@jupyter-widgets/controls",
          "model_module_version": "1.5.0",
          "model_name": "DescriptionStyleModel",
          "state": {
            "_model_module": "@jupyter-widgets/controls",
            "_model_module_version": "1.5.0",
            "_model_name": "DescriptionStyleModel",
            "_view_count": null,
            "_view_module": "@jupyter-widgets/base",
            "_view_module_version": "1.2.0",
            "_view_name": "StyleView",
            "description_width": ""
          }
        },
        "77ae3ff8eb7c405595766a142a52eed0": {
          "model_module": "@jupyter-widgets/controls",
          "model_module_version": "1.5.0",
          "model_name": "HTMLModel",
          "state": {
            "_dom_classes": [],
            "_model_module": "@jupyter-widgets/controls",
            "_model_module_version": "1.5.0",
            "_model_name": "HTMLModel",
            "_view_count": null,
            "_view_module": "@jupyter-widgets/controls",
            "_view_module_version": "1.5.0",
            "_view_name": "HTMLView",
            "description": "",
            "description_tooltip": null,
            "layout": "IPY_MODEL_3e9033b5e28e4381923aae86da0825b5",
            "placeholder": "​",
            "style": "IPY_MODEL_7649cd03aa8f4799be828157387057c0",
            "value": "Map: 100%"
          }
        },
        "7a85a5225dbd4bd9850ee2b2081793a4": {
          "model_module": "@jupyter-widgets/controls",
          "model_module_version": "1.5.0",
          "model_name": "HTMLModel",
          "state": {
            "_dom_classes": [],
            "_model_module": "@jupyter-widgets/controls",
            "_model_module_version": "1.5.0",
            "_model_name": "HTMLModel",
            "_view_count": null,
            "_view_module": "@jupyter-widgets/controls",
            "_view_module_version": "1.5.0",
            "_view_name": "HTMLView",
            "description": "",
            "description_tooltip": null,
            "layout": "IPY_MODEL_50952ff946874aaf97c6f1fd6d33e66a",
            "placeholder": "​",
            "style": "IPY_MODEL_acf4f435b0b8491994ff942d5b5b57aa",
            "value": " 48.0/48.0 [00:00&lt;00:00, 3.69kB/s]"
          }
        },
        "7afae8347ed947fe920a6f84fc81e416": {
          "model_module": "@jupyter-widgets/controls",
          "model_module_version": "1.5.0",
          "model_name": "DescriptionStyleModel",
          "state": {
            "_model_module": "@jupyter-widgets/controls",
            "_model_module_version": "1.5.0",
            "_model_name": "DescriptionStyleModel",
            "_view_count": null,
            "_view_module": "@jupyter-widgets/base",
            "_view_module_version": "1.2.0",
            "_view_name": "StyleView",
            "description_width": ""
          }
        },
        "7b6e02582ff14a9d952445cfcb98e4f4": {
          "model_module": "@jupyter-widgets/base",
          "model_module_version": "1.2.0",
          "model_name": "LayoutModel",
          "state": {
            "_model_module": "@jupyter-widgets/base",
            "_model_module_version": "1.2.0",
            "_model_name": "LayoutModel",
            "_view_count": null,
            "_view_module": "@jupyter-widgets/base",
            "_view_module_version": "1.2.0",
            "_view_name": "LayoutView",
            "align_content": null,
            "align_items": null,
            "align_self": null,
            "border": null,
            "bottom": null,
            "display": null,
            "flex": null,
            "flex_flow": null,
            "grid_area": null,
            "grid_auto_columns": null,
            "grid_auto_flow": null,
            "grid_auto_rows": null,
            "grid_column": null,
            "grid_gap": null,
            "grid_row": null,
            "grid_template_areas": null,
            "grid_template_columns": null,
            "grid_template_rows": null,
            "height": null,
            "justify_content": null,
            "justify_items": null,
            "left": null,
            "margin": null,
            "max_height": null,
            "max_width": null,
            "min_height": null,
            "min_width": null,
            "object_fit": null,
            "object_position": null,
            "order": null,
            "overflow": null,
            "overflow_x": null,
            "overflow_y": null,
            "padding": null,
            "right": null,
            "top": null,
            "visibility": null,
            "width": null
          }
        },
        "7ba39cfc5fc84273a326fb88fe7694eb": {
          "model_module": "@jupyter-widgets/controls",
          "model_module_version": "1.5.0",
          "model_name": "FloatProgressModel",
          "state": {
            "_dom_classes": [],
            "_model_module": "@jupyter-widgets/controls",
            "_model_module_version": "1.5.0",
            "_model_name": "FloatProgressModel",
            "_view_count": null,
            "_view_module": "@jupyter-widgets/controls",
            "_view_module_version": "1.5.0",
            "_view_name": "ProgressView",
            "bar_style": "success",
            "description": "",
            "description_tooltip": null,
            "layout": "IPY_MODEL_cfbb47b35ad64584875a95480c9f1ee7",
            "max": 213450,
            "min": 0,
            "orientation": "horizontal",
            "style": "IPY_MODEL_37963f9bf82241dda66743d4614c3d01",
            "value": 213450
          }
        },
        "7c5acad3629b46099bdd06a2213ffdbf": {
          "model_module": "@jupyter-widgets/base",
          "model_module_version": "1.2.0",
          "model_name": "LayoutModel",
          "state": {
            "_model_module": "@jupyter-widgets/base",
            "_model_module_version": "1.2.0",
            "_model_name": "LayoutModel",
            "_view_count": null,
            "_view_module": "@jupyter-widgets/base",
            "_view_module_version": "1.2.0",
            "_view_name": "LayoutView",
            "align_content": null,
            "align_items": null,
            "align_self": null,
            "border": null,
            "bottom": null,
            "display": null,
            "flex": null,
            "flex_flow": null,
            "grid_area": null,
            "grid_auto_columns": null,
            "grid_auto_flow": null,
            "grid_auto_rows": null,
            "grid_column": null,
            "grid_gap": null,
            "grid_row": null,
            "grid_template_areas": null,
            "grid_template_columns": null,
            "grid_template_rows": null,
            "height": null,
            "justify_content": null,
            "justify_items": null,
            "left": null,
            "margin": null,
            "max_height": null,
            "max_width": null,
            "min_height": null,
            "min_width": null,
            "object_fit": null,
            "object_position": null,
            "order": null,
            "overflow": null,
            "overflow_x": null,
            "overflow_y": null,
            "padding": null,
            "right": null,
            "top": null,
            "visibility": null,
            "width": null
          }
        },
        "7e9de6a278fd4364a87d8240d83ae28e": {
          "model_module": "@jupyter-widgets/controls",
          "model_module_version": "1.5.0",
          "model_name": "FloatProgressModel",
          "state": {
            "_dom_classes": [],
            "_model_module": "@jupyter-widgets/controls",
            "_model_module_version": "1.5.0",
            "_model_name": "FloatProgressModel",
            "_view_count": null,
            "_view_module": "@jupyter-widgets/controls",
            "_view_module_version": "1.5.0",
            "_view_name": "ProgressView",
            "bar_style": "success",
            "description": "",
            "description_tooltip": null,
            "layout": "IPY_MODEL_073d9c268e4b4a3abad209ae0cad00f2",
            "max": 32620,
            "min": 0,
            "orientation": "horizontal",
            "style": "IPY_MODEL_67d15744ac6a450ea5ccf0748823addf",
            "value": 32620
          }
        },
        "7eb735c5f680429893a48c3e4711a2c0": {
          "model_module": "@jupyter-widgets/controls",
          "model_module_version": "1.5.0",
          "model_name": "ProgressStyleModel",
          "state": {
            "_model_module": "@jupyter-widgets/controls",
            "_model_module_version": "1.5.0",
            "_model_name": "ProgressStyleModel",
            "_view_count": null,
            "_view_module": "@jupyter-widgets/base",
            "_view_module_version": "1.2.0",
            "_view_name": "StyleView",
            "bar_color": null,
            "description_width": ""
          }
        },
        "7f86a9b26cd349d987c3f3a3f903108d": {
          "model_module": "@jupyter-widgets/controls",
          "model_module_version": "1.5.0",
          "model_name": "DescriptionStyleModel",
          "state": {
            "_model_module": "@jupyter-widgets/controls",
            "_model_module_version": "1.5.0",
            "_model_name": "DescriptionStyleModel",
            "_view_count": null,
            "_view_module": "@jupyter-widgets/base",
            "_view_module_version": "1.2.0",
            "_view_name": "StyleView",
            "description_width": ""
          }
        },
        "8000f352b39546e3a8f29cf9fd24ffca": {
          "model_module": "@jupyter-widgets/controls",
          "model_module_version": "1.5.0",
          "model_name": "HBoxModel",
          "state": {
            "_dom_classes": [],
            "_model_module": "@jupyter-widgets/controls",
            "_model_module_version": "1.5.0",
            "_model_name": "HBoxModel",
            "_view_count": null,
            "_view_module": "@jupyter-widgets/controls",
            "_view_module_version": "1.5.0",
            "_view_name": "HBoxView",
            "box_style": "",
            "children": [
              "IPY_MODEL_2ca394cb6b904aaca4949a7c1e1b9fde",
              "IPY_MODEL_40df5333ffee4f33b5834b80415ce0c2",
              "IPY_MODEL_521e96faeafe4f648c7894da6f3fe9aa"
            ],
            "layout": "IPY_MODEL_31bce2366e454360a26ebdbd90a95fa7"
          }
        },
        "810688e84e3144b5b2a2d71bc5e14744": {
          "model_module": "@jupyter-widgets/controls",
          "model_module_version": "1.5.0",
          "model_name": "DescriptionStyleModel",
          "state": {
            "_model_module": "@jupyter-widgets/controls",
            "_model_module_version": "1.5.0",
            "_model_name": "DescriptionStyleModel",
            "_view_count": null,
            "_view_module": "@jupyter-widgets/base",
            "_view_module_version": "1.2.0",
            "_view_name": "StyleView",
            "description_width": ""
          }
        },
        "84949b5249ba4a25be0cbf4aa1c063ce": {
          "model_module": "@jupyter-widgets/base",
          "model_module_version": "1.2.0",
          "model_name": "LayoutModel",
          "state": {
            "_model_module": "@jupyter-widgets/base",
            "_model_module_version": "1.2.0",
            "_model_name": "LayoutModel",
            "_view_count": null,
            "_view_module": "@jupyter-widgets/base",
            "_view_module_version": "1.2.0",
            "_view_name": "LayoutView",
            "align_content": null,
            "align_items": null,
            "align_self": null,
            "border": null,
            "bottom": null,
            "display": null,
            "flex": null,
            "flex_flow": null,
            "grid_area": null,
            "grid_auto_columns": null,
            "grid_auto_flow": null,
            "grid_auto_rows": null,
            "grid_column": null,
            "grid_gap": null,
            "grid_row": null,
            "grid_template_areas": null,
            "grid_template_columns": null,
            "grid_template_rows": null,
            "height": null,
            "justify_content": null,
            "justify_items": null,
            "left": null,
            "margin": null,
            "max_height": null,
            "max_width": null,
            "min_height": null,
            "min_width": null,
            "object_fit": null,
            "object_position": null,
            "order": null,
            "overflow": null,
            "overflow_x": null,
            "overflow_y": null,
            "padding": null,
            "right": null,
            "top": null,
            "visibility": null,
            "width": null
          }
        },
        "84ad2b6289114662ab48f8dc0327fb03": {
          "model_module": "@jupyter-widgets/base",
          "model_module_version": "1.2.0",
          "model_name": "LayoutModel",
          "state": {
            "_model_module": "@jupyter-widgets/base",
            "_model_module_version": "1.2.0",
            "_model_name": "LayoutModel",
            "_view_count": null,
            "_view_module": "@jupyter-widgets/base",
            "_view_module_version": "1.2.0",
            "_view_name": "LayoutView",
            "align_content": null,
            "align_items": null,
            "align_self": null,
            "border": null,
            "bottom": null,
            "display": null,
            "flex": null,
            "flex_flow": null,
            "grid_area": null,
            "grid_auto_columns": null,
            "grid_auto_flow": null,
            "grid_auto_rows": null,
            "grid_column": null,
            "grid_gap": null,
            "grid_row": null,
            "grid_template_areas": null,
            "grid_template_columns": null,
            "grid_template_rows": null,
            "height": null,
            "justify_content": null,
            "justify_items": null,
            "left": null,
            "margin": null,
            "max_height": null,
            "max_width": null,
            "min_height": null,
            "min_width": null,
            "object_fit": null,
            "object_position": null,
            "order": null,
            "overflow": null,
            "overflow_x": null,
            "overflow_y": null,
            "padding": null,
            "right": null,
            "top": null,
            "visibility": null,
            "width": null
          }
        },
        "84d0a62de0584dfe9e5194cc7b79cbce": {
          "model_module": "@jupyter-widgets/base",
          "model_module_version": "1.2.0",
          "model_name": "LayoutModel",
          "state": {
            "_model_module": "@jupyter-widgets/base",
            "_model_module_version": "1.2.0",
            "_model_name": "LayoutModel",
            "_view_count": null,
            "_view_module": "@jupyter-widgets/base",
            "_view_module_version": "1.2.0",
            "_view_name": "LayoutView",
            "align_content": null,
            "align_items": null,
            "align_self": null,
            "border": null,
            "bottom": null,
            "display": null,
            "flex": null,
            "flex_flow": null,
            "grid_area": null,
            "grid_auto_columns": null,
            "grid_auto_flow": null,
            "grid_auto_rows": null,
            "grid_column": null,
            "grid_gap": null,
            "grid_row": null,
            "grid_template_areas": null,
            "grid_template_columns": null,
            "grid_template_rows": null,
            "height": null,
            "justify_content": null,
            "justify_items": null,
            "left": null,
            "margin": null,
            "max_height": null,
            "max_width": null,
            "min_height": null,
            "min_width": null,
            "object_fit": null,
            "object_position": null,
            "order": null,
            "overflow": null,
            "overflow_x": null,
            "overflow_y": null,
            "padding": null,
            "right": null,
            "top": null,
            "visibility": null,
            "width": null
          }
        },
        "877a3266bd4440879d23873eb3ac7fc4": {
          "model_module": "@jupyter-widgets/base",
          "model_module_version": "1.2.0",
          "model_name": "LayoutModel",
          "state": {
            "_model_module": "@jupyter-widgets/base",
            "_model_module_version": "1.2.0",
            "_model_name": "LayoutModel",
            "_view_count": null,
            "_view_module": "@jupyter-widgets/base",
            "_view_module_version": "1.2.0",
            "_view_name": "LayoutView",
            "align_content": null,
            "align_items": null,
            "align_self": null,
            "border": null,
            "bottom": null,
            "display": null,
            "flex": null,
            "flex_flow": null,
            "grid_area": null,
            "grid_auto_columns": null,
            "grid_auto_flow": null,
            "grid_auto_rows": null,
            "grid_column": null,
            "grid_gap": null,
            "grid_row": null,
            "grid_template_areas": null,
            "grid_template_columns": null,
            "grid_template_rows": null,
            "height": null,
            "justify_content": null,
            "justify_items": null,
            "left": null,
            "margin": null,
            "max_height": null,
            "max_width": null,
            "min_height": null,
            "min_width": null,
            "object_fit": null,
            "object_position": null,
            "order": null,
            "overflow": null,
            "overflow_x": null,
            "overflow_y": null,
            "padding": null,
            "right": null,
            "top": null,
            "visibility": null,
            "width": null
          }
        },
        "8e896bfe2ba84c20b245dfcd3cefc7c9": {
          "model_module": "@jupyter-widgets/controls",
          "model_module_version": "1.5.0",
          "model_name": "DescriptionStyleModel",
          "state": {
            "_model_module": "@jupyter-widgets/controls",
            "_model_module_version": "1.5.0",
            "_model_name": "DescriptionStyleModel",
            "_view_count": null,
            "_view_module": "@jupyter-widgets/base",
            "_view_module_version": "1.2.0",
            "_view_name": "StyleView",
            "description_width": ""
          }
        },
        "92710c5c9cb343bbac2ff8dff508cc6c": {
          "model_module": "@jupyter-widgets/controls",
          "model_module_version": "1.5.0",
          "model_name": "ProgressStyleModel",
          "state": {
            "_model_module": "@jupyter-widgets/controls",
            "_model_module_version": "1.5.0",
            "_model_name": "ProgressStyleModel",
            "_view_count": null,
            "_view_module": "@jupyter-widgets/base",
            "_view_module_version": "1.2.0",
            "_view_name": "StyleView",
            "bar_color": null,
            "description_width": ""
          }
        },
        "935f203e53654309a293f9b12fd8eb32": {
          "model_module": "@jupyter-widgets/controls",
          "model_module_version": "1.5.0",
          "model_name": "ProgressStyleModel",
          "state": {
            "_model_module": "@jupyter-widgets/controls",
            "_model_module_version": "1.5.0",
            "_model_name": "ProgressStyleModel",
            "_view_count": null,
            "_view_module": "@jupyter-widgets/base",
            "_view_module_version": "1.2.0",
            "_view_name": "StyleView",
            "bar_color": null,
            "description_width": ""
          }
        },
        "983a121678044a1195f1524470e8a599": {
          "model_module": "@jupyter-widgets/controls",
          "model_module_version": "1.5.0",
          "model_name": "DescriptionStyleModel",
          "state": {
            "_model_module": "@jupyter-widgets/controls",
            "_model_module_version": "1.5.0",
            "_model_name": "DescriptionStyleModel",
            "_view_count": null,
            "_view_module": "@jupyter-widgets/base",
            "_view_module_version": "1.2.0",
            "_view_name": "StyleView",
            "description_width": ""
          }
        },
        "9918938e1190493f81034bdf11eaf697": {
          "model_module": "@jupyter-widgets/base",
          "model_module_version": "1.2.0",
          "model_name": "LayoutModel",
          "state": {
            "_model_module": "@jupyter-widgets/base",
            "_model_module_version": "1.2.0",
            "_model_name": "LayoutModel",
            "_view_count": null,
            "_view_module": "@jupyter-widgets/base",
            "_view_module_version": "1.2.0",
            "_view_name": "LayoutView",
            "align_content": null,
            "align_items": null,
            "align_self": null,
            "border": null,
            "bottom": null,
            "display": null,
            "flex": null,
            "flex_flow": null,
            "grid_area": null,
            "grid_auto_columns": null,
            "grid_auto_flow": null,
            "grid_auto_rows": null,
            "grid_column": null,
            "grid_gap": null,
            "grid_row": null,
            "grid_template_areas": null,
            "grid_template_columns": null,
            "grid_template_rows": null,
            "height": null,
            "justify_content": null,
            "justify_items": null,
            "left": null,
            "margin": null,
            "max_height": null,
            "max_width": null,
            "min_height": null,
            "min_width": null,
            "object_fit": null,
            "object_position": null,
            "order": null,
            "overflow": null,
            "overflow_x": null,
            "overflow_y": null,
            "padding": null,
            "right": null,
            "top": null,
            "visibility": null,
            "width": null
          }
        },
        "9b6ff60419e44cbbb89a1d5ae9818c43": {
          "model_module": "@jupyter-widgets/controls",
          "model_module_version": "1.5.0",
          "model_name": "FloatProgressModel",
          "state": {
            "_dom_classes": [],
            "_model_module": "@jupyter-widgets/controls",
            "_model_module_version": "1.5.0",
            "_model_name": "FloatProgressModel",
            "_view_count": null,
            "_view_module": "@jupyter-widgets/controls",
            "_view_module_version": "1.5.0",
            "_view_name": "ProgressView",
            "bar_style": "success",
            "description": "",
            "description_tooltip": null,
            "layout": "IPY_MODEL_4cc793c391b4434bba3c0c0f6b909e94",
            "max": 440449768,
            "min": 0,
            "orientation": "horizontal",
            "style": "IPY_MODEL_40e99c2d5c2946368210b102e6e5a0fd",
            "value": 440449768
          }
        },
        "9ed0789713294feab97f9e3515a793de": {
          "model_module": "@jupyter-widgets/controls",
          "model_module_version": "1.5.0",
          "model_name": "DescriptionStyleModel",
          "state": {
            "_model_module": "@jupyter-widgets/controls",
            "_model_module_version": "1.5.0",
            "_model_name": "DescriptionStyleModel",
            "_view_count": null,
            "_view_module": "@jupyter-widgets/base",
            "_view_module_version": "1.2.0",
            "_view_name": "StyleView",
            "description_width": ""
          }
        },
        "a50c6e833bd84ac09682cc8c1681f44f": {
          "model_module": "@jupyter-widgets/base",
          "model_module_version": "1.2.0",
          "model_name": "LayoutModel",
          "state": {
            "_model_module": "@jupyter-widgets/base",
            "_model_module_version": "1.2.0",
            "_model_name": "LayoutModel",
            "_view_count": null,
            "_view_module": "@jupyter-widgets/base",
            "_view_module_version": "1.2.0",
            "_view_name": "LayoutView",
            "align_content": null,
            "align_items": null,
            "align_self": null,
            "border": null,
            "bottom": null,
            "display": null,
            "flex": null,
            "flex_flow": null,
            "grid_area": null,
            "grid_auto_columns": null,
            "grid_auto_flow": null,
            "grid_auto_rows": null,
            "grid_column": null,
            "grid_gap": null,
            "grid_row": null,
            "grid_template_areas": null,
            "grid_template_columns": null,
            "grid_template_rows": null,
            "height": null,
            "justify_content": null,
            "justify_items": null,
            "left": null,
            "margin": null,
            "max_height": null,
            "max_width": null,
            "min_height": null,
            "min_width": null,
            "object_fit": null,
            "object_position": null,
            "order": null,
            "overflow": null,
            "overflow_x": null,
            "overflow_y": null,
            "padding": null,
            "right": null,
            "top": null,
            "visibility": null,
            "width": null
          }
        },
        "a5188c5466cf404381500ddc2dc51583": {
          "model_module": "@jupyter-widgets/controls",
          "model_module_version": "1.5.0",
          "model_name": "DescriptionStyleModel",
          "state": {
            "_model_module": "@jupyter-widgets/controls",
            "_model_module_version": "1.5.0",
            "_model_name": "DescriptionStyleModel",
            "_view_count": null,
            "_view_module": "@jupyter-widgets/base",
            "_view_module_version": "1.2.0",
            "_view_name": "StyleView",
            "description_width": ""
          }
        },
        "a7272260e93e47b6a36f8d0df781a493": {
          "model_module": "@jupyter-widgets/controls",
          "model_module_version": "1.5.0",
          "model_name": "FloatProgressModel",
          "state": {
            "_dom_classes": [],
            "_model_module": "@jupyter-widgets/controls",
            "_model_module_version": "1.5.0",
            "_model_name": "FloatProgressModel",
            "_view_count": null,
            "_view_module": "@jupyter-widgets/controls",
            "_view_module_version": "1.5.0",
            "_view_name": "ProgressView",
            "bar_style": "success",
            "description": "",
            "description_tooltip": null,
            "layout": "IPY_MODEL_1f81416d66b141f0aa3aa76f0db7470a",
            "max": 313,
            "min": 0,
            "orientation": "horizontal",
            "style": "IPY_MODEL_935f203e53654309a293f9b12fd8eb32",
            "value": 313
          }
        },
        "a8565eb4c89c4052b1062b17b8243f53": {
          "model_module": "@jupyter-widgets/controls",
          "model_module_version": "1.5.0",
          "model_name": "HTMLModel",
          "state": {
            "_dom_classes": [],
            "_model_module": "@jupyter-widgets/controls",
            "_model_module_version": "1.5.0",
            "_model_name": "HTMLModel",
            "_view_count": null,
            "_view_module": "@jupyter-widgets/controls",
            "_view_module_version": "1.5.0",
            "_view_name": "HTMLView",
            "description": "",
            "description_tooltip": null,
            "layout": "IPY_MODEL_127043e8036a49c3817debf0f9fd43e6",
            "placeholder": "​",
            "style": "IPY_MODEL_7f86a9b26cd349d987c3f3a3f903108d",
            "value": " 32620/32620 [01:24&lt;00:00, 362.27 examples/s]"
          }
        },
        "ac883c67cfbc4e7e82a43bc5452099fd": {
          "model_module": "@jupyter-widgets/base",
          "model_module_version": "1.2.0",
          "model_name": "LayoutModel",
          "state": {
            "_model_module": "@jupyter-widgets/base",
            "_model_module_version": "1.2.0",
            "_model_name": "LayoutModel",
            "_view_count": null,
            "_view_module": "@jupyter-widgets/base",
            "_view_module_version": "1.2.0",
            "_view_name": "LayoutView",
            "align_content": null,
            "align_items": null,
            "align_self": null,
            "border": null,
            "bottom": null,
            "display": null,
            "flex": null,
            "flex_flow": null,
            "grid_area": null,
            "grid_auto_columns": null,
            "grid_auto_flow": null,
            "grid_auto_rows": null,
            "grid_column": null,
            "grid_gap": null,
            "grid_row": null,
            "grid_template_areas": null,
            "grid_template_columns": null,
            "grid_template_rows": null,
            "height": null,
            "justify_content": null,
            "justify_items": null,
            "left": null,
            "margin": null,
            "max_height": null,
            "max_width": null,
            "min_height": null,
            "min_width": null,
            "object_fit": null,
            "object_position": null,
            "order": null,
            "overflow": null,
            "overflow_x": null,
            "overflow_y": null,
            "padding": null,
            "right": null,
            "top": null,
            "visibility": null,
            "width": null
          }
        },
        "acf4f435b0b8491994ff942d5b5b57aa": {
          "model_module": "@jupyter-widgets/controls",
          "model_module_version": "1.5.0",
          "model_name": "DescriptionStyleModel",
          "state": {
            "_model_module": "@jupyter-widgets/controls",
            "_model_module_version": "1.5.0",
            "_model_name": "DescriptionStyleModel",
            "_view_count": null,
            "_view_module": "@jupyter-widgets/base",
            "_view_module_version": "1.2.0",
            "_view_name": "StyleView",
            "description_width": ""
          }
        },
        "aec23cbbdb544f48afda58af0d536d50": {
          "model_module": "@jupyter-widgets/controls",
          "model_module_version": "1.5.0",
          "model_name": "HTMLModel",
          "state": {
            "_dom_classes": [],
            "_model_module": "@jupyter-widgets/controls",
            "_model_module_version": "1.5.0",
            "_model_name": "HTMLModel",
            "_view_count": null,
            "_view_module": "@jupyter-widgets/controls",
            "_view_module_version": "1.5.0",
            "_view_name": "HTMLView",
            "description": "",
            "description_tooltip": null,
            "layout": "IPY_MODEL_7c5acad3629b46099bdd06a2213ffdbf",
            "placeholder": "​",
            "style": "IPY_MODEL_422291af535445f79140bdeb7b99b946",
            "value": "vocab.txt: 100%"
          }
        },
        "aef27c9c9ac84d25acfa907878cd36f5": {
          "model_module": "@jupyter-widgets/controls",
          "model_module_version": "1.5.0",
          "model_name": "HTMLModel",
          "state": {
            "_dom_classes": [],
            "_model_module": "@jupyter-widgets/controls",
            "_model_module_version": "1.5.0",
            "_model_name": "HTMLModel",
            "_view_count": null,
            "_view_module": "@jupyter-widgets/controls",
            "_view_module_version": "1.5.0",
            "_view_name": "HTMLView",
            "description": "",
            "description_tooltip": null,
            "layout": "IPY_MODEL_84d0a62de0584dfe9e5194cc7b79cbce",
            "placeholder": "​",
            "style": "IPY_MODEL_a5188c5466cf404381500ddc2dc51583",
            "value": "config.json: 100%"
          }
        },
        "b24ba53129f64545804e97170ca622ef": {
          "model_module": "@jupyter-widgets/base",
          "model_module_version": "1.2.0",
          "model_name": "LayoutModel",
          "state": {
            "_model_module": "@jupyter-widgets/base",
            "_model_module_version": "1.2.0",
            "_model_name": "LayoutModel",
            "_view_count": null,
            "_view_module": "@jupyter-widgets/base",
            "_view_module_version": "1.2.0",
            "_view_name": "LayoutView",
            "align_content": null,
            "align_items": null,
            "align_self": null,
            "border": null,
            "bottom": null,
            "display": null,
            "flex": null,
            "flex_flow": null,
            "grid_area": null,
            "grid_auto_columns": null,
            "grid_auto_flow": null,
            "grid_auto_rows": null,
            "grid_column": null,
            "grid_gap": null,
            "grid_row": null,
            "grid_template_areas": null,
            "grid_template_columns": null,
            "grid_template_rows": null,
            "height": null,
            "justify_content": null,
            "justify_items": null,
            "left": null,
            "margin": null,
            "max_height": null,
            "max_width": null,
            "min_height": null,
            "min_width": null,
            "object_fit": null,
            "object_position": null,
            "order": null,
            "overflow": null,
            "overflow_x": null,
            "overflow_y": null,
            "padding": null,
            "right": null,
            "top": null,
            "visibility": null,
            "width": null
          }
        },
        "b26524de497843aca87cb3774131b2ec": {
          "model_module": "@jupyter-widgets/base",
          "model_module_version": "1.2.0",
          "model_name": "LayoutModel",
          "state": {
            "_model_module": "@jupyter-widgets/base",
            "_model_module_version": "1.2.0",
            "_model_name": "LayoutModel",
            "_view_count": null,
            "_view_module": "@jupyter-widgets/base",
            "_view_module_version": "1.2.0",
            "_view_name": "LayoutView",
            "align_content": null,
            "align_items": null,
            "align_self": null,
            "border": null,
            "bottom": null,
            "display": null,
            "flex": null,
            "flex_flow": null,
            "grid_area": null,
            "grid_auto_columns": null,
            "grid_auto_flow": null,
            "grid_auto_rows": null,
            "grid_column": null,
            "grid_gap": null,
            "grid_row": null,
            "grid_template_areas": null,
            "grid_template_columns": null,
            "grid_template_rows": null,
            "height": null,
            "justify_content": null,
            "justify_items": null,
            "left": null,
            "margin": null,
            "max_height": null,
            "max_width": null,
            "min_height": null,
            "min_width": null,
            "object_fit": null,
            "object_position": null,
            "order": null,
            "overflow": null,
            "overflow_x": null,
            "overflow_y": null,
            "padding": null,
            "right": null,
            "top": null,
            "visibility": null,
            "width": null
          }
        },
        "b66b2b627e484285a68fc9c8a5c29d1d": {
          "model_module": "@jupyter-widgets/controls",
          "model_module_version": "1.5.0",
          "model_name": "HBoxModel",
          "state": {
            "_dom_classes": [],
            "_model_module": "@jupyter-widgets/controls",
            "_model_module_version": "1.5.0",
            "_model_name": "HBoxModel",
            "_view_count": null,
            "_view_module": "@jupyter-widgets/controls",
            "_view_module_version": "1.5.0",
            "_view_name": "HBoxView",
            "box_style": "",
            "children": [
              "IPY_MODEL_2f4a77ac5cbb4c3d8b4538992a5a0f46",
              "IPY_MODEL_ec882738269649399e6606157da67d19",
              "IPY_MODEL_7a85a5225dbd4bd9850ee2b2081793a4"
            ],
            "layout": "IPY_MODEL_7b6e02582ff14a9d952445cfcb98e4f4"
          }
        },
        "ba7891efb78042dfb203e4b391db1236": {
          "model_module": "@jupyter-widgets/controls",
          "model_module_version": "1.5.0",
          "model_name": "ProgressStyleModel",
          "state": {
            "_model_module": "@jupyter-widgets/controls",
            "_model_module_version": "1.5.0",
            "_model_name": "ProgressStyleModel",
            "_view_count": null,
            "_view_module": "@jupyter-widgets/base",
            "_view_module_version": "1.2.0",
            "_view_name": "StyleView",
            "bar_color": null,
            "description_width": ""
          }
        },
        "c139deec26004e4e92a8fc6d22f6e5eb": {
          "model_module": "@jupyter-widgets/controls",
          "model_module_version": "1.5.0",
          "model_name": "DescriptionStyleModel",
          "state": {
            "_model_module": "@jupyter-widgets/controls",
            "_model_module_version": "1.5.0",
            "_model_name": "DescriptionStyleModel",
            "_view_count": null,
            "_view_module": "@jupyter-widgets/base",
            "_view_module_version": "1.2.0",
            "_view_name": "StyleView",
            "description_width": ""
          }
        },
        "c240a7a126c8495c82bf98d40ae330de": {
          "model_module": "@jupyter-widgets/controls",
          "model_module_version": "1.5.0",
          "model_name": "HBoxModel",
          "state": {
            "_dom_classes": [],
            "_model_module": "@jupyter-widgets/controls",
            "_model_module_version": "1.5.0",
            "_model_name": "HBoxModel",
            "_view_count": null,
            "_view_module": "@jupyter-widgets/controls",
            "_view_module_version": "1.5.0",
            "_view_name": "HBoxView",
            "box_style": "",
            "children": [
              "IPY_MODEL_aec23cbbdb544f48afda58af0d536d50",
              "IPY_MODEL_7ba39cfc5fc84273a326fb88fe7694eb",
              "IPY_MODEL_cbb0ddf20aa141ec88913ca0a4ea9289"
            ],
            "layout": "IPY_MODEL_7225d021e4b946b28f340f81d9dd046c"
          }
        },
        "c28289132d9a42ac9d15e6718bea4dea": {
          "model_module": "@jupyter-widgets/controls",
          "model_module_version": "1.5.0",
          "model_name": "DescriptionStyleModel",
          "state": {
            "_model_module": "@jupyter-widgets/controls",
            "_model_module_version": "1.5.0",
            "_model_name": "DescriptionStyleModel",
            "_view_count": null,
            "_view_module": "@jupyter-widgets/base",
            "_view_module_version": "1.2.0",
            "_view_name": "StyleView",
            "description_width": ""
          }
        },
        "c696db8fd0dc469388ba35826e44893e": {
          "model_module": "@jupyter-widgets/controls",
          "model_module_version": "1.5.0",
          "model_name": "DescriptionStyleModel",
          "state": {
            "_model_module": "@jupyter-widgets/controls",
            "_model_module_version": "1.5.0",
            "_model_name": "DescriptionStyleModel",
            "_view_count": null,
            "_view_module": "@jupyter-widgets/base",
            "_view_module_version": "1.2.0",
            "_view_name": "StyleView",
            "description_width": ""
          }
        },
        "c992671452844c798a543e06abaebe11": {
          "model_module": "@jupyter-widgets/base",
          "model_module_version": "1.2.0",
          "model_name": "LayoutModel",
          "state": {
            "_model_module": "@jupyter-widgets/base",
            "_model_module_version": "1.2.0",
            "_model_name": "LayoutModel",
            "_view_count": null,
            "_view_module": "@jupyter-widgets/base",
            "_view_module_version": "1.2.0",
            "_view_name": "LayoutView",
            "align_content": null,
            "align_items": null,
            "align_self": null,
            "border": null,
            "bottom": null,
            "display": null,
            "flex": null,
            "flex_flow": null,
            "grid_area": null,
            "grid_auto_columns": null,
            "grid_auto_flow": null,
            "grid_auto_rows": null,
            "grid_column": null,
            "grid_gap": null,
            "grid_row": null,
            "grid_template_areas": null,
            "grid_template_columns": null,
            "grid_template_rows": null,
            "height": null,
            "justify_content": null,
            "justify_items": null,
            "left": null,
            "margin": null,
            "max_height": null,
            "max_width": null,
            "min_height": null,
            "min_width": null,
            "object_fit": null,
            "object_position": null,
            "order": null,
            "overflow": null,
            "overflow_x": null,
            "overflow_y": null,
            "padding": null,
            "right": null,
            "top": null,
            "visibility": null,
            "width": null
          }
        },
        "ca62d5157c504fd980f1499a36cb83ab": {
          "model_module": "@jupyter-widgets/base",
          "model_module_version": "1.2.0",
          "model_name": "LayoutModel",
          "state": {
            "_model_module": "@jupyter-widgets/base",
            "_model_module_version": "1.2.0",
            "_model_name": "LayoutModel",
            "_view_count": null,
            "_view_module": "@jupyter-widgets/base",
            "_view_module_version": "1.2.0",
            "_view_name": "LayoutView",
            "align_content": null,
            "align_items": null,
            "align_self": null,
            "border": null,
            "bottom": null,
            "display": null,
            "flex": null,
            "flex_flow": null,
            "grid_area": null,
            "grid_auto_columns": null,
            "grid_auto_flow": null,
            "grid_auto_rows": null,
            "grid_column": null,
            "grid_gap": null,
            "grid_row": null,
            "grid_template_areas": null,
            "grid_template_columns": null,
            "grid_template_rows": null,
            "height": null,
            "justify_content": null,
            "justify_items": null,
            "left": null,
            "margin": null,
            "max_height": null,
            "max_width": null,
            "min_height": null,
            "min_width": null,
            "object_fit": null,
            "object_position": null,
            "order": null,
            "overflow": null,
            "overflow_x": null,
            "overflow_y": null,
            "padding": null,
            "right": null,
            "top": null,
            "visibility": null,
            "width": null
          }
        },
        "cb426892fe5b4b698d4752aa50e76743": {
          "model_module": "@jupyter-widgets/controls",
          "model_module_version": "1.5.0",
          "model_name": "DescriptionStyleModel",
          "state": {
            "_model_module": "@jupyter-widgets/controls",
            "_model_module_version": "1.5.0",
            "_model_name": "DescriptionStyleModel",
            "_view_count": null,
            "_view_module": "@jupyter-widgets/base",
            "_view_module_version": "1.2.0",
            "_view_name": "StyleView",
            "description_width": ""
          }
        },
        "cbb0ddf20aa141ec88913ca0a4ea9289": {
          "model_module": "@jupyter-widgets/controls",
          "model_module_version": "1.5.0",
          "model_name": "HTMLModel",
          "state": {
            "_dom_classes": [],
            "_model_module": "@jupyter-widgets/controls",
            "_model_module_version": "1.5.0",
            "_model_name": "HTMLModel",
            "_view_count": null,
            "_view_module": "@jupyter-widgets/controls",
            "_view_module_version": "1.5.0",
            "_view_name": "HTMLView",
            "description": "",
            "description_tooltip": null,
            "layout": "IPY_MODEL_84ad2b6289114662ab48f8dc0327fb03",
            "placeholder": "​",
            "style": "IPY_MODEL_d9d22ac711bc43edbd7c8cec5c4f66e1",
            "value": " 213k/213k [00:00&lt;00:00, 849kB/s]"
          }
        },
        "ce2892599e91448aa35fc4f706eef8da": {
          "model_module": "@jupyter-widgets/base",
          "model_module_version": "1.2.0",
          "model_name": "LayoutModel",
          "state": {
            "_model_module": "@jupyter-widgets/base",
            "_model_module_version": "1.2.0",
            "_model_name": "LayoutModel",
            "_view_count": null,
            "_view_module": "@jupyter-widgets/base",
            "_view_module_version": "1.2.0",
            "_view_name": "LayoutView",
            "align_content": null,
            "align_items": null,
            "align_self": null,
            "border": null,
            "bottom": null,
            "display": null,
            "flex": null,
            "flex_flow": null,
            "grid_area": null,
            "grid_auto_columns": null,
            "grid_auto_flow": null,
            "grid_auto_rows": null,
            "grid_column": null,
            "grid_gap": null,
            "grid_row": null,
            "grid_template_areas": null,
            "grid_template_columns": null,
            "grid_template_rows": null,
            "height": null,
            "justify_content": null,
            "justify_items": null,
            "left": null,
            "margin": null,
            "max_height": null,
            "max_width": null,
            "min_height": null,
            "min_width": null,
            "object_fit": null,
            "object_position": null,
            "order": null,
            "overflow": null,
            "overflow_x": null,
            "overflow_y": null,
            "padding": null,
            "right": null,
            "top": null,
            "visibility": null,
            "width": null
          }
        },
        "cfbb47b35ad64584875a95480c9f1ee7": {
          "model_module": "@jupyter-widgets/base",
          "model_module_version": "1.2.0",
          "model_name": "LayoutModel",
          "state": {
            "_model_module": "@jupyter-widgets/base",
            "_model_module_version": "1.2.0",
            "_model_name": "LayoutModel",
            "_view_count": null,
            "_view_module": "@jupyter-widgets/base",
            "_view_module_version": "1.2.0",
            "_view_name": "LayoutView",
            "align_content": null,
            "align_items": null,
            "align_self": null,
            "border": null,
            "bottom": null,
            "display": null,
            "flex": null,
            "flex_flow": null,
            "grid_area": null,
            "grid_auto_columns": null,
            "grid_auto_flow": null,
            "grid_auto_rows": null,
            "grid_column": null,
            "grid_gap": null,
            "grid_row": null,
            "grid_template_areas": null,
            "grid_template_columns": null,
            "grid_template_rows": null,
            "height": null,
            "justify_content": null,
            "justify_items": null,
            "left": null,
            "margin": null,
            "max_height": null,
            "max_width": null,
            "min_height": null,
            "min_width": null,
            "object_fit": null,
            "object_position": null,
            "order": null,
            "overflow": null,
            "overflow_x": null,
            "overflow_y": null,
            "padding": null,
            "right": null,
            "top": null,
            "visibility": null,
            "width": null
          }
        },
        "d3ba2576b5a34bb8b8be4c6bc4acf3fd": {
          "model_module": "@jupyter-widgets/controls",
          "model_module_version": "1.5.0",
          "model_name": "ProgressStyleModel",
          "state": {
            "_model_module": "@jupyter-widgets/controls",
            "_model_module_version": "1.5.0",
            "_model_name": "ProgressStyleModel",
            "_view_count": null,
            "_view_module": "@jupyter-widgets/base",
            "_view_module_version": "1.2.0",
            "_view_name": "StyleView",
            "bar_color": null,
            "description_width": ""
          }
        },
        "d9d22ac711bc43edbd7c8cec5c4f66e1": {
          "model_module": "@jupyter-widgets/controls",
          "model_module_version": "1.5.0",
          "model_name": "DescriptionStyleModel",
          "state": {
            "_model_module": "@jupyter-widgets/controls",
            "_model_module_version": "1.5.0",
            "_model_name": "DescriptionStyleModel",
            "_view_count": null,
            "_view_module": "@jupyter-widgets/base",
            "_view_module_version": "1.2.0",
            "_view_name": "StyleView",
            "description_width": ""
          }
        },
        "dbf813d97aea47c1af7ae29ee175ca2a": {
          "model_module": "@jupyter-widgets/base",
          "model_module_version": "1.2.0",
          "model_name": "LayoutModel",
          "state": {
            "_model_module": "@jupyter-widgets/base",
            "_model_module_version": "1.2.0",
            "_model_name": "LayoutModel",
            "_view_count": null,
            "_view_module": "@jupyter-widgets/base",
            "_view_module_version": "1.2.0",
            "_view_name": "LayoutView",
            "align_content": null,
            "align_items": null,
            "align_self": null,
            "border": null,
            "bottom": null,
            "display": null,
            "flex": null,
            "flex_flow": null,
            "grid_area": null,
            "grid_auto_columns": null,
            "grid_auto_flow": null,
            "grid_auto_rows": null,
            "grid_column": null,
            "grid_gap": null,
            "grid_row": null,
            "grid_template_areas": null,
            "grid_template_columns": null,
            "grid_template_rows": null,
            "height": null,
            "justify_content": null,
            "justify_items": null,
            "left": null,
            "margin": null,
            "max_height": null,
            "max_width": null,
            "min_height": null,
            "min_width": null,
            "object_fit": null,
            "object_position": null,
            "order": null,
            "overflow": null,
            "overflow_x": null,
            "overflow_y": null,
            "padding": null,
            "right": null,
            "top": null,
            "visibility": null,
            "width": null
          }
        },
        "e4cac4eb27e144a49516f1a92cc63cb7": {
          "model_module": "@jupyter-widgets/controls",
          "model_module_version": "1.5.0",
          "model_name": "HTMLModel",
          "state": {
            "_dom_classes": [],
            "_model_module": "@jupyter-widgets/controls",
            "_model_module_version": "1.5.0",
            "_model_name": "HTMLModel",
            "_view_count": null,
            "_view_module": "@jupyter-widgets/controls",
            "_view_module_version": "1.5.0",
            "_view_name": "HTMLView",
            "description": "",
            "description_tooltip": null,
            "layout": "IPY_MODEL_84949b5249ba4a25be0cbf4aa1c063ce",
            "placeholder": "​",
            "style": "IPY_MODEL_c139deec26004e4e92a8fc6d22f6e5eb",
            "value": " 570/570 [00:00&lt;00:00, 45.1kB/s]"
          }
        },
        "e80a13566bc048dd884e2e702862f5fe": {
          "model_module": "@jupyter-widgets/controls",
          "model_module_version": "1.5.0",
          "model_name": "HBoxModel",
          "state": {
            "_dom_classes": [],
            "_model_module": "@jupyter-widgets/controls",
            "_model_module_version": "1.5.0",
            "_model_name": "HBoxModel",
            "_view_count": null,
            "_view_module": "@jupyter-widgets/controls",
            "_view_module_version": "1.5.0",
            "_view_name": "HBoxView",
            "box_style": "",
            "children": [
              "IPY_MODEL_77ae3ff8eb7c405595766a142a52eed0",
              "IPY_MODEL_126a62e9cd864445acf5fe4aa828982f",
              "IPY_MODEL_f10cb4143b4c4f35ba85e2926ea970e7"
            ],
            "layout": "IPY_MODEL_25f104cf23df4be8ba3d8c5da62f09d5"
          }
        },
        "ec882738269649399e6606157da67d19": {
          "model_module": "@jupyter-widgets/controls",
          "model_module_version": "1.5.0",
          "model_name": "FloatProgressModel",
          "state": {
            "_dom_classes": [],
            "_model_module": "@jupyter-widgets/controls",
            "_model_module_version": "1.5.0",
            "_model_name": "FloatProgressModel",
            "_view_count": null,
            "_view_module": "@jupyter-widgets/controls",
            "_view_module_version": "1.5.0",
            "_view_name": "ProgressView",
            "bar_style": "success",
            "description": "",
            "description_tooltip": null,
            "layout": "IPY_MODEL_6bd6e75eef9e48a4b101434a07a8ae83",
            "max": 48,
            "min": 0,
            "orientation": "horizontal",
            "style": "IPY_MODEL_ba7891efb78042dfb203e4b391db1236",
            "value": 48
          }
        },
        "f10cb4143b4c4f35ba85e2926ea970e7": {
          "model_module": "@jupyter-widgets/controls",
          "model_module_version": "1.5.0",
          "model_name": "HTMLModel",
          "state": {
            "_dom_classes": [],
            "_model_module": "@jupyter-widgets/controls",
            "_model_module_version": "1.5.0",
            "_model_name": "HTMLModel",
            "_view_count": null,
            "_view_module": "@jupyter-widgets/controls",
            "_view_module_version": "1.5.0",
            "_view_name": "HTMLView",
            "description": "",
            "description_tooltip": null,
            "layout": "IPY_MODEL_0622460d9ef04297877f2cbee7d765e8",
            "placeholder": "​",
            "style": "IPY_MODEL_810688e84e3144b5b2a2d71bc5e14744",
            "value": " 40826/40826 [02:41&lt;00:00, 226.18 examples/s]"
          }
        },
        "f3e5caad01b049c7bffef6d043862361": {
          "model_module": "@jupyter-widgets/controls",
          "model_module_version": "1.5.0",
          "model_name": "HBoxModel",
          "state": {
            "_dom_classes": [],
            "_model_module": "@jupyter-widgets/controls",
            "_model_module_version": "1.5.0",
            "_model_name": "HBoxModel",
            "_view_count": null,
            "_view_module": "@jupyter-widgets/controls",
            "_view_module_version": "1.5.0",
            "_view_name": "HBoxView",
            "box_style": "",
            "children": [
              "IPY_MODEL_1389fae53dd947058c115f80c94af6e1",
              "IPY_MODEL_7e9de6a278fd4364a87d8240d83ae28e",
              "IPY_MODEL_a8565eb4c89c4052b1062b17b8243f53"
            ],
            "layout": "IPY_MODEL_b26524de497843aca87cb3774131b2ec"
          }
        },
        "f5f2863a0d274b6ab67425e998546f89": {
          "model_module": "@jupyter-widgets/base",
          "model_module_version": "1.2.0",
          "model_name": "LayoutModel",
          "state": {
            "_model_module": "@jupyter-widgets/base",
            "_model_module_version": "1.2.0",
            "_model_name": "LayoutModel",
            "_view_count": null,
            "_view_module": "@jupyter-widgets/base",
            "_view_module_version": "1.2.0",
            "_view_name": "LayoutView",
            "align_content": null,
            "align_items": null,
            "align_self": null,
            "border": null,
            "bottom": null,
            "display": null,
            "flex": null,
            "flex_flow": null,
            "grid_area": null,
            "grid_auto_columns": null,
            "grid_auto_flow": null,
            "grid_auto_rows": null,
            "grid_column": null,
            "grid_gap": null,
            "grid_row": null,
            "grid_template_areas": null,
            "grid_template_columns": null,
            "grid_template_rows": null,
            "height": null,
            "justify_content": null,
            "justify_items": null,
            "left": null,
            "margin": null,
            "max_height": null,
            "max_width": null,
            "min_height": null,
            "min_width": null,
            "object_fit": null,
            "object_position": null,
            "order": null,
            "overflow": null,
            "overflow_x": null,
            "overflow_y": null,
            "padding": null,
            "right": null,
            "top": null,
            "visibility": null,
            "width": null
          }
        },
        "fa7c3584b47b45edae1780b789f7c60e": {
          "model_module": "@jupyter-widgets/base",
          "model_module_version": "1.2.0",
          "model_name": "LayoutModel",
          "state": {
            "_model_module": "@jupyter-widgets/base",
            "_model_module_version": "1.2.0",
            "_model_name": "LayoutModel",
            "_view_count": null,
            "_view_module": "@jupyter-widgets/base",
            "_view_module_version": "1.2.0",
            "_view_name": "LayoutView",
            "align_content": null,
            "align_items": null,
            "align_self": null,
            "border": null,
            "bottom": null,
            "display": null,
            "flex": null,
            "flex_flow": null,
            "grid_area": null,
            "grid_auto_columns": null,
            "grid_auto_flow": null,
            "grid_auto_rows": null,
            "grid_column": null,
            "grid_gap": null,
            "grid_row": null,
            "grid_template_areas": null,
            "grid_template_columns": null,
            "grid_template_rows": null,
            "height": null,
            "justify_content": null,
            "justify_items": null,
            "left": null,
            "margin": null,
            "max_height": null,
            "max_width": null,
            "min_height": null,
            "min_width": null,
            "object_fit": null,
            "object_position": null,
            "order": null,
            "overflow": null,
            "overflow_x": null,
            "overflow_y": null,
            "padding": null,
            "right": null,
            "top": null,
            "visibility": null,
            "width": null
          }
        },
        "fa9e0cbc89734c8b8e861b1dd3980768": {
          "model_module": "@jupyter-widgets/controls",
          "model_module_version": "1.5.0",
          "model_name": "DescriptionStyleModel",
          "state": {
            "_model_module": "@jupyter-widgets/controls",
            "_model_module_version": "1.5.0",
            "_model_name": "DescriptionStyleModel",
            "_view_count": null,
            "_view_module": "@jupyter-widgets/base",
            "_view_module_version": "1.2.0",
            "_view_name": "StyleView",
            "description_width": ""
          }
        }
      }
    }
  },
  "nbformat": 4,
  "nbformat_minor": 0
}
