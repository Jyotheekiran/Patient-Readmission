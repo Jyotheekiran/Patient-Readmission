{
  "cells": [
    {
      "cell_type": "markdown",
      "metadata": {
        "id": "view-in-github",
        "colab_type": "text"
      },
      "source": [
        "<a href=\"https://colab.research.google.com/github/Jyotheekiran/Patient-Readmission/blob/main/modeling.ipynb\" target=\"_parent\"><img src=\"https://colab.research.google.com/assets/colab-badge.svg\" alt=\"Open In Colab\"/></a>"
      ]
    },
    {
      "cell_type": "markdown",
      "metadata": {
        "id": "mSdzUv25L5ve"
      },
      "source": [
        "## Introduction:\n",
        "\n",
        "Following our comprehensive exploratory analysis in data_exploration.ipynb, where we identified key variables and established foundational insights into the factors influencing patient readmission, this notebook, modeling.ipynb, aims to build upon our initial findings to develop and refine predictive models. Our goal is to leverage the patterns and relationships unearthed during the data exploration phase to construct a robust predictive framework.\n",
        "\n",
        "## Purpose:\n",
        "\n",
        "The primary purpose of this notebook is to develop a series of machine learning models that can accurately predict patient readmission based on clinical data. This involves:\n",
        "\n",
        "Testing various algorithms to find the most effective approach.\n",
        "Tuning models to optimize accuracy and other relevant performance metrics.\n",
        "Assessing feature importance to understand which factors most significantly impact readmission.\n",
        "Scope:\n",
        "\n",
        "The scope of this notebook encompasses several key activities:\n",
        "\n",
        "Model Selection: Evaluate multiple modeling techniques, including logistic regression, decision trees, and ensemble methods such as random forests and gradient boosting machines.\n",
        "Parameter Tuning: Utilize techniques such as grid search and randomized search to fine-tune the hyperparameters of the most promising models.\n",
        "Model Validation: Apply cross-validation methods to ensure that our models are generalizable and robust against overfitting.\n",
        "Performance Evaluation: Use a comprehensive set of metrics to evaluate model performance, including accuracy, precision, recall, F1 score, and the area under the ROC curve.\n",
        "## Objectives:\n",
        "\n",
        "Develop Predictive Models: Construct models that can accurately predict whether a patient will be readmitted within a specific time frame following their initial discharge.\n",
        "Identify Key Predictors: Determine which clinical and demographic factors are most predictive of readmission, thereby providing insights that could inform targeted interventions.\n",
        "Optimize Model Performance: Achieve high performance in predicting readmission, focusing on both accuracy and the ability to generalize across unseen data.\n",
        "Prepare for Deployment: Ready the best-performing model for potential deployment in a clinical setting, ensuring it can operate in real-time with new patient data.\n",
        "Continuation from Previous Steps:\n",
        "\n",
        "This notebook is a direct continuation from the data_exploration.ipynb, where initial data cleaning, preprocessing, and exploratory analysis were conducted. Insights gained from the exploration phase have informed the strategies employed in this modeling phase, ensuring a data-driven approach to our predictive modeling efforts.\n",
        "\n",
        "\n",
        "By the end of this notebook, we aim to have a clear understanding of the best models for predicting patient readmission. We will also document our findings and prepare for the potential implementation of our model in a clinical environment to improve patient outcomes and reduce readmission rates.\n",
        "\n",
        "\n",
        "we can now focus on building and training our model in the modeling.ipynb notebook."
      ]
    },
    {
      "cell_type": "code",
      "execution_count": 1,
      "metadata": {
        "colab": {
          "base_uri": "https://localhost:8080/"
        },
        "collapsed": true,
        "id": "kiAVmPCPeidw",
        "outputId": "63c4b3c2-3244-4b9f-ca53-62439191565a"
      },
      "outputs": [
        {
          "output_type": "stream",
          "name": "stdout",
          "text": [
            "Requirement already satisfied: pandas==2.1.4 in /usr/local/lib/python3.10/dist-packages (2.1.4)\n",
            "Requirement already satisfied: numpy<2,>=1.22.4 in /usr/local/lib/python3.10/dist-packages (from pandas==2.1.4) (1.26.4)\n",
            "Requirement already satisfied: python-dateutil>=2.8.2 in /usr/local/lib/python3.10/dist-packages (from pandas==2.1.4) (2.8.2)\n",
            "Requirement already satisfied: pytz>=2020.1 in /usr/local/lib/python3.10/dist-packages (from pandas==2.1.4) (2024.2)\n",
            "Requirement already satisfied: tzdata>=2022.1 in /usr/local/lib/python3.10/dist-packages (from pandas==2.1.4) (2024.1)\n",
            "Requirement already satisfied: six>=1.5 in /usr/local/lib/python3.10/dist-packages (from python-dateutil>=2.8.2->pandas==2.1.4) (1.16.0)\n",
            "Requirement already satisfied: transformers in /usr/local/lib/python3.10/dist-packages (4.44.2)\n",
            "Requirement already satisfied: torch in /usr/local/lib/python3.10/dist-packages (2.4.0+cu121)\n",
            "Requirement already satisfied: seaborn in /usr/local/lib/python3.10/dist-packages (0.13.1)\n",
            "Requirement already satisfied: matplotlib in /usr/local/lib/python3.10/dist-packages (3.7.1)\n",
            "Requirement already satisfied: scikit-learn in /usr/local/lib/python3.10/dist-packages (1.3.2)\n",
            "Collecting shap\n",
            "  Downloading shap-0.46.0-cp310-cp310-manylinux_2_12_x86_64.manylinux2010_x86_64.manylinux_2_17_x86_64.manylinux2014_x86_64.whl.metadata (24 kB)\n",
            "Collecting lime\n",
            "  Downloading lime-0.2.0.1.tar.gz (275 kB)\n",
            "\u001b[2K     \u001b[90m━━━━━━━━━━━━━━━━━━━━━━━━━━━━━━━━━━━━━━━━\u001b[0m \u001b[32m275.7/275.7 kB\u001b[0m \u001b[31m2.0 MB/s\u001b[0m eta \u001b[36m0:00:00\u001b[0m\n",
            "\u001b[?25h  Preparing metadata (setup.py) ... \u001b[?25l\u001b[?25hdone\n",
            "Requirement already satisfied: filelock in /usr/local/lib/python3.10/dist-packages (from transformers) (3.16.0)\n",
            "Requirement already satisfied: huggingface-hub<1.0,>=0.23.2 in /usr/local/lib/python3.10/dist-packages (from transformers) (0.24.7)\n",
            "Requirement already satisfied: numpy>=1.17 in /usr/local/lib/python3.10/dist-packages (from transformers) (1.26.4)\n",
            "Requirement already satisfied: packaging>=20.0 in /usr/local/lib/python3.10/dist-packages (from transformers) (24.1)\n",
            "Requirement already satisfied: pyyaml>=5.1 in /usr/local/lib/python3.10/dist-packages (from transformers) (6.0.2)\n",
            "Requirement already satisfied: regex!=2019.12.17 in /usr/local/lib/python3.10/dist-packages (from transformers) (2024.5.15)\n",
            "Requirement already satisfied: requests in /usr/local/lib/python3.10/dist-packages (from transformers) (2.32.3)\n",
            "Requirement already satisfied: safetensors>=0.4.1 in /usr/local/lib/python3.10/dist-packages (from transformers) (0.4.5)\n",
            "Requirement already satisfied: tokenizers<0.20,>=0.19 in /usr/local/lib/python3.10/dist-packages (from transformers) (0.19.1)\n",
            "Requirement already satisfied: tqdm>=4.27 in /usr/local/lib/python3.10/dist-packages (from transformers) (4.66.5)\n",
            "Requirement already satisfied: typing-extensions>=4.8.0 in /usr/local/lib/python3.10/dist-packages (from torch) (4.12.2)\n",
            "Requirement already satisfied: sympy in /usr/local/lib/python3.10/dist-packages (from torch) (1.13.2)\n",
            "Requirement already satisfied: networkx in /usr/local/lib/python3.10/dist-packages (from torch) (3.3)\n",
            "Requirement already satisfied: jinja2 in /usr/local/lib/python3.10/dist-packages (from torch) (3.1.4)\n",
            "Requirement already satisfied: fsspec in /usr/local/lib/python3.10/dist-packages (from torch) (2024.6.1)\n",
            "Requirement already satisfied: pandas>=1.2 in /usr/local/lib/python3.10/dist-packages (from seaborn) (2.1.4)\n",
            "Requirement already satisfied: contourpy>=1.0.1 in /usr/local/lib/python3.10/dist-packages (from matplotlib) (1.3.0)\n",
            "Requirement already satisfied: cycler>=0.10 in /usr/local/lib/python3.10/dist-packages (from matplotlib) (0.12.1)\n",
            "Requirement already satisfied: fonttools>=4.22.0 in /usr/local/lib/python3.10/dist-packages (from matplotlib) (4.53.1)\n",
            "Requirement already satisfied: kiwisolver>=1.0.1 in /usr/local/lib/python3.10/dist-packages (from matplotlib) (1.4.7)\n",
            "Requirement already satisfied: pillow>=6.2.0 in /usr/local/lib/python3.10/dist-packages (from matplotlib) (9.4.0)\n",
            "Requirement already satisfied: pyparsing>=2.3.1 in /usr/local/lib/python3.10/dist-packages (from matplotlib) (3.1.4)\n",
            "Requirement already satisfied: python-dateutil>=2.7 in /usr/local/lib/python3.10/dist-packages (from matplotlib) (2.8.2)\n",
            "Requirement already satisfied: scipy>=1.5.0 in /usr/local/lib/python3.10/dist-packages (from scikit-learn) (1.13.1)\n",
            "Requirement already satisfied: joblib>=1.1.1 in /usr/local/lib/python3.10/dist-packages (from scikit-learn) (1.4.2)\n",
            "Requirement already satisfied: threadpoolctl>=2.0.0 in /usr/local/lib/python3.10/dist-packages (from scikit-learn) (3.5.0)\n",
            "Collecting slicer==0.0.8 (from shap)\n",
            "  Downloading slicer-0.0.8-py3-none-any.whl.metadata (4.0 kB)\n",
            "Requirement already satisfied: numba in /usr/local/lib/python3.10/dist-packages (from shap) (0.60.0)\n",
            "Requirement already satisfied: cloudpickle in /usr/local/lib/python3.10/dist-packages (from shap) (2.2.1)\n",
            "Requirement already satisfied: scikit-image>=0.12 in /usr/local/lib/python3.10/dist-packages (from lime) (0.23.2)\n",
            "Requirement already satisfied: pytz>=2020.1 in /usr/local/lib/python3.10/dist-packages (from pandas>=1.2->seaborn) (2024.2)\n",
            "Requirement already satisfied: tzdata>=2022.1 in /usr/local/lib/python3.10/dist-packages (from pandas>=1.2->seaborn) (2024.1)\n",
            "Requirement already satisfied: six>=1.5 in /usr/local/lib/python3.10/dist-packages (from python-dateutil>=2.7->matplotlib) (1.16.0)\n",
            "Requirement already satisfied: imageio>=2.33 in /usr/local/lib/python3.10/dist-packages (from scikit-image>=0.12->lime) (2.34.2)\n",
            "Requirement already satisfied: tifffile>=2022.8.12 in /usr/local/lib/python3.10/dist-packages (from scikit-image>=0.12->lime) (2024.8.30)\n",
            "Requirement already satisfied: lazy-loader>=0.4 in /usr/local/lib/python3.10/dist-packages (from scikit-image>=0.12->lime) (0.4)\n",
            "Requirement already satisfied: MarkupSafe>=2.0 in /usr/local/lib/python3.10/dist-packages (from jinja2->torch) (2.1.5)\n",
            "Requirement already satisfied: llvmlite<0.44,>=0.43.0dev0 in /usr/local/lib/python3.10/dist-packages (from numba->shap) (0.43.0)\n",
            "Requirement already satisfied: charset-normalizer<4,>=2 in /usr/local/lib/python3.10/dist-packages (from requests->transformers) (3.3.2)\n",
            "Requirement already satisfied: idna<4,>=2.5 in /usr/local/lib/python3.10/dist-packages (from requests->transformers) (3.8)\n",
            "Requirement already satisfied: urllib3<3,>=1.21.1 in /usr/local/lib/python3.10/dist-packages (from requests->transformers) (2.0.7)\n",
            "Requirement already satisfied: certifi>=2017.4.17 in /usr/local/lib/python3.10/dist-packages (from requests->transformers) (2024.8.30)\n",
            "Requirement already satisfied: mpmath<1.4,>=1.1.0 in /usr/local/lib/python3.10/dist-packages (from sympy->torch) (1.3.0)\n",
            "Downloading shap-0.46.0-cp310-cp310-manylinux_2_12_x86_64.manylinux2010_x86_64.manylinux_2_17_x86_64.manylinux2014_x86_64.whl (540 kB)\n",
            "\u001b[2K   \u001b[90m━━━━━━━━━━━━━━━━━━━━━━━━━━━━━━━━━━━━━━━━\u001b[0m \u001b[32m540.1/540.1 kB\u001b[0m \u001b[31m8.5 MB/s\u001b[0m eta \u001b[36m0:00:00\u001b[0m\n",
            "\u001b[?25hDownloading slicer-0.0.8-py3-none-any.whl (15 kB)\n",
            "Building wheels for collected packages: lime\n",
            "  Building wheel for lime (setup.py) ... \u001b[?25l\u001b[?25hdone\n",
            "  Created wheel for lime: filename=lime-0.2.0.1-py3-none-any.whl size=283834 sha256=5b6226878700b1b2d0ed5cd51c58af19512e08d2f5732b39d912b0c961a5289f\n",
            "  Stored in directory: /root/.cache/pip/wheels/fd/a2/af/9ac0a1a85a27f314a06b39e1f492bee1547d52549a4606ed89\n",
            "Successfully built lime\n",
            "Installing collected packages: slicer, shap, lime\n",
            "Successfully installed lime-0.2.0.1 shap-0.46.0 slicer-0.0.8\n",
            "Requirement already satisfied: accelerate in /usr/local/lib/python3.10/dist-packages (0.34.2)\n",
            "Requirement already satisfied: transformers[torch] in /usr/local/lib/python3.10/dist-packages (4.44.2)\n",
            "Requirement already satisfied: filelock in /usr/local/lib/python3.10/dist-packages (from transformers[torch]) (3.16.0)\n",
            "Requirement already satisfied: huggingface-hub<1.0,>=0.23.2 in /usr/local/lib/python3.10/dist-packages (from transformers[torch]) (0.24.7)\n",
            "Requirement already satisfied: numpy>=1.17 in /usr/local/lib/python3.10/dist-packages (from transformers[torch]) (1.26.4)\n",
            "Requirement already satisfied: packaging>=20.0 in /usr/local/lib/python3.10/dist-packages (from transformers[torch]) (24.1)\n",
            "Requirement already satisfied: pyyaml>=5.1 in /usr/local/lib/python3.10/dist-packages (from transformers[torch]) (6.0.2)\n",
            "Requirement already satisfied: regex!=2019.12.17 in /usr/local/lib/python3.10/dist-packages (from transformers[torch]) (2024.5.15)\n",
            "Requirement already satisfied: requests in /usr/local/lib/python3.10/dist-packages (from transformers[torch]) (2.32.3)\n",
            "Requirement already satisfied: safetensors>=0.4.1 in /usr/local/lib/python3.10/dist-packages (from transformers[torch]) (0.4.5)\n",
            "Requirement already satisfied: tokenizers<0.20,>=0.19 in /usr/local/lib/python3.10/dist-packages (from transformers[torch]) (0.19.1)\n",
            "Requirement already satisfied: tqdm>=4.27 in /usr/local/lib/python3.10/dist-packages (from transformers[torch]) (4.66.5)\n",
            "Requirement already satisfied: torch in /usr/local/lib/python3.10/dist-packages (from transformers[torch]) (2.4.0+cu121)\n",
            "Requirement already satisfied: psutil in /usr/local/lib/python3.10/dist-packages (from accelerate) (5.9.5)\n",
            "Requirement already satisfied: fsspec>=2023.5.0 in /usr/local/lib/python3.10/dist-packages (from huggingface-hub<1.0,>=0.23.2->transformers[torch]) (2024.6.1)\n",
            "Requirement already satisfied: typing-extensions>=3.7.4.3 in /usr/local/lib/python3.10/dist-packages (from huggingface-hub<1.0,>=0.23.2->transformers[torch]) (4.12.2)\n",
            "Requirement already satisfied: sympy in /usr/local/lib/python3.10/dist-packages (from torch->transformers[torch]) (1.13.2)\n",
            "Requirement already satisfied: networkx in /usr/local/lib/python3.10/dist-packages (from torch->transformers[torch]) (3.3)\n",
            "Requirement already satisfied: jinja2 in /usr/local/lib/python3.10/dist-packages (from torch->transformers[torch]) (3.1.4)\n",
            "Requirement already satisfied: charset-normalizer<4,>=2 in /usr/local/lib/python3.10/dist-packages (from requests->transformers[torch]) (3.3.2)\n",
            "Requirement already satisfied: idna<4,>=2.5 in /usr/local/lib/python3.10/dist-packages (from requests->transformers[torch]) (3.8)\n",
            "Requirement already satisfied: urllib3<3,>=1.21.1 in /usr/local/lib/python3.10/dist-packages (from requests->transformers[torch]) (2.0.7)\n",
            "Requirement already satisfied: certifi>=2017.4.17 in /usr/local/lib/python3.10/dist-packages (from requests->transformers[torch]) (2024.8.30)\n",
            "Requirement already satisfied: MarkupSafe>=2.0 in /usr/local/lib/python3.10/dist-packages (from jinja2->torch->transformers[torch]) (2.1.5)\n",
            "Requirement already satisfied: mpmath<1.4,>=1.1.0 in /usr/local/lib/python3.10/dist-packages (from sympy->torch->transformers[torch]) (1.3.0)\n",
            "Collecting imblearn\n",
            "  Downloading imblearn-0.0-py2.py3-none-any.whl.metadata (355 bytes)\n",
            "Requirement already satisfied: imbalanced-learn in /usr/local/lib/python3.10/dist-packages (from imblearn) (0.12.3)\n",
            "Requirement already satisfied: numpy>=1.17.3 in /usr/local/lib/python3.10/dist-packages (from imbalanced-learn->imblearn) (1.26.4)\n",
            "Requirement already satisfied: scipy>=1.5.0 in /usr/local/lib/python3.10/dist-packages (from imbalanced-learn->imblearn) (1.13.1)\n",
            "Requirement already satisfied: scikit-learn>=1.0.2 in /usr/local/lib/python3.10/dist-packages (from imbalanced-learn->imblearn) (1.3.2)\n",
            "Requirement already satisfied: joblib>=1.1.1 in /usr/local/lib/python3.10/dist-packages (from imbalanced-learn->imblearn) (1.4.2)\n",
            "Requirement already satisfied: threadpoolctl>=2.0.0 in /usr/local/lib/python3.10/dist-packages (from imbalanced-learn->imblearn) (3.5.0)\n",
            "Downloading imblearn-0.0-py2.py3-none-any.whl (1.9 kB)\n",
            "Installing collected packages: imblearn\n",
            "Successfully installed imblearn-0.0\n",
            "Collecting datasets\n",
            "  Downloading datasets-3.0.0-py3-none-any.whl.metadata (19 kB)\n",
            "Requirement already satisfied: filelock in /usr/local/lib/python3.10/dist-packages (from datasets) (3.16.0)\n",
            "Requirement already satisfied: numpy>=1.17 in /usr/local/lib/python3.10/dist-packages (from datasets) (1.26.4)\n",
            "Collecting pyarrow>=15.0.0 (from datasets)\n",
            "  Downloading pyarrow-17.0.0-cp310-cp310-manylinux_2_28_x86_64.whl.metadata (3.3 kB)\n",
            "Collecting dill<0.3.9,>=0.3.0 (from datasets)\n",
            "  Downloading dill-0.3.8-py3-none-any.whl.metadata (10 kB)\n",
            "Requirement already satisfied: pandas in /usr/local/lib/python3.10/dist-packages (from datasets) (2.1.4)\n",
            "Requirement already satisfied: requests>=2.32.2 in /usr/local/lib/python3.10/dist-packages (from datasets) (2.32.3)\n",
            "Requirement already satisfied: tqdm>=4.66.3 in /usr/local/lib/python3.10/dist-packages (from datasets) (4.66.5)\n",
            "Collecting xxhash (from datasets)\n",
            "  Downloading xxhash-3.5.0-cp310-cp310-manylinux_2_17_x86_64.manylinux2014_x86_64.whl.metadata (12 kB)\n",
            "Collecting multiprocess (from datasets)\n",
            "  Downloading multiprocess-0.70.16-py310-none-any.whl.metadata (7.2 kB)\n",
            "Requirement already satisfied: fsspec<=2024.6.1,>=2023.1.0 in /usr/local/lib/python3.10/dist-packages (from fsspec[http]<=2024.6.1,>=2023.1.0->datasets) (2024.6.1)\n",
            "Requirement already satisfied: aiohttp in /usr/local/lib/python3.10/dist-packages (from datasets) (3.10.5)\n",
            "Requirement already satisfied: huggingface-hub>=0.22.0 in /usr/local/lib/python3.10/dist-packages (from datasets) (0.24.7)\n",
            "Requirement already satisfied: packaging in /usr/local/lib/python3.10/dist-packages (from datasets) (24.1)\n",
            "Requirement already satisfied: pyyaml>=5.1 in /usr/local/lib/python3.10/dist-packages (from datasets) (6.0.2)\n",
            "Requirement already satisfied: aiohappyeyeballs>=2.3.0 in /usr/local/lib/python3.10/dist-packages (from aiohttp->datasets) (2.4.0)\n",
            "Requirement already satisfied: aiosignal>=1.1.2 in /usr/local/lib/python3.10/dist-packages (from aiohttp->datasets) (1.3.1)\n",
            "Requirement already satisfied: attrs>=17.3.0 in /usr/local/lib/python3.10/dist-packages (from aiohttp->datasets) (24.2.0)\n",
            "Requirement already satisfied: frozenlist>=1.1.1 in /usr/local/lib/python3.10/dist-packages (from aiohttp->datasets) (1.4.1)\n",
            "Requirement already satisfied: multidict<7.0,>=4.5 in /usr/local/lib/python3.10/dist-packages (from aiohttp->datasets) (6.1.0)\n",
            "Requirement already satisfied: yarl<2.0,>=1.0 in /usr/local/lib/python3.10/dist-packages (from aiohttp->datasets) (1.11.1)\n",
            "Requirement already satisfied: async-timeout<5.0,>=4.0 in /usr/local/lib/python3.10/dist-packages (from aiohttp->datasets) (4.0.3)\n",
            "Requirement already satisfied: typing-extensions>=3.7.4.3 in /usr/local/lib/python3.10/dist-packages (from huggingface-hub>=0.22.0->datasets) (4.12.2)\n",
            "Requirement already satisfied: charset-normalizer<4,>=2 in /usr/local/lib/python3.10/dist-packages (from requests>=2.32.2->datasets) (3.3.2)\n",
            "Requirement already satisfied: idna<4,>=2.5 in /usr/local/lib/python3.10/dist-packages (from requests>=2.32.2->datasets) (3.8)\n",
            "Requirement already satisfied: urllib3<3,>=1.21.1 in /usr/local/lib/python3.10/dist-packages (from requests>=2.32.2->datasets) (2.0.7)\n",
            "Requirement already satisfied: certifi>=2017.4.17 in /usr/local/lib/python3.10/dist-packages (from requests>=2.32.2->datasets) (2024.8.30)\n",
            "Requirement already satisfied: python-dateutil>=2.8.2 in /usr/local/lib/python3.10/dist-packages (from pandas->datasets) (2.8.2)\n",
            "Requirement already satisfied: pytz>=2020.1 in /usr/local/lib/python3.10/dist-packages (from pandas->datasets) (2024.2)\n",
            "Requirement already satisfied: tzdata>=2022.1 in /usr/local/lib/python3.10/dist-packages (from pandas->datasets) (2024.1)\n",
            "Requirement already satisfied: six>=1.5 in /usr/local/lib/python3.10/dist-packages (from python-dateutil>=2.8.2->pandas->datasets) (1.16.0)\n",
            "Downloading datasets-3.0.0-py3-none-any.whl (474 kB)\n",
            "\u001b[2K   \u001b[90m━━━━━━━━━━━━━━━━━━━━━━━━━━━━━━━━━━━━━━━━\u001b[0m \u001b[32m474.3/474.3 kB\u001b[0m \u001b[31m3.4 MB/s\u001b[0m eta \u001b[36m0:00:00\u001b[0m\n",
            "\u001b[?25hDownloading dill-0.3.8-py3-none-any.whl (116 kB)\n",
            "\u001b[2K   \u001b[90m━━━━━━━━━━━━━━━━━━━━━━━━━━━━━━━━━━━━━━━━\u001b[0m \u001b[32m116.3/116.3 kB\u001b[0m \u001b[31m8.1 MB/s\u001b[0m eta \u001b[36m0:00:00\u001b[0m\n",
            "\u001b[?25hDownloading pyarrow-17.0.0-cp310-cp310-manylinux_2_28_x86_64.whl (39.9 MB)\n",
            "\u001b[2K   \u001b[90m━━━━━━━━━━━━━━━━━━━━━━━━━━━━━━━━━━━━━━━━\u001b[0m \u001b[32m39.9/39.9 MB\u001b[0m \u001b[31m25.9 MB/s\u001b[0m eta \u001b[36m0:00:00\u001b[0m\n",
            "\u001b[?25hDownloading multiprocess-0.70.16-py310-none-any.whl (134 kB)\n",
            "\u001b[2K   \u001b[90m━━━━━━━━━━━━━━━━━━━━━━━━━━━━━━━━━━━━━━━━\u001b[0m \u001b[32m134.8/134.8 kB\u001b[0m \u001b[31m8.5 MB/s\u001b[0m eta \u001b[36m0:00:00\u001b[0m\n",
            "\u001b[?25hDownloading xxhash-3.5.0-cp310-cp310-manylinux_2_17_x86_64.manylinux2014_x86_64.whl (194 kB)\n",
            "\u001b[2K   \u001b[90m━━━━━━━━━━━━━━━━━━━━━━━━━━━━━━━━━━━━━━━━\u001b[0m \u001b[32m194.1/194.1 kB\u001b[0m \u001b[31m13.8 MB/s\u001b[0m eta \u001b[36m0:00:00\u001b[0m\n",
            "\u001b[?25hInstalling collected packages: xxhash, pyarrow, dill, multiprocess, datasets\n",
            "  Attempting uninstall: pyarrow\n",
            "    Found existing installation: pyarrow 14.0.2\n",
            "    Uninstalling pyarrow-14.0.2:\n",
            "      Successfully uninstalled pyarrow-14.0.2\n",
            "\u001b[31mERROR: pip's dependency resolver does not currently take into account all the packages that are installed. This behaviour is the source of the following dependency conflicts.\n",
            "cudf-cu12 24.4.1 requires pyarrow<15.0.0a0,>=14.0.1, but you have pyarrow 17.0.0 which is incompatible.\n",
            "ibis-framework 8.0.0 requires pyarrow<16,>=2, but you have pyarrow 17.0.0 which is incompatible.\u001b[0m\u001b[31m\n",
            "\u001b[0mSuccessfully installed datasets-3.0.0 dill-0.3.8 multiprocess-0.70.16 pyarrow-17.0.0 xxhash-3.5.0\n",
            "Requirement already satisfied: transformers in /usr/local/lib/python3.10/dist-packages (4.44.2)\n",
            "Requirement already satisfied: filelock in /usr/local/lib/python3.10/dist-packages (from transformers) (3.16.0)\n",
            "Requirement already satisfied: huggingface-hub<1.0,>=0.23.2 in /usr/local/lib/python3.10/dist-packages (from transformers) (0.24.7)\n",
            "Requirement already satisfied: numpy>=1.17 in /usr/local/lib/python3.10/dist-packages (from transformers) (1.26.4)\n",
            "Requirement already satisfied: packaging>=20.0 in /usr/local/lib/python3.10/dist-packages (from transformers) (24.1)\n",
            "Requirement already satisfied: pyyaml>=5.1 in /usr/local/lib/python3.10/dist-packages (from transformers) (6.0.2)\n",
            "Requirement already satisfied: regex!=2019.12.17 in /usr/local/lib/python3.10/dist-packages (from transformers) (2024.5.15)\n",
            "Requirement already satisfied: requests in /usr/local/lib/python3.10/dist-packages (from transformers) (2.32.3)\n",
            "Requirement already satisfied: safetensors>=0.4.1 in /usr/local/lib/python3.10/dist-packages (from transformers) (0.4.5)\n",
            "Requirement already satisfied: tokenizers<0.20,>=0.19 in /usr/local/lib/python3.10/dist-packages (from transformers) (0.19.1)\n",
            "Requirement already satisfied: tqdm>=4.27 in /usr/local/lib/python3.10/dist-packages (from transformers) (4.66.5)\n",
            "Requirement already satisfied: fsspec>=2023.5.0 in /usr/local/lib/python3.10/dist-packages (from huggingface-hub<1.0,>=0.23.2->transformers) (2024.6.1)\n",
            "Requirement already satisfied: typing-extensions>=3.7.4.3 in /usr/local/lib/python3.10/dist-packages (from huggingface-hub<1.0,>=0.23.2->transformers) (4.12.2)\n",
            "Requirement already satisfied: charset-normalizer<4,>=2 in /usr/local/lib/python3.10/dist-packages (from requests->transformers) (3.3.2)\n",
            "Requirement already satisfied: idna<4,>=2.5 in /usr/local/lib/python3.10/dist-packages (from requests->transformers) (3.8)\n",
            "Requirement already satisfied: urllib3<3,>=1.21.1 in /usr/local/lib/python3.10/dist-packages (from requests->transformers) (2.0.7)\n",
            "Requirement already satisfied: certifi>=2017.4.17 in /usr/local/lib/python3.10/dist-packages (from requests->transformers) (2024.8.30)\n",
            "Requirement already satisfied: torch in /usr/local/lib/python3.10/dist-packages (2.4.0+cu121)\n",
            "Requirement already satisfied: torchvision in /usr/local/lib/python3.10/dist-packages (0.19.0+cu121)\n",
            "Requirement already satisfied: torchaudio in /usr/local/lib/python3.10/dist-packages (2.4.0+cu121)\n",
            "Requirement already satisfied: filelock in /usr/local/lib/python3.10/dist-packages (from torch) (3.16.0)\n",
            "Requirement already satisfied: typing-extensions>=4.8.0 in /usr/local/lib/python3.10/dist-packages (from torch) (4.12.2)\n",
            "Requirement already satisfied: sympy in /usr/local/lib/python3.10/dist-packages (from torch) (1.13.2)\n",
            "Requirement already satisfied: networkx in /usr/local/lib/python3.10/dist-packages (from torch) (3.3)\n",
            "Requirement already satisfied: jinja2 in /usr/local/lib/python3.10/dist-packages (from torch) (3.1.4)\n",
            "Requirement already satisfied: fsspec in /usr/local/lib/python3.10/dist-packages (from torch) (2024.6.1)\n",
            "Requirement already satisfied: numpy in /usr/local/lib/python3.10/dist-packages (from torchvision) (1.26.4)\n",
            "Requirement already satisfied: pillow!=8.3.*,>=5.3.0 in /usr/local/lib/python3.10/dist-packages (from torchvision) (9.4.0)\n",
            "Requirement already satisfied: MarkupSafe>=2.0 in /usr/local/lib/python3.10/dist-packages (from jinja2->torch) (2.1.5)\n",
            "Requirement already satisfied: mpmath<1.4,>=1.1.0 in /usr/local/lib/python3.10/dist-packages (from sympy->torch) (1.3.0)\n",
            "Requirement already satisfied: torch in /usr/local/lib/python3.10/dist-packages (2.4.0+cu121)\n",
            "Collecting torch\n",
            "  Downloading torch-2.4.1-cp310-cp310-manylinux1_x86_64.whl.metadata (26 kB)\n",
            "Requirement already satisfied: torchvision in /usr/local/lib/python3.10/dist-packages (0.19.0+cu121)\n",
            "Collecting torchvision\n",
            "  Downloading torchvision-0.19.1-cp310-cp310-manylinux1_x86_64.whl.metadata (6.0 kB)\n",
            "Requirement already satisfied: filelock in /usr/local/lib/python3.10/dist-packages (from torch) (3.16.0)\n",
            "Requirement already satisfied: typing-extensions>=4.8.0 in /usr/local/lib/python3.10/dist-packages (from torch) (4.12.2)\n",
            "Requirement already satisfied: sympy in /usr/local/lib/python3.10/dist-packages (from torch) (1.13.2)\n",
            "Requirement already satisfied: networkx in /usr/local/lib/python3.10/dist-packages (from torch) (3.3)\n",
            "Requirement already satisfied: jinja2 in /usr/local/lib/python3.10/dist-packages (from torch) (3.1.4)\n",
            "Requirement already satisfied: fsspec in /usr/local/lib/python3.10/dist-packages (from torch) (2024.6.1)\n",
            "Collecting nvidia-cuda-nvrtc-cu12==12.1.105 (from torch)\n",
            "  Downloading nvidia_cuda_nvrtc_cu12-12.1.105-py3-none-manylinux1_x86_64.whl.metadata (1.5 kB)\n",
            "Collecting nvidia-cuda-runtime-cu12==12.1.105 (from torch)\n",
            "  Downloading nvidia_cuda_runtime_cu12-12.1.105-py3-none-manylinux1_x86_64.whl.metadata (1.5 kB)\n",
            "Collecting nvidia-cuda-cupti-cu12==12.1.105 (from torch)\n",
            "  Downloading nvidia_cuda_cupti_cu12-12.1.105-py3-none-manylinux1_x86_64.whl.metadata (1.6 kB)\n",
            "Collecting nvidia-cudnn-cu12==9.1.0.70 (from torch)\n",
            "  Downloading nvidia_cudnn_cu12-9.1.0.70-py3-none-manylinux2014_x86_64.whl.metadata (1.6 kB)\n",
            "Collecting nvidia-cublas-cu12==12.1.3.1 (from torch)\n",
            "  Downloading nvidia_cublas_cu12-12.1.3.1-py3-none-manylinux1_x86_64.whl.metadata (1.5 kB)\n",
            "Collecting nvidia-cufft-cu12==11.0.2.54 (from torch)\n",
            "  Downloading nvidia_cufft_cu12-11.0.2.54-py3-none-manylinux1_x86_64.whl.metadata (1.5 kB)\n",
            "Collecting nvidia-curand-cu12==10.3.2.106 (from torch)\n",
            "  Downloading nvidia_curand_cu12-10.3.2.106-py3-none-manylinux1_x86_64.whl.metadata (1.5 kB)\n",
            "Collecting nvidia-cusolver-cu12==11.4.5.107 (from torch)\n",
            "  Downloading nvidia_cusolver_cu12-11.4.5.107-py3-none-manylinux1_x86_64.whl.metadata (1.6 kB)\n",
            "Collecting nvidia-cusparse-cu12==12.1.0.106 (from torch)\n",
            "  Downloading nvidia_cusparse_cu12-12.1.0.106-py3-none-manylinux1_x86_64.whl.metadata (1.6 kB)\n",
            "Collecting nvidia-nccl-cu12==2.20.5 (from torch)\n",
            "  Downloading nvidia_nccl_cu12-2.20.5-py3-none-manylinux2014_x86_64.whl.metadata (1.8 kB)\n",
            "Collecting nvidia-nvtx-cu12==12.1.105 (from torch)\n",
            "  Downloading nvidia_nvtx_cu12-12.1.105-py3-none-manylinux1_x86_64.whl.metadata (1.7 kB)\n",
            "Collecting triton==3.0.0 (from torch)\n",
            "  Downloading triton-3.0.0-1-cp310-cp310-manylinux2014_x86_64.manylinux_2_17_x86_64.whl.metadata (1.3 kB)\n",
            "Collecting nvidia-nvjitlink-cu12 (from nvidia-cusolver-cu12==11.4.5.107->torch)\n",
            "  Downloading nvidia_nvjitlink_cu12-12.6.68-py3-none-manylinux2014_x86_64.whl.metadata (1.5 kB)\n",
            "Requirement already satisfied: numpy in /usr/local/lib/python3.10/dist-packages (from torchvision) (1.26.4)\n",
            "Requirement already satisfied: pillow!=8.3.*,>=5.3.0 in /usr/local/lib/python3.10/dist-packages (from torchvision) (9.4.0)\n",
            "Requirement already satisfied: MarkupSafe>=2.0 in /usr/local/lib/python3.10/dist-packages (from jinja2->torch) (2.1.5)\n",
            "Requirement already satisfied: mpmath<1.4,>=1.1.0 in /usr/local/lib/python3.10/dist-packages (from sympy->torch) (1.3.0)\n",
            "Downloading torch-2.4.1-cp310-cp310-manylinux1_x86_64.whl (797.1 MB)\n",
            "\u001b[2K   \u001b[90m━━━━━━━━━━━━━━━━━━━━━━━━━━━━━━━━━━━━━━━━\u001b[0m \u001b[32m797.1/797.1 MB\u001b[0m \u001b[31m2.1 MB/s\u001b[0m eta \u001b[36m0:00:00\u001b[0m\n",
            "\u001b[?25hDownloading nvidia_cublas_cu12-12.1.3.1-py3-none-manylinux1_x86_64.whl (410.6 MB)\n",
            "\u001b[2K   \u001b[90m━━━━━━━━━━━━━━━━━━━━━━━━━━━━━━━━━━━━━━━━\u001b[0m \u001b[32m410.6/410.6 MB\u001b[0m \u001b[31m4.3 MB/s\u001b[0m eta \u001b[36m0:00:00\u001b[0m\n",
            "\u001b[?25hDownloading nvidia_cuda_cupti_cu12-12.1.105-py3-none-manylinux1_x86_64.whl (14.1 MB)\n",
            "\u001b[2K   \u001b[90m━━━━━━━━━━━━━━━━━━━━━━━━━━━━━━━━━━━━━━━━\u001b[0m \u001b[32m14.1/14.1 MB\u001b[0m \u001b[31m37.1 MB/s\u001b[0m eta \u001b[36m0:00:00\u001b[0m\n",
            "\u001b[?25hDownloading nvidia_cuda_nvrtc_cu12-12.1.105-py3-none-manylinux1_x86_64.whl (23.7 MB)\n",
            "\u001b[2K   \u001b[90m━━━━━━━━━━━━━━━━━━━━━━━━━━━━━━━━━━━━━━━━\u001b[0m \u001b[32m23.7/23.7 MB\u001b[0m \u001b[31m37.6 MB/s\u001b[0m eta \u001b[36m0:00:00\u001b[0m\n",
            "\u001b[?25hDownloading nvidia_cuda_runtime_cu12-12.1.105-py3-none-manylinux1_x86_64.whl (823 kB)\n",
            "\u001b[2K   \u001b[90m━━━━━━━━━━━━━━━━━━━━━━━━━━━━━━━━━━━━━━━━\u001b[0m \u001b[32m823.6/823.6 kB\u001b[0m \u001b[31m32.6 MB/s\u001b[0m eta \u001b[36m0:00:00\u001b[0m\n",
            "\u001b[?25hDownloading nvidia_cudnn_cu12-9.1.0.70-py3-none-manylinux2014_x86_64.whl (664.8 MB)\n",
            "\u001b[2K   \u001b[90m━━━━━━━━━━━━━━━━━━━━━━━━━━━━━━━━━━━━━━━━\u001b[0m \u001b[32m664.8/664.8 MB\u001b[0m \u001b[31m894.0 kB/s\u001b[0m eta \u001b[36m0:00:00\u001b[0m\n",
            "\u001b[?25hDownloading nvidia_cufft_cu12-11.0.2.54-py3-none-manylinux1_x86_64.whl (121.6 MB)\n",
            "\u001b[2K   \u001b[90m━━━━━━━━━━━━━━━━━━━━━━━━━━━━━━━━━━━━━━━━\u001b[0m \u001b[32m121.6/121.6 MB\u001b[0m \u001b[31m5.4 MB/s\u001b[0m eta \u001b[36m0:00:00\u001b[0m\n",
            "\u001b[?25hDownloading nvidia_curand_cu12-10.3.2.106-py3-none-manylinux1_x86_64.whl (56.5 MB)\n",
            "\u001b[2K   \u001b[90m━━━━━━━━━━━━━━━━━━━━━━━━━━━━━━━━━━━━━━━━\u001b[0m \u001b[32m56.5/56.5 MB\u001b[0m \u001b[31m5.2 MB/s\u001b[0m eta \u001b[36m0:00:00\u001b[0m\n",
            "\u001b[?25hDownloading nvidia_cusolver_cu12-11.4.5.107-py3-none-manylinux1_x86_64.whl (124.2 MB)\n",
            "\u001b[2K   \u001b[90m━━━━━━━━━━━━━━━━━━━━━━━━━━━━━━━━━━━━━━━━\u001b[0m \u001b[32m124.2/124.2 MB\u001b[0m \u001b[31m3.3 MB/s\u001b[0m eta \u001b[36m0:00:00\u001b[0m\n",
            "\u001b[?25hDownloading nvidia_cusparse_cu12-12.1.0.106-py3-none-manylinux1_x86_64.whl (196.0 MB)\n",
            "\u001b[2K   \u001b[90m━━━━━━━━━━━━━━━━━━━━━━━━━━━━━━━━━━━━━━━━\u001b[0m \u001b[32m196.0/196.0 MB\u001b[0m \u001b[31m3.1 MB/s\u001b[0m eta \u001b[36m0:00:00\u001b[0m\n",
            "\u001b[?25hDownloading nvidia_nccl_cu12-2.20.5-py3-none-manylinux2014_x86_64.whl (176.2 MB)\n",
            "\u001b[2K   \u001b[90m━━━━━━━━━━━━━━━━━━━━━━━━━━━━━━━━━━━━━━━━\u001b[0m \u001b[32m176.2/176.2 MB\u001b[0m \u001b[31m4.1 MB/s\u001b[0m eta \u001b[36m0:00:00\u001b[0m\n",
            "\u001b[?25hDownloading nvidia_nvtx_cu12-12.1.105-py3-none-manylinux1_x86_64.whl (99 kB)\n",
            "\u001b[2K   \u001b[90m━━━━━━━━━━━━━━━━━━━━━━━━━━━━━━━━━━━━━━━━\u001b[0m \u001b[32m99.1/99.1 kB\u001b[0m \u001b[31m4.0 MB/s\u001b[0m eta \u001b[36m0:00:00\u001b[0m\n",
            "\u001b[?25hDownloading triton-3.0.0-1-cp310-cp310-manylinux2014_x86_64.manylinux_2_17_x86_64.whl (209.4 MB)\n",
            "\u001b[2K   \u001b[90m━━━━━━━━━━━━━━━━━━━━━━━━━━━━━━━━━━━━━━━━\u001b[0m \u001b[32m209.4/209.4 MB\u001b[0m \u001b[31m4.2 MB/s\u001b[0m eta \u001b[36m0:00:00\u001b[0m\n",
            "\u001b[?25hDownloading torchvision-0.19.1-cp310-cp310-manylinux1_x86_64.whl (7.0 MB)\n",
            "\u001b[2K   \u001b[90m━━━━━━━━━━━━━━━━━━━━━━━━━━━━━━━━━━━━━━━━\u001b[0m \u001b[32m7.0/7.0 MB\u001b[0m \u001b[31m5.7 MB/s\u001b[0m eta \u001b[36m0:00:00\u001b[0m\n",
            "\u001b[?25hDownloading nvidia_nvjitlink_cu12-12.6.68-py3-none-manylinux2014_x86_64.whl (19.7 MB)\n",
            "\u001b[2K   \u001b[90m━━━━━━━━━━━━━━━━━━━━━━━━━━━━━━━━━━━━━━━━\u001b[0m \u001b[32m19.7/19.7 MB\u001b[0m \u001b[31m4.9 MB/s\u001b[0m eta \u001b[36m0:00:00\u001b[0m\n",
            "\u001b[?25hInstalling collected packages: triton, nvidia-nvtx-cu12, nvidia-nvjitlink-cu12, nvidia-nccl-cu12, nvidia-curand-cu12, nvidia-cufft-cu12, nvidia-cuda-runtime-cu12, nvidia-cuda-nvrtc-cu12, nvidia-cuda-cupti-cu12, nvidia-cublas-cu12, nvidia-cusparse-cu12, nvidia-cudnn-cu12, nvidia-cusolver-cu12, torch, torchvision\n",
            "  Attempting uninstall: nvidia-nccl-cu12\n",
            "    Found existing installation: nvidia-nccl-cu12 2.23.4\n",
            "    Uninstalling nvidia-nccl-cu12-2.23.4:\n",
            "      Successfully uninstalled nvidia-nccl-cu12-2.23.4\n",
            "  Attempting uninstall: torch\n",
            "    Found existing installation: torch 2.4.0+cu121\n",
            "    Uninstalling torch-2.4.0+cu121:\n",
            "      Successfully uninstalled torch-2.4.0+cu121\n",
            "  Attempting uninstall: torchvision\n",
            "    Found existing installation: torchvision 0.19.0+cu121\n",
            "    Uninstalling torchvision-0.19.0+cu121:\n",
            "      Successfully uninstalled torchvision-0.19.0+cu121\n",
            "\u001b[31mERROR: pip's dependency resolver does not currently take into account all the packages that are installed. This behaviour is the source of the following dependency conflicts.\n",
            "torchaudio 2.4.0+cu121 requires torch==2.4.0, but you have torch 2.4.1 which is incompatible.\u001b[0m\u001b[31m\n",
            "\u001b[0mSuccessfully installed nvidia-cublas-cu12-12.1.3.1 nvidia-cuda-cupti-cu12-12.1.105 nvidia-cuda-nvrtc-cu12-12.1.105 nvidia-cuda-runtime-cu12-12.1.105 nvidia-cudnn-cu12-9.1.0.70 nvidia-cufft-cu12-11.0.2.54 nvidia-curand-cu12-10.3.2.106 nvidia-cusolver-cu12-11.4.5.107 nvidia-cusparse-cu12-12.1.0.106 nvidia-nccl-cu12-2.20.5 nvidia-nvjitlink-cu12-12.6.68 nvidia-nvtx-cu12-12.1.105 torch-2.4.1 torchvision-0.19.1 triton-3.0.0\n"
          ]
        }
      ],
      "source": [
        "# Step 1: Install Required Libraries\n",
        "!pip3 install --upgrade pandas==2.1.4\n",
        "!pip3 install transformers torch seaborn matplotlib scikit-learn shap lime\n",
        "!pip install transformers[torch] accelerate -U\n",
        "!pip install imblearn\n",
        "!pip install datasets\n",
        "!pip install --upgrade transformers\n",
        "!pip install torch torchvision torchaudio\n",
        "\n",
        "!pip install --upgrade torch torchvision\n",
        "\n",
        "!pip install --upgrade pyarrow==15.0.0\n",
        "\n",
        "#!pip install --upgrade pandas pyarrow\n",
        "\n",
        "!pip install torch --force-reinstall --no-cache-dir"
      ]
    },
    {
      "cell_type": "code",
      "execution_count": 7,
      "metadata": {
        "colab": {
          "base_uri": "https://localhost:8080/"
        },
        "id": "3iCnxP2YqsSP",
        "outputId": "aff76d99-9664-4021-eecf-b5c510540351"
      },
      "outputs": [
        {
          "output_type": "stream",
          "name": "stdout",
          "text": [
            "Mounted at /content/drive\n"
          ]
        }
      ],
      "source": [
        "# prompt: connect to drive\n",
        "\n",
        "from google.colab import drive\n",
        "drive.mount('/content/drive')\n"
      ]
    },
    {
      "cell_type": "code",
      "execution_count": 10,
      "metadata": {
        "id": "IhG6bqpIeidx"
      },
      "outputs": [],
      "source": [
        "# Step 2: Import Required Libraries\n",
        "import pandas as pd\n",
        "import matplotlib.pyplot as plt\n",
        "import seaborn as sns\n",
        "from sklearn.model_selection import train_test_split\n",
        "from sklearn.metrics import accuracy_score, classification_report\n",
        "from transformers import BertTokenizer, BertForSequenceClassification, Trainer, TrainingArguments\n",
        "import torch\n",
        "import re\n",
        "import nltk\n",
        "from nltk.corpus import stopwords\n"
      ]
    },
    {
      "cell_type": "markdown",
      "metadata": {
        "id": "vTt4QHfYz8Ys"
      },
      "source": [
        "We are loading the dataset - final_merged_data from the previous file data_exploration.ipynb."
      ]
    },
    {
      "cell_type": "code",
      "execution_count": 5,
      "metadata": {
        "id": "LsfR34KgFxc2"
      },
      "outputs": [],
      "source": [
        "#path_to_file = 'C:/Users/mjoth/DataScience/DissertationProject/GitHub/Patient-Readmission/'\n",
        "path_to_file = '/content/drive/MyDrive/Predictive_Modeling_Patient_Readmission/'"
      ]
    },
    {
      "cell_type": "code",
      "execution_count": 6,
      "metadata": {
        "colab": {
          "base_uri": "https://localhost:8080/",
          "height": 746
        },
        "id": "Rgc7b_IJeidx",
        "outputId": "e8862616-67e1-43dc-f212-bf018d1bbbcb"
      },
      "outputs": [
        {
          "output_type": "execute_result",
          "data": {
            "text/plain": [
              "   row_id_x SUBJECT_ID HADM_ID  seq_num_x ICD9_CODE   ROW_ID  CHARTDATE  \\\n",
              "0    112344      10006  142345          1     99591  1394273 2164-10-25   \n",
              "1    112344      10006  142345          1     99591  1394273 2164-10-25   \n",
              "2    112344      10006  142345          1     99591  1394273 2164-10-25   \n",
              "3    112344      10006  142345          1     99591  1394273 2164-10-25   \n",
              "4    112344      10006  142345          1     99591  1394273 2164-10-25   \n",
              "\n",
              "            CHARTTIME           STORETIME       CATEGORY DESCRIPTION   CGID  \\\n",
              "0 2164-10-25 07:16:00 2164-10-25 07:23:00  Nursing/other      Report  19150   \n",
              "1 2164-10-25 07:16:00 2164-10-25 07:23:00  Nursing/other      Report  19150   \n",
              "2 2164-10-25 07:16:00 2164-10-25 07:23:00  Nursing/other      Report  19150   \n",
              "3 2164-10-25 07:16:00 2164-10-25 07:23:00  Nursing/other      Report  19150   \n",
              "4 2164-10-25 07:16:00 2164-10-25 07:23:00  Nursing/other      Report  19150   \n",
              "\n",
              "                                                TEXT  TEXT_LENGTH  \\\n",
              "0  NPN 1900-0700\\nPt awaiting transfer to floor w...          493   \n",
              "1  NPN 1900-0700\\nPt awaiting transfer to floor w...          493   \n",
              "2  NPN 1900-0700\\nPt awaiting transfer to floor w...          493   \n",
              "3  NPN 1900-0700\\nPt awaiting transfer to floor w...          493   \n",
              "4  NPN 1900-0700\\nPt awaiting transfer to floor w...          493   \n",
              "\n",
              "                                          CLEAN_TEXT icd9_code_x long_title  \\\n",
              "0  npn pt awaiting transfer floor floor bed becom...         NaN        NaN   \n",
              "1  npn pt awaiting transfer floor floor bed becom...         NaN        NaN   \n",
              "2  npn pt awaiting transfer floor floor bed becom...         NaN        NaN   \n",
              "3  npn pt awaiting transfer floor floor bed becom...         NaN        NaN   \n",
              "4  npn pt awaiting transfer floor floor bed becom...         NaN        NaN   \n",
              "\n",
              "   row_id_y  seq_num_y  icd9_code_y  \n",
              "0     47335          1         9749  \n",
              "1     47336          2         5491  \n",
              "2     47337          3         3895  \n",
              "3     47338          4         3995  \n",
              "4     47339          5         3893  "
            ],
            "text/html": [
              "\n",
              "  <div id=\"df-70c179c1-2ced-4e2b-905c-2ce843e48e53\" class=\"colab-df-container\">\n",
              "    <div>\n",
              "<style scoped>\n",
              "    .dataframe tbody tr th:only-of-type {\n",
              "        vertical-align: middle;\n",
              "    }\n",
              "\n",
              "    .dataframe tbody tr th {\n",
              "        vertical-align: top;\n",
              "    }\n",
              "\n",
              "    .dataframe thead th {\n",
              "        text-align: right;\n",
              "    }\n",
              "</style>\n",
              "<table border=\"1\" class=\"dataframe\">\n",
              "  <thead>\n",
              "    <tr style=\"text-align: right;\">\n",
              "      <th></th>\n",
              "      <th>row_id_x</th>\n",
              "      <th>SUBJECT_ID</th>\n",
              "      <th>HADM_ID</th>\n",
              "      <th>seq_num_x</th>\n",
              "      <th>ICD9_CODE</th>\n",
              "      <th>ROW_ID</th>\n",
              "      <th>CHARTDATE</th>\n",
              "      <th>CHARTTIME</th>\n",
              "      <th>STORETIME</th>\n",
              "      <th>CATEGORY</th>\n",
              "      <th>DESCRIPTION</th>\n",
              "      <th>CGID</th>\n",
              "      <th>TEXT</th>\n",
              "      <th>TEXT_LENGTH</th>\n",
              "      <th>CLEAN_TEXT</th>\n",
              "      <th>icd9_code_x</th>\n",
              "      <th>long_title</th>\n",
              "      <th>row_id_y</th>\n",
              "      <th>seq_num_y</th>\n",
              "      <th>icd9_code_y</th>\n",
              "    </tr>\n",
              "  </thead>\n",
              "  <tbody>\n",
              "    <tr>\n",
              "      <th>0</th>\n",
              "      <td>112344</td>\n",
              "      <td>10006</td>\n",
              "      <td>142345</td>\n",
              "      <td>1</td>\n",
              "      <td>99591</td>\n",
              "      <td>1394273</td>\n",
              "      <td>2164-10-25</td>\n",
              "      <td>2164-10-25 07:16:00</td>\n",
              "      <td>2164-10-25 07:23:00</td>\n",
              "      <td>Nursing/other</td>\n",
              "      <td>Report</td>\n",
              "      <td>19150</td>\n",
              "      <td>NPN 1900-0700\\nPt awaiting transfer to floor w...</td>\n",
              "      <td>493</td>\n",
              "      <td>npn pt awaiting transfer floor floor bed becom...</td>\n",
              "      <td>NaN</td>\n",
              "      <td>NaN</td>\n",
              "      <td>47335</td>\n",
              "      <td>1</td>\n",
              "      <td>9749</td>\n",
              "    </tr>\n",
              "    <tr>\n",
              "      <th>1</th>\n",
              "      <td>112344</td>\n",
              "      <td>10006</td>\n",
              "      <td>142345</td>\n",
              "      <td>1</td>\n",
              "      <td>99591</td>\n",
              "      <td>1394273</td>\n",
              "      <td>2164-10-25</td>\n",
              "      <td>2164-10-25 07:16:00</td>\n",
              "      <td>2164-10-25 07:23:00</td>\n",
              "      <td>Nursing/other</td>\n",
              "      <td>Report</td>\n",
              "      <td>19150</td>\n",
              "      <td>NPN 1900-0700\\nPt awaiting transfer to floor w...</td>\n",
              "      <td>493</td>\n",
              "      <td>npn pt awaiting transfer floor floor bed becom...</td>\n",
              "      <td>NaN</td>\n",
              "      <td>NaN</td>\n",
              "      <td>47336</td>\n",
              "      <td>2</td>\n",
              "      <td>5491</td>\n",
              "    </tr>\n",
              "    <tr>\n",
              "      <th>2</th>\n",
              "      <td>112344</td>\n",
              "      <td>10006</td>\n",
              "      <td>142345</td>\n",
              "      <td>1</td>\n",
              "      <td>99591</td>\n",
              "      <td>1394273</td>\n",
              "      <td>2164-10-25</td>\n",
              "      <td>2164-10-25 07:16:00</td>\n",
              "      <td>2164-10-25 07:23:00</td>\n",
              "      <td>Nursing/other</td>\n",
              "      <td>Report</td>\n",
              "      <td>19150</td>\n",
              "      <td>NPN 1900-0700\\nPt awaiting transfer to floor w...</td>\n",
              "      <td>493</td>\n",
              "      <td>npn pt awaiting transfer floor floor bed becom...</td>\n",
              "      <td>NaN</td>\n",
              "      <td>NaN</td>\n",
              "      <td>47337</td>\n",
              "      <td>3</td>\n",
              "      <td>3895</td>\n",
              "    </tr>\n",
              "    <tr>\n",
              "      <th>3</th>\n",
              "      <td>112344</td>\n",
              "      <td>10006</td>\n",
              "      <td>142345</td>\n",
              "      <td>1</td>\n",
              "      <td>99591</td>\n",
              "      <td>1394273</td>\n",
              "      <td>2164-10-25</td>\n",
              "      <td>2164-10-25 07:16:00</td>\n",
              "      <td>2164-10-25 07:23:00</td>\n",
              "      <td>Nursing/other</td>\n",
              "      <td>Report</td>\n",
              "      <td>19150</td>\n",
              "      <td>NPN 1900-0700\\nPt awaiting transfer to floor w...</td>\n",
              "      <td>493</td>\n",
              "      <td>npn pt awaiting transfer floor floor bed becom...</td>\n",
              "      <td>NaN</td>\n",
              "      <td>NaN</td>\n",
              "      <td>47338</td>\n",
              "      <td>4</td>\n",
              "      <td>3995</td>\n",
              "    </tr>\n",
              "    <tr>\n",
              "      <th>4</th>\n",
              "      <td>112344</td>\n",
              "      <td>10006</td>\n",
              "      <td>142345</td>\n",
              "      <td>1</td>\n",
              "      <td>99591</td>\n",
              "      <td>1394273</td>\n",
              "      <td>2164-10-25</td>\n",
              "      <td>2164-10-25 07:16:00</td>\n",
              "      <td>2164-10-25 07:23:00</td>\n",
              "      <td>Nursing/other</td>\n",
              "      <td>Report</td>\n",
              "      <td>19150</td>\n",
              "      <td>NPN 1900-0700\\nPt awaiting transfer to floor w...</td>\n",
              "      <td>493</td>\n",
              "      <td>npn pt awaiting transfer floor floor bed becom...</td>\n",
              "      <td>NaN</td>\n",
              "      <td>NaN</td>\n",
              "      <td>47339</td>\n",
              "      <td>5</td>\n",
              "      <td>3893</td>\n",
              "    </tr>\n",
              "  </tbody>\n",
              "</table>\n",
              "</div>\n",
              "    <div class=\"colab-df-buttons\">\n",
              "\n",
              "  <div class=\"colab-df-container\">\n",
              "    <button class=\"colab-df-convert\" onclick=\"convertToInteractive('df-70c179c1-2ced-4e2b-905c-2ce843e48e53')\"\n",
              "            title=\"Convert this dataframe to an interactive table.\"\n",
              "            style=\"display:none;\">\n",
              "\n",
              "  <svg xmlns=\"http://www.w3.org/2000/svg\" height=\"24px\" viewBox=\"0 -960 960 960\">\n",
              "    <path d=\"M120-120v-720h720v720H120Zm60-500h600v-160H180v160Zm220 220h160v-160H400v160Zm0 220h160v-160H400v160ZM180-400h160v-160H180v160Zm440 0h160v-160H620v160ZM180-180h160v-160H180v160Zm440 0h160v-160H620v160Z\"/>\n",
              "  </svg>\n",
              "    </button>\n",
              "\n",
              "  <style>\n",
              "    .colab-df-container {\n",
              "      display:flex;\n",
              "      gap: 12px;\n",
              "    }\n",
              "\n",
              "    .colab-df-convert {\n",
              "      background-color: #E8F0FE;\n",
              "      border: none;\n",
              "      border-radius: 50%;\n",
              "      cursor: pointer;\n",
              "      display: none;\n",
              "      fill: #1967D2;\n",
              "      height: 32px;\n",
              "      padding: 0 0 0 0;\n",
              "      width: 32px;\n",
              "    }\n",
              "\n",
              "    .colab-df-convert:hover {\n",
              "      background-color: #E2EBFA;\n",
              "      box-shadow: 0px 1px 2px rgba(60, 64, 67, 0.3), 0px 1px 3px 1px rgba(60, 64, 67, 0.15);\n",
              "      fill: #174EA6;\n",
              "    }\n",
              "\n",
              "    .colab-df-buttons div {\n",
              "      margin-bottom: 4px;\n",
              "    }\n",
              "\n",
              "    [theme=dark] .colab-df-convert {\n",
              "      background-color: #3B4455;\n",
              "      fill: #D2E3FC;\n",
              "    }\n",
              "\n",
              "    [theme=dark] .colab-df-convert:hover {\n",
              "      background-color: #434B5C;\n",
              "      box-shadow: 0px 1px 3px 1px rgba(0, 0, 0, 0.15);\n",
              "      filter: drop-shadow(0px 1px 2px rgba(0, 0, 0, 0.3));\n",
              "      fill: #FFFFFF;\n",
              "    }\n",
              "  </style>\n",
              "\n",
              "    <script>\n",
              "      const buttonEl =\n",
              "        document.querySelector('#df-70c179c1-2ced-4e2b-905c-2ce843e48e53 button.colab-df-convert');\n",
              "      buttonEl.style.display =\n",
              "        google.colab.kernel.accessAllowed ? 'block' : 'none';\n",
              "\n",
              "      async function convertToInteractive(key) {\n",
              "        const element = document.querySelector('#df-70c179c1-2ced-4e2b-905c-2ce843e48e53');\n",
              "        const dataTable =\n",
              "          await google.colab.kernel.invokeFunction('convertToInteractive',\n",
              "                                                    [key], {});\n",
              "        if (!dataTable) return;\n",
              "\n",
              "        const docLinkHtml = 'Like what you see? Visit the ' +\n",
              "          '<a target=\"_blank\" href=https://colab.research.google.com/notebooks/data_table.ipynb>data table notebook</a>'\n",
              "          + ' to learn more about interactive tables.';\n",
              "        element.innerHTML = '';\n",
              "        dataTable['output_type'] = 'display_data';\n",
              "        await google.colab.output.renderOutput(dataTable, element);\n",
              "        const docLink = document.createElement('div');\n",
              "        docLink.innerHTML = docLinkHtml;\n",
              "        element.appendChild(docLink);\n",
              "      }\n",
              "    </script>\n",
              "  </div>\n",
              "\n",
              "\n",
              "<div id=\"df-66d91856-98ad-40be-be07-81b631d76558\">\n",
              "  <button class=\"colab-df-quickchart\" onclick=\"quickchart('df-66d91856-98ad-40be-be07-81b631d76558')\"\n",
              "            title=\"Suggest charts\"\n",
              "            style=\"display:none;\">\n",
              "\n",
              "<svg xmlns=\"http://www.w3.org/2000/svg\" height=\"24px\"viewBox=\"0 0 24 24\"\n",
              "     width=\"24px\">\n",
              "    <g>\n",
              "        <path d=\"M19 3H5c-1.1 0-2 .9-2 2v14c0 1.1.9 2 2 2h14c1.1 0 2-.9 2-2V5c0-1.1-.9-2-2-2zM9 17H7v-7h2v7zm4 0h-2V7h2v10zm4 0h-2v-4h2v4z\"/>\n",
              "    </g>\n",
              "</svg>\n",
              "  </button>\n",
              "\n",
              "<style>\n",
              "  .colab-df-quickchart {\n",
              "      --bg-color: #E8F0FE;\n",
              "      --fill-color: #1967D2;\n",
              "      --hover-bg-color: #E2EBFA;\n",
              "      --hover-fill-color: #174EA6;\n",
              "      --disabled-fill-color: #AAA;\n",
              "      --disabled-bg-color: #DDD;\n",
              "  }\n",
              "\n",
              "  [theme=dark] .colab-df-quickchart {\n",
              "      --bg-color: #3B4455;\n",
              "      --fill-color: #D2E3FC;\n",
              "      --hover-bg-color: #434B5C;\n",
              "      --hover-fill-color: #FFFFFF;\n",
              "      --disabled-bg-color: #3B4455;\n",
              "      --disabled-fill-color: #666;\n",
              "  }\n",
              "\n",
              "  .colab-df-quickchart {\n",
              "    background-color: var(--bg-color);\n",
              "    border: none;\n",
              "    border-radius: 50%;\n",
              "    cursor: pointer;\n",
              "    display: none;\n",
              "    fill: var(--fill-color);\n",
              "    height: 32px;\n",
              "    padding: 0;\n",
              "    width: 32px;\n",
              "  }\n",
              "\n",
              "  .colab-df-quickchart:hover {\n",
              "    background-color: var(--hover-bg-color);\n",
              "    box-shadow: 0 1px 2px rgba(60, 64, 67, 0.3), 0 1px 3px 1px rgba(60, 64, 67, 0.15);\n",
              "    fill: var(--button-hover-fill-color);\n",
              "  }\n",
              "\n",
              "  .colab-df-quickchart-complete:disabled,\n",
              "  .colab-df-quickchart-complete:disabled:hover {\n",
              "    background-color: var(--disabled-bg-color);\n",
              "    fill: var(--disabled-fill-color);\n",
              "    box-shadow: none;\n",
              "  }\n",
              "\n",
              "  .colab-df-spinner {\n",
              "    border: 2px solid var(--fill-color);\n",
              "    border-color: transparent;\n",
              "    border-bottom-color: var(--fill-color);\n",
              "    animation:\n",
              "      spin 1s steps(1) infinite;\n",
              "  }\n",
              "\n",
              "  @keyframes spin {\n",
              "    0% {\n",
              "      border-color: transparent;\n",
              "      border-bottom-color: var(--fill-color);\n",
              "      border-left-color: var(--fill-color);\n",
              "    }\n",
              "    20% {\n",
              "      border-color: transparent;\n",
              "      border-left-color: var(--fill-color);\n",
              "      border-top-color: var(--fill-color);\n",
              "    }\n",
              "    30% {\n",
              "      border-color: transparent;\n",
              "      border-left-color: var(--fill-color);\n",
              "      border-top-color: var(--fill-color);\n",
              "      border-right-color: var(--fill-color);\n",
              "    }\n",
              "    40% {\n",
              "      border-color: transparent;\n",
              "      border-right-color: var(--fill-color);\n",
              "      border-top-color: var(--fill-color);\n",
              "    }\n",
              "    60% {\n",
              "      border-color: transparent;\n",
              "      border-right-color: var(--fill-color);\n",
              "    }\n",
              "    80% {\n",
              "      border-color: transparent;\n",
              "      border-right-color: var(--fill-color);\n",
              "      border-bottom-color: var(--fill-color);\n",
              "    }\n",
              "    90% {\n",
              "      border-color: transparent;\n",
              "      border-bottom-color: var(--fill-color);\n",
              "    }\n",
              "  }\n",
              "</style>\n",
              "\n",
              "  <script>\n",
              "    async function quickchart(key) {\n",
              "      const quickchartButtonEl =\n",
              "        document.querySelector('#' + key + ' button');\n",
              "      quickchartButtonEl.disabled = true;  // To prevent multiple clicks.\n",
              "      quickchartButtonEl.classList.add('colab-df-spinner');\n",
              "      try {\n",
              "        const charts = await google.colab.kernel.invokeFunction(\n",
              "            'suggestCharts', [key], {});\n",
              "      } catch (error) {\n",
              "        console.error('Error during call to suggestCharts:', error);\n",
              "      }\n",
              "      quickchartButtonEl.classList.remove('colab-df-spinner');\n",
              "      quickchartButtonEl.classList.add('colab-df-quickchart-complete');\n",
              "    }\n",
              "    (() => {\n",
              "      let quickchartButtonEl =\n",
              "        document.querySelector('#df-66d91856-98ad-40be-be07-81b631d76558 button');\n",
              "      quickchartButtonEl.style.display =\n",
              "        google.colab.kernel.accessAllowed ? 'block' : 'none';\n",
              "    })();\n",
              "  </script>\n",
              "</div>\n",
              "\n",
              "    </div>\n",
              "  </div>\n"
            ],
            "application/vnd.google.colaboratory.intrinsic+json": {
              "type": "dataframe",
              "variable_name": "final_merged_data"
            }
          },
          "metadata": {},
          "execution_count": 6
        }
      ],
      "source": [
        "# Loading the merged data with all the required fields\n",
        "final_merged_data = pd.read_pickle(path_to_file + 'final_merged_data.pkl')\n",
        "final_merged_data.head(5)\n"
      ]
    },
    {
      "cell_type": "markdown",
      "metadata": {
        "id": "5m6I5OxNeidy"
      },
      "source": []
    },
    {
      "cell_type": "markdown",
      "metadata": {
        "id": "bF0aXhIkPS6V"
      },
      "source": [
        "The goal of this code is to identify and retain only those records from final_merged_data where the 'CLEAN_TEXT' field contains certain medical-related keywords. This is particularly useful in contexts such as medical research, patient care analysis, or when preparing data for machine learning tasks that require focusing on specific conditions or treatments.\n",
        "\n"
      ]
    },
    {
      "cell_type": "code",
      "execution_count": 7,
      "metadata": {
        "id": "tiTsxFZpPKdo"
      },
      "outputs": [],
      "source": [
        "# Define a list of keywords that are of interest, starting with 'diag'\n",
        "keywords = ['diag', 'treatment', 'therapy', 'surgery', 'fever', 'pain', 'dialysis', 'diagnosis', 'cancer']\n",
        "\n",
        "# Function to check if any of the keywords appear in the text\n",
        "def contains_keywords(text):\n",
        "    return any(keyword in text.lower() for keyword in keywords)\n",
        "\n",
        "# Apply this function to the 'CLEAN_TEXT' column and create a new filtered DataFrame\n",
        "clinical_data = final_merged_data[final_merged_data['CLEAN_TEXT'].apply(contains_keywords)]\n"
      ]
    },
    {
      "cell_type": "code",
      "execution_count": 8,
      "metadata": {
        "colab": {
          "base_uri": "https://localhost:8080/"
        },
        "id": "SCJvFyC8Lg1J",
        "outputId": "939db02c-386d-426d-97a9-649909f147db"
      },
      "outputs": [
        {
          "output_type": "stream",
          "name": "stdout",
          "text": [
            "<class 'pandas.core.frame.DataFrame'>\n",
            "Index: 41289 entries, 0 to 123824\n",
            "Data columns (total 20 columns):\n",
            " #   Column       Non-Null Count  Dtype         \n",
            "---  ------       --------------  -----         \n",
            " 0   row_id_x     41289 non-null  int64         \n",
            " 1   SUBJECT_ID   41289 non-null  object        \n",
            " 2   HADM_ID      41289 non-null  object        \n",
            " 3   seq_num_x    41289 non-null  int64         \n",
            " 4   ICD9_CODE    41289 non-null  object        \n",
            " 5   ROW_ID       41289 non-null  object        \n",
            " 6   CHARTDATE    41289 non-null  datetime64[ns]\n",
            " 7   CHARTTIME    41289 non-null  datetime64[ns]\n",
            " 8   STORETIME    41289 non-null  datetime64[ns]\n",
            " 9   CATEGORY     41289 non-null  object        \n",
            " 10  DESCRIPTION  41289 non-null  object        \n",
            " 11  CGID         41289 non-null  object        \n",
            " 12  TEXT         41289 non-null  object        \n",
            " 13  TEXT_LENGTH  41289 non-null  int64         \n",
            " 14  CLEAN_TEXT   41289 non-null  object        \n",
            " 15  icd9_code_x  10851 non-null  object        \n",
            " 16  long_title   10851 non-null  object        \n",
            " 17  row_id_y     41289 non-null  int64         \n",
            " 18  seq_num_y    41289 non-null  int64         \n",
            " 19  icd9_code_y  41289 non-null  int64         \n",
            "dtypes: datetime64[ns](3), int64(6), object(11)\n",
            "memory usage: 6.6+ MB\n"
          ]
        }
      ],
      "source": [
        "clinical_data.info()"
      ]
    },
    {
      "cell_type": "code",
      "execution_count": 9,
      "metadata": {
        "colab": {
          "base_uri": "https://localhost:8080/"
        },
        "id": "YeLAV0pPO3_3",
        "outputId": "07f3b69c-4587-452f-ba1e-937b9556ebd5"
      },
      "outputs": [
        {
          "output_type": "stream",
          "name": "stdout",
          "text": [
            "<class 'pandas.core.frame.DataFrame'>\n",
            "Index: 41289 entries, 0 to 123824\n",
            "Data columns (total 20 columns):\n",
            " #   Column       Non-Null Count  Dtype         \n",
            "---  ------       --------------  -----         \n",
            " 0   row_id_x     41289 non-null  int64         \n",
            " 1   SUBJECT_ID   41289 non-null  object        \n",
            " 2   HADM_ID      41289 non-null  object        \n",
            " 3   seq_num_x    41289 non-null  int64         \n",
            " 4   ICD9_CODE    41289 non-null  object        \n",
            " 5   ROW_ID       41289 non-null  object        \n",
            " 6   CHARTDATE    41289 non-null  datetime64[ns]\n",
            " 7   CHARTTIME    41289 non-null  datetime64[ns]\n",
            " 8   STORETIME    41289 non-null  datetime64[ns]\n",
            " 9   CATEGORY     41289 non-null  object        \n",
            " 10  DESCRIPTION  41289 non-null  object        \n",
            " 11  CGID         41289 non-null  object        \n",
            " 12  TEXT         41289 non-null  object        \n",
            " 13  TEXT_LENGTH  41289 non-null  int64         \n",
            " 14  CLEAN_TEXT   41289 non-null  object        \n",
            " 15  icd9_code_x  41289 non-null  object        \n",
            " 16  long_title   41289 non-null  object        \n",
            " 17  row_id_y     41289 non-null  int64         \n",
            " 18  seq_num_y    41289 non-null  int64         \n",
            " 19  icd9_code_y  41289 non-null  int64         \n",
            "dtypes: datetime64[ns](3), int64(6), object(11)\n",
            "memory usage: 6.6+ MB\n"
          ]
        },
        {
          "output_type": "stream",
          "name": "stderr",
          "text": [
            "<ipython-input-9-841f38fc9a4a>:1: SettingWithCopyWarning: \n",
            "A value is trying to be set on a copy of a slice from a DataFrame.\n",
            "Try using .loc[row_indexer,col_indexer] = value instead\n",
            "\n",
            "See the caveats in the documentation: https://pandas.pydata.org/pandas-docs/stable/user_guide/indexing.html#returning-a-view-versus-a-copy\n",
            "  clinical_data['long_title'] = clinical_data['long_title'].fillna('Not Specified')\n",
            "<ipython-input-9-841f38fc9a4a>:2: SettingWithCopyWarning: \n",
            "A value is trying to be set on a copy of a slice from a DataFrame.\n",
            "Try using .loc[row_indexer,col_indexer] = value instead\n",
            "\n",
            "See the caveats in the documentation: https://pandas.pydata.org/pandas-docs/stable/user_guide/indexing.html#returning-a-view-versus-a-copy\n",
            "  clinical_data['icd9_code_x'] = clinical_data['icd9_code_x'].fillna('Not Specified')\n"
          ]
        }
      ],
      "source": [
        "clinical_data['long_title'] = clinical_data['long_title'].fillna('Not Specified')\n",
        "clinical_data['icd9_code_x'] = clinical_data['icd9_code_x'].fillna('Not Specified')\n",
        "\n",
        "clinical_data.info()\n"
      ]
    },
    {
      "cell_type": "markdown",
      "metadata": {
        "id": "8U65QapSpEVx"
      },
      "source": [
        "If we can see from the above 2 results, the clinical_data is highly imbalanced due to the null values and hence this can lead to biased model performance. The model may focus more on the majority class, leading to poor generalization for the minority class or for entries with missing data. To address this, we could consider imputing the missing values, using techniques such as oversampling or undersampling, or applying class-balancing techniques to ensure the model learns to handle both classes effectively."
      ]
    },
    {
      "cell_type": "code",
      "execution_count": 10,
      "metadata": {
        "colab": {
          "base_uri": "https://localhost:8080/"
        },
        "id": "sf8hRmzpPurD",
        "outputId": "d90dae13-8072-4c52-e4fe-8b5915c1edd0"
      },
      "outputs": [
        {
          "output_type": "stream",
          "name": "stdout",
          "text": [
            "ICD9_CODE\n",
            "4280     5617\n",
            "5185     5078\n",
            "570      3876\n",
            "5845     3673\n",
            "4168     3640\n",
            "2867     3394\n",
            "5750     3292\n",
            "28959    3079\n",
            "5121     3062\n",
            "07032    3058\n",
            "Name: count, dtype: int64\n",
            "Top 5 ICD-9 Codes: ['4280', '5185', '570', '5845', '4168']\n"
          ]
        }
      ],
      "source": [
        "# Assuming we want to see the distribution or count of ICD-9 codes in the filtered data\n",
        "icd9_code_counts = final_merged_data['ICD9_CODE'].value_counts()\n",
        "\n",
        "\n",
        "print(icd9_code_counts.head(10))  # Display the top 10 most common ICD-9 codes\n",
        "\n",
        "top_5_icd9_codes = icd9_code_counts.head(5).index.tolist()\n",
        "print(\"Top 5 ICD-9 Codes:\", top_5_icd9_codes)\n"
      ]
    },
    {
      "cell_type": "code",
      "execution_count": 11,
      "metadata": {
        "colab": {
          "base_uri": "https://localhost:8080/",
          "height": 502
        },
        "id": "sHEk7lk8Pw66",
        "outputId": "515e4962-d6c2-490d-9e7a-20744c42acd6"
      },
      "outputs": [
        {
          "output_type": "display_data",
          "data": {
            "text/plain": [
              "<Figure size 640x480 with 1 Axes>"
            ],
            "image/png": "[encoded data removed]"
          },
          "metadata": {}
        }
      ],
      "source": [
        "import matplotlib.pyplot as plt\n",
        "\n",
        "# Visualize the top ICD-9 codes\n",
        "icd9_code_counts.head(10).plot(kind='bar')\n",
        "plt.title('Top ICD-9 Codes in Keyword-Filtered Entries')\n",
        "plt.xlabel('ICD-9 Code')\n",
        "plt.ylabel('Frequency')\n",
        "plt.show()\n"
      ]
    },
    {
      "cell_type": "markdown",
      "metadata": {
        "id": "3Gc4izxJdXCj"
      },
      "source": [
        "The chart effectively showcases which conditions (via ICD-9 codes) are most frequently noted in clinical records filtered by certain keywords. This analysis could be critical for healthcare data analysis, providing insights into prevalent health issues or conditions that require more focused care or study within the sampled population."
      ]
    },
    {
      "cell_type": "code",
      "execution_count": 12,
      "metadata": {
        "colab": {
          "base_uri": "https://localhost:8080/"
        },
        "id": "JWL0bpvRr2kj",
        "outputId": "b9670adc-7dd6-4f05-d522-0211fee019d7"
      },
      "outputs": [
        {
          "output_type": "stream",
          "name": "stderr",
          "text": [
            "<ipython-input-12-92899567993b>:8: SettingWithCopyWarning: \n",
            "A value is trying to be set on a copy of a slice from a DataFrame.\n",
            "Try using .loc[row_indexer,col_indexer] = value instead\n",
            "\n",
            "See the caveats in the documentation: https://pandas.pydata.org/pandas-docs/stable/user_guide/indexing.html#returning-a-view-versus-a-copy\n",
            "  clinical_data['LABEL'] = clinical_data['CLEAN_TEXT'].apply(label_text)\n"
          ]
        }
      ],
      "source": [
        "keywords = ['diag', 'treatment', 'therapy', 'surgery', 'fever', 'dialysis', 'diagnosis']\n",
        "\n",
        "def label_text(text):\n",
        "    text = text.lower()\n",
        "    return 1 if any(keyword in text for keyword in keywords) else 0\n",
        "\n",
        "\n",
        "clinical_data['LABEL'] = clinical_data['CLEAN_TEXT'].apply(label_text)\n",
        "\n"
      ]
    },
    {
      "cell_type": "code",
      "execution_count": 13,
      "metadata": {
        "colab": {
          "base_uri": "https://localhost:8080/"
        },
        "id": "4koYWnBrSDMb",
        "outputId": "3e802c01-efa0-41b5-e30e-6527564bdb62"
      },
      "outputs": [
        {
          "output_type": "stream",
          "name": "stdout",
          "text": [
            "LABEL\n",
            "0    22654\n",
            "1    18635\n",
            "Name: count, dtype: int64\n"
          ]
        }
      ],
      "source": [
        "label_counts = clinical_data['LABEL'].value_counts()\n",
        "print(label_counts)\n"
      ]
    },
    {
      "cell_type": "code",
      "execution_count": 14,
      "metadata": {
        "id": "Q46H70TD24KJ"
      },
      "outputs": [],
      "source": [
        "# If we're modifying a slice, use .copy() to ensure a separate copy is modified\n",
        "clinical_data_labeled = clinical_data.copy()\n",
        "clinical_data_labeled['LABEL'] = clinical_data_labeled['CLEAN_TEXT'].apply(label_text)\n",
        "clinical_data = clinical_data_labeled"
      ]
    },
    {
      "cell_type": "code",
      "execution_count": 15,
      "metadata": {
        "id": "HkBandrc3WVp"
      },
      "outputs": [],
      "source": [
        "# Save the DataFrame to a CSV file\n",
        "clinical_data.to_csv(path_to_file + '/clinical_data.csv', index=False)\n",
        "\n",
        "# OR save it as a pickle file (smaller size, faster load time)\n",
        "clinical_data.to_pickle(path_to_file + '/clinical_data.pkl')\n"
      ]
    },
    {
      "cell_type": "markdown",
      "metadata": {
        "id": "eurUJc_XOsPa"
      },
      "source": []
    },
    {
      "cell_type": "code",
      "execution_count": 16,
      "metadata": {
        "colab": {
          "base_uri": "https://localhost:8080/",
          "height": 472
        },
        "id": "1WVKu1tbSYgH",
        "outputId": "ecd88c4a-139e-4862-f550-c6e643dbda3b"
      },
      "outputs": [
        {
          "output_type": "display_data",
          "data": {
            "text/plain": [
              "<Figure size 640x480 with 1 Axes>"
            ],
            "image/png": "[encoded data removed]"
          },
          "metadata": {}
        }
      ],
      "source": [
        "import matplotlib.pyplot as plt\n",
        "\n",
        "# Plotting the label distribution\n",
        "label_counts.plot(kind='bar')\n",
        "plt.title('Distribution of Labels in Clinical Data')\n",
        "plt.xlabel('Label')\n",
        "plt.ylabel('Number of Entries')\n",
        "plt.xticks(ticks=[0, 1], labels=['No Keywords', 'Contains Keywords'], rotation=0)\n",
        "plt.show()\n"
      ]
    },
    {
      "cell_type": "code",
      "execution_count": 17,
      "metadata": {
        "colab": {
          "base_uri": "https://localhost:8080/"
        },
        "id": "wh82lrqaz8Yx",
        "outputId": "127566ce-dd63-4bb4-d56f-d6bc7b3f6749"
      },
      "outputs": [
        {
          "output_type": "stream",
          "name": "stdout",
          "text": [
            "<class 'pandas.core.frame.DataFrame'>\n",
            "Index: 32620 entries, 56 to 123820\n",
            "Data columns (total 21 columns):\n",
            " #   Column       Non-Null Count  Dtype         \n",
            "---  ------       --------------  -----         \n",
            " 0   row_id_x     32620 non-null  int64         \n",
            " 1   SUBJECT_ID   32620 non-null  object        \n",
            " 2   HADM_ID      32620 non-null  object        \n",
            " 3   seq_num_x    32620 non-null  int64         \n",
            " 4   ICD9_CODE    32620 non-null  object        \n",
            " 5   ROW_ID       32620 non-null  object        \n",
            " 6   CHARTDATE    32620 non-null  datetime64[ns]\n",
            " 7   CHARTTIME    32620 non-null  datetime64[ns]\n",
            " 8   STORETIME    32620 non-null  datetime64[ns]\n",
            " 9   CATEGORY     32620 non-null  object        \n",
            " 10  DESCRIPTION  32620 non-null  object        \n",
            " 11  CGID         32620 non-null  object        \n",
            " 12  TEXT         32620 non-null  object        \n",
            " 13  TEXT_LENGTH  32620 non-null  int64         \n",
            " 14  CLEAN_TEXT   32620 non-null  object        \n",
            " 15  icd9_code_x  32620 non-null  object        \n",
            " 16  long_title   32620 non-null  object        \n",
            " 17  row_id_y     32620 non-null  int64         \n",
            " 18  seq_num_y    32620 non-null  int64         \n",
            " 19  icd9_code_y  32620 non-null  int64         \n",
            " 20  LABEL        32620 non-null  int64         \n",
            "dtypes: datetime64[ns](3), int64(7), object(11)\n",
            "memory usage: 5.5+ MB\n"
          ]
        },
        {
          "output_type": "stream",
          "name": "stderr",
          "text": [
            "<ipython-input-17-01133724e74a>:3: SettingWithCopyWarning: \n",
            "A value is trying to be set on a copy of a slice from a DataFrame.\n",
            "Try using .loc[row_indexer,col_indexer] = value instead\n",
            "\n",
            "See the caveats in the documentation: https://pandas.pydata.org/pandas-docs/stable/user_guide/indexing.html#returning-a-view-versus-a-copy\n",
            "  final_merged_data_filtered['LABEL'] = final_merged_data_filtered['CLEAN_TEXT'].apply(label_text)\n"
          ]
        }
      ],
      "source": [
        "# Filter the DataFrame to include only rows where 'long_title' is not null\n",
        "final_merged_data_filtered = final_merged_data[final_merged_data['long_title'].notnull()]\n",
        "final_merged_data_filtered['LABEL'] = final_merged_data_filtered['CLEAN_TEXT'].apply(label_text)\n",
        "# Check the info of the new DataFrame to confirm the filtering\n",
        "final_merged_data_filtered.info()\n"
      ]
    },
    {
      "cell_type": "code",
      "execution_count": 98,
      "metadata": {
        "colab": {
          "base_uri": "https://localhost:8080/",
          "height": 200,
          "referenced_widgets": [
            "c08db702ff144d3ebc869e7c8a5964a6",
            "25190407477a449e8fd28fe57f557e4a",
            "3260913a3a414b858a669af6f5b82441",
            "d3e8cfd8cb0243ac90a6f617e34a4ffa",
            "d717b712613b47e1a533cbe43ab288b9",
            "46724b3f5a9c4e0994cbc7d369ca57d9",
            "4f0bbc8e89754cb29f672ae816fde3d1",
            "e9da4aa6e8964e69a04b94c0fed244ad",
            "0c8892196ea94ebd8ed4d4abacf1ec0f",
            "fecd7edb05634210a6ccd59f24d9550e",
            "1cb20e3df6be43e89c6ae2ec67cbe835",
            "f967de303e0f42b9843deec3c1e274b5",
            "72ce294d87a24be99f4b71d4e30fc432",
            "1e0ef2467deb4a43b231692722d9dbef",
            "d5e30e26f65f4d66bbc2d05ab6af961d",
            "9a78583a68a646978e255ccefd73f3f2",
            "c424955e93314678a5c9b91b29633e18",
            "dae62133b41b434eae17e0d56e3fc920",
            "01b2329eeed34e6087b7292d2ebd6e39",
            "9231d7047d23447785dc2ae270680a91",
            "b92d42082f364956b4d9dfd06909fa5c",
            "b69cf330ef8546259404a9a1c443b284",
            "a709b7f65a244abf9067e2e80c9701da",
            "c89fa8b180244f92ad264a4fc0e5ac91",
            "6ca0144be91241618a686a558bf114d9",
            "95463429ef184ad2b569d0fd85406440",
            "916f2997739b4503a06a8b4f6a74a472",
            "06156fb5619e46149d107cfe888f077b",
            "162be098607d4d99aca4aab525c3fe2e",
            "52182d5f34fa4c19b19a2d4e184cc998",
            "7f2880d14b354e9abd7c89391ec7203e",
            "937b00ac94224877b2cb5202e8e7d6a0",
            "5a815adb6afa46df9f108516cbe0ccd0",
            "d342dea2a7b14007a7ae7037c4968fb1",
            "b5302aecd5974027a736e22fe38c8f4a",
            "cd3bdb04f6da4e759b0e8946c6bdfa08",
            "055b4b3ca554493398a59b658d622149",
            "c68c2b4b03574d4288cc87517ca3a412",
            "79e5bbb1f9c445a6a6faceb1283c0dec",
            "c4456fb6aa4b4e27b7d7732d90d217df",
            "1b9b3686aed74661b9995114cec5f367",
            "6480f07b28964732912f746593af1ce7",
            "b7b4efb25207448f9f54957b134c4a3f",
            "38b04974bc7c40d8af0440bdda51c883"
          ]
        },
        "id": "RoNvJvFLz8Yx",
        "outputId": "0b3537b7-efe6-4a43-a043-3322ad9c2a56"
      },
      "outputs": [
        {
          "output_type": "display_data",
          "data": {
            "text/plain": [
              "tokenizer_config.json:   0%|          | 0.00/48.0 [00:00<?, ?B/s]"
            ],
            "application/vnd.jupyter.widget-view+json": {
              "version_major": 2,
              "version_minor": 0,
              "model_id": "c08db702ff144d3ebc869e7c8a5964a6"
            }
          },
          "metadata": {}
        },
        {
          "output_type": "display_data",
          "data": {
            "text/plain": [
              "vocab.txt:   0%|          | 0.00/232k [00:00<?, ?B/s]"
            ],
            "application/vnd.jupyter.widget-view+json": {
              "version_major": 2,
              "version_minor": 0,
              "model_id": "f967de303e0f42b9843deec3c1e274b5"
            }
          },
          "metadata": {}
        },
        {
          "output_type": "display_data",
          "data": {
            "text/plain": [
              "tokenizer.json:   0%|          | 0.00/466k [00:00<?, ?B/s]"
            ],
            "application/vnd.jupyter.widget-view+json": {
              "version_major": 2,
              "version_minor": 0,
              "model_id": "a709b7f65a244abf9067e2e80c9701da"
            }
          },
          "metadata": {}
        },
        {
          "output_type": "display_data",
          "data": {
            "text/plain": [
              "config.json:   0%|          | 0.00/570 [00:00<?, ?B/s]"
            ],
            "application/vnd.jupyter.widget-view+json": {
              "version_major": 2,
              "version_minor": 0,
              "model_id": "d342dea2a7b14007a7ae7037c4968fb1"
            }
          },
          "metadata": {}
        },
        {
          "output_type": "stream",
          "name": "stderr",
          "text": [
            "/usr/local/lib/python3.10/dist-packages/transformers/tokenization_utils_base.py:1601: FutureWarning: `clean_up_tokenization_spaces` was not set. It will be set to `True` by default. This behavior will be depracted in transformers v4.45, and will be then set to `False` by default. For more details check this issue: https://github.com/huggingface/transformers/issues/31884\n",
            "  warnings.warn(\n"
          ]
        }
      ],
      "source": [
        "from transformers import BertTokenizer\n",
        "\n",
        "# Initializing the BERT tokenizer\n",
        "tokenizer = BertTokenizer.from_pretrained('bert-base-uncased')\n",
        "\n",
        "# Preprocessing function for tokenizing texts\n",
        "def preprocess_data(texts, max_length=512):\n",
        "    # Ensure texts is a list (for batch processing)\n",
        "    if isinstance(texts, str):\n",
        "        texts = [texts]  # Convert single string into a list\n",
        "\n",
        "    # Tokenize with padding, truncation, and attention masks\n",
        "    return tokenizer(\n",
        "        texts,\n",
        "        padding=True,\n",
        "        truncation=True,\n",
        "        max_length=max_length,\n",
        "        return_tensors='pt',  # Return as PyTorch tensors\n",
        "        return_attention_mask=True  # Return attention mask for padded tokens\n",
        "    )\n",
        "\n",
        "# Ensuring 'CLEAN_TEXT' column is a list of strings\n",
        "texts = clinical_data['CLEAN_TEXT'].tolist()  # Convert Pandas Series to a list of strings\n",
        "\n",
        "# Tokenize the text data\n",
        "tokenized_train_data = preprocess_data(texts)  # Now texts is a list of strings"
      ]
    },
    {
      "cell_type": "code",
      "execution_count": 99,
      "metadata": {
        "id": "sRbVTB0_eid0"
      },
      "outputs": [],
      "source": [
        "from sklearn.model_selection import train_test_split\n",
        "\n",
        "# Get input_ids and attention masks\n",
        "input_ids = tokenized_train_data['input_ids']\n",
        "attention_masks = tokenized_train_data['attention_mask']\n",
        "\n",
        "# Perform the train-test split ensuring alignment between input_ids and attention_mask\n",
        "X_train, X_test, y_train, y_test, train_attention_mask, test_attention_mask = train_test_split(\n",
        "    input_ids,\n",
        "    clinical_data['LABEL'],\n",
        "    attention_masks,\n",
        "    test_size=0.2,\n",
        "    random_state=42\n",
        ")\n"
      ]
    },
    {
      "cell_type": "code",
      "execution_count": 116,
      "metadata": {
        "id": "Ph9ojDLJeid0"
      },
      "outputs": [],
      "source": [
        "# Convert labels to tensors\n",
        "y_train_tensor = torch.tensor(y_train.values, dtype=torch.long)\n",
        "y_test_tensor = torch.tensor(y_test.values, dtype=torch.long)\n",
        "\n",
        "# Create TensorDatasets\n",
        "train_dataset = torch.utils.data.TensorDataset(X_train, train_attention_mask, y_train_tensor)\n",
        "test_dataset = torch.utils.data.TensorDataset(X_test, test_attention_mask, y_test_tensor)"
      ]
    },
    {
      "cell_type": "code",
      "execution_count": 21,
      "metadata": {
        "colab": {
          "base_uri": "https://localhost:8080/"
        },
        "id": "RJALOIQ6eid0",
        "outputId": "12ce9a25-77dd-4c3a-90ce-3304c7bfba26"
      },
      "outputs": [
        {
          "output_type": "stream",
          "name": "stdout",
          "text": [
            "torch.Size([33031, 512])\n",
            "torch.Size([33031, 512])\n",
            "torch.Size([33031])\n"
          ]
        }
      ],
      "source": [
        "print(X_train.shape)              # Should be (num_samples, max_length)\n",
        "print(train_attention_mask.shape) # Should be (num_samples, max_length)\n",
        "print(y_train_tensor.shape)       # Should be (num_samples,)\n"
      ]
    },
    {
      "cell_type": "code",
      "execution_count": 22,
      "metadata": {
        "id": "4hf1EYm3eid0"
      },
      "outputs": [],
      "source": [
        "from transformers import Trainer, TrainingArguments, BertForSequenceClassification, DataCollatorWithPadding\n",
        "\n",
        "# Define the data collator for padding\n",
        "data_collator = DataCollatorWithPadding(tokenizer=tokenizer)\n",
        "\n",
        "\n",
        "# Define model\n",
        "model = BertForSequenceClassification.from_pretrained(path_to_file+'bert_model', num_labels=2)\n"
      ]
    },
    {
      "cell_type": "code",
      "execution_count": 23,
      "metadata": {
        "colab": {
          "base_uri": "https://localhost:8080/"
        },
        "id": "gH80w3Odz8Yy",
        "outputId": "cbaa27c9-6ab0-4f28-cf8c-1176a530a4c1"
      },
      "outputs": [
        {
          "output_type": "stream",
          "name": "stdout",
          "text": [
            "Input IDs: tensor([[  101, 27937,  2078,  ...,     0,     0,     0],\n",
            "        [  101, 27937,  2078,  ...,     0,     0,     0],\n",
            "        [  101, 27937,  2078,  ...,     0,     0,     0],\n",
            "        ...,\n",
            "        [  101,  2440,  3642,  ...,     0,     0,     0],\n",
            "        [  101,  2440,  3642,  ...,     0,     0,     0],\n",
            "        [  101,  2440,  3642,  ...,  8080, 13625,   102]])\n",
            "Attention Mask: tensor([[1, 1, 1,  ..., 0, 0, 0],\n",
            "        [1, 1, 1,  ..., 0, 0, 0],\n",
            "        [1, 1, 1,  ..., 0, 0, 0],\n",
            "        ...,\n",
            "        [1, 1, 1,  ..., 0, 0, 0],\n",
            "        [1, 1, 1,  ..., 0, 0, 0],\n",
            "        [1, 1, 1,  ..., 1, 1, 1]])\n"
          ]
        }
      ],
      "source": [
        "from transformers import BertTokenizer\n",
        "\n",
        "# Load our tokenizer (assuming it's BERT)\n",
        "\n",
        "# Take a small sample of our clinical text\n",
        "sample_text = clinical_data['CLEAN_TEXT'].iloc[:15].tolist()\n",
        "\n",
        "# Tokenize the text\n",
        "encoded_inputs = tokenizer(\n",
        "    sample_text,\n",
        "    padding=True,          # Add padding to make all sequences the same length\n",
        "    truncation=True,       # Truncate sequences to max length (if too long)\n",
        "    max_length=256,        # We can set this depending on our model or data\n",
        "    return_tensors=\"pt\"    # Return PyTorch tensors\n",
        ")\n",
        "\n",
        "# Inspect the tokenized input IDs and attention mask\n",
        "print(\"Input IDs:\", encoded_inputs['input_ids'])\n",
        "print(\"Attention Mask:\", encoded_inputs['attention_mask'])\n"
      ]
    },
    {
      "cell_type": "code",
      "execution_count": 24,
      "metadata": {
        "colab": {
          "base_uri": "https://localhost:8080/",
          "height": 86,
          "referenced_widgets": [
            "6809eaa16edc4cfd85a24b7406f12fd5",
            "9f6290c7d0fb43f582c4064745ae7c73",
            "98595981ef2844a6b3364c289a93dbe4",
            "8acde5ddf9384bada673dca2d7cf3a6f",
            "9274a3c5c1984f8f9ac14dd423385825",
            "64d5f95085c14b0cb650ecea5dba6cc7",
            "6f6b1d6b36c74d5fa82d1f8e455dc9d8",
            "5965038d448b4cb79cd1038619b25c14",
            "c7745a75c6eb492bb523ca88c43a2f91",
            "536b8033a0bb454d913880756fcaef53",
            "56fef950ee3c4001bf26b0438dfdc181"
          ]
        },
        "id": "df4ehjKmeid0",
        "outputId": "aa28eb0b-3cf6-4e31-842c-12d7c16f6b79"
      },
      "outputs": [
        {
          "output_type": "display_data",
          "data": {
            "text/plain": [
              "Map:   0%|          | 0/41289 [00:00<?, ? examples/s]"
            ],
            "application/vnd.jupyter.widget-view+json": {
              "version_major": 2,
              "version_minor": 0,
              "model_id": "6809eaa16edc4cfd85a24b7406f12fd5"
            }
          },
          "metadata": {}
        },
        {
          "output_type": "stream",
          "name": "stdout",
          "text": [
            "{'row_id_x': 112344, 'SUBJECT_ID': '10006', 'HADM_ID': '142345', 'seq_num_x': 1, 'ICD9_CODE': '99591', 'ROW_ID': '1394273', 'CHARTDATE': Timestamp('2164-10-25 00:00:00'), 'CHARTTIME': Timestamp('2164-10-25 07:16:00'), 'STORETIME': Timestamp('2164-10-25 07:23:00'), 'CATEGORY': 'Nursing/other', 'DESCRIPTION': 'Report', 'CGID': '19150', 'TEXT_LENGTH': 493, 'CLEAN_TEXT': 'npn pt awaiting transfer floor floor bed becomes available aox getting oob commode gait steady hr nsr ectopy bp stable bm soft brown color ob voiding minimal amts urine due dialysis today however dialysis pending culture results anaerobic blood cx g cooci unidentified iv access unable stick bld team aware change po linezolid instead iv unasyn pt refuses iv put time', 'icd9_code_x': 'Not Specified', 'long_title': 'Not Specified', 'row_id_y': 47335, 'seq_num_y': 1, 'icd9_code_y': 9749, 'labels': 1, '__index_level_0__': 0, 'input_ids': [101, 27937, 2078, 13866, 15497, 4651, 2723, 2723, 2793, 4150, 2800, 20118, 2595, 2893, 1051, 16429, 4012, 5302, 3207, 11721, 4183, 6706, 17850, 24978, 2099, 14925, 14399, 2100, 17531, 6540, 1038, 2213, 3730, 2829, 3609, 27885, 11675, 2075, 10124, 2572, 3215, 17996, 2349, 13764, 20960, 2651, 2174, 13764, 20960, 14223, 3226, 3463, 9617, 10624, 13592, 2668, 1039, 2595, 1043, 2522, 10085, 2072, 20293, 4921, 3229, 4039, 6293, 1038, 6392, 2136, 5204, 2689, 13433, 2240, 6844, 21273, 2612, 4921, 14477, 6508, 2078, 13866, 10220, 4921, 2404, 2051, 102, 0, 0, 0, 0, 0, 0, 0, 0, 0, 0, 0, 0, 0, 0, 0, 0, 0, 0, 0, 0, 0, 0, 0, 0, 0, 0, 0, 0, 0, 0, 0, 0, 0, 0, 0, 0, 0, 0, 0, 0, 0, 0, 0, 0, 0, 0, 0, 0, 0, 0, 0, 0, 0, 0, 0, 0, 0, 0, 0, 0, 0, 0, 0, 0, 0, 0, 0, 0, 0, 0, 0, 0, 0, 0, 0, 0, 0, 0, 0, 0, 0, 0, 0, 0, 0, 0, 0, 0, 0, 0, 0, 0, 0, 0, 0, 0, 0, 0, 0, 0, 0, 0, 0, 0, 0, 0, 0, 0, 0, 0, 0, 0, 0, 0, 0, 0, 0, 0, 0, 0, 0, 0, 0, 0, 0, 0, 0, 0, 0, 0, 0, 0, 0, 0, 0, 0, 0, 0, 0, 0, 0, 0, 0, 0, 0, 0, 0, 0, 0, 0, 0, 0, 0, 0, 0, 0, 0, 0, 0, 0, 0, 0, 0, 0, 0, 0, 0, 0, 0, 0, 0, 0, 0, 0, 0, 0, 0, 0, 0, 0, 0, 0, 0, 0, 0, 0, 0, 0, 0, 0, 0, 0, 0, 0, 0, 0, 0, 0, 0, 0, 0, 0, 0, 0, 0, 0, 0, 0, 0, 0, 0, 0, 0, 0, 0, 0, 0, 0, 0, 0, 0, 0, 0, 0, 0, 0, 0, 0, 0, 0, 0, 0, 0, 0, 0, 0, 0, 0, 0, 0, 0, 0, 0, 0, 0, 0, 0, 0, 0, 0, 0, 0, 0, 0, 0, 0, 0, 0, 0, 0, 0, 0, 0, 0, 0, 0, 0, 0, 0, 0, 0, 0, 0, 0, 0, 0, 0, 0, 0, 0, 0, 0, 0, 0, 0, 0, 0, 0, 0, 0, 0, 0, 0, 0, 0, 0, 0, 0, 0, 0, 0, 0, 0, 0, 0, 0, 0, 0, 0, 0, 0, 0, 0, 0, 0, 0, 0, 0, 0, 0, 0, 0, 0, 0, 0, 0, 0, 0, 0, 0, 0, 0, 0, 0, 0, 0, 0, 0, 0, 0, 0, 0, 0, 0, 0, 0, 0, 0, 0, 0, 0, 0, 0, 0, 0, 0, 0, 0, 0, 0, 0, 0, 0, 0, 0, 0, 0, 0, 0, 0, 0, 0, 0, 0, 0, 0, 0, 0, 0, 0, 0, 0, 0, 0, 0, 0, 0, 0, 0, 0, 0, 0, 0, 0, 0, 0, 0, 0, 0, 0, 0, 0, 0, 0, 0, 0, 0, 0, 0, 0, 0, 0, 0, 0, 0, 0, 0, 0, 0, 0, 0, 0, 0, 0, 0], 'token_type_ids': [0, 0, 0, 0, 0, 0, 0, 0, 0, 0, 0, 0, 0, 0, 0, 0, 0, 0, 0, 0, 0, 0, 0, 0, 0, 0, 0, 0, 0, 0, 0, 0, 0, 0, 0, 0, 0, 0, 0, 0, 0, 0, 0, 0, 0, 0, 0, 0, 0, 0, 0, 0, 0, 0, 0, 0, 0, 0, 0, 0, 0, 0, 0, 0, 0, 0, 0, 0, 0, 0, 0, 0, 0, 0, 0, 0, 0, 0, 0, 0, 0, 0, 0, 0, 0, 0, 0, 0, 0, 0, 0, 0, 0, 0, 0, 0, 0, 0, 0, 0, 0, 0, 0, 0, 0, 0, 0, 0, 0, 0, 0, 0, 0, 0, 0, 0, 0, 0, 0, 0, 0, 0, 0, 0, 0, 0, 0, 0, 0, 0, 0, 0, 0, 0, 0, 0, 0, 0, 0, 0, 0, 0, 0, 0, 0, 0, 0, 0, 0, 0, 0, 0, 0, 0, 0, 0, 0, 0, 0, 0, 0, 0, 0, 0, 0, 0, 0, 0, 0, 0, 0, 0, 0, 0, 0, 0, 0, 0, 0, 0, 0, 0, 0, 0, 0, 0, 0, 0, 0, 0, 0, 0, 0, 0, 0, 0, 0, 0, 0, 0, 0, 0, 0, 0, 0, 0, 0, 0, 0, 0, 0, 0, 0, 0, 0, 0, 0, 0, 0, 0, 0, 0, 0, 0, 0, 0, 0, 0, 0, 0, 0, 0, 0, 0, 0, 0, 0, 0, 0, 0, 0, 0, 0, 0, 0, 0, 0, 0, 0, 0, 0, 0, 0, 0, 0, 0, 0, 0, 0, 0, 0, 0, 0, 0, 0, 0, 0, 0, 0, 0, 0, 0, 0, 0, 0, 0, 0, 0, 0, 0, 0, 0, 0, 0, 0, 0, 0, 0, 0, 0, 0, 0, 0, 0, 0, 0, 0, 0, 0, 0, 0, 0, 0, 0, 0, 0, 0, 0, 0, 0, 0, 0, 0, 0, 0, 0, 0, 0, 0, 0, 0, 0, 0, 0, 0, 0, 0, 0, 0, 0, 0, 0, 0, 0, 0, 0, 0, 0, 0, 0, 0, 0, 0, 0, 0, 0, 0, 0, 0, 0, 0, 0, 0, 0, 0, 0, 0, 0, 0, 0, 0, 0, 0, 0, 0, 0, 0, 0, 0, 0, 0, 0, 0, 0, 0, 0, 0, 0, 0, 0, 0, 0, 0, 0, 0, 0, 0, 0, 0, 0, 0, 0, 0, 0, 0, 0, 0, 0, 0, 0, 0, 0, 0, 0, 0, 0, 0, 0, 0, 0, 0, 0, 0, 0, 0, 0, 0, 0, 0, 0, 0, 0, 0, 0, 0, 0, 0, 0, 0, 0, 0, 0, 0, 0, 0, 0, 0, 0, 0, 0, 0, 0, 0, 0, 0, 0, 0, 0, 0, 0, 0, 0, 0, 0, 0, 0, 0, 0, 0, 0, 0, 0, 0, 0, 0, 0, 0, 0, 0, 0, 0, 0, 0, 0, 0, 0, 0, 0, 0, 0, 0, 0, 0, 0, 0, 0, 0, 0, 0, 0, 0, 0, 0, 0, 0, 0, 0, 0, 0, 0, 0, 0, 0, 0, 0, 0, 0, 0, 0, 0, 0, 0], 'attention_mask': [1, 1, 1, 1, 1, 1, 1, 1, 1, 1, 1, 1, 1, 1, 1, 1, 1, 1, 1, 1, 1, 1, 1, 1, 1, 1, 1, 1, 1, 1, 1, 1, 1, 1, 1, 1, 1, 1, 1, 1, 1, 1, 1, 1, 1, 1, 1, 1, 1, 1, 1, 1, 1, 1, 1, 1, 1, 1, 1, 1, 1, 1, 1, 1, 1, 1, 1, 1, 1, 1, 1, 1, 1, 1, 1, 1, 1, 1, 1, 1, 1, 1, 1, 1, 1, 1, 1, 0, 0, 0, 0, 0, 0, 0, 0, 0, 0, 0, 0, 0, 0, 0, 0, 0, 0, 0, 0, 0, 0, 0, 0, 0, 0, 0, 0, 0, 0, 0, 0, 0, 0, 0, 0, 0, 0, 0, 0, 0, 0, 0, 0, 0, 0, 0, 0, 0, 0, 0, 0, 0, 0, 0, 0, 0, 0, 0, 0, 0, 0, 0, 0, 0, 0, 0, 0, 0, 0, 0, 0, 0, 0, 0, 0, 0, 0, 0, 0, 0, 0, 0, 0, 0, 0, 0, 0, 0, 0, 0, 0, 0, 0, 0, 0, 0, 0, 0, 0, 0, 0, 0, 0, 0, 0, 0, 0, 0, 0, 0, 0, 0, 0, 0, 0, 0, 0, 0, 0, 0, 0, 0, 0, 0, 0, 0, 0, 0, 0, 0, 0, 0, 0, 0, 0, 0, 0, 0, 0, 0, 0, 0, 0, 0, 0, 0, 0, 0, 0, 0, 0, 0, 0, 0, 0, 0, 0, 0, 0, 0, 0, 0, 0, 0, 0, 0, 0, 0, 0, 0, 0, 0, 0, 0, 0, 0, 0, 0, 0, 0, 0, 0, 0, 0, 0, 0, 0, 0, 0, 0, 0, 0, 0, 0, 0, 0, 0, 0, 0, 0, 0, 0, 0, 0, 0, 0, 0, 0, 0, 0, 0, 0, 0, 0, 0, 0, 0, 0, 0, 0, 0, 0, 0, 0, 0, 0, 0, 0, 0, 0, 0, 0, 0, 0, 0, 0, 0, 0, 0, 0, 0, 0, 0, 0, 0, 0, 0, 0, 0, 0, 0, 0, 0, 0, 0, 0, 0, 0, 0, 0, 0, 0, 0, 0, 0, 0, 0, 0, 0, 0, 0, 0, 0, 0, 0, 0, 0, 0, 0, 0, 0, 0, 0, 0, 0, 0, 0, 0, 0, 0, 0, 0, 0, 0, 0, 0, 0, 0, 0, 0, 0, 0, 0, 0, 0, 0, 0, 0, 0, 0, 0, 0, 0, 0, 0, 0, 0, 0, 0, 0, 0, 0, 0, 0, 0, 0, 0, 0, 0, 0, 0, 0, 0, 0, 0, 0, 0, 0, 0, 0, 0, 0, 0, 0, 0, 0, 0, 0, 0, 0, 0, 0, 0, 0, 0, 0, 0, 0, 0, 0, 0, 0, 0, 0, 0, 0, 0, 0, 0, 0, 0, 0, 0, 0, 0, 0, 0, 0, 0, 0, 0, 0, 0, 0, 0, 0, 0, 0, 0, 0, 0, 0, 0, 0, 0, 0, 0, 0, 0, 0, 0, 0, 0, 0, 0, 0, 0, 0, 0, 0, 0, 0, 0, 0, 0, 0, 0, 0, 0, 0, 0, 0, 0, 0]}\n"
          ]
        }
      ],
      "source": [
        "from datasets import Dataset\n",
        "from transformers import BertTokenizer\n",
        "\n",
        "# Assuming clinical_data  is a Pandas DataFrame\n",
        "dataset = Dataset.from_pandas(clinical_data)\n",
        "\n",
        "# Tokenize the dataset and ensure it returns `input_ids`, `attention_mask`, and `labels`\n",
        "def tokenize_function(examples):\n",
        "    return tokenizer(examples['CLEAN_TEXT'], padding='max_length', truncation=True)\n",
        "\n",
        "# Tokenize the dataset\n",
        "tokenized_dataset = dataset.map(tokenize_function, batched=True)\n",
        "\n",
        "# Remove unneeded columns (we only need input_ids, attention_mask, and labels)\n",
        "tokenized_dataset = tokenized_dataset.remove_columns(['TEXT'])\n",
        "tokenized_dataset = tokenized_dataset.rename_column('LABEL', 'labels')\n",
        "\n",
        "# Checking if the dataset returns the correct format\n",
        "print(tokenized_dataset[0])\n"
      ]
    },
    {
      "cell_type": "markdown",
      "metadata": {
        "id": "bl7C0q4dz8Yz"
      },
      "source": [
        "The output we provided is a dictionary that likely represents a single record of clinical data after processing, along with additional information such as the tokenized version of the text for use in a BERT model.\n",
        "\n",
        "Here’s a breakdown of what each key-value pair represents:\n",
        "\n",
        "row_id_x: A unique identifier for the row in the dataset.<br>\n",
        "\n",
        "SUBJECT_ID: The ID of the patient or subject.<br>\n",
        "HADM_ID: The hospital admission ID for the patient.<br>\n",
        "seq_num_x: The sequence number, possibly indicating the order of events related to the admission.<br>\n",
        "ICD9_CODE: The ICD-9 code for the diagnosis, in this case, '99591', which might be related to a specific diagnosis.<br>\n",
        "ROW_ID: Another unique identifier, possibly from another table or a merged table.<br>\n",
        "CHARTDATE, CHARTTIME, STORETIME: Timestamps representing when the clinical data was recorded, charted, or stored.<br>\n",
        "CATEGORY: The category of the clinical note (e.g., 'Nursing/other').<br>\n",
        "DESCRIPTION: The description of the note or event (e.g., 'Report').<br>\n",
        "CGID: ID of the caregiver who logged the note.<br>\n",
        "TEXT_LENGTH: The length of the text in the clinical note.<br>\n",
        "CLEAN_TEXT: The cleaned version of the clinical text, ready for further processing like tokenization or named entity recognition (NER).<br>\n",
        "icd9_code_x: The ICD-9 code related to a certain event, but in this case, it’s marked as 'Not Specified'.<br>\n",
        "long_title: A longer description of the ICD-9 code, also marked as 'Not Specified' in this case.<br>\n",
        "row_id_y, seq_num_y, icd9_code_y: These fields appear to relate to another merged table (possibly related to procedures or diagnoses) and include identifiers and another ICD-9 code ('9749').<br>\n",
        "labels: This is a label, possibly for classification, showing 0 which could mean \"no readmission\" or any other classification label used in the model.\n",
        "index_level_0: An internal index field.<br>\n",
        "input_ids: A list of token IDs representing the clinical text after it has been tokenized using a tokenizer like the one in BERT. These IDs map to specific words or subwords in the BERT vocabulary.<br>\n",
        "token_type_ids: A list of token type IDs, which are used in BERT to differentiate between different segments of the input text (like question and answer).<br>\n",
        "attention_mask: A list indicating which tokens are actual tokens (1) and which are padding tokens (0). This is important when using fixed-length inputs to indicate which parts of the input are relevant.<br>\n",
        "\n"
      ]
    },
    {
      "cell_type": "code",
      "execution_count": 25,
      "metadata": {
        "colab": {
          "base_uri": "https://localhost:8080/",
          "height": 959
        },
        "id": "S3TkeBIoz8Yz",
        "outputId": "77a73123-6712-4fbc-82fb-bf3a4b94d81c"
      },
      "outputs": [
        {
          "output_type": "stream",
          "name": "stdout",
          "text": [
            "                                          CLEAN_TEXT  text_length\n",
            "0  npn pt awaiting transfer floor floor bed becom...           61\n",
            "1  npn pt awaiting transfer floor floor bed becom...           61\n",
            "2  npn pt awaiting transfer floor floor bed becom...           61\n",
            "3  npn pt awaiting transfer floor floor bed becom...           61\n",
            "4  npn pt awaiting transfer floor floor bed becom...           61\n",
            "<class 'pandas.core.frame.DataFrame'>\n",
            "Index: 41289 entries, 0 to 123824\n",
            "Data columns (total 22 columns):\n",
            " #   Column       Non-Null Count  Dtype         \n",
            "---  ------       --------------  -----         \n",
            " 0   row_id_x     41289 non-null  int64         \n",
            " 1   SUBJECT_ID   41289 non-null  object        \n",
            " 2   HADM_ID      41289 non-null  object        \n",
            " 3   seq_num_x    41289 non-null  int64         \n",
            " 4   ICD9_CODE    41289 non-null  object        \n",
            " 5   ROW_ID       41289 non-null  object        \n",
            " 6   CHARTDATE    41289 non-null  datetime64[ns]\n",
            " 7   CHARTTIME    41289 non-null  datetime64[ns]\n",
            " 8   STORETIME    41289 non-null  datetime64[ns]\n",
            " 9   CATEGORY     41289 non-null  object        \n",
            " 10  DESCRIPTION  41289 non-null  object        \n",
            " 11  CGID         41289 non-null  object        \n",
            " 12  TEXT         41289 non-null  object        \n",
            " 13  TEXT_LENGTH  41289 non-null  int64         \n",
            " 14  CLEAN_TEXT   41289 non-null  object        \n",
            " 15  icd9_code_x  41289 non-null  object        \n",
            " 16  long_title   41289 non-null  object        \n",
            " 17  row_id_y     41289 non-null  int64         \n",
            " 18  seq_num_y    41289 non-null  int64         \n",
            " 19  icd9_code_y  41289 non-null  int64         \n",
            " 20  LABEL        41289 non-null  int64         \n",
            " 21  text_length  41289 non-null  int64         \n",
            "dtypes: datetime64[ns](3), int64(8), object(11)\n",
            "memory usage: 7.2+ MB\n",
            "None\n"
          ]
        },
        {
          "output_type": "execute_result",
          "data": {
            "text/plain": [
              "count    41289.000000\n",
              "mean       158.035046\n",
              "std         72.671706\n",
              "min         13.000000\n",
              "25%        109.000000\n",
              "50%        164.000000\n",
              "75%        200.000000\n",
              "max        346.000000\n",
              "Name: text_length, dtype: float64"
            ],
            "text/html": [
              "<div>\n",
              "<style scoped>\n",
              "    .dataframe tbody tr th:only-of-type {\n",
              "        vertical-align: middle;\n",
              "    }\n",
              "\n",
              "    .dataframe tbody tr th {\n",
              "        vertical-align: top;\n",
              "    }\n",
              "\n",
              "    .dataframe thead th {\n",
              "        text-align: right;\n",
              "    }\n",
              "</style>\n",
              "<table border=\"1\" class=\"dataframe\">\n",
              "  <thead>\n",
              "    <tr style=\"text-align: right;\">\n",
              "      <th></th>\n",
              "      <th>text_length</th>\n",
              "    </tr>\n",
              "  </thead>\n",
              "  <tbody>\n",
              "    <tr>\n",
              "      <th>count</th>\n",
              "      <td>41289.000000</td>\n",
              "    </tr>\n",
              "    <tr>\n",
              "      <th>mean</th>\n",
              "      <td>158.035046</td>\n",
              "    </tr>\n",
              "    <tr>\n",
              "      <th>std</th>\n",
              "      <td>72.671706</td>\n",
              "    </tr>\n",
              "    <tr>\n",
              "      <th>min</th>\n",
              "      <td>13.000000</td>\n",
              "    </tr>\n",
              "    <tr>\n",
              "      <th>25%</th>\n",
              "      <td>109.000000</td>\n",
              "    </tr>\n",
              "    <tr>\n",
              "      <th>50%</th>\n",
              "      <td>164.000000</td>\n",
              "    </tr>\n",
              "    <tr>\n",
              "      <th>75%</th>\n",
              "      <td>200.000000</td>\n",
              "    </tr>\n",
              "    <tr>\n",
              "      <th>max</th>\n",
              "      <td>346.000000</td>\n",
              "    </tr>\n",
              "  </tbody>\n",
              "</table>\n",
              "</div><br><label><b>dtype:</b> float64</label>"
            ]
          },
          "metadata": {},
          "execution_count": 25
        }
      ],
      "source": [
        "# Check the length of the CLEAN_TEXT column\n",
        "clinical_data['text_length'] = clinical_data['CLEAN_TEXT'].apply(lambda x: len(x.split()))\n",
        "print(clinical_data[['CLEAN_TEXT', 'text_length']].head())\n",
        "print(clinical_data.info())\n",
        "# Check the distribution of text lengths\n",
        "clinical_data['text_length'].describe()\n"
      ]
    },
    {
      "cell_type": "markdown",
      "metadata": {
        "id": "SfS28v3Iz8Y0"
      },
      "source": [
        "This will give us an idea of how long or short the text entries are. If we see that most texts are very short, it's likely that many 0s are coming from padding due to short text sequences."
      ]
    },
    {
      "cell_type": "code",
      "execution_count": 26,
      "metadata": {
        "id": "67O_-PKHeid0"
      },
      "outputs": [],
      "source": [
        "# Splitting the dataset into training and test datasets\n",
        "train_test_split = tokenized_dataset.train_test_split(test_size=0.2)\n",
        "train_dataset = train_test_split['train']\n",
        "test_dataset = train_test_split['test']\n"
      ]
    },
    {
      "cell_type": "code",
      "execution_count": 27,
      "metadata": {
        "id": "xbf0WYZWbggU"
      },
      "outputs": [],
      "source": [
        "labels = clinical_data['LABEL'].tolist()"
      ]
    },
    {
      "cell_type": "code",
      "execution_count": 113,
      "metadata": {
        "id": "KH3VVXgxpEV1"
      },
      "outputs": [],
      "source": [
        "from sklearn.metrics import accuracy_score, precision_recall_fscore_support, roc_auc_score\n",
        "import numpy as np\n",
        "\n",
        "def compute_metrics(eval_pred):\n",
        "    logits, labels = eval_pred\n",
        "    # Convert logits to predicted class labels\n",
        "    predictions = np.argmax(logits, axis=-1)\n",
        "\n",
        "    # Calculate accuracy\n",
        "    accuracy = accuracy_score(labels, predictions)\n",
        "\n",
        "    # Calculate precision, recall, F1 score\n",
        "    precision, recall, f1, _ = precision_recall_fscore_support(labels, predictions, average='binary')\n",
        "\n",
        "    # Calculate AUC-ROC score\n",
        "    # We assume binary classification where the second class is the positive class\n",
        "    probs = np.exp(logits) / np.exp(logits).sum(axis=-1, keepdims=True)\n",
        "    auc = roc_auc_score(labels, probs[:, 1])\n",
        "\n",
        "    return {\n",
        "        'accuracy': accuracy,\n",
        "        'precision': precision,\n",
        "        'recall': recall,\n",
        "        'f1': f1,\n",
        "        'auc': auc,\n",
        "    }\n"
      ]
    },
    {
      "cell_type": "code",
      "execution_count": 28,
      "metadata": {
        "id": "9AKhCAD_z8Y0",
        "colab": {
          "base_uri": "https://localhost:8080/",
          "height": 259
        },
        "outputId": "3d9c46f8-42ca-49cb-bce0-60ce06ef2626"
      },
      "outputs": [
        {
          "output_type": "stream",
          "name": "stderr",
          "text": [
            "/usr/local/lib/python3.10/dist-packages/transformers/training_args.py:1525: FutureWarning: `evaluation_strategy` is deprecated and will be removed in version 4.46 of 🤗 Transformers. Use `eval_strategy` instead\n",
            "  warnings.warn(\n"
          ]
        },
        {
          "output_type": "display_data",
          "data": {
            "text/plain": [
              "<IPython.core.display.HTML object>"
            ],
            "text/html": [
              "\n",
              "    <div>\n",
              "      \n",
              "      <progress value='12387' max='12387' style='width:300px; height:20px; vertical-align: middle;'></progress>\n",
              "      [12387/12387 42:52, Epoch 3/3]\n",
              "    </div>\n",
              "    <table border=\"1\" class=\"dataframe\">\n",
              "  <thead>\n",
              " <tr style=\"text-align: left;\">\n",
              "      <th>Epoch</th>\n",
              "      <th>Training Loss</th>\n",
              "      <th>Validation Loss</th>\n",
              "      <th>Accuracy</th>\n",
              "      <th>Precision</th>\n",
              "      <th>Recall</th>\n",
              "      <th>F1</th>\n",
              "      <th>Auc</th>\n",
              "    </tr>\n",
              "  </thead>\n",
              "  <tbody>\n",
              "    <tr>\n",
              "      <td>1</td>\n",
              "      <td>0.009500</td>\n",
              "      <td>0.000156</td>\n",
              "      <td>1.000000</td>\n",
              "      <td>1.000000</td>\n",
              "      <td>1.000000</td>\n",
              "      <td>1.000000</td>\n",
              "      <td>1.000000</td>\n",
              "    </tr>\n",
              "    <tr>\n",
              "      <td>2</td>\n",
              "      <td>0.015100</td>\n",
              "      <td>0.010191</td>\n",
              "      <td>0.998547</td>\n",
              "      <td>0.996845</td>\n",
              "      <td>1.000000</td>\n",
              "      <td>0.998420</td>\n",
              "      <td>0.998821</td>\n",
              "    </tr>\n",
              "    <tr>\n",
              "      <td>3</td>\n",
              "      <td>0.014500</td>\n",
              "      <td>0.010878</td>\n",
              "      <td>0.998547</td>\n",
              "      <td>0.996845</td>\n",
              "      <td>1.000000</td>\n",
              "      <td>0.998420</td>\n",
              "      <td>0.998657</td>\n",
              "    </tr>\n",
              "  </tbody>\n",
              "</table><p>"
            ]
          },
          "metadata": {}
        },
        {
          "output_type": "execute_result",
          "data": {
            "text/plain": [
              "TrainOutput(global_step=12387, training_loss=0.023711436566846888, metrics={'train_runtime': 2574.6175, 'train_samples_per_second': 38.488, 'train_steps_per_second': 4.811, 'total_flos': 2.607246380878848e+16, 'train_loss': 0.023711436566846888, 'epoch': 3.0})"
            ]
          },
          "metadata": {},
          "execution_count": 28
        }
      ],
      "source": [
        "\n",
        "from transformers import TrainingArguments, Trainer\n",
        "\n",
        "training_args = TrainingArguments(\n",
        "    output_dir= path_to_file + 'bert_model',\n",
        "    num_train_epochs=3,\n",
        "    per_device_train_batch_size=8,\n",
        "    per_device_eval_batch_size=16,\n",
        "    evaluation_strategy=\"epoch\",\n",
        "    logging_dir= path_to_file + '/logs'\n",
        "\n",
        ")\n",
        "\n",
        "trainer = Trainer(\n",
        "    model=model,\n",
        "    args=training_args,\n",
        "    train_dataset=train_dataset,\n",
        "    eval_dataset=test_dataset,\n",
        "    data_collator=data_collator,\n",
        "    compute_metrics=compute_metrics\n",
        ")\n",
        "\n",
        "\n",
        "trainer.train()\n"
      ]
    },
    {
      "cell_type": "code",
      "execution_count": 29,
      "metadata": {
        "id": "IvCQWS31b55u"
      },
      "outputs": [],
      "source": [
        "# Tokenize the text data\n",
        "train_encodings = tokenizer(texts, truncation=True, padding=True, max_length=512)"
      ]
    },
    {
      "cell_type": "markdown",
      "metadata": {
        "id": "iLfWk3cWpEV5"
      },
      "source": [
        "### Model Evaluation\n",
        "Evaluate the performance of the model using Accuracy, Precision, F1-score, and AUC-ROC."
      ]
    },
    {
      "cell_type": "code",
      "execution_count": 30,
      "metadata": {
        "id": "Q3Q4g-hbctf9",
        "colab": {
          "base_uri": "https://localhost:8080/",
          "height": 74
        },
        "outputId": "5d4d43ad-0eaf-4128-9c5b-374dedc9240b"
      },
      "outputs": [
        {
          "output_type": "display_data",
          "data": {
            "text/plain": [
              "<IPython.core.display.HTML object>"
            ],
            "text/html": [
              "\n",
              "    <div>\n",
              "      \n",
              "      <progress value='517' max='517' style='width:300px; height:20px; vertical-align: middle;'></progress>\n",
              "      [517/517 00:57]\n",
              "    </div>\n",
              "    "
            ]
          },
          "metadata": {}
        },
        {
          "output_type": "stream",
          "name": "stdout",
          "text": [
            "{'eval_loss': 0.010878462344408035, 'eval_accuracy': 0.9985468636473722, 'eval_precision': 0.9968454258675079, 'eval_recall': 1.0, 'eval_f1': 0.9984202211690364, 'eval_auc': 0.9986565158978952, 'eval_runtime': 57.6478, 'eval_samples_per_second': 143.249, 'eval_steps_per_second': 8.968, 'epoch': 3.0}\n"
          ]
        }
      ],
      "source": [
        "import pickle\n",
        "\n",
        "# Evaluate the model after training\n",
        "results = trainer.evaluate()\n",
        "# Save the results to a pickle file\n",
        "with open(\"evaluation_results.pkl\", \"wb\") as f:\n",
        "    pickle.dump(results, f)\n",
        "print(results)\n"
      ]
    },
    {
      "cell_type": "markdown",
      "metadata": {
        "id": "X7RuY4clc4b3"
      },
      "source": [
        "Saving the Final Model and Tokenizer\n",
        "After training, We will save the final model and its tokenizer for later use:"
      ]
    },
    {
      "cell_type": "code",
      "execution_count": 39,
      "metadata": {
        "id": "WsfJXrAwcvux",
        "colab": {
          "base_uri": "https://localhost:8080/"
        },
        "outputId": "aa21bd50-3011-44d2-88c8-57ebdd6ac1e4"
      },
      "outputs": [
        {
          "output_type": "execute_result",
          "data": {
            "text/plain": [
              "('/content/drive/MyDrive/Predictive_Modeling_Patient_Readmission/bert_model/tokenizer_config.json',\n",
              " '/content/drive/MyDrive/Predictive_Modeling_Patient_Readmission/bert_model/special_tokens_map.json',\n",
              " '/content/drive/MyDrive/Predictive_Modeling_Patient_Readmission/bert_model/vocab.txt',\n",
              " '/content/drive/MyDrive/Predictive_Modeling_Patient_Readmission/bert_model/added_tokens.json')"
            ]
          },
          "metadata": {},
          "execution_count": 39
        }
      ],
      "source": [
        "model_path = path_to_file  + 'bert_model'\n",
        "model.save_pretrained(model_path)\n",
        "tokenizer.save_pretrained(model_path)"
      ]
    },
    {
      "cell_type": "markdown",
      "metadata": {
        "id": "pxuIWKGJc1K-"
      },
      "source": [
        "### Loading a Saved Model\n",
        "To resume training or to use the saved model later for predictions, we can load it from the disk:"
      ]
    },
    {
      "cell_type": "code",
      "execution_count": 40,
      "metadata": {
        "id": "fioCwgS_c0xD"
      },
      "outputs": [],
      "source": [
        "from transformers import BertForSequenceClassification, BertTokenizer\n",
        "\n",
        "bert_model = BertForSequenceClassification.from_pretrained(model_path)\n",
        "bert_tokenizer = BertTokenizer.from_pretrained(model_path)\n"
      ]
    },
    {
      "cell_type": "markdown",
      "metadata": {
        "id": "gm-xD57Reid1"
      },
      "source": [
        "### Load BioBERT Model and Tokenizer:\n",
        "BioBERT: It is pre-trained on biomedical text, making it more suitable for clinical tasks like understanding clinical notes and predicting ICD-9 codes. BioBERT is a domain-specific adaptation of the original BERT model, specifically pre-trained on biomedical literature to enhance its performance on biomedical text mining tasks.\n",
        "BERT is trained on a diverse corpus that includes general English text but may lack deeper medical domain-specific language understanding that could be crucial for more nuanced or complex medical text interpretations.\n",
        "BioBERT was developed by researchers at the Korea University and is based on the BERT architecture that was initially created by Google. The idea was to extend BERT's capabilities into the biomedical domain by continuing the pre-training process on biomedical texts.\n",
        "\n",
        "Advantages of BioBERT\n",
        "BioBERT is a variant of BERT that has been further pre-trained on biomedical corpora, including PubMed abstracts and PMC articles. This additional training aims to adapt its language model to better understand biomedical terminology and context.\n",
        "\n",
        "Here are some reasons to consider BioBERT:\n",
        "\n",
        "**Enhanced Medical Context Understanding:** BioBERT may capture medical nuances better than BERT due to its domain-specific training.\n",
        "**Improved Handling of Medical Jargon:** Our data includes a lot of specialized medical terms, abbreviations, or jargon that BERT struggles with, BioBERT might offer better comprehension and performance.\n",
        "\n",
        "**Continued Pre-training:** BioBERT is not trained from scratch but rather uses the pre-trained BERT model as a starting point. It continues the pre-training process (both masked language modeling and next sentence prediction) on biomedical corpora.\n",
        "Model Variants: BioBERT has multiple versions, each further trained for more extended periods or on different combinations of biomedical text datasets.\n",
        "\n",
        "**Challenges and Considerations**\n",
        "Computational Requirements: Like BERT, BioBERT is resource-intensive, requiring significant computation power for training and inference, which might limit its usability in resource-constrained environments.\n",
        "Model Updating: The biomedical field is rapidly evolving; thus, continuous updating of the training corpora might be necessary to keep the model current with the latest language and discoveries."
      ]
    },
    {
      "cell_type": "markdown",
      "metadata": {
        "id": "r1vkqH6LkFGo"
      },
      "source": [
        "### Load BioBERT Model:\n",
        "\n",
        "#### Steps for Using BERT/BioBERT:\n",
        "**Installing Hugging Face Transformers:** This library provides easy access to BERT, BioBERT, and other transformer models.\n",
        "\n",
        "**Prepaing Data for Input:** Convert our clinical text (e.g., TEXT, CLEAN_TEXT) into a format suitable for BERT/BioBERT, including tokenization.\n",
        "\n",
        "**Fine-tuning BERT/BioBERT:** Train the model on our specific task (e.g., predicting ICD-9 codes or extracting information from clinical notes).\n",
        "\n",
        "Evaluating the Model: Evaluate the model on a validation or test set."
      ]
    },
    {
      "cell_type": "code",
      "execution_count": 36,
      "metadata": {
        "id": "pqfAj2Uweid1",
        "colab": {
          "base_uri": "https://localhost:8080/",
          "height": 307,
          "referenced_widgets": [
            "6a6b5da1495243a1b3860dd8f6d0e5dc",
            "d0f574155cd449f3a8a0fd8ae11cbd11",
            "20ed3482e65e4c0885386b860503bc53",
            "95beb00404d24b5f8e8d76e4dfa00511",
            "6336a2b2257240d4bd31ce4e502dbc94",
            "33800d5549ad4d549841f717181b5404",
            "29fb8761d19b429a8e317cd7c829ce40",
            "33a02bcca2b14e058760ea8829226ed0",
            "f8de90c8ff1642f5a5297a8182f7b85b",
            "93f92046bf524894ac446f5e0730b911",
            "9c04827d28944e09a9c9d1b5c6671b90",
            "5efeb9611b5c4639a712b38dcab1f7a4",
            "4bd3fa79a13048268dedd88ac09d0272",
            "3bfac3ac9a5d4aa7a78b15c81a10daa0",
            "9b0228fa4cf1455aab33e251fa67bb8b",
            "99a9eea2d5c741abb6db751be63865dc",
            "5d4c611ad225437da72b24a132ec58d5",
            "0ea7eaa2dab04f37bf0f3e436a3f4533",
            "9f896c7e324a401792cf3d4e5678baa1",
            "9868529712db4af5890ad1e9a84507e9",
            "0f632328ce354d418bc4142a5795b3aa",
            "f2d5da76881f4cf4be410dc8f9fc298f",
            "0f2fb6e9ed7c4ced8886b9ade02d6f72",
            "35a79af8c7a44bd48ab1f9afd44a751f",
            "a07110b1c76542d6822af2cbb9afadfe",
            "0f73755ed93b4673aae37fa5d9a30377",
            "090615c68b614b92842328fed77b140f",
            "8fc157b374414fe69d5662d123b0374d",
            "bc8e0d67f36744c3b52a20a0f560d3df",
            "51dfdb7dd0a9496bb8c3a841d0b07384",
            "44180f6dd1154898b8610bb5ca9e7159",
            "9126ac51197040c89a06a6ea0868f0d8",
            "3e1ead05d35543a78677a0f9af1a4c59"
          ]
        },
        "outputId": "ab379401-211c-4a08-e6bb-5b3b677ec37d"
      },
      "outputs": [
        {
          "output_type": "stream",
          "name": "stderr",
          "text": [
            "/usr/local/lib/python3.10/dist-packages/huggingface_hub/utils/_token.py:89: UserWarning: \n",
            "The secret `HF_TOKEN` does not exist in your Colab secrets.\n",
            "To authenticate with the Hugging Face Hub, create a token in your settings tab (https://huggingface.co/settings/tokens), set it as secret in your Google Colab and restart your session.\n",
            "You will be able to reuse this secret in all of your notebooks.\n",
            "Please note that authentication is recommended but still optional to access public models or datasets.\n",
            "  warnings.warn(\n"
          ]
        },
        {
          "output_type": "display_data",
          "data": {
            "text/plain": [
              "vocab.txt:   0%|          | 0.00/213k [00:00<?, ?B/s]"
            ],
            "application/vnd.jupyter.widget-view+json": {
              "version_major": 2,
              "version_minor": 0,
              "model_id": "6a6b5da1495243a1b3860dd8f6d0e5dc"
            }
          },
          "metadata": {}
        },
        {
          "output_type": "display_data",
          "data": {
            "text/plain": [
              "config.json:   0%|          | 0.00/313 [00:00<?, ?B/s]"
            ],
            "application/vnd.jupyter.widget-view+json": {
              "version_major": 2,
              "version_minor": 0,
              "model_id": "5efeb9611b5c4639a712b38dcab1f7a4"
            }
          },
          "metadata": {}
        },
        {
          "output_type": "stream",
          "name": "stderr",
          "text": [
            "/usr/local/lib/python3.10/dist-packages/transformers/tokenization_utils_base.py:1601: FutureWarning: `clean_up_tokenization_spaces` was not set. It will be set to `True` by default. This behavior will be depracted in transformers v4.45, and will be then set to `False` by default. For more details check this issue: https://github.com/huggingface/transformers/issues/31884\n",
            "  warnings.warn(\n"
          ]
        },
        {
          "output_type": "display_data",
          "data": {
            "text/plain": [
              "pytorch_model.bin:   0%|          | 0.00/436M [00:00<?, ?B/s]"
            ],
            "application/vnd.jupyter.widget-view+json": {
              "version_major": 2,
              "version_minor": 0,
              "model_id": "0f2fb6e9ed7c4ced8886b9ade02d6f72"
            }
          },
          "metadata": {}
        },
        {
          "output_type": "stream",
          "name": "stderr",
          "text": [
            "Some weights of BertForSequenceClassification were not initialized from the model checkpoint at dmis-lab/biobert-base-cased-v1.1 and are newly initialized: ['classifier.bias', 'classifier.weight']\n",
            "You should probably TRAIN this model on a down-stream task to be able to use it for predictions and inference.\n"
          ]
        }
      ],
      "source": [
        "from transformers import BertTokenizer, BertForSequenceClassification\n",
        "\n",
        "# Load BioBERT model and tokenizer\n",
        "tokenizer_biobert = BertTokenizer.from_pretrained('dmis-lab/biobert-base-cased-v1.1')\n",
        "model_biobert = BertForSequenceClassification.from_pretrained('dmis-lab/biobert-base-cased-v1.1', num_labels=2)\n"
      ]
    },
    {
      "cell_type": "markdown",
      "metadata": {
        "id": "sZT62qaigxOm"
      },
      "source": [
        "Dataset.from_pandas(clinical_data): This converts a Pandas DataFrame (which is what most clinical data would be in) into a Hugging Face Dataset object, which is optimized for large datasets and can easily be used for tasks like tokenization, model training, etc.\n",
        "Hugging Face Datasets support efficient batch processing, tokenization, and model training pipelines. It integrates well with the transformers library for model training and evaluation."
      ]
    },
    {
      "cell_type": "code",
      "execution_count": 30,
      "metadata": {
        "id": "7FBN_uiW1-ZE",
        "colab": {
          "base_uri": "https://localhost:8080/"
        },
        "outputId": "1182fdbd-b34a-4f40-b585-b1021002fd23"
      },
      "outputs": [
        {
          "output_type": "stream",
          "name": "stdout",
          "text": [
            "<class 'pandas.core.frame.DataFrame'>\n",
            "Index: 41289 entries, 0 to 123824\n",
            "Data columns (total 22 columns):\n",
            " #   Column       Non-Null Count  Dtype         \n",
            "---  ------       --------------  -----         \n",
            " 0   row_id_x     41289 non-null  int64         \n",
            " 1   SUBJECT_ID   41289 non-null  object        \n",
            " 2   HADM_ID      41289 non-null  object        \n",
            " 3   seq_num_x    41289 non-null  int64         \n",
            " 4   ICD9_CODE    41289 non-null  object        \n",
            " 5   ROW_ID       41289 non-null  object        \n",
            " 6   CHARTDATE    41289 non-null  datetime64[ns]\n",
            " 7   CHARTTIME    41289 non-null  datetime64[ns]\n",
            " 8   STORETIME    41289 non-null  datetime64[ns]\n",
            " 9   CATEGORY     41289 non-null  object        \n",
            " 10  DESCRIPTION  41289 non-null  object        \n",
            " 11  CGID         41289 non-null  object        \n",
            " 12  TEXT         41289 non-null  object        \n",
            " 13  TEXT_LENGTH  41289 non-null  int64         \n",
            " 14  CLEAN_TEXT   41289 non-null  object        \n",
            " 15  icd9_code_x  41289 non-null  object        \n",
            " 16  long_title   41289 non-null  object        \n",
            " 17  row_id_y     41289 non-null  int64         \n",
            " 18  seq_num_y    41289 non-null  int64         \n",
            " 19  icd9_code_y  41289 non-null  int64         \n",
            " 20  LABEL        41289 non-null  int64         \n",
            " 21  text_length  41289 non-null  int64         \n",
            "dtypes: datetime64[ns](3), int64(8), object(11)\n",
            "memory usage: 7.2+ MB\n"
          ]
        }
      ],
      "source": [
        "clinical_data.info()"
      ]
    },
    {
      "cell_type": "code",
      "execution_count": 107,
      "metadata": {
        "id": "HBf5AJf2eEXB"
      },
      "outputs": [],
      "source": [
        "from datasets import Dataset\n",
        "# converting a Pandas DataFrame (clinical_data) into a Hugging Face Dataset\n",
        "clinical_dataset = Dataset.from_pandas(clinical_data)\n"
      ]
    },
    {
      "cell_type": "markdown",
      "metadata": {
        "id": "vnyY3RYwkYeZ"
      },
      "source": [
        "We need to tokenize the text data and convert it into the format that BioBERT can work with."
      ]
    },
    {
      "cell_type": "code",
      "source": [],
      "metadata": {
        "id": "qX0n5wOsOVUy"
      },
      "execution_count": null,
      "outputs": []
    },
    {
      "cell_type": "code",
      "execution_count": 108,
      "metadata": {
        "id": "dHCnCvxQeid2",
        "colab": {
          "base_uri": "https://localhost:8080/",
          "height": 49,
          "referenced_widgets": [
            "ffc458bb660b4f82923752ccfaf0a921",
            "978409276e2547f3b7031f03d04513a3",
            "b69e4467c02a4a5694bc0867e01a3354",
            "0cabca8e29bd43bb86f461c067d901d8",
            "804173bf3ead4b5d8fc7ffbf62fd3533",
            "78c366e83cf0489f9ea3d18221d64d2a",
            "84e40a34cb6a4580bb6bd40d9b1cbe4e",
            "a543f6b114ae48eda152d1b91c7b4271",
            "2d041a6b96664a668e3681ae1ddd1f52",
            "f92f51514d0645f3917f042e9fb43ca3",
            "9df395ec78f24a2d81c939a9efaa2cb3"
          ]
        },
        "outputId": "bee57750-3d42-4cf4-a5cc-f25ea34c626d"
      },
      "outputs": [
        {
          "output_type": "display_data",
          "data": {
            "text/plain": [
              "Map:   0%|          | 0/41289 [00:00<?, ? examples/s]"
            ],
            "application/vnd.jupyter.widget-view+json": {
              "version_major": 2,
              "version_minor": 0,
              "model_id": "ffc458bb660b4f82923752ccfaf0a921"
            }
          },
          "metadata": {}
        }
      ],
      "source": [
        "def tokenize_function_biobert(examples):\n",
        "    return tokenizer_biobert(examples['CLEAN_TEXT'], padding='max_length', truncation=True, max_length=128)\n",
        "\n",
        "# Tokenize the dataset\n",
        "tokenized_dataset_biobert = clinical_dataset.map(tokenize_function_biobert, batched=True)\n",
        "tokenized_dataset_biobert = tokenized_dataset_biobert.remove_columns(['CLEAN_TEXT'])\n",
        "tokenized_dataset_biobert = tokenized_dataset_biobert.rename_column('LABEL', 'labels')\n",
        "\n",
        "# Split into train and test datasets\n",
        "train_test_split_biobert = tokenized_dataset_biobert.train_test_split(test_size=0.2)\n",
        "train_dataset_biobert = train_test_split_biobert['train']\n",
        "test_dataset_biobert = train_test_split_biobert['test']\n"
      ]
    },
    {
      "cell_type": "code",
      "execution_count": 111,
      "metadata": {
        "id": "SJwGI5pKeid2"
      },
      "outputs": [],
      "source": [
        "from transformers import DataCollatorWithPadding\n",
        "\n",
        "# Define the data collator for BioBERT\n",
        "data_collator_biobert = DataCollatorWithPadding(tokenizer=tokenizer_biobert)\n"
      ]
    },
    {
      "cell_type": "code",
      "execution_count": 34,
      "metadata": {
        "id": "hDSyE4lKpEV7"
      },
      "outputs": [],
      "source": [
        "train_subset = train_dataset_biobert.select(range(2000))\n",
        "test_subset = test_dataset_biobert.select(range(2000))"
      ]
    },
    {
      "cell_type": "markdown",
      "metadata": {
        "id": "xLtmn_SxpEV7"
      },
      "source": [
        "Here, we are considering only 2000 entries out of 40000 entries which may reduce the time and the memory."
      ]
    },
    {
      "cell_type": "code",
      "source": [
        "%env CUDA_LAUNCH_BLOCKING=1\n",
        "print(model_biobert.device)  # Check if it shows 'cuda'\n",
        "\n"
      ],
      "metadata": {
        "colab": {
          "base_uri": "https://localhost:8080/"
        },
        "id": "JoVS4prRSYOv",
        "outputId": "32578c34-7654-4a1e-eb3e-00b40e280999"
      },
      "execution_count": 102,
      "outputs": [
        {
          "output_type": "stream",
          "name": "stdout",
          "text": [
            "env: CUDA_LAUNCH_BLOCKING=1\n",
            "cuda:0\n"
          ]
        }
      ]
    },
    {
      "cell_type": "code",
      "source": [
        "train_subset = train_subset.map(lambda example: {'labels': int(example['labels'])})\n",
        "test_subset = test_subset.map(lambda example: {'labels': int(example['labels'])})\n"
      ],
      "metadata": {
        "colab": {
          "base_uri": "https://localhost:8080/",
          "height": 81,
          "referenced_widgets": [
            "308c3cdb6f134af3adffa9e25a9d5d80",
            "f44ca132eec14ebebacc1872f9f541b1",
            "47baeec5ce4d48e9afae23fe807d3c05",
            "32766766504f42a1ab3b0a93b8c8a00a",
            "308c63160cb249e7aef299cef193b0ac",
            "81e3fb6a92fc4355aa248c4e6a95b27a",
            "74f4069e08ca4058abcfc5c752604b25",
            "8b32ecf8d94b4927869f38981d469721",
            "d7169bb1559d434ebef74aea6f79166a",
            "88ea3c0175ad4d76b084e53a9827b4a5",
            "caca80310eed43c6a3e98c79059a1349",
            "e39258f2cf534de999b488dc6e42c10c",
            "30e4c240a2d04f8181e3d45c27344ea6",
            "59837936314646b484877d029a4901cd",
            "e6e3f4a901b5428c89b6a6dae4f20614",
            "3f0e3bd981a6454b9dd234d8f8222eae",
            "b3c6c79f861d41ddb55c93cf6c2b31ab",
            "19996e6ad0bf40babba3c1a3ed5ba29b",
            "de91e8a2cb0f4ff7a34da3180c4d7cdc",
            "384fd7542c8149279e848d74098cce60",
            "d5c65fb4a9a24609bb43af957af066b7",
            "50d387d03d2443679159da3b3ecde374"
          ]
        },
        "id": "A3jy4akVWDS4",
        "outputId": "215ad3d4-3a2c-4e0e-9fd1-17f3459d9981"
      },
      "execution_count": 78,
      "outputs": [
        {
          "output_type": "display_data",
          "data": {
            "text/plain": [
              "Map:   0%|          | 0/2000 [00:00<?, ? examples/s]"
            ],
            "application/vnd.jupyter.widget-view+json": {
              "version_major": 2,
              "version_minor": 0,
              "model_id": "308c3cdb6f134af3adffa9e25a9d5d80"
            }
          },
          "metadata": {}
        },
        {
          "output_type": "display_data",
          "data": {
            "text/plain": [
              "Map:   0%|          | 0/2000 [00:00<?, ? examples/s]"
            ],
            "application/vnd.jupyter.widget-view+json": {
              "version_major": 2,
              "version_minor": 0,
              "model_id": "e39258f2cf534de999b488dc6e42c10c"
            }
          },
          "metadata": {}
        }
      ]
    },
    {
      "cell_type": "code",
      "source": [
        "# Check the data types and shapes of your inputs\n",
        "print((train_subset['input_ids']))\n",
        "print((train_subset['attention_mask']))\n",
        "print((train_subset['labels']))\n"
      ],
      "metadata": {
        "id": "KD5nq2yiWnNf"
      },
      "execution_count": null,
      "outputs": []
    },
    {
      "cell_type": "code",
      "execution_count": 35,
      "metadata": {
        "id": "i7NBtZbGpEV8",
        "colab": {
          "base_uri": "https://localhost:8080/"
        },
        "outputId": "c029faad-589f-43bc-de59-8b10be679341"
      },
      "outputs": [
        {
          "output_type": "stream",
          "name": "stderr",
          "text": [
            "/usr/local/lib/python3.10/dist-packages/accelerate/accelerator.py:494: FutureWarning: `torch.cuda.amp.GradScaler(args...)` is deprecated. Please use `torch.amp.GradScaler('cuda', args...)` instead.\n",
            "  self.scaler = torch.cuda.amp.GradScaler(**kwargs)\n"
          ]
        }
      ],
      "source": [
        "from transformers import Trainer, TrainingArguments\n",
        "from transformers import EarlyStoppingCallback\n",
        "\n",
        "# Custom Trainer that ensures model tensors are contiguous before saving\n",
        "class ContiguousTrainer(Trainer):\n",
        "    def _save(self, output_dir: str, state_dict=None):\n",
        "        # Make all model parameters contiguous before saving\n",
        "        model_to_save = self.model.module if hasattr(self.model, \"module\") else self.model\n",
        "        for param in model_to_save.parameters():\n",
        "            param.data = param.data.contiguous()\n",
        "        # Save the model using the regular Trainer save method\n",
        "        super()._save(output_dir, state_dict)\n",
        "\n",
        "\n",
        "# Define training arguments\n",
        "training_args_biobert = TrainingArguments(\n",
        "    output_dir=path_to_file + '/results_biobert',\n",
        "    num_train_epochs=3,\n",
        "    per_device_train_batch_size=4,  # Reduce batch size\n",
        "    per_device_eval_batch_size=8,   # Reduce eval batch size\n",
        "    eval_strategy=\"steps\",  # Use eval_strategy instead of evaluation_strategy\n",
        "    save_strategy=\"steps\",\n",
        "    save_steps=50,\n",
        "    eval_steps=50,\n",
        "    load_best_model_at_end=True,\n",
        "    warmup_steps=500,\n",
        "    weight_decay=0.01,\n",
        "    logging_steps=10,\n",
        "    fp16=True  # Keep fp16 for mixed precision training\n",
        ")\n",
        "\n",
        "\n",
        "# Initialize the Trainer\n",
        "trainer_biobert = ContiguousTrainer(\n",
        "    model=model_biobert,\n",
        "    args=training_args_biobert,\n",
        "    train_dataset=train_subset,\n",
        "    eval_dataset=test_subset,\n",
        "    compute_metrics=compute_metrics,  # Define our function to compute metrics\n",
        "    callbacks=[EarlyStoppingCallback(early_stopping_patience=3)],\n",
        ")"
      ]
    },
    {
      "cell_type": "code",
      "execution_count": 36,
      "metadata": {
        "id": "XD7B_sKMpEV8",
        "colab": {
          "base_uri": "https://localhost:8080/",
          "height": 392
        },
        "outputId": "8a5eefdb-f2db-4058-a05b-fb98528cf74a"
      },
      "outputs": [
        {
          "output_type": "display_data",
          "data": {
            "text/plain": [
              "<IPython.core.display.HTML object>"
            ],
            "text/html": [
              "\n",
              "    <div>\n",
              "      \n",
              "      <progress value='450' max='1500' style='width:300px; height:20px; vertical-align: middle;'></progress>\n",
              "      [ 450/1500 01:36 < 03:45, 4.66 it/s, Epoch 0/3]\n",
              "    </div>\n",
              "    <table border=\"1\" class=\"dataframe\">\n",
              "  <thead>\n",
              " <tr style=\"text-align: left;\">\n",
              "      <th>Step</th>\n",
              "      <th>Training Loss</th>\n",
              "      <th>Validation Loss</th>\n",
              "      <th>Accuracy</th>\n",
              "      <th>Precision</th>\n",
              "      <th>Recall</th>\n",
              "      <th>F1</th>\n",
              "      <th>Auc</th>\n",
              "    </tr>\n",
              "  </thead>\n",
              "  <tbody>\n",
              "    <tr>\n",
              "      <td>50</td>\n",
              "      <td>0.697900</td>\n",
              "      <td>0.674164</td>\n",
              "      <td>0.644000</td>\n",
              "      <td>0.717256</td>\n",
              "      <td>0.374593</td>\n",
              "      <td>0.492154</td>\n",
              "      <td>0.722972</td>\n",
              "    </tr>\n",
              "    <tr>\n",
              "      <td>100</td>\n",
              "      <td>0.635000</td>\n",
              "      <td>0.605762</td>\n",
              "      <td>0.778000</td>\n",
              "      <td>0.767677</td>\n",
              "      <td>0.742671</td>\n",
              "      <td>0.754967</td>\n",
              "      <td>0.855822</td>\n",
              "    </tr>\n",
              "    <tr>\n",
              "      <td>150</td>\n",
              "      <td>0.514800</td>\n",
              "      <td>0.489628</td>\n",
              "      <td>0.771500</td>\n",
              "      <td>0.907018</td>\n",
              "      <td>0.561346</td>\n",
              "      <td>0.693494</td>\n",
              "      <td>0.899389</td>\n",
              "    </tr>\n",
              "    <tr>\n",
              "      <td>200</td>\n",
              "      <td>0.276000</td>\n",
              "      <td>0.325897</td>\n",
              "      <td>0.872000</td>\n",
              "      <td>0.863388</td>\n",
              "      <td>0.857763</td>\n",
              "      <td>0.860566</td>\n",
              "      <td>0.943205</td>\n",
              "    </tr>\n",
              "    <tr>\n",
              "      <td>250</td>\n",
              "      <td>0.366400</td>\n",
              "      <td>0.514708</td>\n",
              "      <td>0.817500</td>\n",
              "      <td>0.750000</td>\n",
              "      <td>0.905537</td>\n",
              "      <td>0.820462</td>\n",
              "      <td>0.915355</td>\n",
              "    </tr>\n",
              "    <tr>\n",
              "      <td>300</td>\n",
              "      <td>0.424900</td>\n",
              "      <td>0.289943</td>\n",
              "      <td>0.931500</td>\n",
              "      <td>0.927948</td>\n",
              "      <td>0.922910</td>\n",
              "      <td>0.925422</td>\n",
              "      <td>0.974820</td>\n",
              "    </tr>\n",
              "    <tr>\n",
              "      <td>350</td>\n",
              "      <td>0.473400</td>\n",
              "      <td>0.291860</td>\n",
              "      <td>0.934000</td>\n",
              "      <td>0.907963</td>\n",
              "      <td>0.953312</td>\n",
              "      <td>0.930085</td>\n",
              "      <td>0.977422</td>\n",
              "    </tr>\n",
              "    <tr>\n",
              "      <td>400</td>\n",
              "      <td>0.594500</td>\n",
              "      <td>0.462547</td>\n",
              "      <td>0.903500</td>\n",
              "      <td>0.833945</td>\n",
              "      <td>0.986971</td>\n",
              "      <td>0.904028</td>\n",
              "      <td>0.981123</td>\n",
              "    </tr>\n",
              "    <tr>\n",
              "      <td>450</td>\n",
              "      <td>0.521900</td>\n",
              "      <td>0.350113</td>\n",
              "      <td>0.914000</td>\n",
              "      <td>0.873380</td>\n",
              "      <td>0.951140</td>\n",
              "      <td>0.910603</td>\n",
              "      <td>0.983633</td>\n",
              "    </tr>\n",
              "  </tbody>\n",
              "</table><p>"
            ]
          },
          "metadata": {}
        },
        {
          "output_type": "execute_result",
          "data": {
            "text/plain": [
              "TrainOutput(global_step=450, training_loss=0.5006350776884291, metrics={'train_runtime': 97.0745, 'train_samples_per_second': 61.808, 'train_steps_per_second': 15.452, 'total_flos': 118399974912000.0, 'train_loss': 0.5006350776884291, 'epoch': 0.9})"
            ]
          },
          "metadata": {},
          "execution_count": 36
        }
      ],
      "source": [
        "# Train BioBERT on the subset\n",
        "trainer_biobert.train()\n"
      ]
    },
    {
      "cell_type": "markdown",
      "metadata": {
        "id": "TSMsgHZdpEV8"
      },
      "source": [
        "This callback monitors the evaluation loss (or another metric, depending on your configuration) and stops training early if the model stops improving for a specified number of evaluation steps (in this case, 3 steps).\n",
        "\n",
        "Training Loss: The training loss fluctuates as expected but generally decreases, showing that the model is learning. However, there are some spikes (e.g., loss of 0.6979 at epoch 0.24), indicating moments when the model might be struggling.\n",
        "\n",
        "Gradient Norm: There are some extreme values in the gradient norm indicating potential training instability at certain points. We might want to consider gradient clipping if these spikes are problematic.\n",
        "\n",
        "Evaluation Loss and Accuracy: The evaluation loss improves over time, and the accuracy increases, decreases over the epochs, indicating strong generalization to unseen data.\n",
        "\n",
        "F1-Score, Precision, and Recall: These metrics are consistently strong, with the F1-score increasing from 0.492 to 0.91 over time, showing the model’s balanced performance between precision and recall.\n",
        "\n",
        "Interpreting the Results:\n",
        "\n",
        "Early Steps (50, 100, 150): At the beginning of training, the training loss is relatively high (0.697900) and improves gradually, which is expected as the model starts learning. Evaluation loss also improves, indicating better generalization.\n",
        "Mid Training (200-300): By this point, we can see a sharp improvement in metrics like accuracy (reaching 93.1%),\n",
        "F1 score (0.925), and AUC-ROC (0.97). This suggests that the model has learned well and is performing well on both training and evaluation sets.\n",
        "\n",
        "Late Training (400, 450): The accuracy stabilizes around 91.4%, and AUC-ROC continues to rise, showing that the model is performing very well. However, training loss is slightly increasing again by step 400-450, which could indicate some overfitting to the training data at the later stages of training..\n",
        "\n",
        "The previous results we shared were during or after specific epochs (e.g., after epoch 0.2, 0.4, 1.0).\n",
        "These results were logged periodically during training and represented the evaluation metrics after different training phases.\n",
        "Metrics like eval_loss, eval_accuracy, eval_f1, eval_precision, and eval_recall were logged at specific points in time, as the model progressed through different stages of training."
      ]
    },
    {
      "cell_type": "code",
      "execution_count": 37,
      "metadata": {
        "id": "OZDPKyNzjKYb",
        "colab": {
          "base_uri": "https://localhost:8080/"
        },
        "outputId": "c5b77750-cd54-494f-e16e-35f8ba724273"
      },
      "outputs": [
        {
          "output_type": "execute_result",
          "data": {
            "text/plain": [
              "('model_path_bio/tokenizer_config.json',\n",
              " 'model_path_bio/special_tokens_map.json',\n",
              " 'model_path_bio/vocab.txt',\n",
              " 'model_path_bio/added_tokens.json')"
            ]
          },
          "metadata": {},
          "execution_count": 37
        }
      ],
      "source": [
        "# Save the model and tokenizer\n",
        "model_path_bio = path_to_file+'/results_biobert'\n",
        "model_biobert.save_pretrained(\"model_path_bio\")\n",
        "tokenizer_biobert.save_pretrained(\"model_path_bio\")"
      ]
    },
    {
      "cell_type": "code",
      "execution_count": 38,
      "metadata": {
        "id": "W50jw1Xqeid2",
        "colab": {
          "base_uri": "https://localhost:8080/",
          "height": 211
        },
        "outputId": "8cac80c9-495d-48f9-81dd-fd70b98129bb"
      },
      "outputs": [
        {
          "output_type": "display_data",
          "data": {
            "text/plain": [
              "<IPython.core.display.HTML object>"
            ],
            "text/html": [
              "\n",
              "    <div>\n",
              "      \n",
              "      <progress value='250' max='250' style='width:300px; height:20px; vertical-align: middle;'></progress>\n",
              "      [250/250 00:04]\n",
              "    </div>\n",
              "    "
            ]
          },
          "metadata": {}
        },
        {
          "output_type": "execute_result",
          "data": {
            "text/plain": [
              "{'eval_loss': 0.28994348645210266,\n",
              " 'eval_accuracy': 0.9315,\n",
              " 'eval_precision': 0.9279475982532751,\n",
              " 'eval_recall': 0.9229098805646037,\n",
              " 'eval_f1': 0.925421883505716,\n",
              " 'eval_auc': 0.9748198506881447,\n",
              " 'eval_runtime': 4.3152,\n",
              " 'eval_samples_per_second': 463.478,\n",
              " 'eval_steps_per_second': 57.935,\n",
              " 'epoch': 0.9}"
            ]
          },
          "metadata": {},
          "execution_count": 38
        }
      ],
      "source": [
        "eval_results_biobert = trainer_biobert.evaluate()\n",
        "eval_results_biobert"
      ]
    },
    {
      "cell_type": "markdown",
      "metadata": {
        "id": "SLVnDmu2hpEA"
      },
      "source": [
        "### Key metrics:\n",
        "\n",
        "**Eval Loss: 0.2899**\n",
        "\n",
        "This is the loss on the evaluation dataset, and a lower value indicates better model performance. A loss of 0.29 suggests that the model is performing well on the evaluation data.\n",
        "\n",
        "**Eval Accuracy: 93.15%**\n",
        "\n",
        "The model's accuracy on the evaluation dataset. It means that the model correctly classified 93.15% of the samples in the evaluation set.\n",
        "\n",
        "**Eval Precision: 92.79%**\n",
        "\n",
        "Precision represents the proportion of correctly predicted positive samples out of all predicted positives. A precision of 92.79% indicates that most of the model's positive predictions were correct.\n",
        "\n",
        "**Eval Recall: 92.29%**\n",
        "\n",
        "Recall is the proportion of true positive samples that were correctly identified by the model. A recall of 92.29% means the model successfully identified most of the actual positive cases.\n",
        "\n",
        "**Eval F1 Score: 92.54%**\n",
        "\n",
        "The F1 score is the harmonic mean of precision and recall. With a score of 92.54%, this indicates that the model has a good balance between precision and recall.\n",
        "\n",
        "**Eval AUC-ROC: 0.9748**\n",
        "\n",
        "AUC-ROC measures the ability of the model to distinguish between positive and negative classes. A value close to 1, such as 0.9748, means the model is highly effective in distinguishing between the two classes.\n",
        "Performance:\n",
        "\n",
        "**Eval Runtime: 4.32 seconds**\n",
        "\n",
        "This is how long it took to run the evaluation on the evaluation set.\n",
        "**Eval Samples Per Second: 463.48**\n",
        "\n",
        "The model processed 463.48 evaluation samples per second, which is a good throughput.\n",
        "**Eval Steps Per Second: 57.94**\n",
        "\n",
        "The number of evaluation steps completed per second.\n",
        "\n",
        "**Epoch: 0.9**\n",
        "The evaluation was conducted after completing 0.9 of the total number of training epochs.\n",
        "\n",
        "Summary:\n",
        "The model has demonstrated strong performance on the evaluation dataset:\n",
        "\n",
        "Accuracy: The model correctly classifies most samples (93.15%).\n",
        "\n",
        "Precision and Recall: The model maintains a good balance between precision (92.79%) and recall (92.29%), meaning it's performing well both at identifying positive cases and minimizing false positives.\n",
        "\n",
        "AUC-ROC: A high score of 0.9748 shows the model can effectively distinguish between classes.\n",
        "\n",
        "F1 Score: A strong F1 score of 92.54% confirms that both precision and recall are performing well together.\n",
        "These metrics indicate that the model is well-trained and generalizing effectively on the evaluation dataset."
      ]
    },
    {
      "cell_type": "code",
      "execution_count": 39,
      "metadata": {
        "id": "hcxdjnfDeid3"
      },
      "outputs": [],
      "source": [
        "# Save the evaluation results to a text file\n",
        "with open('biobert_evaluation_results.txt', 'w') as f:\n",
        "    for key, value in eval_results_biobert.items():\n",
        "        f.write(f\"{key}: {value}\\n\")\n"
      ]
    },
    {
      "cell_type": "code",
      "execution_count": 40,
      "metadata": {
        "id": "kPs_sw04eid3",
        "colab": {
          "base_uri": "https://localhost:8080/"
        },
        "outputId": "33eb30f6-9495-4ffd-9a67-30483b8ec223"
      },
      "outputs": [
        {
          "output_type": "stream",
          "name": "stdout",
          "text": [
            "Vocabulary size: 28996\n"
          ]
        }
      ],
      "source": [
        "vocab_size = tokenizer_biobert.vocab_size\n",
        "print(f\"Vocabulary size: {vocab_size}\")\n"
      ]
    },
    {
      "cell_type": "markdown",
      "metadata": {
        "id": "RIIYNG69pEV9"
      },
      "source": [
        "The vocabulary size determines how many different tokens the model can process. A larger vocabulary means the model can handle a broader range of words and subwords, but it also increases the complexity of the model.\n",
        "The size of the vocabulary directly influences the input embeddings of the model. For example, if the vocabulary size is 30,000, the input layer of the model will have an embedding matrix with 30,000 rows, where each row corresponds to a token in the vocabulary."
      ]
    },
    {
      "cell_type": "code",
      "execution_count": 41,
      "metadata": {
        "id": "dNVjrf6ieid4"
      },
      "outputs": [],
      "source": [
        "import json\n",
        "\n",
        "# Save test results\n",
        "with open(\"test_results.json\", \"w\") as f:\n",
        "    json.dump(eval_results_biobert, f)"
      ]
    },
    {
      "cell_type": "code",
      "execution_count": 42,
      "metadata": {
        "id": "RpCab1NFeid4",
        "colab": {
          "base_uri": "https://localhost:8080/",
          "height": 211
        },
        "outputId": "9bb2d69b-2350-4a9e-fac4-96ed8c234147"
      },
      "outputs": [
        {
          "output_type": "display_data",
          "data": {
            "text/plain": [
              "<IPython.core.display.HTML object>"
            ],
            "text/html": [
              "\n",
              "    <div>\n",
              "      \n",
              "      <progress value='1283' max='250' style='width:300px; height:20px; vertical-align: middle;'></progress>\n",
              "      [250/250 00:23]\n",
              "    </div>\n",
              "    "
            ]
          },
          "metadata": {}
        },
        {
          "output_type": "execute_result",
          "data": {
            "text/plain": [
              "{'eval_loss': 0.2756190598011017,\n",
              " 'eval_accuracy': 0.9333979171712279,\n",
              " 'eval_precision': 0.9229323308270677,\n",
              " 'eval_recall': 0.9289189189189189,\n",
              " 'eval_f1': 0.9259159482758621,\n",
              " 'eval_auc': 0.9755365677217368,\n",
              " 'eval_runtime': 19.6597,\n",
              " 'eval_samples_per_second': 420.047,\n",
              " 'eval_steps_per_second': 52.544,\n",
              " 'epoch': 0.9}"
            ]
          },
          "metadata": {},
          "execution_count": 42
        }
      ],
      "source": [
        "from torch.optim import AdamW\n",
        "\n",
        "# Define the optimizer\n",
        "optimizer = AdamW(model_biobert.parameters(), lr=2e-5)  # Learning rate can be adjusted\n",
        "\n",
        "# Define the loss function (CrossEntropyLoss for classification)\n",
        "criterion = torch.nn.CrossEntropyLoss()\n",
        "\n",
        "eval_results_biobert_finetuned = trainer_biobert.evaluate(eval_dataset=test_dataset_biobert)\n",
        "eval_results_biobert_finetuned\n"
      ]
    },
    {
      "cell_type": "markdown",
      "metadata": {
        "id": "N0myjrNDpEV9"
      },
      "source": [
        "Here’s a brief explanation of each part of the output from the evaluation of your model:\n",
        "\n",
        "### Evaluation Metrics:\n",
        "**Eval Loss: 0.2756**\n",
        "\n",
        "This is the loss calculated on the evaluation dataset. A lower value indicates a better fit of the model to the evaluation data. In this case, a loss of 0.2756 suggests that the model is performing well on unseen data.\n",
        "\n",
        "**Eval Accuracy: 93.34%**\n",
        "\n",
        "The accuracy represents the percentage of correctly classified samples in the evaluation dataset. A value of 93.34% means that the model accurately predicted the labels for 93.34% of the evaluation samples.\n",
        "\n",
        "**Eval Precision: 92.29%**\n",
        "\n",
        "Precision is the ratio of true positive predictions to the total predicted positives. This metric indicates how precise the model is when predicting positive samples. A precision of 92.29% means that the model has a high level of precision and is making few false-positive errors.\n",
        "\n",
        "**Eval Recall: 92.89%**\n",
        "\n",
        "Recall is the ratio of true positive predictions to the total actual positives. A recall of 92.89% shows that the model is identifying most of the positive cases correctly (high sensitivity), with few false negatives.\n",
        "\n",
        "**Eval F1 Score: 92.59%**\n",
        "\n",
        "The F1 score is the harmonic mean of precision and recall. It provides a balanced measure of both. A value of 92.59% indicates that the model has a good balance between precision and recall, and both are performing well.\n",
        "\n",
        "**Eval AUC-ROC: 0.9755\n",
        "\n",
        "The AUC-ROC (Area Under the Curve - Receiver Operating Characteristic) measures the ability of the model to distinguish between the positive and negative classes. An AUC close to 1, like 0.9755, indicates that the model is highly capable of distinguishing between the classes and has strong performance.\n",
        "\n",
        "#### Performance Metrics:\n",
        "**Eval Runtime: 19.66 seconds**\n",
        "\n",
        "The total time taken to run the evaluation process. In this case, it took about 19.66 seconds to evaluate the model on the evaluation set.\n",
        "\n",
        "**Eval Samples per Second: 420.05**\n",
        "\n",
        "The number of evaluation samples processed per second. This is a measure of how efficiently the model processes the data.\n",
        "\n",
        "**Eval Steps per Second: 52.54**\n",
        "\n",
        "The number of evaluation steps processed per second. This reflects the speed at which the model performs the evaluation steps.\n",
        "\n",
        "**Epoch:**\n",
        "Epoch: 0.9\n",
        "\n",
        "The model was evaluated after completing 0.9 of the total training epochs, meaning the evaluation happened before the first full epoch was completed.\n",
        "\n",
        "**Summary:**\n",
        "\n",
        "Strong Performance: The model demonstrates strong performance with an accuracy of 93.34%, a balanced F1 score of 92.59%, and a high AUC-ROC of 0.9755, indicating that the model is very good at distinguishing between classes.\n",
        "**Efficient Evaluation:** The evaluation process was efficient, with 420 samples per second being processed and taking only 19.66 seconds to complete.\n",
        "\n",
        "Overall, the results suggest that the model is well-finetuned and generalizes well to the evaluation data, with a good balance between precision and recall."
      ]
    },
    {
      "cell_type": "code",
      "execution_count": 43,
      "metadata": {
        "id": "XbXKdkWWABwI"
      },
      "outputs": [],
      "source": [
        "import os\n",
        "os.environ['CUDA_LAUNCH_BLOCKING'] = \"1\"\n"
      ]
    },
    {
      "cell_type": "code",
      "execution_count": 44,
      "metadata": {
        "id": "ndwrWvZcNQrx",
        "colab": {
          "base_uri": "https://localhost:8080/"
        },
        "outputId": "5725bc56-3a16-48a8-b434-eef0f190fd5d"
      },
      "outputs": [
        {
          "output_type": "execute_result",
          "data": {
            "text/plain": [
              "20"
            ]
          },
          "metadata": {},
          "execution_count": 44
        }
      ],
      "source": [
        "import gc\n",
        "torch.cuda.empty_cache()  # Clear unused memory\n",
        "gc.collect()\n"
      ]
    },
    {
      "cell_type": "code",
      "execution_count": 45,
      "metadata": {
        "id": "NViNZcwuNSaZ"
      },
      "outputs": [],
      "source": [
        "import os\n",
        "os.environ['PYTORCH_CUDA_ALLOC_CONF'] = \"expandable_segments:True\"\n"
      ]
    },
    {
      "cell_type": "code",
      "execution_count": null,
      "metadata": {
        "id": "ab7Lh_-RpEV9"
      },
      "outputs": [],
      "source": [
        "# Check if CUDA (GPU) is available and set the device accordingly\n",
        "device = torch.device(\"cuda\" if torch.cuda.is_available() else \"cpu\")\n",
        "# Move the model to the appropriate device (GPU or CPU)\n",
        "model_biobert.to(device)\n",
        "\n",
        "# Switch the model to evaluation mode\n",
        "model_biobert.eval()\n",
        "# Define a smaller batch size\n",
        "smaller_batch_size = 32  # Adjust this number based on our GPU capacity\n",
        "\n",
        "# Perform tokenization in batches to reduce memory usage\n",
        "all_predictions = []\n",
        "\n",
        "for i in range(0, len(clinical_data), smaller_batch_size):\n",
        "    batch = clinical_data['CLEAN_TEXT'][i : i + smaller_batch_size].tolist()\n",
        "    print(f\"Processing batch {i//smaller_batch_size + 1}, batch size: {len(batch)}\")  # Add this line\n",
        "\n",
        "    if not batch:\n",
        "        continue # Skip empty batches\n",
        "    inputs = tokenizer_biobert(batch,\n",
        "                                return_tensors=\"pt\",\n",
        "                                truncation=True,\n",
        "                                padding=True,\n",
        "                                max_length=512)\n",
        "\n",
        "    for k, v in inputs.items():\n",
        "        if not torch.isfinite(v).all():\n",
        "            print(f\"Non-finite values found in {k}\")\n",
        "\n",
        "    # Move the inputs to the same device as the model\n",
        "    inputs = {k: v.to(device) for k, v in inputs.items()}\n",
        "\n",
        "    # Make predictions using the model\n",
        "    with torch.no_grad():\n",
        "        outputs = model_biobert(**inputs)\n",
        "        predictions = torch.argmax(outputs.logits, dim=-1)\n",
        "\n",
        "    # Extend the list with the current batch predictions\n",
        "    all_predictions.extend(predictions.tolist())\n",
        "    print(f\"Predictions so far: {len(all_predictions)}\")  # Track the number of predictions\n",
        "\n",
        "\n",
        "# Check if lengths match\n",
        "if len(all_predictions) != len(clinical_data):\n",
        "    print(f\"Length mismatch: Predictions ({len(all_predictions)}) vs Data ({len(clinical_data)})\")\n",
        "\n",
        "    # Fill missing predictions with a default value (e.g., 0) or handle accordingly\n",
        "    missing_predictions = len(clinical_data) - len(all_predictions)\n",
        "    all_predictions.extend([0] * missing_predictions)  # Extend predictions with default value (e.g., 0)\n",
        "\n",
        "# Convert predictions to a list for easier interpretation\n",
        "readmission_predictions = all_predictions\n",
        "\n",
        "# Add predictions to the DataFrame\n",
        "clinical_data['Readmission_Prediction'] = all_predictions"
      ]
    },
    {
      "cell_type": "markdown",
      "metadata": {
        "id": "4pwoGyuRpEV-"
      },
      "source": [
        "**Batch Processing:** Processes the text data in smaller batches (smaller_batch_size = 32), which is more memory-efficient and scalable for large datasets. <br>\n",
        "**Device Handling:** Similar to the first block, moves the inputs and model to the appropriate device (CPU or GPU).<br>\n",
        "**Tokenization:** Each batch is tokenized separately, ensuring memory efficiency by avoiding tokenizing a large chunk of data at once. <br>\n",
        "**Prediction:** Predictions are made batch-wise, which ensures that the model can handle larger datasets without running out of memory.<br>\n",
        "**Post-processing:** Extends the list of predictions after processing each batch, ensuring the entire dataset can be processed without memory bottlenecks.<br>\n",
        "#### Advantages:\n",
        "More memory-efficient due to batch processing.<br>\n",
        "Handles large datasets more gracefully by processing them in smaller chunks.<br>\n",
        "Proper use of batch size, ensuring that memory usage is optimized.<br>\n",
        "Less prone to memory exhaustion errors, especially on GPUs with limited VRAM.<br>"
      ]
    },
    {
      "cell_type": "code",
      "execution_count": 47,
      "metadata": {
        "id": "xiwfNGWEpEV-",
        "colab": {
          "base_uri": "https://localhost:8080/"
        },
        "outputId": "e427cfbb-2888-4a5b-9168-a52fb82f42e1"
      },
      "outputs": [
        {
          "output_type": "stream",
          "name": "stdout",
          "text": [
            "DataFrame does not exist to save.\n"
          ]
        }
      ],
      "source": [
        "# Save the DataFrame\n",
        "if 'clinical_data_predicted' in locals():\n",
        "    clinical_data.to_pickle('clinical_data_predicted.pkl')\n",
        "    print(\"DataFrame successfully saved to 'clinical_data_predicted.pkl'.\")\n",
        "\n",
        "else:\n",
        "    print(\"DataFrame does not exist to save.\")\n"
      ]
    },
    {
      "cell_type": "code",
      "execution_count": 29,
      "metadata": {
        "id": "v1RJUEjopEV-"
      },
      "outputs": [],
      "source": [
        "clinical_data_predicted = pd.read_pickle(path_to_file+'clinical_data_predicted.pkl')"
      ]
    },
    {
      "cell_type": "code",
      "execution_count": 30,
      "metadata": {
        "id": "SY4e1etjpEV-",
        "colab": {
          "base_uri": "https://localhost:8080/"
        },
        "outputId": "1c8d2170-80cc-424a-db37-f81667ed8468"
      },
      "outputs": [
        {
          "output_type": "stream",
          "name": "stdout",
          "text": [
            "LABEL\n",
            "0    22654\n",
            "1    18635\n",
            "Name: count, dtype: int64\n",
            "<class 'pandas.core.frame.DataFrame'>\n",
            "Index: 40826 entries, 7 to 123824\n",
            "Data columns (total 23 columns):\n",
            " #   Column                  Non-Null Count  Dtype         \n",
            "---  ------                  --------------  -----         \n",
            " 0   row_id_x                40826 non-null  int64         \n",
            " 1   SUBJECT_ID              40826 non-null  object        \n",
            " 2   HADM_ID                 40826 non-null  object        \n",
            " 3   seq_num_x               40826 non-null  int64         \n",
            " 4   ICD9_CODE               40826 non-null  object        \n",
            " 5   ROW_ID                  40826 non-null  object        \n",
            " 6   CHARTDATE               40826 non-null  datetime64[ns]\n",
            " 7   CHARTTIME               40826 non-null  datetime64[ns]\n",
            " 8   STORETIME               40826 non-null  datetime64[ns]\n",
            " 9   CATEGORY                40826 non-null  object        \n",
            " 10  DESCRIPTION             40826 non-null  object        \n",
            " 11  CGID                    40826 non-null  object        \n",
            " 12  TEXT                    40826 non-null  object        \n",
            " 13  TEXT_LENGTH             40826 non-null  int64         \n",
            " 14  CLEAN_TEXT              40826 non-null  object        \n",
            " 15  icd9_code_x             40826 non-null  object        \n",
            " 16  long_title              40826 non-null  object        \n",
            " 17  row_id_y                40826 non-null  int64         \n",
            " 18  seq_num_y               40826 non-null  int64         \n",
            " 19  icd9_code_y             40826 non-null  int64         \n",
            " 20  LABEL                   40826 non-null  int64         \n",
            " 21  text_length             40826 non-null  int64         \n",
            " 22  Readmission_Prediction  40826 non-null  int64         \n",
            "dtypes: datetime64[ns](3), int64(9), object(11)\n",
            "memory usage: 7.5+ MB\n"
          ]
        }
      ],
      "source": [
        "readmission_counts = clinical_data['LABEL'].value_counts()\n",
        "print(readmission_counts)\n",
        "clinical_data_predicted.info()"
      ]
    },
    {
      "cell_type": "markdown",
      "metadata": {
        "id": "RLkPjVrWpEV-"
      },
      "source": [
        "We are copying the clinical_data to another dataset for our convenience and to keep a copy of it."
      ]
    },
    {
      "cell_type": "code",
      "execution_count": 26,
      "metadata": {
        "id": "NdMmF0sTpEV-"
      },
      "outputs": [],
      "source": [
        "clinical_data_predicted = clinical_data[clinical_data['CLEAN_TEXT'].apply(lambda x: len(x.strip()) > 0)]\n"
      ]
    },
    {
      "cell_type": "code",
      "execution_count": 31,
      "metadata": {
        "id": "l_teILE5pEV-",
        "colab": {
          "base_uri": "https://localhost:8080/",
          "height": 206
        },
        "outputId": "47c9a3f5-99a3-423f-df1d-9f59a4fea024"
      },
      "outputs": [
        {
          "output_type": "execute_result",
          "data": {
            "text/plain": [
              "                                           CLEAN_TEXT  Readmission_Prediction\n",
              "7   full code universal precautions allergy hepari...                       1\n",
              "8   full code universal precautions allergy hepari...                       1\n",
              "9   full code universal precautions allergy hepari...                       1\n",
              "10  full code universal precautions allergy hepari...                       1\n",
              "11  full code universal precautions allergy hepari...                       1"
            ],
            "text/html": [
              "\n",
              "  <div id=\"df-1bef69b1-c2a0-4dd6-a910-c2d9b2e99de1\" class=\"colab-df-container\">\n",
              "    <div>\n",
              "<style scoped>\n",
              "    .dataframe tbody tr th:only-of-type {\n",
              "        vertical-align: middle;\n",
              "    }\n",
              "\n",
              "    .dataframe tbody tr th {\n",
              "        vertical-align: top;\n",
              "    }\n",
              "\n",
              "    .dataframe thead th {\n",
              "        text-align: right;\n",
              "    }\n",
              "</style>\n",
              "<table border=\"1\" class=\"dataframe\">\n",
              "  <thead>\n",
              "    <tr style=\"text-align: right;\">\n",
              "      <th></th>\n",
              "      <th>CLEAN_TEXT</th>\n",
              "      <th>Readmission_Prediction</th>\n",
              "    </tr>\n",
              "  </thead>\n",
              "  <tbody>\n",
              "    <tr>\n",
              "      <th>7</th>\n",
              "      <td>full code universal precautions allergy hepari...</td>\n",
              "      <td>1</td>\n",
              "    </tr>\n",
              "    <tr>\n",
              "      <th>8</th>\n",
              "      <td>full code universal precautions allergy hepari...</td>\n",
              "      <td>1</td>\n",
              "    </tr>\n",
              "    <tr>\n",
              "      <th>9</th>\n",
              "      <td>full code universal precautions allergy hepari...</td>\n",
              "      <td>1</td>\n",
              "    </tr>\n",
              "    <tr>\n",
              "      <th>10</th>\n",
              "      <td>full code universal precautions allergy hepari...</td>\n",
              "      <td>1</td>\n",
              "    </tr>\n",
              "    <tr>\n",
              "      <th>11</th>\n",
              "      <td>full code universal precautions allergy hepari...</td>\n",
              "      <td>1</td>\n",
              "    </tr>\n",
              "  </tbody>\n",
              "</table>\n",
              "</div>\n",
              "    <div class=\"colab-df-buttons\">\n",
              "\n",
              "  <div class=\"colab-df-container\">\n",
              "    <button class=\"colab-df-convert\" onclick=\"convertToInteractive('df-1bef69b1-c2a0-4dd6-a910-c2d9b2e99de1')\"\n",
              "            title=\"Convert this dataframe to an interactive table.\"\n",
              "            style=\"display:none;\">\n",
              "\n",
              "  <svg xmlns=\"http://www.w3.org/2000/svg\" height=\"24px\" viewBox=\"0 -960 960 960\">\n",
              "    <path d=\"M120-120v-720h720v720H120Zm60-500h600v-160H180v160Zm220 220h160v-160H400v160Zm0 220h160v-160H400v160ZM180-400h160v-160H180v160Zm440 0h160v-160H620v160ZM180-180h160v-160H180v160Zm440 0h160v-160H620v160Z\"/>\n",
              "  </svg>\n",
              "    </button>\n",
              "\n",
              "  <style>\n",
              "    .colab-df-container {\n",
              "      display:flex;\n",
              "      gap: 12px;\n",
              "    }\n",
              "\n",
              "    .colab-df-convert {\n",
              "      background-color: #E8F0FE;\n",
              "      border: none;\n",
              "      border-radius: 50%;\n",
              "      cursor: pointer;\n",
              "      display: none;\n",
              "      fill: #1967D2;\n",
              "      height: 32px;\n",
              "      padding: 0 0 0 0;\n",
              "      width: 32px;\n",
              "    }\n",
              "\n",
              "    .colab-df-convert:hover {\n",
              "      background-color: #E2EBFA;\n",
              "      box-shadow: 0px 1px 2px rgba(60, 64, 67, 0.3), 0px 1px 3px 1px rgba(60, 64, 67, 0.15);\n",
              "      fill: #174EA6;\n",
              "    }\n",
              "\n",
              "    .colab-df-buttons div {\n",
              "      margin-bottom: 4px;\n",
              "    }\n",
              "\n",
              "    [theme=dark] .colab-df-convert {\n",
              "      background-color: #3B4455;\n",
              "      fill: #D2E3FC;\n",
              "    }\n",
              "\n",
              "    [theme=dark] .colab-df-convert:hover {\n",
              "      background-color: #434B5C;\n",
              "      box-shadow: 0px 1px 3px 1px rgba(0, 0, 0, 0.15);\n",
              "      filter: drop-shadow(0px 1px 2px rgba(0, 0, 0, 0.3));\n",
              "      fill: #FFFFFF;\n",
              "    }\n",
              "  </style>\n",
              "\n",
              "    <script>\n",
              "      const buttonEl =\n",
              "        document.querySelector('#df-1bef69b1-c2a0-4dd6-a910-c2d9b2e99de1 button.colab-df-convert');\n",
              "      buttonEl.style.display =\n",
              "        google.colab.kernel.accessAllowed ? 'block' : 'none';\n",
              "\n",
              "      async function convertToInteractive(key) {\n",
              "        const element = document.querySelector('#df-1bef69b1-c2a0-4dd6-a910-c2d9b2e99de1');\n",
              "        const dataTable =\n",
              "          await google.colab.kernel.invokeFunction('convertToInteractive',\n",
              "                                                    [key], {});\n",
              "        if (!dataTable) return;\n",
              "\n",
              "        const docLinkHtml = 'Like what you see? Visit the ' +\n",
              "          '<a target=\"_blank\" href=https://colab.research.google.com/notebooks/data_table.ipynb>data table notebook</a>'\n",
              "          + ' to learn more about interactive tables.';\n",
              "        element.innerHTML = '';\n",
              "        dataTable['output_type'] = 'display_data';\n",
              "        await google.colab.output.renderOutput(dataTable, element);\n",
              "        const docLink = document.createElement('div');\n",
              "        docLink.innerHTML = docLinkHtml;\n",
              "        element.appendChild(docLink);\n",
              "      }\n",
              "    </script>\n",
              "  </div>\n",
              "\n",
              "\n",
              "<div id=\"df-c4c7efd2-ef85-4770-99ac-d0516df6faca\">\n",
              "  <button class=\"colab-df-quickchart\" onclick=\"quickchart('df-c4c7efd2-ef85-4770-99ac-d0516df6faca')\"\n",
              "            title=\"Suggest charts\"\n",
              "            style=\"display:none;\">\n",
              "\n",
              "<svg xmlns=\"http://www.w3.org/2000/svg\" height=\"24px\"viewBox=\"0 0 24 24\"\n",
              "     width=\"24px\">\n",
              "    <g>\n",
              "        <path d=\"M19 3H5c-1.1 0-2 .9-2 2v14c0 1.1.9 2 2 2h14c1.1 0 2-.9 2-2V5c0-1.1-.9-2-2-2zM9 17H7v-7h2v7zm4 0h-2V7h2v10zm4 0h-2v-4h2v4z\"/>\n",
              "    </g>\n",
              "</svg>\n",
              "  </button>\n",
              "\n",
              "<style>\n",
              "  .colab-df-quickchart {\n",
              "      --bg-color: #E8F0FE;\n",
              "      --fill-color: #1967D2;\n",
              "      --hover-bg-color: #E2EBFA;\n",
              "      --hover-fill-color: #174EA6;\n",
              "      --disabled-fill-color: #AAA;\n",
              "      --disabled-bg-color: #DDD;\n",
              "  }\n",
              "\n",
              "  [theme=dark] .colab-df-quickchart {\n",
              "      --bg-color: #3B4455;\n",
              "      --fill-color: #D2E3FC;\n",
              "      --hover-bg-color: #434B5C;\n",
              "      --hover-fill-color: #FFFFFF;\n",
              "      --disabled-bg-color: #3B4455;\n",
              "      --disabled-fill-color: #666;\n",
              "  }\n",
              "\n",
              "  .colab-df-quickchart {\n",
              "    background-color: var(--bg-color);\n",
              "    border: none;\n",
              "    border-radius: 50%;\n",
              "    cursor: pointer;\n",
              "    display: none;\n",
              "    fill: var(--fill-color);\n",
              "    height: 32px;\n",
              "    padding: 0;\n",
              "    width: 32px;\n",
              "  }\n",
              "\n",
              "  .colab-df-quickchart:hover {\n",
              "    background-color: var(--hover-bg-color);\n",
              "    box-shadow: 0 1px 2px rgba(60, 64, 67, 0.3), 0 1px 3px 1px rgba(60, 64, 67, 0.15);\n",
              "    fill: var(--button-hover-fill-color);\n",
              "  }\n",
              "\n",
              "  .colab-df-quickchart-complete:disabled,\n",
              "  .colab-df-quickchart-complete:disabled:hover {\n",
              "    background-color: var(--disabled-bg-color);\n",
              "    fill: var(--disabled-fill-color);\n",
              "    box-shadow: none;\n",
              "  }\n",
              "\n",
              "  .colab-df-spinner {\n",
              "    border: 2px solid var(--fill-color);\n",
              "    border-color: transparent;\n",
              "    border-bottom-color: var(--fill-color);\n",
              "    animation:\n",
              "      spin 1s steps(1) infinite;\n",
              "  }\n",
              "\n",
              "  @keyframes spin {\n",
              "    0% {\n",
              "      border-color: transparent;\n",
              "      border-bottom-color: var(--fill-color);\n",
              "      border-left-color: var(--fill-color);\n",
              "    }\n",
              "    20% {\n",
              "      border-color: transparent;\n",
              "      border-left-color: var(--fill-color);\n",
              "      border-top-color: var(--fill-color);\n",
              "    }\n",
              "    30% {\n",
              "      border-color: transparent;\n",
              "      border-left-color: var(--fill-color);\n",
              "      border-top-color: var(--fill-color);\n",
              "      border-right-color: var(--fill-color);\n",
              "    }\n",
              "    40% {\n",
              "      border-color: transparent;\n",
              "      border-right-color: var(--fill-color);\n",
              "      border-top-color: var(--fill-color);\n",
              "    }\n",
              "    60% {\n",
              "      border-color: transparent;\n",
              "      border-right-color: var(--fill-color);\n",
              "    }\n",
              "    80% {\n",
              "      border-color: transparent;\n",
              "      border-right-color: var(--fill-color);\n",
              "      border-bottom-color: var(--fill-color);\n",
              "    }\n",
              "    90% {\n",
              "      border-color: transparent;\n",
              "      border-bottom-color: var(--fill-color);\n",
              "    }\n",
              "  }\n",
              "</style>\n",
              "\n",
              "  <script>\n",
              "    async function quickchart(key) {\n",
              "      const quickchartButtonEl =\n",
              "        document.querySelector('#' + key + ' button');\n",
              "      quickchartButtonEl.disabled = true;  // To prevent multiple clicks.\n",
              "      quickchartButtonEl.classList.add('colab-df-spinner');\n",
              "      try {\n",
              "        const charts = await google.colab.kernel.invokeFunction(\n",
              "            'suggestCharts', [key], {});\n",
              "      } catch (error) {\n",
              "        console.error('Error during call to suggestCharts:', error);\n",
              "      }\n",
              "      quickchartButtonEl.classList.remove('colab-df-spinner');\n",
              "      quickchartButtonEl.classList.add('colab-df-quickchart-complete');\n",
              "    }\n",
              "    (() => {\n",
              "      let quickchartButtonEl =\n",
              "        document.querySelector('#df-c4c7efd2-ef85-4770-99ac-d0516df6faca button');\n",
              "      quickchartButtonEl.style.display =\n",
              "        google.colab.kernel.accessAllowed ? 'block' : 'none';\n",
              "    })();\n",
              "  </script>\n",
              "</div>\n",
              "\n",
              "    </div>\n",
              "  </div>\n"
            ],
            "application/vnd.google.colaboratory.intrinsic+json": {
              "type": "dataframe",
              "summary": "{\n  \"name\": \"clinical_data_predicted[['CLEAN_TEXT', 'Readmission_Prediction']]\",\n  \"rows\": 5,\n  \"fields\": [\n    {\n      \"column\": \"CLEAN_TEXT\",\n      \"properties\": {\n        \"dtype\": \"category\",\n        \"num_unique_values\": 1,\n        \"samples\": [\n          \"full code universal precautions allergy heparin hit yrold female adm ecf w feverchills recently dcd days management abd pain fever suspected peritonitis presented er w feverchills dialysis treatment today er oral lactate placed must protocol mds unable place sepsis cath several attempts even us piv r chest dialysis cath received ceftriaxone vanco flagyl er hr bp tylenol last lactate prior adm micu pmh hit niddm esrd dialysis week pd diverticulitis gib bleeding ulcers chf htn gout anemia aortic insufficiency ef afib mental status changes cdif colitis laminectomy csection cholecystectomy\"\n        ],\n        \"semantic_type\": \"\",\n        \"description\": \"\"\n      }\n    },\n    {\n      \"column\": \"Readmission_Prediction\",\n      \"properties\": {\n        \"dtype\": \"number\",\n        \"std\": 0,\n        \"min\": 1,\n        \"max\": 1,\n        \"num_unique_values\": 1,\n        \"samples\": [\n          1\n        ],\n        \"semantic_type\": \"\",\n        \"description\": \"\"\n      }\n    }\n  ]\n}"
            }
          },
          "metadata": {},
          "execution_count": 31
        }
      ],
      "source": [
        "\n",
        "# Check the predictions\n",
        "clinical_data_predicted[['CLEAN_TEXT', 'Readmission_Prediction']].head(5)\n"
      ]
    },
    {
      "cell_type": "markdown",
      "metadata": {
        "id": "uC7iDOA8oiNM"
      },
      "source": [
        "CLEAN_TEXT:\n",
        "\n",
        "This column contains processed or \"cleaned\" text data, typically derived from clinical notes or medical records. The text \"cleaning\" process might involve removing unnecessary characters, correcting typos, standardizing terminology, and other preprocessing steps to make the text more suitable for analysis.\n",
        "Example entries like “addmit note neuro alert oriented x neuro defic...” suggest these are snippets of admission notes from a healthcare setting, detailing patient assessments or conditions.\n",
        "Readmission_Prediction:\n",
        "\n",
        "This column likely represents a binary classification target variable with values 0 or 1, where 1 could indicate that a patient was readmitted, and 0 might signify that there was no readmission.\n",
        "The presence of multiple 1 values corresponding to texts starting with \"smicu nsg admission note women recently dx non...\" indicates that these notes are associated with cases of patient readmission.\n",
        "\n",
        "This output represents a prepared dataset ready for use in a predictive modeling task, specifically aimed at predicting patient readmissions from clinical text notes. The data setup is crucial for developing AI tools in healthcare, which can lead to better patient outcomes and more efficient healthcare services."
      ]
    },
    {
      "cell_type": "markdown",
      "metadata": {
        "id": "bI5dogbnpEV-"
      },
      "source": [
        "We are saving this file for our future reference to explain the results even more better with the names of cinical_data_predicted.pkl and clinical_data_predicted_csv files in both the formats."
      ]
    },
    {
      "cell_type": "code",
      "execution_count": 53,
      "metadata": {
        "id": "55dzg-bCO0nV",
        "colab": {
          "base_uri": "https://localhost:8080/",
          "height": 452
        },
        "outputId": "341f2d54-8fed-46d9-be98-522dfa7e5d10"
      },
      "outputs": [
        {
          "output_type": "display_data",
          "data": {
            "text/plain": [
              "<Figure size 640x480 with 1 Axes>"
            ],
            "image/png": "[encoded data removed]"
          },
          "metadata": {}
        }
      ],
      "source": [
        "from matplotlib import pyplot as plt\n",
        "clinical_data_predicted['Readmission_Prediction'].plot(kind='hist', bins=20, title='Readmission_Prediction')\n",
        "plt.gca().spines[['top', 'right',]].set_visible(False)"
      ]
    },
    {
      "cell_type": "code",
      "execution_count": 54,
      "metadata": {
        "id": "avgPjrizpEV_",
        "colab": {
          "base_uri": "https://localhost:8080/"
        },
        "outputId": "0747d120-a39c-45d8-dc8a-d1aa37726d1e"
      },
      "outputs": [
        {
          "output_type": "stream",
          "name": "stdout",
          "text": [
            "Readmission_Prediction\n",
            "0    27980\n",
            "1    13309\n",
            "Name: count, dtype: int64\n"
          ]
        }
      ],
      "source": [
        "# This will show the counts of each unique value in the 'Readmission_Prediction' column\n",
        "value_counts = clinical_data_predicted['Readmission_Prediction'].value_counts()\n",
        "print(value_counts)\n"
      ]
    },
    {
      "cell_type": "markdown",
      "metadata": {
        "id": "y1JTokKSpEV_"
      },
      "source": [
        "The histogram we've shown represents the frequency distribution of predictions for readmission, classified into two categories: 0.0 (no readmission) and 1.0 (readmission). Here are some key observations:\n",
        "\n",
        "Imbalance in Predictions: The majority of the predictions fall into the 0.0 category, indicating that the model predicts \"no readmission\" for most of the instances. The category 1.0 has significantly fewer counts, suggesting that \"readmission\" is predicted less frequently.\n",
        "\n",
        "Potential Class Imbalance: If these predictions reflect the actual underlying class distribution, this could indicate a class imbalance in our dataset. Models can sometimes be biased towards the majority class, which in this case appears to be the 0.0 category.\n",
        "\n",
        "Model Performance Considerations: When dealing with imbalanced classes, standard accuracy might not be the best metric to evaluate model performance. Metrics like Precision, Recall, F1-score, and especially AUC-ROC become crucial to understand how well the model performs across both classes.\n",
        "\n",
        "Need for Model Calibration: If the model's threshold for predicting 1.0 is too conservative, it might be useful to adjust the classification threshold or employ techniques like SMOTE for oversampling the minority class during training, or adjusting class weights to make the model more sensitive to the minority class."
      ]
    },
    {
      "cell_type": "code",
      "execution_count": 32,
      "metadata": {
        "id": "d7Tqb7oJpEV_"
      },
      "outputs": [],
      "source": [
        "train_labels = clinical_data_predicted['Readmission_Prediction'].values"
      ]
    },
    {
      "cell_type": "code",
      "source": [
        "device = torch.device(\"cuda\" if torch.cuda.is_available() else \"cpu\")\n",
        "model = model_biobert.to(device)\n"
      ],
      "metadata": {
        "id": "jcXveqKMBl1m"
      },
      "execution_count": 37,
      "outputs": []
    },
    {
      "cell_type": "code",
      "execution_count": 38,
      "metadata": {
        "id": "X7guW6YTpEV_"
      },
      "outputs": [],
      "source": [
        "from sklearn.metrics import roc_auc_score, f1_score, precision_score, recall_score, confusion_matrix, accuracy_score\n",
        "\n",
        "def evaluate_model(y_true, y_pred, y_proba):\n",
        "    # Calculate necessary metrics\n",
        "    acc = accuracy_score(y_true, y_pred)\n",
        "    auc_roc = roc_auc_score(y_true, y_proba)\n",
        "    f1 = f1_score(y_true, y_pred)\n",
        "    precision = precision_score(y_true, y_pred)\n",
        "    recall = recall_score(y_true, y_pred)\n",
        "    conf_matrix = confusion_matrix(y_true, y_pred)\n",
        "\n",
        "    print(f\"Accuracy: {acc:.4f}\")\n",
        "    print(f\"AUC-ROC: {auc_roc:.4f}\")\n",
        "    print(f\"F1 Score: {f1:.4f}\")\n",
        "    print(f\"Precision: {precision:.4f}\")\n",
        "    print(f\"Recall: {recall:.4f}\")\n",
        "    print(\"Confusion Matrix:\")\n",
        "    print(conf_matrix)\n"
      ]
    },
    {
      "cell_type": "code",
      "execution_count": 39,
      "metadata": {
        "id": "IspySwSTpEV_"
      },
      "outputs": [],
      "source": [
        "from sklearn.utils.class_weight import compute_class_weight\n",
        "import torch.nn as nn\n",
        "\n",
        "# Calculate class weights\n",
        "class_weights = compute_class_weight('balanced', classes=[0, 1], y=train_labels)\n",
        "class_weights = torch.tensor(class_weights, dtype=torch.float)\n",
        "\n",
        "criterion = nn.CrossEntropyLoss(weight=class_weights.to(device))\n"
      ]
    },
    {
      "cell_type": "code",
      "execution_count": 42,
      "metadata": {
        "id": "BKLnWF2epEV_"
      },
      "outputs": [],
      "source": [
        "from torch.utils.data import DataLoader, TensorDataset\n",
        "from datasets import Dataset\n",
        "\n",
        "data = clinical_data_predicted.drop(columns=['CHARTDATE', 'CHARTTIME', 'STORETIME'])  # Drop date-time columns\n",
        "\n",
        "class CustomDataset(Dataset):\n",
        "    def __init__(self, dataframe):\n",
        "        self.dataframe = dataframe.drop(columns=['CHARTDATE', 'CHARTTIME', 'STORETIME'])\n",
        "\n",
        "    def __len__(self):\n",
        "        return len(self.dataframe)\n",
        "\n",
        "    def __getitem__(self, idx):\n",
        "        x = torch.tensor(self.dataframe.iloc[idx, :-1].values, dtype=torch.float32)  # Assuming last column is label\n",
        "        y = torch.tensor(self.dataframe.iloc[idx, -1], dtype=torch.long)\n",
        "        return x, y\n"
      ]
    },
    {
      "cell_type": "code",
      "execution_count": 77,
      "metadata": {
        "id": "oG0Gy0RVpEV_"
      },
      "outputs": [],
      "source": [
        "import torch\n",
        "import torch.nn.functional as F\n",
        "def predict(model, data_loader, device):\n",
        "    model.eval()  # Set the model to evaluation mode\n",
        "    true_labels = []\n",
        "    predictions = []\n",
        "    probabilities = []\n",
        "\n",
        "    with torch.no_grad():  # Disable gradient calculation for inference\n",
        "        for batch in data_loader:\n",
        "            # Unpack the batch (assuming DataLoader returns input_ids, attention_mask, labels)\n",
        "            input_ids, attention_mask, labels = batch\n",
        "\n",
        "            # Move inputs to the device (GPU or CPU)\n",
        "            input_ids = input_ids.to(device)\n",
        "            attention_mask = attention_mask.to(device)\n",
        "            labels = labels.to(device)\n",
        "\n",
        "            # Get model predictions\n",
        "            outputs = model(input_ids=input_ids, attention_mask=attention_mask)\n",
        "\n",
        "            # Apply softmax to get class probabilities\n",
        "            probs = torch.nn.functional.softmax(outputs.logits, dim=1)\n",
        "            pred = torch.argmax(probs, dim=1)\n",
        "\n",
        "            # Store true labels, predictions, and probabilities\n",
        "            true_labels.extend(labels.cpu().numpy())\n",
        "            predictions.extend(pred.cpu().numpy())\n",
        "            probabilities.extend(probs.cpu().numpy())\n",
        "\n",
        "    return true_labels, predictions, probabilities\n",
        "\n",
        "\n"
      ]
    },
    {
      "cell_type": "code",
      "source": [
        "import numpy as np\n",
        "\n",
        "# Convert boolean columns to integers (True -> 1, False -> 0)\n",
        "data_numeric = data.copy()\n",
        "\n",
        "# Assuming boolean columns are automatically recognized\n",
        "data_numeric = data_numeric.astype({col: 'int' for col in data_numeric.select_dtypes('bool').columns})\n",
        "data_encoded = pd.get_dummies(data, columns=['ICD9_CODE', 'CATEGORY', 'DESCRIPTION'])\n",
        "print(data_encoded.dtypes)  # Check the data types of all columns\n",
        "# Drop columns that are non-numeric and not needed\n",
        "data_numeric = data_encoded.select_dtypes(include=[np.number])  # Keep only numeric columns\n",
        "import torch\n",
        "\n",
        "# Convert the DataFrame to a tensor (after ensuring it's numeric)\n",
        "data_tensor = torch.tensor(data_numeric.values, dtype=torch.float32)\n",
        "\n",
        "print(data_tensor)"
      ],
      "metadata": {
        "colab": {
          "base_uri": "https://localhost:8080/"
        },
        "id": "Wlw41L8YEokF",
        "outputId": "2667677d-c569-4275-fea5-aba4f138d18e"
      },
      "execution_count": 72,
      "outputs": [
        {
          "output_type": "stream",
          "name": "stdout",
          "text": [
            "row_id_x                   int64\n",
            "SUBJECT_ID                object\n",
            "HADM_ID                   object\n",
            "seq_num_x                  int64\n",
            "ROW_ID                    object\n",
            "                           ...  \n",
            "ICD9_CODE_V5413             bool\n",
            "ICD9_CODE_V5861             bool\n",
            "ICD9_CODE_V5867             bool\n",
            "CATEGORY_Nursing/other      bool\n",
            "DESCRIPTION_Report          bool\n",
            "Length: 279, dtype: object\n",
            "tensor([[1.1234e+05, 1.0000e+00, 9.1200e+02,  ..., 9.7490e+03, 8.9000e+01,\n",
            "         1.0000e+00],\n",
            "        [1.1234e+05, 1.0000e+00, 9.1200e+02,  ..., 5.4910e+03, 8.9000e+01,\n",
            "         1.0000e+00],\n",
            "        [1.1234e+05, 1.0000e+00, 9.1200e+02,  ..., 3.8950e+03, 8.9000e+01,\n",
            "         1.0000e+00],\n",
            "        ...,\n",
            "        [1.1352e+05, 9.0000e+00, 1.1550e+03,  ..., 3.3240e+03, 1.3300e+02,\n",
            "         0.0000e+00],\n",
            "        [1.1352e+05, 9.0000e+00, 1.1550e+03,  ..., 3.4910e+03, 1.3300e+02,\n",
            "         0.0000e+00],\n",
            "        [1.1352e+05, 9.0000e+00, 1.1550e+03,  ..., 9.9290e+03, 1.3300e+02,\n",
            "         0.0000e+00]])\n"
          ]
        }
      ]
    },
    {
      "cell_type": "code",
      "source": [
        "print(data.dtypes)  # Check the data types of each column\n"
      ],
      "metadata": {
        "colab": {
          "base_uri": "https://localhost:8080/"
        },
        "id": "oSgB_NOLC4Go",
        "outputId": "77f7978f-e489-4a56-cdd6-28c58bc6ddae"
      },
      "execution_count": 47,
      "outputs": [
        {
          "output_type": "stream",
          "name": "stdout",
          "text": [
            "row_id_x                   int64\n",
            "SUBJECT_ID                object\n",
            "HADM_ID                   object\n",
            "seq_num_x                  int64\n",
            "ICD9_CODE                 object\n",
            "ROW_ID                    object\n",
            "CATEGORY                  object\n",
            "DESCRIPTION               object\n",
            "CGID                      object\n",
            "TEXT                      object\n",
            "TEXT_LENGTH                int64\n",
            "CLEAN_TEXT                object\n",
            "icd9_code_x               object\n",
            "long_title                object\n",
            "row_id_y                   int64\n",
            "seq_num_y                  int64\n",
            "icd9_code_y                int64\n",
            "text_length                int64\n",
            "Readmission_Prediction     int64\n",
            "dtype: object\n"
          ]
        }
      ]
    },
    {
      "cell_type": "code",
      "source": [
        "def predict(model, data_loader, device):\n",
        "    model.eval()  # Set the model to evaluation mode\n",
        "    true_labels = []\n",
        "    predictions = []\n",
        "    probabilities = []\n",
        "\n",
        "    with torch.no_grad():  # Disable gradient calculation for inference\n",
        "        for batch in data_loader:\n",
        "            # Unpack the batch (adjust this based on the structure of your data)\n",
        "            features = batch[:, :-1]  # Extract the features from the batch\n",
        "            labels = batch[:, -1]     # Extract the labels from the batch\n",
        "\n",
        "            # Ensure features are long tensor (if required by the model)\n",
        "            features = features.to(torch.long).to(device)\n",
        "            labels = labels.to(device)\n",
        "\n",
        "            # Access the underlying embeddings from the BertModel\n",
        "            num_embeddings = model.bert.embeddings.word_embeddings.num_embeddings\n",
        "\n",
        "            # Clip the indices to ensure they are within the embedding layer range\n",
        "            features = features.clamp(0, num_embeddings - 1).to(device)\n",
        "\n",
        "            # Get model predictions\n",
        "            outputs = model(features)\n",
        "\n",
        "            # Apply softmax to get class probabilities (for classification)\n",
        "            probs = torch.nn.functional.softmax(outputs.logits, dim=1)\n",
        "            pred = torch.argmax(probs, dim=1)\n",
        "\n",
        "            # Store true labels, predictions, and probabilities\n",
        "            true_labels.extend(labels.cpu().numpy())\n",
        "            predictions.extend(pred.cpu().numpy())\n",
        "            probabilities.extend(probs.cpu().numpy())\n",
        "\n",
        "    return true_labels, predictions, probabilities"
      ],
      "metadata": {
        "id": "0yU3Ck9NHAwz"
      },
      "execution_count": 92,
      "outputs": []
    },
    {
      "cell_type": "markdown",
      "source": [],
      "metadata": {
        "id": "ZW36uO25DlRz"
      }
    },
    {
      "cell_type": "code",
      "execution_count": 93,
      "metadata": {
        "id": "YPVceLtjpEWA"
      },
      "outputs": [],
      "source": [
        "device = torch.device(\"cuda\" if torch.cuda.is_available() else \"cpu\")\n",
        "model = model_biobert.to(device)\n",
        "data_loader = DataLoader(data, batch_size=32, shuffle=True)\n",
        "\n",
        "# Call the predict function\n",
        "true_labels, predictions, probabilities = predict(model, data_loader, device)\n"
      ]
    },
    {
      "cell_type": "code",
      "execution_count": 95,
      "metadata": {
        "id": "2_GYFTQ3pEWA",
        "colab": {
          "base_uri": "https://localhost:8080/"
        },
        "outputId": "2815e3a3-02be-4066-c6c6-e693efbcfae4"
      },
      "outputs": [
        {
          "output_type": "stream",
          "name": "stdout",
          "text": [
            "Accuracy: 0.1631\n",
            "AUC-ROC: 0.5115\n",
            "F1 Score: 0.2783\n",
            "Precision: 0.1616\n",
            "Recall: 0.9997\n",
            "Confusion Matrix:\n",
            "[[   69 34167]\n",
            " [    2  6588]]\n"
          ]
        }
      ],
      "source": [
        "# For binary classification, extract probabilities for the positive class (class 1)\n",
        "prob_positive_class = [proba[1] for proba in probabilities]\n",
        "\n",
        "# Call the evaluation function\n",
        "evaluate_model(true_labels, predictions, prob_positive_class)\n"
      ]
    },
    {
      "cell_type": "markdown",
      "source": [
        "1. Accuracy: 0.1631\n",
        "Definition: Accuracy is the ratio of correctly predicted instances to the total number of instances.\n",
        "Interpretation: An accuracy of 16.31% means that the model is only correct about 16% of the time. This is a very low accuracy, indicating that the model struggles to make correct predictions.\n",
        "2. AUC-ROC: 0.5115\n",
        "Definition: AUC-ROC (Area Under the Receiver Operating Characteristic Curve) measures the ability of the model to distinguish between classes. It ranges from 0 to 1, where 1 is perfect and 0.5 means random guessing.\n",
        "Interpretation: An AUC-ROC of 0.5115 suggests that the model's performance is only slightly better than random guessing, which is not good. This indicates poor discrimination between positive and negative classes.\n",
        "3. F1 Score: 0.2783\n",
        "Definition: The F1 Score is the harmonic mean of precision and recall. It provides a balance between precision and recall, especially when you have an imbalanced dataset.\n",
        "Interpretation: An F1 score of 0.2783 is quite low. It suggests that the model is not achieving a good balance between precision and recall, especially for the positive class.\n",
        "4. Precision: 0.1616\n",
        "Definition: Precision is the ratio of true positives (correctly predicted positives) to the total predicted positives (true positives + false positives).\n",
        "Interpretation: A precision of 16.16% means that only 16% of the instances predicted as positive are actually correct. The model is predicting a lot of false positives, which indicates poor performance in identifying the true positives accurately.\n",
        "5. Recall: 0.9997\n",
        "Definition: Recall is the ratio of true positives to the total actual positives (true positives + false negatives).\n",
        "Interpretation: A recall of 99.97% means that the model is identifying almost all actual positive instances correctly. However, this is misleading when paired with low precision—it indicates that the model is predicting nearly everything as positive, resulting in a high recall but very low precision.\n",
        "6. Confusion Matrix:\n",
        "Confusion Matrix Structure:\n",
        "lua\n",
        "Copy code\n",
        "[[   69 34167]  -> Negative class (0): 69 true negatives, 34,167 false positives\n",
        " [    2  6588]] -> Positive class (1): 2 false negatives, 6,588 true positives\n",
        "Interpretation:\n",
        "True Negatives (69): The model correctly predicted 69 instances as negative (class 0).\n",
        "False Positives (34,167): The model incorrectly predicted 34,167 instances as positive when they are actually negative. This is extremely high, which is the reason for the low precision.\n",
        "False Negatives (2): The model incorrectly predicted only 2 instances as negative when they were actually positive. This is why the recall is so high.\n",
        "True Positives (6,588): The model correctly predicted 6,588 instances as positive (class 1).\n",
        "Summary:\n",
        "Very High Recall but Extremely Low Precision: The model is predicting almost everything as positive (class 1), which is why it has very high recall but very poor precision. The large number of false positives indicates that the model is not distinguishing well between the two classes.\n",
        "Low Accuracy and AUC-ROC: The model is not performing well overall, as indicated by the low accuracy (16.31%) and AUC-ROC (0.5115), which suggests that the model is nearly random in its predictions."
      ],
      "metadata": {
        "id": "5hB6NboZMzWl"
      }
    },
    {
      "cell_type": "code",
      "execution_count": 100,
      "metadata": {
        "id": "bAghyZlxeid6"
      },
      "outputs": [],
      "source": [
        "from imblearn.over_sampling import SMOTE\n",
        "from sklearn.model_selection import train_test_split\n",
        "\n",
        "# Assuming 'X_train' is our feature matrix and 'y_train' are the labels\n",
        "smote = SMOTE(random_state=42)\n",
        "X_resampled, y_resampled = smote.fit_resample(X_train, y_train)\n",
        "\n",
        "# Split the resampled data into train/test sets again\n",
        "X_train_balanced, X_test_balanced, y_train_balanced, y_test_balanced = train_test_split(X_resampled, y_resampled, test_size=0.2, random_state=42)\n"
      ]
    },
    {
      "cell_type": "code",
      "execution_count": 101,
      "metadata": {
        "id": "S0fIt_GUeid6"
      },
      "outputs": [],
      "source": [
        "from imblearn.under_sampling import RandomUnderSampler\n",
        "\n",
        "# Undersample the majority class\n",
        "rus = RandomUnderSampler(random_state=42)\n",
        "X_resampled, y_resampled = rus.fit_resample(X_train, y_train)\n"
      ]
    },
    {
      "cell_type": "code",
      "execution_count": 102,
      "metadata": {
        "id": "1M_BjPjIeid6"
      },
      "outputs": [],
      "source": [
        "import torch\n",
        "from torch.nn import CrossEntropyLoss\n",
        "\n",
        "# Calculate class weights (adjust the values based on the class imbalance)\n",
        "class_weights = torch.tensor([0.1, 0.9]).to(device)  # we can adjust these values based on our dataset\n",
        "\n",
        "# Define the loss function with class weights\n",
        "loss_fn = torch.nn.CrossEntropyLoss(weight=class_weights)\n",
        "\n"
      ]
    },
    {
      "cell_type": "code",
      "execution_count": 114,
      "metadata": {
        "id": "zuNzqza9eid6"
      },
      "outputs": [],
      "source": [
        "class WeightedTrainer(Trainer):\n",
        "    def compute_loss(self, model, inputs, return_outputs=False):\n",
        "        labels = inputs.get(\"labels\")\n",
        "        # Move class_weights to the device the model is using\n",
        "        class_weights = torch.tensor([0.1, 0.9]).to(model.device)\n",
        "        loss_fn = CrossEntropyLoss(weight=class_weights)\n",
        "\n",
        "        outputs = model(**inputs)\n",
        "        logits = outputs.get(\"logits\")\n",
        "        loss = loss_fn(logits, labels)\n",
        "\n",
        "        return (loss, outputs) if return_outputs else loss\n",
        "\n",
        "# Define training arguments\n",
        "training_args_biobert = TrainingArguments(\n",
        "    output_dir=path_to_file + '/results_biobert',\n",
        "    num_train_epochs=3,\n",
        "    per_device_train_batch_size=4,  # Reduce batch size\n",
        "    per_device_eval_batch_size=8,   # Reduce eval batch size\n",
        "    eval_strategy=\"steps\",  # Use eval_strategy instead of evaluation_strategy\n",
        "    save_strategy=\"steps\",\n",
        "    save_steps=50,\n",
        "    eval_steps=50,\n",
        "    load_best_model_at_end=True,\n",
        "    warmup_steps=500,\n",
        "    weight_decay=0.01,\n",
        "    logging_steps=10,\n",
        "    fp16=True  # Keep fp16 for mixed precision training\n",
        ")\n",
        "\n",
        "trainer_biobert = WeightedTrainer(\n",
        "    model=model_biobert,\n",
        "    args=training_args_biobert,\n",
        "    train_dataset=train_dataset_biobert,\n",
        "    eval_dataset=test_dataset_biobert,\n",
        "    data_collator=data_collator_biobert,\n",
        "    compute_metrics=compute_metrics\n",
        ")\n"
      ]
    },
    {
      "cell_type": "code",
      "execution_count": null,
      "metadata": {
        "id": "BDz4MX6YpEWA"
      },
      "outputs": [],
      "source": [
        "import torch\n",
        "from torch.nn.functional import softmax\n",
        "from sklearn.metrics import roc_auc_score\n",
        "from torch.utils.data import DataLoader, TensorDataset\n",
        "\n",
        "y_true = clinical_data_predicted['LABEL'].tolist()  # Extract true labels\n",
        "# Tokenize the entire dataset\n",
        "inputs = tokenizer_biobert(clinical_data_predicted['CLEAN_TEXT'].tolist(),\n",
        "                           return_tensors=\"pt\",\n",
        "                           truncation=True,\n",
        "                           padding=True,\n",
        "                           max_length=128)\n",
        "\n",
        "# Ensure inputs are on the same device as the model\n",
        "device = torch.device(\"cuda\" if torch.cuda.is_available() else \"cpu\")\n",
        "inputs = inputs.to(device)\n",
        "\n",
        "# Create a DataLoader to handle batching\n",
        "dataset = TensorDataset(inputs['input_ids'], inputs['attention_mask'])\n",
        "dataloader = DataLoader(dataset, batch_size=32)  # Adjust batch_size as needed\n",
        "\n",
        "# Set the model to evaluation mode and move it to the device\n",
        "model_biobert.eval()\n",
        "model_biobert.to(device)\n",
        "\n",
        "y_pred_proba = []\n",
        "\n",
        "# Get predictions from the model in batches\n",
        "with torch.no_grad():\n",
        "    for batch in dataloader:\n",
        "        input_ids, attention_mask = batch\n",
        "        # Move batch to the same device as the model\n",
        "        input_ids = input_ids.to(device)\n",
        "        attention_mask = attention_mask.to(device)\n",
        "\n",
        "        outputs = model_biobert(input_ids=input_ids, attention_mask=attention_mask)\n",
        "        # Convert logits to probabilities for class 1\n",
        "        probabilities = softmax(outputs.logits, dim=-1)[:, 1].cpu().numpy()\n",
        "        y_pred_proba.extend(probabilities)\n",
        "\n",
        "# Ensure the number of predictions matches the number of true labels\n",
        "assert len(y_true) == len(y_pred_proba), \"Mismatch in number of predictions and true labels!\"\n",
        "\n",
        "# Calculate AUC-ROC using true labels and predicted probabilities\n",
        "auc = roc_auc_score(y_true, y_pred_proba)\n",
        "print(f'AUC-ROC: {auc}')"
      ]
    },
    {
      "cell_type": "markdown",
      "metadata": {
        "id": "V5LK7maJpEWA"
      },
      "source": [
        "The AUC-ROC score (Area Under the Receiver Operating Characteristic curve) is a performance measurement used for binary classification models. It reflects the model’s ability to distinguish between the two classes.\n",
        "\n",
        "**Breakdown:**\n",
        "AUC (Area Under the Curve): The area under the ROC curve ranges from 0 to 1. A value closer to 1 indicates better performance. In our case, the AUC of 0.984 suggests that the model is performing very well at distinguishing between the two classes.\n",
        "\n",
        "ROC (Receiver Operating Characteristic) Curve: This curve plots the True Positive Rate (TPR) against the False Positive Rate (FPR) at various classification thresholds. It visualizes how well the model is able to separate the positive and negative classes.\n",
        "\n",
        "**AUC-ROC = 0.984:**\n",
        "This means that our model has a 98.4% probability of correctly distinguishing between a positive class (e.g., patient readmitted) and a negative class (e.g., patient not readmitted).\n",
        "It indicates that the model has a very high level of discrimination between the two classes, with a near-perfect classification performance.\n",
        "In summary, an AUC-ROC of 0.984 suggests that our model is excellent at classifying the instances correctly between the two classes."
      ]
    },
    {
      "cell_type": "markdown",
      "source": [
        "In this code, we are performing batch-wise inference on a test dataset using a pre-trained BioBERT model, with the aim of obtaining predicted probabilities for the positive class (class 1) as well as collecting the true labels for later evaluation.\n",
        "\n",
        "Purpose of the Code:\n",
        "Tokenized Data Input: We start by converting the test dataset (X_test) and its corresponding labels (y_test_tensor) into a PyTorch TensorDataset. The data is then loaded in batches using DataLoader to efficiently manage memory during inference, especially with large datasets.\n",
        "\n",
        "Model Inference: For each batch of data:\n",
        "\n",
        "We decode the tokenized input back into text strings and re-tokenize them using the BioBERT tokenizer to ensure proper formatting, including truncation and padding to a maximum sequence length of 512 tokens.\n",
        "The inputs are passed to the BioBERT model for inference. The model outputs logits, which represent the raw predictions for each class.\n",
        "Predicted Probabilities: We apply the softmax function to the logits to obtain the predicted probabilities for both classes. Specifically, we extract the probability of the positive class (class 1) for each instance in the batch.\n",
        "\n",
        "Store Predictions and Labels: We accumulate the predicted probabilities and the true labels across all batches to later evaluate the model’s performance.\n",
        "\n",
        "Expected Outcome:\n",
        "Predictions: The code will produce a list of predicted probabilities (all_predictions) for each sample in the test dataset, where each value represents the model’s confidence that the sample belongs to class 1 (the positive class).\n",
        "\n",
        "Labels: The true labels (all_labels) for each sample will also be stored for comparison with the predicted probabilities.\n",
        "\n",
        "Objective:\n",
        "By the end of this process, we will have:\n",
        "\n",
        "A list of predicted probabilities (y_pred_proba) for class 1, which can be used to compute metrics such as the ROC-AUC, precision-recall curves, and threshold-based metrics.\n",
        "A list of true labels (y_true), which will be compared to the predicted probabilities to evaluate the model's performance on the test dataset."
      ],
      "metadata": {
        "id": "Wmyyl5BwRt-p"
      }
    },
    {
      "cell_type": "code",
      "execution_count": 117,
      "metadata": {
        "id": "VT8LImbrpEWA",
        "colab": {
          "base_uri": "https://localhost:8080/"
        },
        "outputId": "905af27c-a47d-43b9-b76f-e0d55dbee338"
      },
      "outputs": [
        {
          "output_type": "stream",
          "name": "stderr",
          "text": [
            "<ipython-input-117-2b0014671048>:8: UserWarning: To copy construct from a tensor, it is recommended to use sourceTensor.clone().detach() or sourceTensor.clone().detach().requires_grad_(True), rather than torch.tensor(sourceTensor).\n",
            "  X_test_tensor = torch.tensor(X_test, dtype=torch.long) # Assuming X_test is a list or a NumPy array\n"
          ]
        }
      ],
      "source": [
        "all_predictions = []\n",
        "all_labels = []\n",
        "\n",
        "from torch.utils.data import DataLoader, TensorDataset\n",
        "\n",
        "X_test_tensor = torch.tensor(X_test, dtype=torch.long) # Assuming X_test is a list or a NumPy array\n",
        "#y_test_tensor = y_test_tensor[:5000]# Create TensorDataset and DataLoader\n",
        "test_dataset = TensorDataset(X_test_tensor, y_test_tensor)\n",
        "test_dataloader = DataLoader(test_dataset, batch_size=32)  # we can adjust the batch size\n",
        "\n",
        "# Get the device\n",
        "device = torch.device(\"cuda\" if torch.cuda.is_available() else \"cpu\")\n",
        "\n",
        "for batch in test_dataloader:\n",
        "    # Assuming batch[0] contains tokenized text data, convert it back to strings\n",
        "    # Iterate over each instance in the batch\n",
        "    texts = [tokenizer_biobert.decode(ids.tolist(), skip_special_tokens=True) for ids in batch[0]]\n",
        "    inputs = tokenizer_biobert(texts, return_tensors=\"pt\", truncation=True, padding=True, max_length=512)\n",
        "\n",
        "    # Move inputs to the device\n",
        "    inputs = inputs.to(device)\n",
        "\n",
        "    with torch.no_grad():\n",
        "        # Make sure the model is on the correct device\n",
        "        model_biobert.to(device)\n",
        "        outputs = model_biobert(**inputs)\n",
        "        predictions = torch.nn.functional.softmax(outputs.logits, dim=-1)[:, 1].cpu().numpy()\n",
        "        all_predictions.extend(predictions)\n",
        "        all_labels.extend(batch[1])\n",
        "\n",
        "y_true = np.array(all_labels)\n",
        "y_pred_proba = np.array(all_predictions)"
      ]
    },
    {
      "cell_type": "markdown",
      "source": [
        "This process can be used for:\n",
        "\n",
        "Evaluating Model Performance: We can use the predicted probabilities and true labels to calculate various performance metrics, such as accuracy, precision, recall, F1 score, and AUC-ROC, which are critical for assessing the model’s effectiveness in a real-world task.\n",
        "Threshold Tuning: Since we get predicted probabilities, we can experiment with different decision thresholds for classifying instances as positive (class 1) or negative (class 0), helping to optimize the model for specific business needs or applications."
      ],
      "metadata": {
        "id": "blk1tGnIR2bE"
      }
    },
    {
      "cell_type": "code",
      "source": [
        "# Create a DataFrame with input text, cleaned text, predictions, probabilities, and actual labels\n",
        "df = pd.DataFrame({\n",
        "    #'Input_Text': all_texts,\n",
        "    #'Clean_Text': [clean_text(text) for text in all_texts],  # Assuming you have a clean_text function\n",
        "    'Readmission_Prediction': all_predictions,\n",
        "    #'Predictions': predictions,\n",
        "    #'Actual_Label': all_true_labels\n",
        "})\n",
        "\n",
        "# Save the DataFrame to a CSV file\n",
        "df.to_csv(path_to_file + 'predictions_with_explanations.csv', index=False)"
      ],
      "metadata": {
        "id": "uLFUHXQrkN8I"
      },
      "execution_count": 138,
      "outputs": []
    },
    {
      "cell_type": "code",
      "execution_count": 135,
      "metadata": {
        "id": "RMtRRBi7pEWB"
      },
      "outputs": [],
      "source": [
        "from sklearn.metrics import roc_curve, auc\n",
        "\n",
        "# Assuming `y_pred_proba` is the probability output from the model for the positive class\n",
        "fpr, tpr, thresholds = roc_curve(y_true, y_pred_proba)\n",
        "roc_auc = auc(fpr, tpr)\n",
        "# Finding the optimal threshold\n",
        "optimal_idx = np.argmax(tpr - fpr)\n"
      ]
    },
    {
      "cell_type": "code",
      "execution_count": 119,
      "metadata": {
        "id": "UwKeIcmlpEWB",
        "colab": {
          "base_uri": "https://localhost:8080/",
          "height": 472
        },
        "outputId": "0ad99162-16d8-4c77-a41c-ed3fe7265d77"
      },
      "outputs": [
        {
          "output_type": "display_data",
          "data": {
            "text/plain": [
              "<Figure size 640x480 with 1 Axes>"
            ],
            "image/png": "[encoded data removed]"
          },
          "metadata": {}
        }
      ],
      "source": [
        "import matplotlib.pyplot as plt\n",
        "\n",
        "plt.figure()\n",
        "plt.plot(fpr, tpr, color='darkorange', lw=2, label='ROC curve (area = %0.2f)' % roc_auc)\n",
        "plt.plot([0, 1], [0, 1], color='navy', lw=2, linestyle='--')\n",
        "plt.xlim([0.0, 1.0])\n",
        "plt.ylim([0.0, 1.05])\n",
        "plt.xlabel('False Positive Rate')\n",
        "plt.ylabel('True Positive Rate')\n",
        "plt.title('Receiver Operating Characteristic')\n",
        "plt.legend(loc=\"lower right\")\n",
        "plt.show()\n"
      ]
    },
    {
      "cell_type": "markdown",
      "source": [
        "\n",
        "The graph you shared is a Receiver Operating Characteristic (ROC) curve, commonly used to evaluate the performance of a classification model, particularly for binary classification problems. Here’s a detailed breakdown:\n",
        "\n",
        "1. Axes Explanation:\n",
        "X-axis (False Positive Rate): This represents the proportion of negative instances (class 0) that were incorrectly classified as positive (class 1). It is also called the \"fall-out\".\n",
        "Y-axis (True Positive Rate): This represents the proportion of positive instances (class 1) that were correctly classified as positive. It is also called \"recall\" or \"sensitivity\".\n",
        "2. Diagonal Line (dashed):\n",
        "The dashed diagonal line represents a model with no discriminative power, equivalent to random guessing. The Area Under the Curve (AUC) for this line is 0.5. If the ROC curve lies close to this line, it suggests that the model's performance is close to random.\n",
        "3. Orange Line:\n",
        "The orange line is the ROC curve for your model. It plots the trade-off between the True Positive Rate (sensitivity) and False Positive Rate (fall-out) at different thresholds. Each point on the ROC curve represents a different threshold for classifying a prediction as positive.\n",
        "\n",
        "In the graph, the curve does rise above the diagonal, meaning that your model performs better than random guessing, but not significantly. The curve doesn’t reach near the top left corner, which indicates lower model performance in terms of classification.\n",
        "\n",
        "4. Area Under the Curve (AUC):\n",
        "AUC = 0.63: The area under the ROC curve (AUC) is a single scalar value that summarizes the overall performance of the classifier. A perfect classifier would have an AUC of 1, while a completely random classifier has an AUC of 0.5.\n",
        "\n",
        "In your case, the AUC is 0.63, indicating that the model has some predictive power but is not highly accurate. It’s better than random guessing but far from perfect.\n",
        "\n",
        "5. Interpretation:\n",
        "AUC of 0.63 suggests that the model has some ability to distinguish between the positive class (e.g., patients who were readmitted) and the negative class (e.g., patients who were not readmitted), but the performance is relatively modest.\n",
        "The closer the ROC curve is to the top-left corner, the better the model is at minimizing false positives while maximizing true positives.\n",
        "The model performs better than random, but with an AUC of 0.63, there is significant room for improvement."
      ],
      "metadata": {
        "id": "njVL8f5PQCJN"
      }
    },
    {
      "cell_type": "code",
      "execution_count": 120,
      "metadata": {
        "id": "saVlyEAbeid7",
        "colab": {
          "base_uri": "https://localhost:8080/",
          "height": 472
        },
        "outputId": "42dac7ad-cd7d-4a7d-8872-661c7c986edc"
      },
      "outputs": [
        {
          "output_type": "display_data",
          "data": {
            "text/plain": [
              "<Figure size 640x480 with 1 Axes>"
            ],
            "image/png": "[encoded data removed]"
          },
          "metadata": {}
        }
      ],
      "source": [
        "from sklearn.metrics import precision_recall_curve\n",
        "import matplotlib.pyplot as plt\n",
        "\n",
        "# Calculate precision and recall\n",
        "precision, recall, thresholds = precision_recall_curve(y_true, y_pred_proba)\n",
        "\n",
        "# Plot the Precision-Recall curve\n",
        "plt.plot(recall, precision)\n",
        "plt.xlabel('Recall')\n",
        "plt.ylabel('Precision')\n",
        "plt.title('Precision-Recall Curve')\n",
        "plt.show()\n"
      ]
    },
    {
      "cell_type": "markdown",
      "metadata": {
        "id": "iWcpe5GipEWB"
      },
      "source": [
        "The Precision-Recall curve we've displayed measures the trade-off between precision and recall for different threshold settings. Here's a brief interpretation of what the graph depicts: <br>\n",
        "\n",
        "Precision: The ratio of correctly predicted positive observations to the total predicted positives. High precision indicates a low false positive rate. <br>\n",
        "Recall (Sensitivity): The ratio of correctly predicted positive observations to all actual positives. High recall indicates that most of the positive cases are caught. <br>\n",
        "**Key Observations from the Curve:** <br>\n",
        "**High Precision at Low Recall:** At the beginning of the curve, the precision is very high (close to 1.0), but the recall is very low. This suggests that if we set a high threshold for predicting positives, the model is very confident about its predictions, but it misses a lot of actual positive cases.\n",
        "**Precision Decline:** As recall increases (i.e., as the threshold is lowered and the model starts predicting more positives), precision declines. This shows that including more positive predictions leads to more false positives, lowering the precision.\n",
        "\n",
        "**Stabilization:** Towards the right end of the curve, both precision and recall stabilize but at lower levels of precision. This suggests that increasing recall beyond a certain point doesn’t lead to a substantial increase in false positives anymore, but the precision remains low."
      ]
    },
    {
      "cell_type": "code",
      "execution_count": 121,
      "metadata": {
        "id": "LWPCYKUOz8ZB"
      },
      "outputs": [],
      "source": [
        "# Get the predicted probabilities from the model\n",
        "with torch.no_grad():\n",
        "    outputs = model(input_ids=inputs['input_ids'], attention_mask=inputs['attention_mask'])\n",
        "\n",
        "    probabilities = torch.nn.functional.softmax(outputs.logits, dim=-1)\n",
        "\n",
        "# Assuming the positive class is at index 1, get the probabilities for that class\n",
        "probabilities = probabilities[:, 1]"
      ]
    },
    {
      "cell_type": "code",
      "execution_count": 122,
      "metadata": {
        "id": "k87eR_JepEWD",
        "colab": {
          "base_uri": "https://localhost:8080/",
          "height": 522
        },
        "outputId": "5bc224dd-417a-4d4b-b396-faf6d0fa756b"
      },
      "outputs": [
        {
          "output_type": "stream",
          "name": "stdout",
          "text": [
            "Optimal threshold from PR curve: 0.6052036\n",
            "Optimal threshold from ROC curve: 0.62424827\n"
          ]
        },
        {
          "output_type": "display_data",
          "data": {
            "text/plain": [
              "<Figure size 1000x500 with 2 Axes>"
            ],
            "image/png": "[encoded data removed]"
          },
          "metadata": {}
        }
      ],
      "source": [
        "from sklearn.metrics import precision_recall_curve, roc_curve, auc\n",
        "\n",
        "# Calculate precision and recall for various thresholds\n",
        "precision, recall, thresholds_pr = precision_recall_curve(y_true, y_pred_proba)\n",
        "f1_scores = 2 * recall * precision / (recall + precision)\n",
        "optimal_idx = np.nanargmax(f1_scores)\n",
        "optimal_threshold_pr = thresholds_pr[optimal_idx]\n",
        "\n",
        "# Calculate ROC curve\n",
        "fpr, tpr, thresholds_roc = roc_curve(y_true, y_pred_proba)\n",
        "optimal_idx_roc = np.argmax(tpr - fpr)\n",
        "optimal_threshold_roc = thresholds_roc[optimal_idx_roc]\n",
        "\n",
        "print(\"Optimal threshold from PR curve:\", optimal_threshold_pr)\n",
        "print(\"Optimal threshold from ROC curve:\", optimal_threshold_roc)\n",
        "\n",
        "# Plotting the curves (optional)\n",
        "import matplotlib.pyplot as plt\n",
        "\n",
        "# Precision-Recall Curve\n",
        "plt.figure(figsize=(10, 5))\n",
        "plt.subplot(1, 2, 1)\n",
        "plt.plot(recall, precision, marker='.')\n",
        "plt.title('Precision-Recall curve')\n",
        "plt.xlabel('Recall')\n",
        "plt.ylabel('Precision')\n",
        "plt.scatter(recall[optimal_idx], precision[optimal_idx], color='red')  # Optimal point\n",
        "\n",
        "# ROC Curve\n",
        "plt.subplot(1, 2, 2)\n",
        "plt.plot(fpr, tpr, marker='.')\n",
        "plt.title('ROC curve')\n",
        "plt.xlabel('False Positive Rate')\n",
        "plt.ylabel('True Positive Rate')\n",
        "plt.scatter(fpr[optimal_idx_roc], tpr[optimal_idx_roc], color='red')  # Optimal point\n",
        "plt.show()\n"
      ]
    },
    {
      "cell_type": "markdown",
      "metadata": {
        "id": "w-URrl5UpEWE"
      },
      "source": [
        "This curve visualizes the trade-off between precision and recall for different threshold values. It's particularly useful when dealing with imbalanced datasets, where one class is much more frequent than the other.\n",
        "\n",
        "Precision: The proportion of true positives (correctly predicted positive samples) among all positive predictions.\n",
        "Recall (Sensitivity or True Positive Rate): The proportion of true positives out of the actual positives.\n",
        "\n",
        "Precision-Recall Curve: The curve shows that our model has difficulty balancing precision and recall, and precision drops off sharply as recall increases.\n",
        "ROC Curve: The ROC curve stays fairly close to the diagonal, suggesting that the model's ability to distinguish between the classes is not very strong."
      ]
    },
    {
      "cell_type": "markdown",
      "metadata": {
        "id": "kqFSlA9ZpEWE"
      },
      "source": [
        "We are going to save the predictions and probabilities into a CSV file should be sufficient for loading into the next lime_shap_analysis.ipynb file for further exploration."
      ]
    },
    {
      "cell_type": "markdown",
      "metadata": {
        "id": "NZkV8m8Bn5VZ"
      },
      "source": [
        "Our model performs well on the majority class (class 0) but poorly on the minority class (class 1). <br>\n",
        "A confusion matrix is a summary of prediction results on a classification problem. The numbers in the matrix show how many instances were correctly or incorrectly classified by the model. <br>\n",
        "\n",
        "**Our Confusion Matrix:**\n",
        "Predicted: 0 (Negative Class)\tPredicted: 1 (Positive Class)   \n",
        "            True: 0\t4792\t944 <br>\n",
        "            True: 1\t2037\t393 <br>\n",
        "\n",
        "\n",
        "**Interpretation:**\n",
        "True Positive (TP) = 393: These are cases where the true label was 1 (positive class), and the model also predicted 1. <br>\n",
        "True Negative (TN) = 4792: These are cases where the true label was 0 (negative class), and the model predicted 0. <br>\n",
        "False Positive (FP) = 944: These are cases where the true label was 0, but the model predicted 1. This is also known as a Type I error. <br>\n",
        "False Negative (FN) = 2037: These are cases where the true label was 1, but the model predicted 0. This is known as a Type II error. <br>\n",
        "Classification Metrics:\n",
        "Now let's go over the metrics from our classification report.\n"
      ]
    },
    {
      "cell_type": "code",
      "source": [
        "from IPython.display import Image, display\n",
        "\n",
        "# Display the image\n",
        "display(Image(filename= path_to_file+'praf.png'))\n"
      ],
      "metadata": {
        "colab": {
          "base_uri": "https://localhost:8080/",
          "height": 1000
        },
        "id": "8FASCzQNco3C",
        "outputId": "a0ead5fd-dcc4-45cb-d99a-4176000c04ef"
      },
      "execution_count": 8,
      "outputs": [
        {
          "output_type": "display_data",
          "data": {
            "image/png": "[encoded data removed]",
            "text/plain": [
              "<IPython.core.display.Image object>"
            ]
          },
          "metadata": {}
        }
      ]
    },
    {
      "cell_type": "markdown",
      "source": [
        "\n",
        "In our case, the model's accuracy is 63%, meaning the model correctly classified 63% of the total instances. <br>\n",
        "#### Macro Average:\n",
        "Macro avg gives equal weight to each class when calculating the average of the metrics (precision, recall, F1). It’s useful when the classes are imbalanced, but it doesn't account for class frequency.\n",
        "\n",
        "#### Weighted Average:\n",
        "\n",
        "Weighted avg considers the support (number of true instances) of each class to calculate the average metrics. This accounts for class imbalance, making it more reflective of the overall model performance across classes.\n",
        "\n",
        "#### Insights:\n",
        "\n",
        "**Imbalanced Classes:** The metrics suggest a possible class imbalance problem. There are many more instances of class 0 (negative class) than class 1 (positive class). The model is performing well on class 0, but poorly on class 1. <br>\n",
        "\n",
        "**High False Negatives:** There are a large number of false negatives (2037 instances), which indicates that the model is missing a significant number of actual positive instances.<br>\n",
        "\n",
        "**Low Recall for Class 1:** A recall of 0.16 for class 1 indicates that the model is not doing well in identifying true positives (class 1 instances).<br>\n",
        "\n",
        "We could try adjusting the decision threshold for classifying positive samples. Consider using techniques like cross-validation to tune hyperparameters would work better for this.\n",
        "\n",
        "These calcualtions are based on the previous run and these will be explained clearly in the lime_shap_analysis.ipynb file."
      ],
      "metadata": {
        "id": "m44GyKfmdJ0v"
      }
    },
    {
      "cell_type": "markdown",
      "metadata": {
        "id": "ed41zNyVpPWf"
      },
      "source": [
        "The notebook focuses on developing predictive models to forecast patient readmissions based on clinical text data. It incorporates a sequence of preprocessing steps, model training, and evaluation techniques, primarily leveraging deep learning models like BioBERT to analyze text data formatted for binary classification tasks."
      ]
    },
    {
      "cell_type": "markdown",
      "metadata": {
        "id": "Lclfjse9pnOY"
      },
      "source": [
        "### Model Comparisons:\n",
        "**BioBERT Model:**\n",
        "\n",
        "**Strengths:** Showed substantial promise in understanding the semantic and contextual nuances of clinical texts, given its specialized pre-training on biomedical literature.\n",
        "**Performance Metrics:** While specific numbers were not detailed earlier, BioBERT typically achieves higher precision and recall in biomedical NLP tasks, indicating its potential robustness and accuracy in this application.\n",
        "\n",
        "**BERT Model:**\n",
        "\n",
        "**Performance:** This model also leveraged contextual embeddings to predict patient readmissions but was trained on general language, which might limit its effectiveness compared to BioBERT in a strictly biomedical context.\n",
        "**Evaluation Results:** The results showed a moderate AUC-ROC score, but with a precision-recall curve that suggested a significant trade-off between precision and recall when adjusting thresholds.\n",
        "Threshold Adjustments and Class Imbalance Handling:\n",
        "\n",
        "**General Observations:** Both models were adjusted for threshold settings to optimize the balance between precision and recall. Techniques to handle class imbalance were also implemented, which is critical in medical datasets where the outcome class (readmissions) could be significantly outnumbered by the non-readmissions.\n",
        "**Precision-Recall Curve Analysis:**\n",
        "\n",
        "The curves provided insight into each model's capability to maintain precision with increasing recall. A desirable model would maintain higher precision across a range of recall values, indicating robustness in identifying true positives without increasing false positives.\n",
        "\n",
        "**Concluding Remarks on Model Performance:**\n",
        "**BioBERT:** Likely the superior model for this task due to its specialized training and higher adaptability to medical texts. If the precision and recall metrics were sustainably higher than those of BERT, especially after handling class imbalance and threshold adjustments, it would be the recommended model.\n",
        "\n",
        "**BERT:** While effective, its general training corpus might not capture the specialized language and nuances of clinical notes as effectively as BioBERT. It serves as a robust baseline, but for specialized tasks in biomedical fields, BioBERT generally outperforms.\n",
        "\n",
        "### Recommendation:\n",
        "Considering the application involves clinical text data, BioBERT is the recommended model due to its specialization and likely superior performance metrics in this domain. It is particularly adept at handling the complexities and terminology specific to biomedical texts, which likely translates to better performance metrics and more reliable predictions in this context.\n",
        "\n",
        "### Next Steps:\n",
        "To finalize the choice, detailed comparisons of metrics such as F1-scores, AUC-ROC values, and precision-recall trade-offs should be examined explicitly. Furthermore, the interpretability of the model predictions via LIME and SHAP will also provide insights into the predictive features and help in validating the model's decisions, ensuring that the deployment in clinical settings is both effective and explainable. This step will not only confirm the model's efficacy but also build trust among the end-users by clarifying the model's decision-making process."
      ]
    }
  ],
  "metadata": {
    "accelerator": "GPU",
    "colab": {
      "gpuType": "T4",
      "machine_shape": "hm",
      "provenance": [],
      "include_colab_link": true
    },
    "kernelspec": {
      "display_name": "Python 3",
      "name": "python3"
    },
    "language_info": {
      "codemirror_mode": {
        "name": "ipython",
        "version": 3
      },
      "file_extension": ".py",
      "mimetype": "text/x-python",
      "name": "python",
      "nbconvert_exporter": "python",
      "pygments_lexer": "ipython3",
      "version": "3.8.18"
    },
    "widgets": {
      "application/vnd.jupyter.widget-state+json": {
        "c08db702ff144d3ebc869e7c8a5964a6": {
          "model_module": "@jupyter-widgets/controls",
          "model_name": "HBoxModel",
          "model_module_version": "1.5.0",
          "state": {
            "_dom_classes": [],
            "_model_module": "@jupyter-widgets/controls",
            "_model_module_version": "1.5.0",
            "_model_name": "HBoxModel",
            "_view_count": null,
            "_view_module": "@jupyter-widgets/controls",
            "_view_module_version": "1.5.0",
            "_view_name": "HBoxView",
            "box_style": "",
            "children": [
              "IPY_MODEL_25190407477a449e8fd28fe57f557e4a",
              "IPY_MODEL_3260913a3a414b858a669af6f5b82441",
              "IPY_MODEL_d3e8cfd8cb0243ac90a6f617e34a4ffa"
            ],
            "layout": "IPY_MODEL_d717b712613b47e1a533cbe43ab288b9"
          }
        },
        "25190407477a449e8fd28fe57f557e4a": {
          "model_module": "@jupyter-widgets/controls",
          "model_name": "HTMLModel",
          "model_module_version": "1.5.0",
          "state": {
            "_dom_classes": [],
            "_model_module": "@jupyter-widgets/controls",
            "_model_module_version": "1.5.0",
            "_model_name": "HTMLModel",
            "_view_count": null,
            "_view_module": "@jupyter-widgets/controls",
            "_view_module_version": "1.5.0",
            "_view_name": "HTMLView",
            "description": "",
            "description_tooltip": null,
            "layout": "IPY_MODEL_46724b3f5a9c4e0994cbc7d369ca57d9",
            "placeholder": "​",
            "style": "IPY_MODEL_4f0bbc8e89754cb29f672ae816fde3d1",
            "value": "tokenizer_config.json: 100%"
          }
        },
        "3260913a3a414b858a669af6f5b82441": {
          "model_module": "@jupyter-widgets/controls",
          "model_name": "FloatProgressModel",
          "model_module_version": "1.5.0",
          "state": {
            "_dom_classes": [],
            "_model_module": "@jupyter-widgets/controls",
            "_model_module_version": "1.5.0",
            "_model_name": "FloatProgressModel",
            "_view_count": null,
            "_view_module": "@jupyter-widgets/controls",
            "_view_module_version": "1.5.0",
            "_view_name": "ProgressView",
            "bar_style": "success",
            "description": "",
            "description_tooltip": null,
            "layout": "IPY_MODEL_e9da4aa6e8964e69a04b94c0fed244ad",
            "max": 48,
            "min": 0,
            "orientation": "horizontal",
            "style": "IPY_MODEL_0c8892196ea94ebd8ed4d4abacf1ec0f",
            "value": 48
          }
        },
        "d3e8cfd8cb0243ac90a6f617e34a4ffa": {
          "model_module": "@jupyter-widgets/controls",
          "model_name": "HTMLModel",
          "model_module_version": "1.5.0",
          "state": {
            "_dom_classes": [],
            "_model_module": "@jupyter-widgets/controls",
            "_model_module_version": "1.5.0",
            "_model_name": "HTMLModel",
            "_view_count": null,
            "_view_module": "@jupyter-widgets/controls",
            "_view_module_version": "1.5.0",
            "_view_name": "HTMLView",
            "description": "",
            "description_tooltip": null,
            "layout": "IPY_MODEL_fecd7edb05634210a6ccd59f24d9550e",
            "placeholder": "​",
            "style": "IPY_MODEL_1cb20e3df6be43e89c6ae2ec67cbe835",
            "value": " 48.0/48.0 [00:00&lt;00:00, 2.84kB/s]"
          }
        },
        "d717b712613b47e1a533cbe43ab288b9": {
          "model_module": "@jupyter-widgets/base",
          "model_name": "LayoutModel",
          "model_module_version": "1.2.0",
          "state": {
            "_model_module": "@jupyter-widgets/base",
            "_model_module_version": "1.2.0",
            "_model_name": "LayoutModel",
            "_view_count": null,
            "_view_module": "@jupyter-widgets/base",
            "_view_module_version": "1.2.0",
            "_view_name": "LayoutView",
            "align_content": null,
            "align_items": null,
            "align_self": null,
            "border": null,
            "bottom": null,
            "display": null,
            "flex": null,
            "flex_flow": null,
            "grid_area": null,
            "grid_auto_columns": null,
            "grid_auto_flow": null,
            "grid_auto_rows": null,
            "grid_column": null,
            "grid_gap": null,
            "grid_row": null,
            "grid_template_areas": null,
            "grid_template_columns": null,
            "grid_template_rows": null,
            "height": null,
            "justify_content": null,
            "justify_items": null,
            "left": null,
            "margin": null,
            "max_height": null,
            "max_width": null,
            "min_height": null,
            "min_width": null,
            "object_fit": null,
            "object_position": null,
            "order": null,
            "overflow": null,
            "overflow_x": null,
            "overflow_y": null,
            "padding": null,
            "right": null,
            "top": null,
            "visibility": null,
            "width": null
          }
        },
        "46724b3f5a9c4e0994cbc7d369ca57d9": {
          "model_module": "@jupyter-widgets/base",
          "model_name": "LayoutModel",
          "model_module_version": "1.2.0",
          "state": {
            "_model_module": "@jupyter-widgets/base",
            "_model_module_version": "1.2.0",
            "_model_name": "LayoutModel",
            "_view_count": null,
            "_view_module": "@jupyter-widgets/base",
            "_view_module_version": "1.2.0",
            "_view_name": "LayoutView",
            "align_content": null,
            "align_items": null,
            "align_self": null,
            "border": null,
            "bottom": null,
            "display": null,
            "flex": null,
            "flex_flow": null,
            "grid_area": null,
            "grid_auto_columns": null,
            "grid_auto_flow": null,
            "grid_auto_rows": null,
            "grid_column": null,
            "grid_gap": null,
            "grid_row": null,
            "grid_template_areas": null,
            "grid_template_columns": null,
            "grid_template_rows": null,
            "height": null,
            "justify_content": null,
            "justify_items": null,
            "left": null,
            "margin": null,
            "max_height": null,
            "max_width": null,
            "min_height": null,
            "min_width": null,
            "object_fit": null,
            "object_position": null,
            "order": null,
            "overflow": null,
            "overflow_x": null,
            "overflow_y": null,
            "padding": null,
            "right": null,
            "top": null,
            "visibility": null,
            "width": null
          }
        },
        "4f0bbc8e89754cb29f672ae816fde3d1": {
          "model_module": "@jupyter-widgets/controls",
          "model_name": "DescriptionStyleModel",
          "model_module_version": "1.5.0",
          "state": {
            "_model_module": "@jupyter-widgets/controls",
            "_model_module_version": "1.5.0",
            "_model_name": "DescriptionStyleModel",
            "_view_count": null,
            "_view_module": "@jupyter-widgets/base",
            "_view_module_version": "1.2.0",
            "_view_name": "StyleView",
            "description_width": ""
          }
        },
        "e9da4aa6e8964e69a04b94c0fed244ad": {
          "model_module": "@jupyter-widgets/base",
          "model_name": "LayoutModel",
          "model_module_version": "1.2.0",
          "state": {
            "_model_module": "@jupyter-widgets/base",
            "_model_module_version": "1.2.0",
            "_model_name": "LayoutModel",
            "_view_count": null,
            "_view_module": "@jupyter-widgets/base",
            "_view_module_version": "1.2.0",
            "_view_name": "LayoutView",
            "align_content": null,
            "align_items": null,
            "align_self": null,
            "border": null,
            "bottom": null,
            "display": null,
            "flex": null,
            "flex_flow": null,
            "grid_area": null,
            "grid_auto_columns": null,
            "grid_auto_flow": null,
            "grid_auto_rows": null,
            "grid_column": null,
            "grid_gap": null,
            "grid_row": null,
            "grid_template_areas": null,
            "grid_template_columns": null,
            "grid_template_rows": null,
            "height": null,
            "justify_content": null,
            "justify_items": null,
            "left": null,
            "margin": null,
            "max_height": null,
            "max_width": null,
            "min_height": null,
            "min_width": null,
            "object_fit": null,
            "object_position": null,
            "order": null,
            "overflow": null,
            "overflow_x": null,
            "overflow_y": null,
            "padding": null,
            "right": null,
            "top": null,
            "visibility": null,
            "width": null
          }
        },
        "0c8892196ea94ebd8ed4d4abacf1ec0f": {
          "model_module": "@jupyter-widgets/controls",
          "model_name": "ProgressStyleModel",
          "model_module_version": "1.5.0",
          "state": {
            "_model_module": "@jupyter-widgets/controls",
            "_model_module_version": "1.5.0",
            "_model_name": "ProgressStyleModel",
            "_view_count": null,
            "_view_module": "@jupyter-widgets/base",
            "_view_module_version": "1.2.0",
            "_view_name": "StyleView",
            "bar_color": null,
            "description_width": ""
          }
        },
        "fecd7edb05634210a6ccd59f24d9550e": {
          "model_module": "@jupyter-widgets/base",
          "model_name": "LayoutModel",
          "model_module_version": "1.2.0",
          "state": {
            "_model_module": "@jupyter-widgets/base",
            "_model_module_version": "1.2.0",
            "_model_name": "LayoutModel",
            "_view_count": null,
            "_view_module": "@jupyter-widgets/base",
            "_view_module_version": "1.2.0",
            "_view_name": "LayoutView",
            "align_content": null,
            "align_items": null,
            "align_self": null,
            "border": null,
            "bottom": null,
            "display": null,
            "flex": null,
            "flex_flow": null,
            "grid_area": null,
            "grid_auto_columns": null,
            "grid_auto_flow": null,
            "grid_auto_rows": null,
            "grid_column": null,
            "grid_gap": null,
            "grid_row": null,
            "grid_template_areas": null,
            "grid_template_columns": null,
            "grid_template_rows": null,
            "height": null,
            "justify_content": null,
            "justify_items": null,
            "left": null,
            "margin": null,
            "max_height": null,
            "max_width": null,
            "min_height": null,
            "min_width": null,
            "object_fit": null,
            "object_position": null,
            "order": null,
            "overflow": null,
            "overflow_x": null,
            "overflow_y": null,
            "padding": null,
            "right": null,
            "top": null,
            "visibility": null,
            "width": null
          }
        },
        "1cb20e3df6be43e89c6ae2ec67cbe835": {
          "model_module": "@jupyter-widgets/controls",
          "model_name": "DescriptionStyleModel",
          "model_module_version": "1.5.0",
          "state": {
            "_model_module": "@jupyter-widgets/controls",
            "_model_module_version": "1.5.0",
            "_model_name": "DescriptionStyleModel",
            "_view_count": null,
            "_view_module": "@jupyter-widgets/base",
            "_view_module_version": "1.2.0",
            "_view_name": "StyleView",
            "description_width": ""
          }
        },
        "f967de303e0f42b9843deec3c1e274b5": {
          "model_module": "@jupyter-widgets/controls",
          "model_name": "HBoxModel",
          "model_module_version": "1.5.0",
          "state": {
            "_dom_classes": [],
            "_model_module": "@jupyter-widgets/controls",
            "_model_module_version": "1.5.0",
            "_model_name": "HBoxModel",
            "_view_count": null,
            "_view_module": "@jupyter-widgets/controls",
            "_view_module_version": "1.5.0",
            "_view_name": "HBoxView",
            "box_style": "",
            "children": [
              "IPY_MODEL_72ce294d87a24be99f4b71d4e30fc432",
              "IPY_MODEL_1e0ef2467deb4a43b231692722d9dbef",
              "IPY_MODEL_d5e30e26f65f4d66bbc2d05ab6af961d"
            ],
            "layout": "IPY_MODEL_9a78583a68a646978e255ccefd73f3f2"
          }
        },
        "72ce294d87a24be99f4b71d4e30fc432": {
          "model_module": "@jupyter-widgets/controls",
          "model_name": "HTMLModel",
          "model_module_version": "1.5.0",
          "state": {
            "_dom_classes": [],
            "_model_module": "@jupyter-widgets/controls",
            "_model_module_version": "1.5.0",
            "_model_name": "HTMLModel",
            "_view_count": null,
            "_view_module": "@jupyter-widgets/controls",
            "_view_module_version": "1.5.0",
            "_view_name": "HTMLView",
            "description": "",
            "description_tooltip": null,
            "layout": "IPY_MODEL_c424955e93314678a5c9b91b29633e18",
            "placeholder": "​",
            "style": "IPY_MODEL_dae62133b41b434eae17e0d56e3fc920",
            "value": "vocab.txt: 100%"
          }
        },
        "1e0ef2467deb4a43b231692722d9dbef": {
          "model_module": "@jupyter-widgets/controls",
          "model_name": "FloatProgressModel",
          "model_module_version": "1.5.0",
          "state": {
            "_dom_classes": [],
            "_model_module": "@jupyter-widgets/controls",
            "_model_module_version": "1.5.0",
            "_model_name": "FloatProgressModel",
            "_view_count": null,
            "_view_module": "@jupyter-widgets/controls",
            "_view_module_version": "1.5.0",
            "_view_name": "ProgressView",
            "bar_style": "success",
            "description": "",
            "description_tooltip": null,
            "layout": "IPY_MODEL_01b2329eeed34e6087b7292d2ebd6e39",
            "max": 231508,
            "min": 0,
            "orientation": "horizontal",
            "style": "IPY_MODEL_9231d7047d23447785dc2ae270680a91",
            "value": 231508
          }
        },
        "d5e30e26f65f4d66bbc2d05ab6af961d": {
          "model_module": "@jupyter-widgets/controls",
          "model_name": "HTMLModel",
          "model_module_version": "1.5.0",
          "state": {
            "_dom_classes": [],
            "_model_module": "@jupyter-widgets/controls",
            "_model_module_version": "1.5.0",
            "_model_name": "HTMLModel",
            "_view_count": null,
            "_view_module": "@jupyter-widgets/controls",
            "_view_module_version": "1.5.0",
            "_view_name": "HTMLView",
            "description": "",
            "description_tooltip": null,
            "layout": "IPY_MODEL_b92d42082f364956b4d9dfd06909fa5c",
            "placeholder": "​",
            "style": "IPY_MODEL_b69cf330ef8546259404a9a1c443b284",
            "value": " 232k/232k [00:00&lt;00:00, 698kB/s]"
          }
        },
        "9a78583a68a646978e255ccefd73f3f2": {
          "model_module": "@jupyter-widgets/base",
          "model_name": "LayoutModel",
          "model_module_version": "1.2.0",
          "state": {
            "_model_module": "@jupyter-widgets/base",
            "_model_module_version": "1.2.0",
            "_model_name": "LayoutModel",
            "_view_count": null,
            "_view_module": "@jupyter-widgets/base",
            "_view_module_version": "1.2.0",
            "_view_name": "LayoutView",
            "align_content": null,
            "align_items": null,
            "align_self": null,
            "border": null,
            "bottom": null,
            "display": null,
            "flex": null,
            "flex_flow": null,
            "grid_area": null,
            "grid_auto_columns": null,
            "grid_auto_flow": null,
            "grid_auto_rows": null,
            "grid_column": null,
            "grid_gap": null,
            "grid_row": null,
            "grid_template_areas": null,
            "grid_template_columns": null,
            "grid_template_rows": null,
            "height": null,
            "justify_content": null,
            "justify_items": null,
            "left": null,
            "margin": null,
            "max_height": null,
            "max_width": null,
            "min_height": null,
            "min_width": null,
            "object_fit": null,
            "object_position": null,
            "order": null,
            "overflow": null,
            "overflow_x": null,
            "overflow_y": null,
            "padding": null,
            "right": null,
            "top": null,
            "visibility": null,
            "width": null
          }
        },
        "c424955e93314678a5c9b91b29633e18": {
          "model_module": "@jupyter-widgets/base",
          "model_name": "LayoutModel",
          "model_module_version": "1.2.0",
          "state": {
            "_model_module": "@jupyter-widgets/base",
            "_model_module_version": "1.2.0",
            "_model_name": "LayoutModel",
            "_view_count": null,
            "_view_module": "@jupyter-widgets/base",
            "_view_module_version": "1.2.0",
            "_view_name": "LayoutView",
            "align_content": null,
            "align_items": null,
            "align_self": null,
            "border": null,
            "bottom": null,
            "display": null,
            "flex": null,
            "flex_flow": null,
            "grid_area": null,
            "grid_auto_columns": null,
            "grid_auto_flow": null,
            "grid_auto_rows": null,
            "grid_column": null,
            "grid_gap": null,
            "grid_row": null,
            "grid_template_areas": null,
            "grid_template_columns": null,
            "grid_template_rows": null,
            "height": null,
            "justify_content": null,
            "justify_items": null,
            "left": null,
            "margin": null,
            "max_height": null,
            "max_width": null,
            "min_height": null,
            "min_width": null,
            "object_fit": null,
            "object_position": null,
            "order": null,
            "overflow": null,
            "overflow_x": null,
            "overflow_y": null,
            "padding": null,
            "right": null,
            "top": null,
            "visibility": null,
            "width": null
          }
        },
        "dae62133b41b434eae17e0d56e3fc920": {
          "model_module": "@jupyter-widgets/controls",
          "model_name": "DescriptionStyleModel",
          "model_module_version": "1.5.0",
          "state": {
            "_model_module": "@jupyter-widgets/controls",
            "_model_module_version": "1.5.0",
            "_model_name": "DescriptionStyleModel",
            "_view_count": null,
            "_view_module": "@jupyter-widgets/base",
            "_view_module_version": "1.2.0",
            "_view_name": "StyleView",
            "description_width": ""
          }
        },
        "01b2329eeed34e6087b7292d2ebd6e39": {
          "model_module": "@jupyter-widgets/base",
          "model_name": "LayoutModel",
          "model_module_version": "1.2.0",
          "state": {
            "_model_module": "@jupyter-widgets/base",
            "_model_module_version": "1.2.0",
            "_model_name": "LayoutModel",
            "_view_count": null,
            "_view_module": "@jupyter-widgets/base",
            "_view_module_version": "1.2.0",
            "_view_name": "LayoutView",
            "align_content": null,
            "align_items": null,
            "align_self": null,
            "border": null,
            "bottom": null,
            "display": null,
            "flex": null,
            "flex_flow": null,
            "grid_area": null,
            "grid_auto_columns": null,
            "grid_auto_flow": null,
            "grid_auto_rows": null,
            "grid_column": null,
            "grid_gap": null,
            "grid_row": null,
            "grid_template_areas": null,
            "grid_template_columns": null,
            "grid_template_rows": null,
            "height": null,
            "justify_content": null,
            "justify_items": null,
            "left": null,
            "margin": null,
            "max_height": null,
            "max_width": null,
            "min_height": null,
            "min_width": null,
            "object_fit": null,
            "object_position": null,
            "order": null,
            "overflow": null,
            "overflow_x": null,
            "overflow_y": null,
            "padding": null,
            "right": null,
            "top": null,
            "visibility": null,
            "width": null
          }
        },
        "9231d7047d23447785dc2ae270680a91": {
          "model_module": "@jupyter-widgets/controls",
          "model_name": "ProgressStyleModel",
          "model_module_version": "1.5.0",
          "state": {
            "_model_module": "@jupyter-widgets/controls",
            "_model_module_version": "1.5.0",
            "_model_name": "ProgressStyleModel",
            "_view_count": null,
            "_view_module": "@jupyter-widgets/base",
            "_view_module_version": "1.2.0",
            "_view_name": "StyleView",
            "bar_color": null,
            "description_width": ""
          }
        },
        "b92d42082f364956b4d9dfd06909fa5c": {
          "model_module": "@jupyter-widgets/base",
          "model_name": "LayoutModel",
          "model_module_version": "1.2.0",
          "state": {
            "_model_module": "@jupyter-widgets/base",
            "_model_module_version": "1.2.0",
            "_model_name": "LayoutModel",
            "_view_count": null,
            "_view_module": "@jupyter-widgets/base",
            "_view_module_version": "1.2.0",
            "_view_name": "LayoutView",
            "align_content": null,
            "align_items": null,
            "align_self": null,
            "border": null,
            "bottom": null,
            "display": null,
            "flex": null,
            "flex_flow": null,
            "grid_area": null,
            "grid_auto_columns": null,
            "grid_auto_flow": null,
            "grid_auto_rows": null,
            "grid_column": null,
            "grid_gap": null,
            "grid_row": null,
            "grid_template_areas": null,
            "grid_template_columns": null,
            "grid_template_rows": null,
            "height": null,
            "justify_content": null,
            "justify_items": null,
            "left": null,
            "margin": null,
            "max_height": null,
            "max_width": null,
            "min_height": null,
            "min_width": null,
            "object_fit": null,
            "object_position": null,
            "order": null,
            "overflow": null,
            "overflow_x": null,
            "overflow_y": null,
            "padding": null,
            "right": null,
            "top": null,
            "visibility": null,
            "width": null
          }
        },
        "b69cf330ef8546259404a9a1c443b284": {
          "model_module": "@jupyter-widgets/controls",
          "model_name": "DescriptionStyleModel",
          "model_module_version": "1.5.0",
          "state": {
            "_model_module": "@jupyter-widgets/controls",
            "_model_module_version": "1.5.0",
            "_model_name": "DescriptionStyleModel",
            "_view_count": null,
            "_view_module": "@jupyter-widgets/base",
            "_view_module_version": "1.2.0",
            "_view_name": "StyleView",
            "description_width": ""
          }
        },
        "a709b7f65a244abf9067e2e80c9701da": {
          "model_module": "@jupyter-widgets/controls",
          "model_name": "HBoxModel",
          "model_module_version": "1.5.0",
          "state": {
            "_dom_classes": [],
            "_model_module": "@jupyter-widgets/controls",
            "_model_module_version": "1.5.0",
            "_model_name": "HBoxModel",
            "_view_count": null,
            "_view_module": "@jupyter-widgets/controls",
            "_view_module_version": "1.5.0",
            "_view_name": "HBoxView",
            "box_style": "",
            "children": [
              "IPY_MODEL_c89fa8b180244f92ad264a4fc0e5ac91",
              "IPY_MODEL_6ca0144be91241618a686a558bf114d9",
              "IPY_MODEL_95463429ef184ad2b569d0fd85406440"
            ],
            "layout": "IPY_MODEL_916f2997739b4503a06a8b4f6a74a472"
          }
        },
        "c89fa8b180244f92ad264a4fc0e5ac91": {
          "model_module": "@jupyter-widgets/controls",
          "model_name": "HTMLModel",
          "model_module_version": "1.5.0",
          "state": {
            "_dom_classes": [],
            "_model_module": "@jupyter-widgets/controls",
            "_model_module_version": "1.5.0",
            "_model_name": "HTMLModel",
            "_view_count": null,
            "_view_module": "@jupyter-widgets/controls",
            "_view_module_version": "1.5.0",
            "_view_name": "HTMLView",
            "description": "",
            "description_tooltip": null,
            "layout": "IPY_MODEL_06156fb5619e46149d107cfe888f077b",
            "placeholder": "​",
            "style": "IPY_MODEL_162be098607d4d99aca4aab525c3fe2e",
            "value": "tokenizer.json: 100%"
          }
        },
        "6ca0144be91241618a686a558bf114d9": {
          "model_module": "@jupyter-widgets/controls",
          "model_name": "FloatProgressModel",
          "model_module_version": "1.5.0",
          "state": {
            "_dom_classes": [],
            "_model_module": "@jupyter-widgets/controls",
            "_model_module_version": "1.5.0",
            "_model_name": "FloatProgressModel",
            "_view_count": null,
            "_view_module": "@jupyter-widgets/controls",
            "_view_module_version": "1.5.0",
            "_view_name": "ProgressView",
            "bar_style": "success",
            "description": "",
            "description_tooltip": null,
            "layout": "IPY_MODEL_52182d5f34fa4c19b19a2d4e184cc998",
            "max": 466062,
            "min": 0,
            "orientation": "horizontal",
            "style": "IPY_MODEL_7f2880d14b354e9abd7c89391ec7203e",
            "value": 466062
          }
        },
        "95463429ef184ad2b569d0fd85406440": {
          "model_module": "@jupyter-widgets/controls",
          "model_name": "HTMLModel",
          "model_module_version": "1.5.0",
          "state": {
            "_dom_classes": [],
            "_model_module": "@jupyter-widgets/controls",
            "_model_module_version": "1.5.0",
            "_model_name": "HTMLModel",
            "_view_count": null,
            "_view_module": "@jupyter-widgets/controls",
            "_view_module_version": "1.5.0",
            "_view_name": "HTMLView",
            "description": "",
            "description_tooltip": null,
            "layout": "IPY_MODEL_937b00ac94224877b2cb5202e8e7d6a0",
            "placeholder": "​",
            "style": "IPY_MODEL_5a815adb6afa46df9f108516cbe0ccd0",
            "value": " 466k/466k [00:00&lt;00:00, 906kB/s]"
          }
        },
        "916f2997739b4503a06a8b4f6a74a472": {
          "model_module": "@jupyter-widgets/base",
          "model_name": "LayoutModel",
          "model_module_version": "1.2.0",
          "state": {
            "_model_module": "@jupyter-widgets/base",
            "_model_module_version": "1.2.0",
            "_model_name": "LayoutModel",
            "_view_count": null,
            "_view_module": "@jupyter-widgets/base",
            "_view_module_version": "1.2.0",
            "_view_name": "LayoutView",
            "align_content": null,
            "align_items": null,
            "align_self": null,
            "border": null,
            "bottom": null,
            "display": null,
            "flex": null,
            "flex_flow": null,
            "grid_area": null,
            "grid_auto_columns": null,
            "grid_auto_flow": null,
            "grid_auto_rows": null,
            "grid_column": null,
            "grid_gap": null,
            "grid_row": null,
            "grid_template_areas": null,
            "grid_template_columns": null,
            "grid_template_rows": null,
            "height": null,
            "justify_content": null,
            "justify_items": null,
            "left": null,
            "margin": null,
            "max_height": null,
            "max_width": null,
            "min_height": null,
            "min_width": null,
            "object_fit": null,
            "object_position": null,
            "order": null,
            "overflow": null,
            "overflow_x": null,
            "overflow_y": null,
            "padding": null,
            "right": null,
            "top": null,
            "visibility": null,
            "width": null
          }
        },
        "06156fb5619e46149d107cfe888f077b": {
          "model_module": "@jupyter-widgets/base",
          "model_name": "LayoutModel",
          "model_module_version": "1.2.0",
          "state": {
            "_model_module": "@jupyter-widgets/base",
            "_model_module_version": "1.2.0",
            "_model_name": "LayoutModel",
            "_view_count": null,
            "_view_module": "@jupyter-widgets/base",
            "_view_module_version": "1.2.0",
            "_view_name": "LayoutView",
            "align_content": null,
            "align_items": null,
            "align_self": null,
            "border": null,
            "bottom": null,
            "display": null,
            "flex": null,
            "flex_flow": null,
            "grid_area": null,
            "grid_auto_columns": null,
            "grid_auto_flow": null,
            "grid_auto_rows": null,
            "grid_column": null,
            "grid_gap": null,
            "grid_row": null,
            "grid_template_areas": null,
            "grid_template_columns": null,
            "grid_template_rows": null,
            "height": null,
            "justify_content": null,
            "justify_items": null,
            "left": null,
            "margin": null,
            "max_height": null,
            "max_width": null,
            "min_height": null,
            "min_width": null,
            "object_fit": null,
            "object_position": null,
            "order": null,
            "overflow": null,
            "overflow_x": null,
            "overflow_y": null,
            "padding": null,
            "right": null,
            "top": null,
            "visibility": null,
            "width": null
          }
        },
        "162be098607d4d99aca4aab525c3fe2e": {
          "model_module": "@jupyter-widgets/controls",
          "model_name": "DescriptionStyleModel",
          "model_module_version": "1.5.0",
          "state": {
            "_model_module": "@jupyter-widgets/controls",
            "_model_module_version": "1.5.0",
            "_model_name": "DescriptionStyleModel",
            "_view_count": null,
            "_view_module": "@jupyter-widgets/base",
            "_view_module_version": "1.2.0",
            "_view_name": "StyleView",
            "description_width": ""
          }
        },
        "52182d5f34fa4c19b19a2d4e184cc998": {
          "model_module": "@jupyter-widgets/base",
          "model_name": "LayoutModel",
          "model_module_version": "1.2.0",
          "state": {
            "_model_module": "@jupyter-widgets/base",
            "_model_module_version": "1.2.0",
            "_model_name": "LayoutModel",
            "_view_count": null,
            "_view_module": "@jupyter-widgets/base",
            "_view_module_version": "1.2.0",
            "_view_name": "LayoutView",
            "align_content": null,
            "align_items": null,
            "align_self": null,
            "border": null,
            "bottom": null,
            "display": null,
            "flex": null,
            "flex_flow": null,
            "grid_area": null,
            "grid_auto_columns": null,
            "grid_auto_flow": null,
            "grid_auto_rows": null,
            "grid_column": null,
            "grid_gap": null,
            "grid_row": null,
            "grid_template_areas": null,
            "grid_template_columns": null,
            "grid_template_rows": null,
            "height": null,
            "justify_content": null,
            "justify_items": null,
            "left": null,
            "margin": null,
            "max_height": null,
            "max_width": null,
            "min_height": null,
            "min_width": null,
            "object_fit": null,
            "object_position": null,
            "order": null,
            "overflow": null,
            "overflow_x": null,
            "overflow_y": null,
            "padding": null,
            "right": null,
            "top": null,
            "visibility": null,
            "width": null
          }
        },
        "7f2880d14b354e9abd7c89391ec7203e": {
          "model_module": "@jupyter-widgets/controls",
          "model_name": "ProgressStyleModel",
          "model_module_version": "1.5.0",
          "state": {
            "_model_module": "@jupyter-widgets/controls",
            "_model_module_version": "1.5.0",
            "_model_name": "ProgressStyleModel",
            "_view_count": null,
            "_view_module": "@jupyter-widgets/base",
            "_view_module_version": "1.2.0",
            "_view_name": "StyleView",
            "bar_color": null,
            "description_width": ""
          }
        },
        "937b00ac94224877b2cb5202e8e7d6a0": {
          "model_module": "@jupyter-widgets/base",
          "model_name": "LayoutModel",
          "model_module_version": "1.2.0",
          "state": {
            "_model_module": "@jupyter-widgets/base",
            "_model_module_version": "1.2.0",
            "_model_name": "LayoutModel",
            "_view_count": null,
            "_view_module": "@jupyter-widgets/base",
            "_view_module_version": "1.2.0",
            "_view_name": "LayoutView",
            "align_content": null,
            "align_items": null,
            "align_self": null,
            "border": null,
            "bottom": null,
            "display": null,
            "flex": null,
            "flex_flow": null,
            "grid_area": null,
            "grid_auto_columns": null,
            "grid_auto_flow": null,
            "grid_auto_rows": null,
            "grid_column": null,
            "grid_gap": null,
            "grid_row": null,
            "grid_template_areas": null,
            "grid_template_columns": null,
            "grid_template_rows": null,
            "height": null,
            "justify_content": null,
            "justify_items": null,
            "left": null,
            "margin": null,
            "max_height": null,
            "max_width": null,
            "min_height": null,
            "min_width": null,
            "object_fit": null,
            "object_position": null,
            "order": null,
            "overflow": null,
            "overflow_x": null,
            "overflow_y": null,
            "padding": null,
            "right": null,
            "top": null,
            "visibility": null,
            "width": null
          }
        },
        "5a815adb6afa46df9f108516cbe0ccd0": {
          "model_module": "@jupyter-widgets/controls",
          "model_name": "DescriptionStyleModel",
          "model_module_version": "1.5.0",
          "state": {
            "_model_module": "@jupyter-widgets/controls",
            "_model_module_version": "1.5.0",
            "_model_name": "DescriptionStyleModel",
            "_view_count": null,
            "_view_module": "@jupyter-widgets/base",
            "_view_module_version": "1.2.0",
            "_view_name": "StyleView",
            "description_width": ""
          }
        },
        "d342dea2a7b14007a7ae7037c4968fb1": {
          "model_module": "@jupyter-widgets/controls",
          "model_name": "HBoxModel",
          "model_module_version": "1.5.0",
          "state": {
            "_dom_classes": [],
            "_model_module": "@jupyter-widgets/controls",
            "_model_module_version": "1.5.0",
            "_model_name": "HBoxModel",
            "_view_count": null,
            "_view_module": "@jupyter-widgets/controls",
            "_view_module_version": "1.5.0",
            "_view_name": "HBoxView",
            "box_style": "",
            "children": [
              "IPY_MODEL_b5302aecd5974027a736e22fe38c8f4a",
              "IPY_MODEL_cd3bdb04f6da4e759b0e8946c6bdfa08",
              "IPY_MODEL_055b4b3ca554493398a59b658d622149"
            ],
            "layout": "IPY_MODEL_c68c2b4b03574d4288cc87517ca3a412"
          }
        },
        "b5302aecd5974027a736e22fe38c8f4a": {
          "model_module": "@jupyter-widgets/controls",
          "model_name": "HTMLModel",
          "model_module_version": "1.5.0",
          "state": {
            "_dom_classes": [],
            "_model_module": "@jupyter-widgets/controls",
            "_model_module_version": "1.5.0",
            "_model_name": "HTMLModel",
            "_view_count": null,
            "_view_module": "@jupyter-widgets/controls",
            "_view_module_version": "1.5.0",
            "_view_name": "HTMLView",
            "description": "",
            "description_tooltip": null,
            "layout": "IPY_MODEL_79e5bbb1f9c445a6a6faceb1283c0dec",
            "placeholder": "​",
            "style": "IPY_MODEL_c4456fb6aa4b4e27b7d7732d90d217df",
            "value": "config.json: 100%"
          }
        },
        "cd3bdb04f6da4e759b0e8946c6bdfa08": {
          "model_module": "@jupyter-widgets/controls",
          "model_name": "FloatProgressModel",
          "model_module_version": "1.5.0",
          "state": {
            "_dom_classes": [],
            "_model_module": "@jupyter-widgets/controls",
            "_model_module_version": "1.5.0",
            "_model_name": "FloatProgressModel",
            "_view_count": null,
            "_view_module": "@jupyter-widgets/controls",
            "_view_module_version": "1.5.0",
            "_view_name": "ProgressView",
            "bar_style": "success",
            "description": "",
            "description_tooltip": null,
            "layout": "IPY_MODEL_1b9b3686aed74661b9995114cec5f367",
            "max": 570,
            "min": 0,
            "orientation": "horizontal",
            "style": "IPY_MODEL_6480f07b28964732912f746593af1ce7",
            "value": 570
          }
        },
        "055b4b3ca554493398a59b658d622149": {
          "model_module": "@jupyter-widgets/controls",
          "model_name": "HTMLModel",
          "model_module_version": "1.5.0",
          "state": {
            "_dom_classes": [],
            "_model_module": "@jupyter-widgets/controls",
            "_model_module_version": "1.5.0",
            "_model_name": "HTMLModel",
            "_view_count": null,
            "_view_module": "@jupyter-widgets/controls",
            "_view_module_version": "1.5.0",
            "_view_name": "HTMLView",
            "description": "",
            "description_tooltip": null,
            "layout": "IPY_MODEL_b7b4efb25207448f9f54957b134c4a3f",
            "placeholder": "​",
            "style": "IPY_MODEL_38b04974bc7c40d8af0440bdda51c883",
            "value": " 570/570 [00:00&lt;00:00, 39.5kB/s]"
          }
        },
        "c68c2b4b03574d4288cc87517ca3a412": {
          "model_module": "@jupyter-widgets/base",
          "model_name": "LayoutModel",
          "model_module_version": "1.2.0",
          "state": {
            "_model_module": "@jupyter-widgets/base",
            "_model_module_version": "1.2.0",
            "_model_name": "LayoutModel",
            "_view_count": null,
            "_view_module": "@jupyter-widgets/base",
            "_view_module_version": "1.2.0",
            "_view_name": "LayoutView",
            "align_content": null,
            "align_items": null,
            "align_self": null,
            "border": null,
            "bottom": null,
            "display": null,
            "flex": null,
            "flex_flow": null,
            "grid_area": null,
            "grid_auto_columns": null,
            "grid_auto_flow": null,
            "grid_auto_rows": null,
            "grid_column": null,
            "grid_gap": null,
            "grid_row": null,
            "grid_template_areas": null,
            "grid_template_columns": null,
            "grid_template_rows": null,
            "height": null,
            "justify_content": null,
            "justify_items": null,
            "left": null,
            "margin": null,
            "max_height": null,
            "max_width": null,
            "min_height": null,
            "min_width": null,
            "object_fit": null,
            "object_position": null,
            "order": null,
            "overflow": null,
            "overflow_x": null,
            "overflow_y": null,
            "padding": null,
            "right": null,
            "top": null,
            "visibility": null,
            "width": null
          }
        },
        "79e5bbb1f9c445a6a6faceb1283c0dec": {
          "model_module": "@jupyter-widgets/base",
          "model_name": "LayoutModel",
          "model_module_version": "1.2.0",
          "state": {
            "_model_module": "@jupyter-widgets/base",
            "_model_module_version": "1.2.0",
            "_model_name": "LayoutModel",
            "_view_count": null,
            "_view_module": "@jupyter-widgets/base",
            "_view_module_version": "1.2.0",
            "_view_name": "LayoutView",
            "align_content": null,
            "align_items": null,
            "align_self": null,
            "border": null,
            "bottom": null,
            "display": null,
            "flex": null,
            "flex_flow": null,
            "grid_area": null,
            "grid_auto_columns": null,
            "grid_auto_flow": null,
            "grid_auto_rows": null,
            "grid_column": null,
            "grid_gap": null,
            "grid_row": null,
            "grid_template_areas": null,
            "grid_template_columns": null,
            "grid_template_rows": null,
            "height": null,
            "justify_content": null,
            "justify_items": null,
            "left": null,
            "margin": null,
            "max_height": null,
            "max_width": null,
            "min_height": null,
            "min_width": null,
            "object_fit": null,
            "object_position": null,
            "order": null,
            "overflow": null,
            "overflow_x": null,
            "overflow_y": null,
            "padding": null,
            "right": null,
            "top": null,
            "visibility": null,
            "width": null
          }
        },
        "c4456fb6aa4b4e27b7d7732d90d217df": {
          "model_module": "@jupyter-widgets/controls",
          "model_name": "DescriptionStyleModel",
          "model_module_version": "1.5.0",
          "state": {
            "_model_module": "@jupyter-widgets/controls",
            "_model_module_version": "1.5.0",
            "_model_name": "DescriptionStyleModel",
            "_view_count": null,
            "_view_module": "@jupyter-widgets/base",
            "_view_module_version": "1.2.0",
            "_view_name": "StyleView",
            "description_width": ""
          }
        },
        "1b9b3686aed74661b9995114cec5f367": {
          "model_module": "@jupyter-widgets/base",
          "model_name": "LayoutModel",
          "model_module_version": "1.2.0",
          "state": {
            "_model_module": "@jupyter-widgets/base",
            "_model_module_version": "1.2.0",
            "_model_name": "LayoutModel",
            "_view_count": null,
            "_view_module": "@jupyter-widgets/base",
            "_view_module_version": "1.2.0",
            "_view_name": "LayoutView",
            "align_content": null,
            "align_items": null,
            "align_self": null,
            "border": null,
            "bottom": null,
            "display": null,
            "flex": null,
            "flex_flow": null,
            "grid_area": null,
            "grid_auto_columns": null,
            "grid_auto_flow": null,
            "grid_auto_rows": null,
            "grid_column": null,
            "grid_gap": null,
            "grid_row": null,
            "grid_template_areas": null,
            "grid_template_columns": null,
            "grid_template_rows": null,
            "height": null,
            "justify_content": null,
            "justify_items": null,
            "left": null,
            "margin": null,
            "max_height": null,
            "max_width": null,
            "min_height": null,
            "min_width": null,
            "object_fit": null,
            "object_position": null,
            "order": null,
            "overflow": null,
            "overflow_x": null,
            "overflow_y": null,
            "padding": null,
            "right": null,
            "top": null,
            "visibility": null,
            "width": null
          }
        },
        "6480f07b28964732912f746593af1ce7": {
          "model_module": "@jupyter-widgets/controls",
          "model_name": "ProgressStyleModel",
          "model_module_version": "1.5.0",
          "state": {
            "_model_module": "@jupyter-widgets/controls",
            "_model_module_version": "1.5.0",
            "_model_name": "ProgressStyleModel",
            "_view_count": null,
            "_view_module": "@jupyter-widgets/base",
            "_view_module_version": "1.2.0",
            "_view_name": "StyleView",
            "bar_color": null,
            "description_width": ""
          }
        },
        "b7b4efb25207448f9f54957b134c4a3f": {
          "model_module": "@jupyter-widgets/base",
          "model_name": "LayoutModel",
          "model_module_version": "1.2.0",
          "state": {
            "_model_module": "@jupyter-widgets/base",
            "_model_module_version": "1.2.0",
            "_model_name": "LayoutModel",
            "_view_count": null,
            "_view_module": "@jupyter-widgets/base",
            "_view_module_version": "1.2.0",
            "_view_name": "LayoutView",
            "align_content": null,
            "align_items": null,
            "align_self": null,
            "border": null,
            "bottom": null,
            "display": null,
            "flex": null,
            "flex_flow": null,
            "grid_area": null,
            "grid_auto_columns": null,
            "grid_auto_flow": null,
            "grid_auto_rows": null,
            "grid_column": null,
            "grid_gap": null,
            "grid_row": null,
            "grid_template_areas": null,
            "grid_template_columns": null,
            "grid_template_rows": null,
            "height": null,
            "justify_content": null,
            "justify_items": null,
            "left": null,
            "margin": null,
            "max_height": null,
            "max_width": null,
            "min_height": null,
            "min_width": null,
            "object_fit": null,
            "object_position": null,
            "order": null,
            "overflow": null,
            "overflow_x": null,
            "overflow_y": null,
            "padding": null,
            "right": null,
            "top": null,
            "visibility": null,
            "width": null
          }
        },
        "38b04974bc7c40d8af0440bdda51c883": {
          "model_module": "@jupyter-widgets/controls",
          "model_name": "DescriptionStyleModel",
          "model_module_version": "1.5.0",
          "state": {
            "_model_module": "@jupyter-widgets/controls",
            "_model_module_version": "1.5.0",
            "_model_name": "DescriptionStyleModel",
            "_view_count": null,
            "_view_module": "@jupyter-widgets/base",
            "_view_module_version": "1.2.0",
            "_view_name": "StyleView",
            "description_width": ""
          }
        },
        "6809eaa16edc4cfd85a24b7406f12fd5": {
          "model_module": "@jupyter-widgets/controls",
          "model_name": "HBoxModel",
          "model_module_version": "1.5.0",
          "state": {
            "_dom_classes": [],
            "_model_module": "@jupyter-widgets/controls",
            "_model_module_version": "1.5.0",
            "_model_name": "HBoxModel",
            "_view_count": null,
            "_view_module": "@jupyter-widgets/controls",
            "_view_module_version": "1.5.0",
            "_view_name": "HBoxView",
            "box_style": "",
            "children": [
              "IPY_MODEL_9f6290c7d0fb43f582c4064745ae7c73",
              "IPY_MODEL_98595981ef2844a6b3364c289a93dbe4",
              "IPY_MODEL_8acde5ddf9384bada673dca2d7cf3a6f"
            ],
            "layout": "IPY_MODEL_9274a3c5c1984f8f9ac14dd423385825"
          }
        },
        "9f6290c7d0fb43f582c4064745ae7c73": {
          "model_module": "@jupyter-widgets/controls",
          "model_name": "HTMLModel",
          "model_module_version": "1.5.0",
          "state": {
            "_dom_classes": [],
            "_model_module": "@jupyter-widgets/controls",
            "_model_module_version": "1.5.0",
            "_model_name": "HTMLModel",
            "_view_count": null,
            "_view_module": "@jupyter-widgets/controls",
            "_view_module_version": "1.5.0",
            "_view_name": "HTMLView",
            "description": "",
            "description_tooltip": null,
            "layout": "IPY_MODEL_64d5f95085c14b0cb650ecea5dba6cc7",
            "placeholder": "​",
            "style": "IPY_MODEL_6f6b1d6b36c74d5fa82d1f8e455dc9d8",
            "value": "Map: 100%"
          }
        },
        "98595981ef2844a6b3364c289a93dbe4": {
          "model_module": "@jupyter-widgets/controls",
          "model_name": "FloatProgressModel",
          "model_module_version": "1.5.0",
          "state": {
            "_dom_classes": [],
            "_model_module": "@jupyter-widgets/controls",
            "_model_module_version": "1.5.0",
            "_model_name": "FloatProgressModel",
            "_view_count": null,
            "_view_module": "@jupyter-widgets/controls",
            "_view_module_version": "1.5.0",
            "_view_name": "ProgressView",
            "bar_style": "success",
            "description": "",
            "description_tooltip": null,
            "layout": "IPY_MODEL_5965038d448b4cb79cd1038619b25c14",
            "max": 41289,
            "min": 0,
            "orientation": "horizontal",
            "style": "IPY_MODEL_c7745a75c6eb492bb523ca88c43a2f91",
            "value": 41289
          }
        },
        "8acde5ddf9384bada673dca2d7cf3a6f": {
          "model_module": "@jupyter-widgets/controls",
          "model_name": "HTMLModel",
          "model_module_version": "1.5.0",
          "state": {
            "_dom_classes": [],
            "_model_module": "@jupyter-widgets/controls",
            "_model_module_version": "1.5.0",
            "_model_name": "HTMLModel",
            "_view_count": null,
            "_view_module": "@jupyter-widgets/controls",
            "_view_module_version": "1.5.0",
            "_view_name": "HTMLView",
            "description": "",
            "description_tooltip": null,
            "layout": "IPY_MODEL_536b8033a0bb454d913880756fcaef53",
            "placeholder": "​",
            "style": "IPY_MODEL_56fef950ee3c4001bf26b0438dfdc181",
            "value": " 41289/41289 [02:45&lt;00:00, 225.69 examples/s]"
          }
        },
        "9274a3c5c1984f8f9ac14dd423385825": {
          "model_module": "@jupyter-widgets/base",
          "model_name": "LayoutModel",
          "model_module_version": "1.2.0",
          "state": {
            "_model_module": "@jupyter-widgets/base",
            "_model_module_version": "1.2.0",
            "_model_name": "LayoutModel",
            "_view_count": null,
            "_view_module": "@jupyter-widgets/base",
            "_view_module_version": "1.2.0",
            "_view_name": "LayoutView",
            "align_content": null,
            "align_items": null,
            "align_self": null,
            "border": null,
            "bottom": null,
            "display": null,
            "flex": null,
            "flex_flow": null,
            "grid_area": null,
            "grid_auto_columns": null,
            "grid_auto_flow": null,
            "grid_auto_rows": null,
            "grid_column": null,
            "grid_gap": null,
            "grid_row": null,
            "grid_template_areas": null,
            "grid_template_columns": null,
            "grid_template_rows": null,
            "height": null,
            "justify_content": null,
            "justify_items": null,
            "left": null,
            "margin": null,
            "max_height": null,
            "max_width": null,
            "min_height": null,
            "min_width": null,
            "object_fit": null,
            "object_position": null,
            "order": null,
            "overflow": null,
            "overflow_x": null,
            "overflow_y": null,
            "padding": null,
            "right": null,
            "top": null,
            "visibility": null,
            "width": null
          }
        },
        "64d5f95085c14b0cb650ecea5dba6cc7": {
          "model_module": "@jupyter-widgets/base",
          "model_name": "LayoutModel",
          "model_module_version": "1.2.0",
          "state": {
            "_model_module": "@jupyter-widgets/base",
            "_model_module_version": "1.2.0",
            "_model_name": "LayoutModel",
            "_view_count": null,
            "_view_module": "@jupyter-widgets/base",
            "_view_module_version": "1.2.0",
            "_view_name": "LayoutView",
            "align_content": null,
            "align_items": null,
            "align_self": null,
            "border": null,
            "bottom": null,
            "display": null,
            "flex": null,
            "flex_flow": null,
            "grid_area": null,
            "grid_auto_columns": null,
            "grid_auto_flow": null,
            "grid_auto_rows": null,
            "grid_column": null,
            "grid_gap": null,
            "grid_row": null,
            "grid_template_areas": null,
            "grid_template_columns": null,
            "grid_template_rows": null,
            "height": null,
            "justify_content": null,
            "justify_items": null,
            "left": null,
            "margin": null,
            "max_height": null,
            "max_width": null,
            "min_height": null,
            "min_width": null,
            "object_fit": null,
            "object_position": null,
            "order": null,
            "overflow": null,
            "overflow_x": null,
            "overflow_y": null,
            "padding": null,
            "right": null,
            "top": null,
            "visibility": null,
            "width": null
          }
        },
        "6f6b1d6b36c74d5fa82d1f8e455dc9d8": {
          "model_module": "@jupyter-widgets/controls",
          "model_name": "DescriptionStyleModel",
          "model_module_version": "1.5.0",
          "state": {
            "_model_module": "@jupyter-widgets/controls",
            "_model_module_version": "1.5.0",
            "_model_name": "DescriptionStyleModel",
            "_view_count": null,
            "_view_module": "@jupyter-widgets/base",
            "_view_module_version": "1.2.0",
            "_view_name": "StyleView",
            "description_width": ""
          }
        },
        "5965038d448b4cb79cd1038619b25c14": {
          "model_module": "@jupyter-widgets/base",
          "model_name": "LayoutModel",
          "model_module_version": "1.2.0",
          "state": {
            "_model_module": "@jupyter-widgets/base",
            "_model_module_version": "1.2.0",
            "_model_name": "LayoutModel",
            "_view_count": null,
            "_view_module": "@jupyter-widgets/base",
            "_view_module_version": "1.2.0",
            "_view_name": "LayoutView",
            "align_content": null,
            "align_items": null,
            "align_self": null,
            "border": null,
            "bottom": null,
            "display": null,
            "flex": null,
            "flex_flow": null,
            "grid_area": null,
            "grid_auto_columns": null,
            "grid_auto_flow": null,
            "grid_auto_rows": null,
            "grid_column": null,
            "grid_gap": null,
            "grid_row": null,
            "grid_template_areas": null,
            "grid_template_columns": null,
            "grid_template_rows": null,
            "height": null,
            "justify_content": null,
            "justify_items": null,
            "left": null,
            "margin": null,
            "max_height": null,
            "max_width": null,
            "min_height": null,
            "min_width": null,
            "object_fit": null,
            "object_position": null,
            "order": null,
            "overflow": null,
            "overflow_x": null,
            "overflow_y": null,
            "padding": null,
            "right": null,
            "top": null,
            "visibility": null,
            "width": null
          }
        },
        "c7745a75c6eb492bb523ca88c43a2f91": {
          "model_module": "@jupyter-widgets/controls",
          "model_name": "ProgressStyleModel",
          "model_module_version": "1.5.0",
          "state": {
            "_model_module": "@jupyter-widgets/controls",
            "_model_module_version": "1.5.0",
            "_model_name": "ProgressStyleModel",
            "_view_count": null,
            "_view_module": "@jupyter-widgets/base",
            "_view_module_version": "1.2.0",
            "_view_name": "StyleView",
            "bar_color": null,
            "description_width": ""
          }
        },
        "536b8033a0bb454d913880756fcaef53": {
          "model_module": "@jupyter-widgets/base",
          "model_name": "LayoutModel",
          "model_module_version": "1.2.0",
          "state": {
            "_model_module": "@jupyter-widgets/base",
            "_model_module_version": "1.2.0",
            "_model_name": "LayoutModel",
            "_view_count": null,
            "_view_module": "@jupyter-widgets/base",
            "_view_module_version": "1.2.0",
            "_view_name": "LayoutView",
            "align_content": null,
            "align_items": null,
            "align_self": null,
            "border": null,
            "bottom": null,
            "display": null,
            "flex": null,
            "flex_flow": null,
            "grid_area": null,
            "grid_auto_columns": null,
            "grid_auto_flow": null,
            "grid_auto_rows": null,
            "grid_column": null,
            "grid_gap": null,
            "grid_row": null,
            "grid_template_areas": null,
            "grid_template_columns": null,
            "grid_template_rows": null,
            "height": null,
            "justify_content": null,
            "justify_items": null,
            "left": null,
            "margin": null,
            "max_height": null,
            "max_width": null,
            "min_height": null,
            "min_width": null,
            "object_fit": null,
            "object_position": null,
            "order": null,
            "overflow": null,
            "overflow_x": null,
            "overflow_y": null,
            "padding": null,
            "right": null,
            "top": null,
            "visibility": null,
            "width": null
          }
        },
        "56fef950ee3c4001bf26b0438dfdc181": {
          "model_module": "@jupyter-widgets/controls",
          "model_name": "DescriptionStyleModel",
          "model_module_version": "1.5.0",
          "state": {
            "_model_module": "@jupyter-widgets/controls",
            "_model_module_version": "1.5.0",
            "_model_name": "DescriptionStyleModel",
            "_view_count": null,
            "_view_module": "@jupyter-widgets/base",
            "_view_module_version": "1.2.0",
            "_view_name": "StyleView",
            "description_width": ""
          }
        },
        "6a6b5da1495243a1b3860dd8f6d0e5dc": {
          "model_module": "@jupyter-widgets/controls",
          "model_name": "HBoxModel",
          "model_module_version": "1.5.0",
          "state": {
            "_dom_classes": [],
            "_model_module": "@jupyter-widgets/controls",
            "_model_module_version": "1.5.0",
            "_model_name": "HBoxModel",
            "_view_count": null,
            "_view_module": "@jupyter-widgets/controls",
            "_view_module_version": "1.5.0",
            "_view_name": "HBoxView",
            "box_style": "",
            "children": [
              "IPY_MODEL_d0f574155cd449f3a8a0fd8ae11cbd11",
              "IPY_MODEL_20ed3482e65e4c0885386b860503bc53",
              "IPY_MODEL_95beb00404d24b5f8e8d76e4dfa00511"
            ],
            "layout": "IPY_MODEL_6336a2b2257240d4bd31ce4e502dbc94"
          }
        },
        "d0f574155cd449f3a8a0fd8ae11cbd11": {
          "model_module": "@jupyter-widgets/controls",
          "model_name": "HTMLModel",
          "model_module_version": "1.5.0",
          "state": {
            "_dom_classes": [],
            "_model_module": "@jupyter-widgets/controls",
            "_model_module_version": "1.5.0",
            "_model_name": "HTMLModel",
            "_view_count": null,
            "_view_module": "@jupyter-widgets/controls",
            "_view_module_version": "1.5.0",
            "_view_name": "HTMLView",
            "description": "",
            "description_tooltip": null,
            "layout": "IPY_MODEL_33800d5549ad4d549841f717181b5404",
            "placeholder": "​",
            "style": "IPY_MODEL_29fb8761d19b429a8e317cd7c829ce40",
            "value": "vocab.txt: 100%"
          }
        },
        "20ed3482e65e4c0885386b860503bc53": {
          "model_module": "@jupyter-widgets/controls",
          "model_name": "FloatProgressModel",
          "model_module_version": "1.5.0",
          "state": {
            "_dom_classes": [],
            "_model_module": "@jupyter-widgets/controls",
            "_model_module_version": "1.5.0",
            "_model_name": "FloatProgressModel",
            "_view_count": null,
            "_view_module": "@jupyter-widgets/controls",
            "_view_module_version": "1.5.0",
            "_view_name": "ProgressView",
            "bar_style": "success",
            "description": "",
            "description_tooltip": null,
            "layout": "IPY_MODEL_33a02bcca2b14e058760ea8829226ed0",
            "max": 213450,
            "min": 0,
            "orientation": "horizontal",
            "style": "IPY_MODEL_f8de90c8ff1642f5a5297a8182f7b85b",
            "value": 213450
          }
        },
        "95beb00404d24b5f8e8d76e4dfa00511": {
          "model_module": "@jupyter-widgets/controls",
          "model_name": "HTMLModel",
          "model_module_version": "1.5.0",
          "state": {
            "_dom_classes": [],
            "_model_module": "@jupyter-widgets/controls",
            "_model_module_version": "1.5.0",
            "_model_name": "HTMLModel",
            "_view_count": null,
            "_view_module": "@jupyter-widgets/controls",
            "_view_module_version": "1.5.0",
            "_view_name": "HTMLView",
            "description": "",
            "description_tooltip": null,
            "layout": "IPY_MODEL_93f92046bf524894ac446f5e0730b911",
            "placeholder": "​",
            "style": "IPY_MODEL_9c04827d28944e09a9c9d1b5c6671b90",
            "value": " 213k/213k [00:00&lt;00:00, 631kB/s]"
          }
        },
        "6336a2b2257240d4bd31ce4e502dbc94": {
          "model_module": "@jupyter-widgets/base",
          "model_name": "LayoutModel",
          "model_module_version": "1.2.0",
          "state": {
            "_model_module": "@jupyter-widgets/base",
            "_model_module_version": "1.2.0",
            "_model_name": "LayoutModel",
            "_view_count": null,
            "_view_module": "@jupyter-widgets/base",
            "_view_module_version": "1.2.0",
            "_view_name": "LayoutView",
            "align_content": null,
            "align_items": null,
            "align_self": null,
            "border": null,
            "bottom": null,
            "display": null,
            "flex": null,
            "flex_flow": null,
            "grid_area": null,
            "grid_auto_columns": null,
            "grid_auto_flow": null,
            "grid_auto_rows": null,
            "grid_column": null,
            "grid_gap": null,
            "grid_row": null,
            "grid_template_areas": null,
            "grid_template_columns": null,
            "grid_template_rows": null,
            "height": null,
            "justify_content": null,
            "justify_items": null,
            "left": null,
            "margin": null,
            "max_height": null,
            "max_width": null,
            "min_height": null,
            "min_width": null,
            "object_fit": null,
            "object_position": null,
            "order": null,
            "overflow": null,
            "overflow_x": null,
            "overflow_y": null,
            "padding": null,
            "right": null,
            "top": null,
            "visibility": null,
            "width": null
          }
        },
        "33800d5549ad4d549841f717181b5404": {
          "model_module": "@jupyter-widgets/base",
          "model_name": "LayoutModel",
          "model_module_version": "1.2.0",
          "state": {
            "_model_module": "@jupyter-widgets/base",
            "_model_module_version": "1.2.0",
            "_model_name": "LayoutModel",
            "_view_count": null,
            "_view_module": "@jupyter-widgets/base",
            "_view_module_version": "1.2.0",
            "_view_name": "LayoutView",
            "align_content": null,
            "align_items": null,
            "align_self": null,
            "border": null,
            "bottom": null,
            "display": null,
            "flex": null,
            "flex_flow": null,
            "grid_area": null,
            "grid_auto_columns": null,
            "grid_auto_flow": null,
            "grid_auto_rows": null,
            "grid_column": null,
            "grid_gap": null,
            "grid_row": null,
            "grid_template_areas": null,
            "grid_template_columns": null,
            "grid_template_rows": null,
            "height": null,
            "justify_content": null,
            "justify_items": null,
            "left": null,
            "margin": null,
            "max_height": null,
            "max_width": null,
            "min_height": null,
            "min_width": null,
            "object_fit": null,
            "object_position": null,
            "order": null,
            "overflow": null,
            "overflow_x": null,
            "overflow_y": null,
            "padding": null,
            "right": null,
            "top": null,
            "visibility": null,
            "width": null
          }
        },
        "29fb8761d19b429a8e317cd7c829ce40": {
          "model_module": "@jupyter-widgets/controls",
          "model_name": "DescriptionStyleModel",
          "model_module_version": "1.5.0",
          "state": {
            "_model_module": "@jupyter-widgets/controls",
            "_model_module_version": "1.5.0",
            "_model_name": "DescriptionStyleModel",
            "_view_count": null,
            "_view_module": "@jupyter-widgets/base",
            "_view_module_version": "1.2.0",
            "_view_name": "StyleView",
            "description_width": ""
          }
        },
        "33a02bcca2b14e058760ea8829226ed0": {
          "model_module": "@jupyter-widgets/base",
          "model_name": "LayoutModel",
          "model_module_version": "1.2.0",
          "state": {
            "_model_module": "@jupyter-widgets/base",
            "_model_module_version": "1.2.0",
            "_model_name": "LayoutModel",
            "_view_count": null,
            "_view_module": "@jupyter-widgets/base",
            "_view_module_version": "1.2.0",
            "_view_name": "LayoutView",
            "align_content": null,
            "align_items": null,
            "align_self": null,
            "border": null,
            "bottom": null,
            "display": null,
            "flex": null,
            "flex_flow": null,
            "grid_area": null,
            "grid_auto_columns": null,
            "grid_auto_flow": null,
            "grid_auto_rows": null,
            "grid_column": null,
            "grid_gap": null,
            "grid_row": null,
            "grid_template_areas": null,
            "grid_template_columns": null,
            "grid_template_rows": null,
            "height": null,
            "justify_content": null,
            "justify_items": null,
            "left": null,
            "margin": null,
            "max_height": null,
            "max_width": null,
            "min_height": null,
            "min_width": null,
            "object_fit": null,
            "object_position": null,
            "order": null,
            "overflow": null,
            "overflow_x": null,
            "overflow_y": null,
            "padding": null,
            "right": null,
            "top": null,
            "visibility": null,
            "width": null
          }
        },
        "f8de90c8ff1642f5a5297a8182f7b85b": {
          "model_module": "@jupyter-widgets/controls",
          "model_name": "ProgressStyleModel",
          "model_module_version": "1.5.0",
          "state": {
            "_model_module": "@jupyter-widgets/controls",
            "_model_module_version": "1.5.0",
            "_model_name": "ProgressStyleModel",
            "_view_count": null,
            "_view_module": "@jupyter-widgets/base",
            "_view_module_version": "1.2.0",
            "_view_name": "StyleView",
            "bar_color": null,
            "description_width": ""
          }
        },
        "93f92046bf524894ac446f5e0730b911": {
          "model_module": "@jupyter-widgets/base",
          "model_name": "LayoutModel",
          "model_module_version": "1.2.0",
          "state": {
            "_model_module": "@jupyter-widgets/base",
            "_model_module_version": "1.2.0",
            "_model_name": "LayoutModel",
            "_view_count": null,
            "_view_module": "@jupyter-widgets/base",
            "_view_module_version": "1.2.0",
            "_view_name": "LayoutView",
            "align_content": null,
            "align_items": null,
            "align_self": null,
            "border": null,
            "bottom": null,
            "display": null,
            "flex": null,
            "flex_flow": null,
            "grid_area": null,
            "grid_auto_columns": null,
            "grid_auto_flow": null,
            "grid_auto_rows": null,
            "grid_column": null,
            "grid_gap": null,
            "grid_row": null,
            "grid_template_areas": null,
            "grid_template_columns": null,
            "grid_template_rows": null,
            "height": null,
            "justify_content": null,
            "justify_items": null,
            "left": null,
            "margin": null,
            "max_height": null,
            "max_width": null,
            "min_height": null,
            "min_width": null,
            "object_fit": null,
            "object_position": null,
            "order": null,
            "overflow": null,
            "overflow_x": null,
            "overflow_y": null,
            "padding": null,
            "right": null,
            "top": null,
            "visibility": null,
            "width": null
          }
        },
        "9c04827d28944e09a9c9d1b5c6671b90": {
          "model_module": "@jupyter-widgets/controls",
          "model_name": "DescriptionStyleModel",
          "model_module_version": "1.5.0",
          "state": {
            "_model_module": "@jupyter-widgets/controls",
            "_model_module_version": "1.5.0",
            "_model_name": "DescriptionStyleModel",
            "_view_count": null,
            "_view_module": "@jupyter-widgets/base",
            "_view_module_version": "1.2.0",
            "_view_name": "StyleView",
            "description_width": ""
          }
        },
        "5efeb9611b5c4639a712b38dcab1f7a4": {
          "model_module": "@jupyter-widgets/controls",
          "model_name": "HBoxModel",
          "model_module_version": "1.5.0",
          "state": {
            "_dom_classes": [],
            "_model_module": "@jupyter-widgets/controls",
            "_model_module_version": "1.5.0",
            "_model_name": "HBoxModel",
            "_view_count": null,
            "_view_module": "@jupyter-widgets/controls",
            "_view_module_version": "1.5.0",
            "_view_name": "HBoxView",
            "box_style": "",
            "children": [
              "IPY_MODEL_4bd3fa79a13048268dedd88ac09d0272",
              "IPY_MODEL_3bfac3ac9a5d4aa7a78b15c81a10daa0",
              "IPY_MODEL_9b0228fa4cf1455aab33e251fa67bb8b"
            ],
            "layout": "IPY_MODEL_99a9eea2d5c741abb6db751be63865dc"
          }
        },
        "4bd3fa79a13048268dedd88ac09d0272": {
          "model_module": "@jupyter-widgets/controls",
          "model_name": "HTMLModel",
          "model_module_version": "1.5.0",
          "state": {
            "_dom_classes": [],
            "_model_module": "@jupyter-widgets/controls",
            "_model_module_version": "1.5.0",
            "_model_name": "HTMLModel",
            "_view_count": null,
            "_view_module": "@jupyter-widgets/controls",
            "_view_module_version": "1.5.0",
            "_view_name": "HTMLView",
            "description": "",
            "description_tooltip": null,
            "layout": "IPY_MODEL_5d4c611ad225437da72b24a132ec58d5",
            "placeholder": "​",
            "style": "IPY_MODEL_0ea7eaa2dab04f37bf0f3e436a3f4533",
            "value": "config.json: 100%"
          }
        },
        "3bfac3ac9a5d4aa7a78b15c81a10daa0": {
          "model_module": "@jupyter-widgets/controls",
          "model_name": "FloatProgressModel",
          "model_module_version": "1.5.0",
          "state": {
            "_dom_classes": [],
            "_model_module": "@jupyter-widgets/controls",
            "_model_module_version": "1.5.0",
            "_model_name": "FloatProgressModel",
            "_view_count": null,
            "_view_module": "@jupyter-widgets/controls",
            "_view_module_version": "1.5.0",
            "_view_name": "ProgressView",
            "bar_style": "success",
            "description": "",
            "description_tooltip": null,
            "layout": "IPY_MODEL_9f896c7e324a401792cf3d4e5678baa1",
            "max": 313,
            "min": 0,
            "orientation": "horizontal",
            "style": "IPY_MODEL_9868529712db4af5890ad1e9a84507e9",
            "value": 313
          }
        },
        "9b0228fa4cf1455aab33e251fa67bb8b": {
          "model_module": "@jupyter-widgets/controls",
          "model_name": "HTMLModel",
          "model_module_version": "1.5.0",
          "state": {
            "_dom_classes": [],
            "_model_module": "@jupyter-widgets/controls",
            "_model_module_version": "1.5.0",
            "_model_name": "HTMLModel",
            "_view_count": null,
            "_view_module": "@jupyter-widgets/controls",
            "_view_module_version": "1.5.0",
            "_view_name": "HTMLView",
            "description": "",
            "description_tooltip": null,
            "layout": "IPY_MODEL_0f632328ce354d418bc4142a5795b3aa",
            "placeholder": "​",
            "style": "IPY_MODEL_f2d5da76881f4cf4be410dc8f9fc298f",
            "value": " 313/313 [00:00&lt;00:00, 16.8kB/s]"
          }
        },
        "99a9eea2d5c741abb6db751be63865dc": {
          "model_module": "@jupyter-widgets/base",
          "model_name": "LayoutModel",
          "model_module_version": "1.2.0",
          "state": {
            "_model_module": "@jupyter-widgets/base",
            "_model_module_version": "1.2.0",
            "_model_name": "LayoutModel",
            "_view_count": null,
            "_view_module": "@jupyter-widgets/base",
            "_view_module_version": "1.2.0",
            "_view_name": "LayoutView",
            "align_content": null,
            "align_items": null,
            "align_self": null,
            "border": null,
            "bottom": null,
            "display": null,
            "flex": null,
            "flex_flow": null,
            "grid_area": null,
            "grid_auto_columns": null,
            "grid_auto_flow": null,
            "grid_auto_rows": null,
            "grid_column": null,
            "grid_gap": null,
            "grid_row": null,
            "grid_template_areas": null,
            "grid_template_columns": null,
            "grid_template_rows": null,
            "height": null,
            "justify_content": null,
            "justify_items": null,
            "left": null,
            "margin": null,
            "max_height": null,
            "max_width": null,
            "min_height": null,
            "min_width": null,
            "object_fit": null,
            "object_position": null,
            "order": null,
            "overflow": null,
            "overflow_x": null,
            "overflow_y": null,
            "padding": null,
            "right": null,
            "top": null,
            "visibility": null,
            "width": null
          }
        },
        "5d4c611ad225437da72b24a132ec58d5": {
          "model_module": "@jupyter-widgets/base",
          "model_name": "LayoutModel",
          "model_module_version": "1.2.0",
          "state": {
            "_model_module": "@jupyter-widgets/base",
            "_model_module_version": "1.2.0",
            "_model_name": "LayoutModel",
            "_view_count": null,
            "_view_module": "@jupyter-widgets/base",
            "_view_module_version": "1.2.0",
            "_view_name": "LayoutView",
            "align_content": null,
            "align_items": null,
            "align_self": null,
            "border": null,
            "bottom": null,
            "display": null,
            "flex": null,
            "flex_flow": null,
            "grid_area": null,
            "grid_auto_columns": null,
            "grid_auto_flow": null,
            "grid_auto_rows": null,
            "grid_column": null,
            "grid_gap": null,
            "grid_row": null,
            "grid_template_areas": null,
            "grid_template_columns": null,
            "grid_template_rows": null,
            "height": null,
            "justify_content": null,
            "justify_items": null,
            "left": null,
            "margin": null,
            "max_height": null,
            "max_width": null,
            "min_height": null,
            "min_width": null,
            "object_fit": null,
            "object_position": null,
            "order": null,
            "overflow": null,
            "overflow_x": null,
            "overflow_y": null,
            "padding": null,
            "right": null,
            "top": null,
            "visibility": null,
            "width": null
          }
        },
        "0ea7eaa2dab04f37bf0f3e436a3f4533": {
          "model_module": "@jupyter-widgets/controls",
          "model_name": "DescriptionStyleModel",
          "model_module_version": "1.5.0",
          "state": {
            "_model_module": "@jupyter-widgets/controls",
            "_model_module_version": "1.5.0",
            "_model_name": "DescriptionStyleModel",
            "_view_count": null,
            "_view_module": "@jupyter-widgets/base",
            "_view_module_version": "1.2.0",
            "_view_name": "StyleView",
            "description_width": ""
          }
        },
        "9f896c7e324a401792cf3d4e5678baa1": {
          "model_module": "@jupyter-widgets/base",
          "model_name": "LayoutModel",
          "model_module_version": "1.2.0",
          "state": {
            "_model_module": "@jupyter-widgets/base",
            "_model_module_version": "1.2.0",
            "_model_name": "LayoutModel",
            "_view_count": null,
            "_view_module": "@jupyter-widgets/base",
            "_view_module_version": "1.2.0",
            "_view_name": "LayoutView",
            "align_content": null,
            "align_items": null,
            "align_self": null,
            "border": null,
            "bottom": null,
            "display": null,
            "flex": null,
            "flex_flow": null,
            "grid_area": null,
            "grid_auto_columns": null,
            "grid_auto_flow": null,
            "grid_auto_rows": null,
            "grid_column": null,
            "grid_gap": null,
            "grid_row": null,
            "grid_template_areas": null,
            "grid_template_columns": null,
            "grid_template_rows": null,
            "height": null,
            "justify_content": null,
            "justify_items": null,
            "left": null,
            "margin": null,
            "max_height": null,
            "max_width": null,
            "min_height": null,
            "min_width": null,
            "object_fit": null,
            "object_position": null,
            "order": null,
            "overflow": null,
            "overflow_x": null,
            "overflow_y": null,
            "padding": null,
            "right": null,
            "top": null,
            "visibility": null,
            "width": null
          }
        },
        "9868529712db4af5890ad1e9a84507e9": {
          "model_module": "@jupyter-widgets/controls",
          "model_name": "ProgressStyleModel",
          "model_module_version": "1.5.0",
          "state": {
            "_model_module": "@jupyter-widgets/controls",
            "_model_module_version": "1.5.0",
            "_model_name": "ProgressStyleModel",
            "_view_count": null,
            "_view_module": "@jupyter-widgets/base",
            "_view_module_version": "1.2.0",
            "_view_name": "StyleView",
            "bar_color": null,
            "description_width": ""
          }
        },
        "0f632328ce354d418bc4142a5795b3aa": {
          "model_module": "@jupyter-widgets/base",
          "model_name": "LayoutModel",
          "model_module_version": "1.2.0",
          "state": {
            "_model_module": "@jupyter-widgets/base",
            "_model_module_version": "1.2.0",
            "_model_name": "LayoutModel",
            "_view_count": null,
            "_view_module": "@jupyter-widgets/base",
            "_view_module_version": "1.2.0",
            "_view_name": "LayoutView",
            "align_content": null,
            "align_items": null,
            "align_self": null,
            "border": null,
            "bottom": null,
            "display": null,
            "flex": null,
            "flex_flow": null,
            "grid_area": null,
            "grid_auto_columns": null,
            "grid_auto_flow": null,
            "grid_auto_rows": null,
            "grid_column": null,
            "grid_gap": null,
            "grid_row": null,
            "grid_template_areas": null,
            "grid_template_columns": null,
            "grid_template_rows": null,
            "height": null,
            "justify_content": null,
            "justify_items": null,
            "left": null,
            "margin": null,
            "max_height": null,
            "max_width": null,
            "min_height": null,
            "min_width": null,
            "object_fit": null,
            "object_position": null,
            "order": null,
            "overflow": null,
            "overflow_x": null,
            "overflow_y": null,
            "padding": null,
            "right": null,
            "top": null,
            "visibility": null,
            "width": null
          }
        },
        "f2d5da76881f4cf4be410dc8f9fc298f": {
          "model_module": "@jupyter-widgets/controls",
          "model_name": "DescriptionStyleModel",
          "model_module_version": "1.5.0",
          "state": {
            "_model_module": "@jupyter-widgets/controls",
            "_model_module_version": "1.5.0",
            "_model_name": "DescriptionStyleModel",
            "_view_count": null,
            "_view_module": "@jupyter-widgets/base",
            "_view_module_version": "1.2.0",
            "_view_name": "StyleView",
            "description_width": ""
          }
        },
        "0f2fb6e9ed7c4ced8886b9ade02d6f72": {
          "model_module": "@jupyter-widgets/controls",
          "model_name": "HBoxModel",
          "model_module_version": "1.5.0",
          "state": {
            "_dom_classes": [],
            "_model_module": "@jupyter-widgets/controls",
            "_model_module_version": "1.5.0",
            "_model_name": "HBoxModel",
            "_view_count": null,
            "_view_module": "@jupyter-widgets/controls",
            "_view_module_version": "1.5.0",
            "_view_name": "HBoxView",
            "box_style": "",
            "children": [
              "IPY_MODEL_35a79af8c7a44bd48ab1f9afd44a751f",
              "IPY_MODEL_a07110b1c76542d6822af2cbb9afadfe",
              "IPY_MODEL_0f73755ed93b4673aae37fa5d9a30377"
            ],
            "layout": "IPY_MODEL_090615c68b614b92842328fed77b140f"
          }
        },
        "35a79af8c7a44bd48ab1f9afd44a751f": {
          "model_module": "@jupyter-widgets/controls",
          "model_name": "HTMLModel",
          "model_module_version": "1.5.0",
          "state": {
            "_dom_classes": [],
            "_model_module": "@jupyter-widgets/controls",
            "_model_module_version": "1.5.0",
            "_model_name": "HTMLModel",
            "_view_count": null,
            "_view_module": "@jupyter-widgets/controls",
            "_view_module_version": "1.5.0",
            "_view_name": "HTMLView",
            "description": "",
            "description_tooltip": null,
            "layout": "IPY_MODEL_8fc157b374414fe69d5662d123b0374d",
            "placeholder": "​",
            "style": "IPY_MODEL_bc8e0d67f36744c3b52a20a0f560d3df",
            "value": "pytorch_model.bin: 100%"
          }
        },
        "a07110b1c76542d6822af2cbb9afadfe": {
          "model_module": "@jupyter-widgets/controls",
          "model_name": "FloatProgressModel",
          "model_module_version": "1.5.0",
          "state": {
            "_dom_classes": [],
            "_model_module": "@jupyter-widgets/controls",
            "_model_module_version": "1.5.0",
            "_model_name": "FloatProgressModel",
            "_view_count": null,
            "_view_module": "@jupyter-widgets/controls",
            "_view_module_version": "1.5.0",
            "_view_name": "ProgressView",
            "bar_style": "success",
            "description": "",
            "description_tooltip": null,
            "layout": "IPY_MODEL_51dfdb7dd0a9496bb8c3a841d0b07384",
            "max": 435780550,
            "min": 0,
            "orientation": "horizontal",
            "style": "IPY_MODEL_44180f6dd1154898b8610bb5ca9e7159",
            "value": 435780550
          }
        },
        "0f73755ed93b4673aae37fa5d9a30377": {
          "model_module": "@jupyter-widgets/controls",
          "model_name": "HTMLModel",
          "model_module_version": "1.5.0",
          "state": {
            "_dom_classes": [],
            "_model_module": "@jupyter-widgets/controls",
            "_model_module_version": "1.5.0",
            "_model_name": "HTMLModel",
            "_view_count": null,
            "_view_module": "@jupyter-widgets/controls",
            "_view_module_version": "1.5.0",
            "_view_name": "HTMLView",
            "description": "",
            "description_tooltip": null,
            "layout": "IPY_MODEL_9126ac51197040c89a06a6ea0868f0d8",
            "placeholder": "​",
            "style": "IPY_MODEL_3e1ead05d35543a78677a0f9af1a4c59",
            "value": " 436M/436M [00:11&lt;00:00, 41.0MB/s]"
          }
        },
        "090615c68b614b92842328fed77b140f": {
          "model_module": "@jupyter-widgets/base",
          "model_name": "LayoutModel",
          "model_module_version": "1.2.0",
          "state": {
            "_model_module": "@jupyter-widgets/base",
            "_model_module_version": "1.2.0",
            "_model_name": "LayoutModel",
            "_view_count": null,
            "_view_module": "@jupyter-widgets/base",
            "_view_module_version": "1.2.0",
            "_view_name": "LayoutView",
            "align_content": null,
            "align_items": null,
            "align_self": null,
            "border": null,
            "bottom": null,
            "display": null,
            "flex": null,
            "flex_flow": null,
            "grid_area": null,
            "grid_auto_columns": null,
            "grid_auto_flow": null,
            "grid_auto_rows": null,
            "grid_column": null,
            "grid_gap": null,
            "grid_row": null,
            "grid_template_areas": null,
            "grid_template_columns": null,
            "grid_template_rows": null,
            "height": null,
            "justify_content": null,
            "justify_items": null,
            "left": null,
            "margin": null,
            "max_height": null,
            "max_width": null,
            "min_height": null,
            "min_width": null,
            "object_fit": null,
            "object_position": null,
            "order": null,
            "overflow": null,
            "overflow_x": null,
            "overflow_y": null,
            "padding": null,
            "right": null,
            "top": null,
            "visibility": null,
            "width": null
          }
        },
        "8fc157b374414fe69d5662d123b0374d": {
          "model_module": "@jupyter-widgets/base",
          "model_name": "LayoutModel",
          "model_module_version": "1.2.0",
          "state": {
            "_model_module": "@jupyter-widgets/base",
            "_model_module_version": "1.2.0",
            "_model_name": "LayoutModel",
            "_view_count": null,
            "_view_module": "@jupyter-widgets/base",
            "_view_module_version": "1.2.0",
            "_view_name": "LayoutView",
            "align_content": null,
            "align_items": null,
            "align_self": null,
            "border": null,
            "bottom": null,
            "display": null,
            "flex": null,
            "flex_flow": null,
            "grid_area": null,
            "grid_auto_columns": null,
            "grid_auto_flow": null,
            "grid_auto_rows": null,
            "grid_column": null,
            "grid_gap": null,
            "grid_row": null,
            "grid_template_areas": null,
            "grid_template_columns": null,
            "grid_template_rows": null,
            "height": null,
            "justify_content": null,
            "justify_items": null,
            "left": null,
            "margin": null,
            "max_height": null,
            "max_width": null,
            "min_height": null,
            "min_width": null,
            "object_fit": null,
            "object_position": null,
            "order": null,
            "overflow": null,
            "overflow_x": null,
            "overflow_y": null,
            "padding": null,
            "right": null,
            "top": null,
            "visibility": null,
            "width": null
          }
        },
        "bc8e0d67f36744c3b52a20a0f560d3df": {
          "model_module": "@jupyter-widgets/controls",
          "model_name": "DescriptionStyleModel",
          "model_module_version": "1.5.0",
          "state": {
            "_model_module": "@jupyter-widgets/controls",
            "_model_module_version": "1.5.0",
            "_model_name": "DescriptionStyleModel",
            "_view_count": null,
            "_view_module": "@jupyter-widgets/base",
            "_view_module_version": "1.2.0",
            "_view_name": "StyleView",
            "description_width": ""
          }
        },
        "51dfdb7dd0a9496bb8c3a841d0b07384": {
          "model_module": "@jupyter-widgets/base",
          "model_name": "LayoutModel",
          "model_module_version": "1.2.0",
          "state": {
            "_model_module": "@jupyter-widgets/base",
            "_model_module_version": "1.2.0",
            "_model_name": "LayoutModel",
            "_view_count": null,
            "_view_module": "@jupyter-widgets/base",
            "_view_module_version": "1.2.0",
            "_view_name": "LayoutView",
            "align_content": null,
            "align_items": null,
            "align_self": null,
            "border": null,
            "bottom": null,
            "display": null,
            "flex": null,
            "flex_flow": null,
            "grid_area": null,
            "grid_auto_columns": null,
            "grid_auto_flow": null,
            "grid_auto_rows": null,
            "grid_column": null,
            "grid_gap": null,
            "grid_row": null,
            "grid_template_areas": null,
            "grid_template_columns": null,
            "grid_template_rows": null,
            "height": null,
            "justify_content": null,
            "justify_items": null,
            "left": null,
            "margin": null,
            "max_height": null,
            "max_width": null,
            "min_height": null,
            "min_width": null,
            "object_fit": null,
            "object_position": null,
            "order": null,
            "overflow": null,
            "overflow_x": null,
            "overflow_y": null,
            "padding": null,
            "right": null,
            "top": null,
            "visibility": null,
            "width": null
          }
        },
        "44180f6dd1154898b8610bb5ca9e7159": {
          "model_module": "@jupyter-widgets/controls",
          "model_name": "ProgressStyleModel",
          "model_module_version": "1.5.0",
          "state": {
            "_model_module": "@jupyter-widgets/controls",
            "_model_module_version": "1.5.0",
            "_model_name": "ProgressStyleModel",
            "_view_count": null,
            "_view_module": "@jupyter-widgets/base",
            "_view_module_version": "1.2.0",
            "_view_name": "StyleView",
            "bar_color": null,
            "description_width": ""
          }
        },
        "9126ac51197040c89a06a6ea0868f0d8": {
          "model_module": "@jupyter-widgets/base",
          "model_name": "LayoutModel",
          "model_module_version": "1.2.0",
          "state": {
            "_model_module": "@jupyter-widgets/base",
            "_model_module_version": "1.2.0",
            "_model_name": "LayoutModel",
            "_view_count": null,
            "_view_module": "@jupyter-widgets/base",
            "_view_module_version": "1.2.0",
            "_view_name": "LayoutView",
            "align_content": null,
            "align_items": null,
            "align_self": null,
            "border": null,
            "bottom": null,
            "display": null,
            "flex": null,
            "flex_flow": null,
            "grid_area": null,
            "grid_auto_columns": null,
            "grid_auto_flow": null,
            "grid_auto_rows": null,
            "grid_column": null,
            "grid_gap": null,
            "grid_row": null,
            "grid_template_areas": null,
            "grid_template_columns": null,
            "grid_template_rows": null,
            "height": null,
            "justify_content": null,
            "justify_items": null,
            "left": null,
            "margin": null,
            "max_height": null,
            "max_width": null,
            "min_height": null,
            "min_width": null,
            "object_fit": null,
            "object_position": null,
            "order": null,
            "overflow": null,
            "overflow_x": null,
            "overflow_y": null,
            "padding": null,
            "right": null,
            "top": null,
            "visibility": null,
            "width": null
          }
        },
        "3e1ead05d35543a78677a0f9af1a4c59": {
          "model_module": "@jupyter-widgets/controls",
          "model_name": "DescriptionStyleModel",
          "model_module_version": "1.5.0",
          "state": {
            "_model_module": "@jupyter-widgets/controls",
            "_model_module_version": "1.5.0",
            "_model_name": "DescriptionStyleModel",
            "_view_count": null,
            "_view_module": "@jupyter-widgets/base",
            "_view_module_version": "1.2.0",
            "_view_name": "StyleView",
            "description_width": ""
          }
        },
        "ffc458bb660b4f82923752ccfaf0a921": {
          "model_module": "@jupyter-widgets/controls",
          "model_name": "HBoxModel",
          "model_module_version": "1.5.0",
          "state": {
            "_dom_classes": [],
            "_model_module": "@jupyter-widgets/controls",
            "_model_module_version": "1.5.0",
            "_model_name": "HBoxModel",
            "_view_count": null,
            "_view_module": "@jupyter-widgets/controls",
            "_view_module_version": "1.5.0",
            "_view_name": "HBoxView",
            "box_style": "",
            "children": [
              "IPY_MODEL_978409276e2547f3b7031f03d04513a3",
              "IPY_MODEL_b69e4467c02a4a5694bc0867e01a3354",
              "IPY_MODEL_0cabca8e29bd43bb86f461c067d901d8"
            ],
            "layout": "IPY_MODEL_804173bf3ead4b5d8fc7ffbf62fd3533"
          }
        },
        "978409276e2547f3b7031f03d04513a3": {
          "model_module": "@jupyter-widgets/controls",
          "model_name": "HTMLModel",
          "model_module_version": "1.5.0",
          "state": {
            "_dom_classes": [],
            "_model_module": "@jupyter-widgets/controls",
            "_model_module_version": "1.5.0",
            "_model_name": "HTMLModel",
            "_view_count": null,
            "_view_module": "@jupyter-widgets/controls",
            "_view_module_version": "1.5.0",
            "_view_name": "HTMLView",
            "description": "",
            "description_tooltip": null,
            "layout": "IPY_MODEL_78c366e83cf0489f9ea3d18221d64d2a",
            "placeholder": "​",
            "style": "IPY_MODEL_84e40a34cb6a4580bb6bd40d9b1cbe4e",
            "value": "Map: 100%"
          }
        },
        "b69e4467c02a4a5694bc0867e01a3354": {
          "model_module": "@jupyter-widgets/controls",
          "model_name": "FloatProgressModel",
          "model_module_version": "1.5.0",
          "state": {
            "_dom_classes": [],
            "_model_module": "@jupyter-widgets/controls",
            "_model_module_version": "1.5.0",
            "_model_name": "FloatProgressModel",
            "_view_count": null,
            "_view_module": "@jupyter-widgets/controls",
            "_view_module_version": "1.5.0",
            "_view_name": "ProgressView",
            "bar_style": "success",
            "description": "",
            "description_tooltip": null,
            "layout": "IPY_MODEL_a543f6b114ae48eda152d1b91c7b4271",
            "max": 41289,
            "min": 0,
            "orientation": "horizontal",
            "style": "IPY_MODEL_2d041a6b96664a668e3681ae1ddd1f52",
            "value": 41289
          }
        },
        "0cabca8e29bd43bb86f461c067d901d8": {
          "model_module": "@jupyter-widgets/controls",
          "model_name": "HTMLModel",
          "model_module_version": "1.5.0",
          "state": {
            "_dom_classes": [],
            "_model_module": "@jupyter-widgets/controls",
            "_model_module_version": "1.5.0",
            "_model_name": "HTMLModel",
            "_view_count": null,
            "_view_module": "@jupyter-widgets/controls",
            "_view_module_version": "1.5.0",
            "_view_name": "HTMLView",
            "description": "",
            "description_tooltip": null,
            "layout": "IPY_MODEL_f92f51514d0645f3917f042e9fb43ca3",
            "placeholder": "​",
            "style": "IPY_MODEL_9df395ec78f24a2d81c939a9efaa2cb3",
            "value": " 41289/41289 [03:03&lt;00:00, 202.19 examples/s]"
          }
        },
        "804173bf3ead4b5d8fc7ffbf62fd3533": {
          "model_module": "@jupyter-widgets/base",
          "model_name": "LayoutModel",
          "model_module_version": "1.2.0",
          "state": {
            "_model_module": "@jupyter-widgets/base",
            "_model_module_version": "1.2.0",
            "_model_name": "LayoutModel",
            "_view_count": null,
            "_view_module": "@jupyter-widgets/base",
            "_view_module_version": "1.2.0",
            "_view_name": "LayoutView",
            "align_content": null,
            "align_items": null,
            "align_self": null,
            "border": null,
            "bottom": null,
            "display": null,
            "flex": null,
            "flex_flow": null,
            "grid_area": null,
            "grid_auto_columns": null,
            "grid_auto_flow": null,
            "grid_auto_rows": null,
            "grid_column": null,
            "grid_gap": null,
            "grid_row": null,
            "grid_template_areas": null,
            "grid_template_columns": null,
            "grid_template_rows": null,
            "height": null,
            "justify_content": null,
            "justify_items": null,
            "left": null,
            "margin": null,
            "max_height": null,
            "max_width": null,
            "min_height": null,
            "min_width": null,
            "object_fit": null,
            "object_position": null,
            "order": null,
            "overflow": null,
            "overflow_x": null,
            "overflow_y": null,
            "padding": null,
            "right": null,
            "top": null,
            "visibility": null,
            "width": null
          }
        },
        "78c366e83cf0489f9ea3d18221d64d2a": {
          "model_module": "@jupyter-widgets/base",
          "model_name": "LayoutModel",
          "model_module_version": "1.2.0",
          "state": {
            "_model_module": "@jupyter-widgets/base",
            "_model_module_version": "1.2.0",
            "_model_name": "LayoutModel",
            "_view_count": null,
            "_view_module": "@jupyter-widgets/base",
            "_view_module_version": "1.2.0",
            "_view_name": "LayoutView",
            "align_content": null,
            "align_items": null,
            "align_self": null,
            "border": null,
            "bottom": null,
            "display": null,
            "flex": null,
            "flex_flow": null,
            "grid_area": null,
            "grid_auto_columns": null,
            "grid_auto_flow": null,
            "grid_auto_rows": null,
            "grid_column": null,
            "grid_gap": null,
            "grid_row": null,
            "grid_template_areas": null,
            "grid_template_columns": null,
            "grid_template_rows": null,
            "height": null,
            "justify_content": null,
            "justify_items": null,
            "left": null,
            "margin": null,
            "max_height": null,
            "max_width": null,
            "min_height": null,
            "min_width": null,
            "object_fit": null,
            "object_position": null,
            "order": null,
            "overflow": null,
            "overflow_x": null,
            "overflow_y": null,
            "padding": null,
            "right": null,
            "top": null,
            "visibility": null,
            "width": null
          }
        },
        "84e40a34cb6a4580bb6bd40d9b1cbe4e": {
          "model_module": "@jupyter-widgets/controls",
          "model_name": "DescriptionStyleModel",
          "model_module_version": "1.5.0",
          "state": {
            "_model_module": "@jupyter-widgets/controls",
            "_model_module_version": "1.5.0",
            "_model_name": "DescriptionStyleModel",
            "_view_count": null,
            "_view_module": "@jupyter-widgets/base",
            "_view_module_version": "1.2.0",
            "_view_name": "StyleView",
            "description_width": ""
          }
        },
        "a543f6b114ae48eda152d1b91c7b4271": {
          "model_module": "@jupyter-widgets/base",
          "model_name": "LayoutModel",
          "model_module_version": "1.2.0",
          "state": {
            "_model_module": "@jupyter-widgets/base",
            "_model_module_version": "1.2.0",
            "_model_name": "LayoutModel",
            "_view_count": null,
            "_view_module": "@jupyter-widgets/base",
            "_view_module_version": "1.2.0",
            "_view_name": "LayoutView",
            "align_content": null,
            "align_items": null,
            "align_self": null,
            "border": null,
            "bottom": null,
            "display": null,
            "flex": null,
            "flex_flow": null,
            "grid_area": null,
            "grid_auto_columns": null,
            "grid_auto_flow": null,
            "grid_auto_rows": null,
            "grid_column": null,
            "grid_gap": null,
            "grid_row": null,
            "grid_template_areas": null,
            "grid_template_columns": null,
            "grid_template_rows": null,
            "height": null,
            "justify_content": null,
            "justify_items": null,
            "left": null,
            "margin": null,
            "max_height": null,
            "max_width": null,
            "min_height": null,
            "min_width": null,
            "object_fit": null,
            "object_position": null,
            "order": null,
            "overflow": null,
            "overflow_x": null,
            "overflow_y": null,
            "padding": null,
            "right": null,
            "top": null,
            "visibility": null,
            "width": null
          }
        },
        "2d041a6b96664a668e3681ae1ddd1f52": {
          "model_module": "@jupyter-widgets/controls",
          "model_name": "ProgressStyleModel",
          "model_module_version": "1.5.0",
          "state": {
            "_model_module": "@jupyter-widgets/controls",
            "_model_module_version": "1.5.0",
            "_model_name": "ProgressStyleModel",
            "_view_count": null,
            "_view_module": "@jupyter-widgets/base",
            "_view_module_version": "1.2.0",
            "_view_name": "StyleView",
            "bar_color": null,
            "description_width": ""
          }
        },
        "f92f51514d0645f3917f042e9fb43ca3": {
          "model_module": "@jupyter-widgets/base",
          "model_name": "LayoutModel",
          "model_module_version": "1.2.0",
          "state": {
            "_model_module": "@jupyter-widgets/base",
            "_model_module_version": "1.2.0",
            "_model_name": "LayoutModel",
            "_view_count": null,
            "_view_module": "@jupyter-widgets/base",
            "_view_module_version": "1.2.0",
            "_view_name": "LayoutView",
            "align_content": null,
            "align_items": null,
            "align_self": null,
            "border": null,
            "bottom": null,
            "display": null,
            "flex": null,
            "flex_flow": null,
            "grid_area": null,
            "grid_auto_columns": null,
            "grid_auto_flow": null,
            "grid_auto_rows": null,
            "grid_column": null,
            "grid_gap": null,
            "grid_row": null,
            "grid_template_areas": null,
            "grid_template_columns": null,
            "grid_template_rows": null,
            "height": null,
            "justify_content": null,
            "justify_items": null,
            "left": null,
            "margin": null,
            "max_height": null,
            "max_width": null,
            "min_height": null,
            "min_width": null,
            "object_fit": null,
            "object_position": null,
            "order": null,
            "overflow": null,
            "overflow_x": null,
            "overflow_y": null,
            "padding": null,
            "right": null,
            "top": null,
            "visibility": null,
            "width": null
          }
        },
        "9df395ec78f24a2d81c939a9efaa2cb3": {
          "model_module": "@jupyter-widgets/controls",
          "model_name": "DescriptionStyleModel",
          "model_module_version": "1.5.0",
          "state": {
            "_model_module": "@jupyter-widgets/controls",
            "_model_module_version": "1.5.0",
            "_model_name": "DescriptionStyleModel",
            "_view_count": null,
            "_view_module": "@jupyter-widgets/base",
            "_view_module_version": "1.2.0",
            "_view_name": "StyleView",
            "description_width": ""
          }
        },
        "308c3cdb6f134af3adffa9e25a9d5d80": {
          "model_module": "@jupyter-widgets/controls",
          "model_name": "HBoxModel",
          "model_module_version": "1.5.0",
          "state": {
            "_dom_classes": [],
            "_model_module": "@jupyter-widgets/controls",
            "_model_module_version": "1.5.0",
            "_model_name": "HBoxModel",
            "_view_count": null,
            "_view_module": "@jupyter-widgets/controls",
            "_view_module_version": "1.5.0",
            "_view_name": "HBoxView",
            "box_style": "",
            "children": [
              "IPY_MODEL_f44ca132eec14ebebacc1872f9f541b1",
              "IPY_MODEL_47baeec5ce4d48e9afae23fe807d3c05",
              "IPY_MODEL_32766766504f42a1ab3b0a93b8c8a00a"
            ],
            "layout": "IPY_MODEL_308c63160cb249e7aef299cef193b0ac"
          }
        },
        "f44ca132eec14ebebacc1872f9f541b1": {
          "model_module": "@jupyter-widgets/controls",
          "model_name": "HTMLModel",
          "model_module_version": "1.5.0",
          "state": {
            "_dom_classes": [],
            "_model_module": "@jupyter-widgets/controls",
            "_model_module_version": "1.5.0",
            "_model_name": "HTMLModel",
            "_view_count": null,
            "_view_module": "@jupyter-widgets/controls",
            "_view_module_version": "1.5.0",
            "_view_name": "HTMLView",
            "description": "",
            "description_tooltip": null,
            "layout": "IPY_MODEL_81e3fb6a92fc4355aa248c4e6a95b27a",
            "placeholder": "​",
            "style": "IPY_MODEL_74f4069e08ca4058abcfc5c752604b25",
            "value": "Map: 100%"
          }
        },
        "47baeec5ce4d48e9afae23fe807d3c05": {
          "model_module": "@jupyter-widgets/controls",
          "model_name": "FloatProgressModel",
          "model_module_version": "1.5.0",
          "state": {
            "_dom_classes": [],
            "_model_module": "@jupyter-widgets/controls",
            "_model_module_version": "1.5.0",
            "_model_name": "FloatProgressModel",
            "_view_count": null,
            "_view_module": "@jupyter-widgets/controls",
            "_view_module_version": "1.5.0",
            "_view_name": "ProgressView",
            "bar_style": "success",
            "description": "",
            "description_tooltip": null,
            "layout": "IPY_MODEL_8b32ecf8d94b4927869f38981d469721",
            "max": 2000,
            "min": 0,
            "orientation": "horizontal",
            "style": "IPY_MODEL_d7169bb1559d434ebef74aea6f79166a",
            "value": 2000
          }
        },
        "32766766504f42a1ab3b0a93b8c8a00a": {
          "model_module": "@jupyter-widgets/controls",
          "model_name": "HTMLModel",
          "model_module_version": "1.5.0",
          "state": {
            "_dom_classes": [],
            "_model_module": "@jupyter-widgets/controls",
            "_model_module_version": "1.5.0",
            "_model_name": "HTMLModel",
            "_view_count": null,
            "_view_module": "@jupyter-widgets/controls",
            "_view_module_version": "1.5.0",
            "_view_name": "HTMLView",
            "description": "",
            "description_tooltip": null,
            "layout": "IPY_MODEL_88ea3c0175ad4d76b084e53a9827b4a5",
            "placeholder": "​",
            "style": "IPY_MODEL_caca80310eed43c6a3e98c79059a1349",
            "value": " 2000/2000 [00:00&lt;00:00, 3387.57 examples/s]"
          }
        },
        "308c63160cb249e7aef299cef193b0ac": {
          "model_module": "@jupyter-widgets/base",
          "model_name": "LayoutModel",
          "model_module_version": "1.2.0",
          "state": {
            "_model_module": "@jupyter-widgets/base",
            "_model_module_version": "1.2.0",
            "_model_name": "LayoutModel",
            "_view_count": null,
            "_view_module": "@jupyter-widgets/base",
            "_view_module_version": "1.2.0",
            "_view_name": "LayoutView",
            "align_content": null,
            "align_items": null,
            "align_self": null,
            "border": null,
            "bottom": null,
            "display": null,
            "flex": null,
            "flex_flow": null,
            "grid_area": null,
            "grid_auto_columns": null,
            "grid_auto_flow": null,
            "grid_auto_rows": null,
            "grid_column": null,
            "grid_gap": null,
            "grid_row": null,
            "grid_template_areas": null,
            "grid_template_columns": null,
            "grid_template_rows": null,
            "height": null,
            "justify_content": null,
            "justify_items": null,
            "left": null,
            "margin": null,
            "max_height": null,
            "max_width": null,
            "min_height": null,
            "min_width": null,
            "object_fit": null,
            "object_position": null,
            "order": null,
            "overflow": null,
            "overflow_x": null,
            "overflow_y": null,
            "padding": null,
            "right": null,
            "top": null,
            "visibility": null,
            "width": null
          }
        },
        "81e3fb6a92fc4355aa248c4e6a95b27a": {
          "model_module": "@jupyter-widgets/base",
          "model_name": "LayoutModel",
          "model_module_version": "1.2.0",
          "state": {
            "_model_module": "@jupyter-widgets/base",
            "_model_module_version": "1.2.0",
            "_model_name": "LayoutModel",
            "_view_count": null,
            "_view_module": "@jupyter-widgets/base",
            "_view_module_version": "1.2.0",
            "_view_name": "LayoutView",
            "align_content": null,
            "align_items": null,
            "align_self": null,
            "border": null,
            "bottom": null,
            "display": null,
            "flex": null,
            "flex_flow": null,
            "grid_area": null,
            "grid_auto_columns": null,
            "grid_auto_flow": null,
            "grid_auto_rows": null,
            "grid_column": null,
            "grid_gap": null,
            "grid_row": null,
            "grid_template_areas": null,
            "grid_template_columns": null,
            "grid_template_rows": null,
            "height": null,
            "justify_content": null,
            "justify_items": null,
            "left": null,
            "margin": null,
            "max_height": null,
            "max_width": null,
            "min_height": null,
            "min_width": null,
            "object_fit": null,
            "object_position": null,
            "order": null,
            "overflow": null,
            "overflow_x": null,
            "overflow_y": null,
            "padding": null,
            "right": null,
            "top": null,
            "visibility": null,
            "width": null
          }
        },
        "74f4069e08ca4058abcfc5c752604b25": {
          "model_module": "@jupyter-widgets/controls",
          "model_name": "DescriptionStyleModel",
          "model_module_version": "1.5.0",
          "state": {
            "_model_module": "@jupyter-widgets/controls",
            "_model_module_version": "1.5.0",
            "_model_name": "DescriptionStyleModel",
            "_view_count": null,
            "_view_module": "@jupyter-widgets/base",
            "_view_module_version": "1.2.0",
            "_view_name": "StyleView",
            "description_width": ""
          }
        },
        "8b32ecf8d94b4927869f38981d469721": {
          "model_module": "@jupyter-widgets/base",
          "model_name": "LayoutModel",
          "model_module_version": "1.2.0",
          "state": {
            "_model_module": "@jupyter-widgets/base",
            "_model_module_version": "1.2.0",
            "_model_name": "LayoutModel",
            "_view_count": null,
            "_view_module": "@jupyter-widgets/base",
            "_view_module_version": "1.2.0",
            "_view_name": "LayoutView",
            "align_content": null,
            "align_items": null,
            "align_self": null,
            "border": null,
            "bottom": null,
            "display": null,
            "flex": null,
            "flex_flow": null,
            "grid_area": null,
            "grid_auto_columns": null,
            "grid_auto_flow": null,
            "grid_auto_rows": null,
            "grid_column": null,
            "grid_gap": null,
            "grid_row": null,
            "grid_template_areas": null,
            "grid_template_columns": null,
            "grid_template_rows": null,
            "height": null,
            "justify_content": null,
            "justify_items": null,
            "left": null,
            "margin": null,
            "max_height": null,
            "max_width": null,
            "min_height": null,
            "min_width": null,
            "object_fit": null,
            "object_position": null,
            "order": null,
            "overflow": null,
            "overflow_x": null,
            "overflow_y": null,
            "padding": null,
            "right": null,
            "top": null,
            "visibility": null,
            "width": null
          }
        },
        "d7169bb1559d434ebef74aea6f79166a": {
          "model_module": "@jupyter-widgets/controls",
          "model_name": "ProgressStyleModel",
          "model_module_version": "1.5.0",
          "state": {
            "_model_module": "@jupyter-widgets/controls",
            "_model_module_version": "1.5.0",
            "_model_name": "ProgressStyleModel",
            "_view_count": null,
            "_view_module": "@jupyter-widgets/base",
            "_view_module_version": "1.2.0",
            "_view_name": "StyleView",
            "bar_color": null,
            "description_width": ""
          }
        },
        "88ea3c0175ad4d76b084e53a9827b4a5": {
          "model_module": "@jupyter-widgets/base",
          "model_name": "LayoutModel",
          "model_module_version": "1.2.0",
          "state": {
            "_model_module": "@jupyter-widgets/base",
            "_model_module_version": "1.2.0",
            "_model_name": "LayoutModel",
            "_view_count": null,
            "_view_module": "@jupyter-widgets/base",
            "_view_module_version": "1.2.0",
            "_view_name": "LayoutView",
            "align_content": null,
            "align_items": null,
            "align_self": null,
            "border": null,
            "bottom": null,
            "display": null,
            "flex": null,
            "flex_flow": null,
            "grid_area": null,
            "grid_auto_columns": null,
            "grid_auto_flow": null,
            "grid_auto_rows": null,
            "grid_column": null,
            "grid_gap": null,
            "grid_row": null,
            "grid_template_areas": null,
            "grid_template_columns": null,
            "grid_template_rows": null,
            "height": null,
            "justify_content": null,
            "justify_items": null,
            "left": null,
            "margin": null,
            "max_height": null,
            "max_width": null,
            "min_height": null,
            "min_width": null,
            "object_fit": null,
            "object_position": null,
            "order": null,
            "overflow": null,
            "overflow_x": null,
            "overflow_y": null,
            "padding": null,
            "right": null,
            "top": null,
            "visibility": null,
            "width": null
          }
        },
        "caca80310eed43c6a3e98c79059a1349": {
          "model_module": "@jupyter-widgets/controls",
          "model_name": "DescriptionStyleModel",
          "model_module_version": "1.5.0",
          "state": {
            "_model_module": "@jupyter-widgets/controls",
            "_model_module_version": "1.5.0",
            "_model_name": "DescriptionStyleModel",
            "_view_count": null,
            "_view_module": "@jupyter-widgets/base",
            "_view_module_version": "1.2.0",
            "_view_name": "StyleView",
            "description_width": ""
          }
        },
        "e39258f2cf534de999b488dc6e42c10c": {
          "model_module": "@jupyter-widgets/controls",
          "model_name": "HBoxModel",
          "model_module_version": "1.5.0",
          "state": {
            "_dom_classes": [],
            "_model_module": "@jupyter-widgets/controls",
            "_model_module_version": "1.5.0",
            "_model_name": "HBoxModel",
            "_view_count": null,
            "_view_module": "@jupyter-widgets/controls",
            "_view_module_version": "1.5.0",
            "_view_name": "HBoxView",
            "box_style": "",
            "children": [
              "IPY_MODEL_30e4c240a2d04f8181e3d45c27344ea6",
              "IPY_MODEL_59837936314646b484877d029a4901cd",
              "IPY_MODEL_e6e3f4a901b5428c89b6a6dae4f20614"
            ],
            "layout": "IPY_MODEL_3f0e3bd981a6454b9dd234d8f8222eae"
          }
        },
        "30e4c240a2d04f8181e3d45c27344ea6": {
          "model_module": "@jupyter-widgets/controls",
          "model_name": "HTMLModel",
          "model_module_version": "1.5.0",
          "state": {
            "_dom_classes": [],
            "_model_module": "@jupyter-widgets/controls",
            "_model_module_version": "1.5.0",
            "_model_name": "HTMLModel",
            "_view_count": null,
            "_view_module": "@jupyter-widgets/controls",
            "_view_module_version": "1.5.0",
            "_view_name": "HTMLView",
            "description": "",
            "description_tooltip": null,
            "layout": "IPY_MODEL_b3c6c79f861d41ddb55c93cf6c2b31ab",
            "placeholder": "​",
            "style": "IPY_MODEL_19996e6ad0bf40babba3c1a3ed5ba29b",
            "value": "Map: 100%"
          }
        },
        "59837936314646b484877d029a4901cd": {
          "model_module": "@jupyter-widgets/controls",
          "model_name": "FloatProgressModel",
          "model_module_version": "1.5.0",
          "state": {
            "_dom_classes": [],
            "_model_module": "@jupyter-widgets/controls",
            "_model_module_version": "1.5.0",
            "_model_name": "FloatProgressModel",
            "_view_count": null,
            "_view_module": "@jupyter-widgets/controls",
            "_view_module_version": "1.5.0",
            "_view_name": "ProgressView",
            "bar_style": "success",
            "description": "",
            "description_tooltip": null,
            "layout": "IPY_MODEL_de91e8a2cb0f4ff7a34da3180c4d7cdc",
            "max": 2000,
            "min": 0,
            "orientation": "horizontal",
            "style": "IPY_MODEL_384fd7542c8149279e848d74098cce60",
            "value": 2000
          }
        },
        "e6e3f4a901b5428c89b6a6dae4f20614": {
          "model_module": "@jupyter-widgets/controls",
          "model_name": "HTMLModel",
          "model_module_version": "1.5.0",
          "state": {
            "_dom_classes": [],
            "_model_module": "@jupyter-widgets/controls",
            "_model_module_version": "1.5.0",
            "_model_name": "HTMLModel",
            "_view_count": null,
            "_view_module": "@jupyter-widgets/controls",
            "_view_module_version": "1.5.0",
            "_view_name": "HTMLView",
            "description": "",
            "description_tooltip": null,
            "layout": "IPY_MODEL_d5c65fb4a9a24609bb43af957af066b7",
            "placeholder": "​",
            "style": "IPY_MODEL_50d387d03d2443679159da3b3ecde374",
            "value": " 2000/2000 [00:00&lt;00:00, 4429.94 examples/s]"
          }
        },
        "3f0e3bd981a6454b9dd234d8f8222eae": {
          "model_module": "@jupyter-widgets/base",
          "model_name": "LayoutModel",
          "model_module_version": "1.2.0",
          "state": {
            "_model_module": "@jupyter-widgets/base",
            "_model_module_version": "1.2.0",
            "_model_name": "LayoutModel",
            "_view_count": null,
            "_view_module": "@jupyter-widgets/base",
            "_view_module_version": "1.2.0",
            "_view_name": "LayoutView",
            "align_content": null,
            "align_items": null,
            "align_self": null,
            "border": null,
            "bottom": null,
            "display": null,
            "flex": null,
            "flex_flow": null,
            "grid_area": null,
            "grid_auto_columns": null,
            "grid_auto_flow": null,
            "grid_auto_rows": null,
            "grid_column": null,
            "grid_gap": null,
            "grid_row": null,
            "grid_template_areas": null,
            "grid_template_columns": null,
            "grid_template_rows": null,
            "height": null,
            "justify_content": null,
            "justify_items": null,
            "left": null,
            "margin": null,
            "max_height": null,
            "max_width": null,
            "min_height": null,
            "min_width": null,
            "object_fit": null,
            "object_position": null,
            "order": null,
            "overflow": null,
            "overflow_x": null,
            "overflow_y": null,
            "padding": null,
            "right": null,
            "top": null,
            "visibility": null,
            "width": null
          }
        },
        "b3c6c79f861d41ddb55c93cf6c2b31ab": {
          "model_module": "@jupyter-widgets/base",
          "model_name": "LayoutModel",
          "model_module_version": "1.2.0",
          "state": {
            "_model_module": "@jupyter-widgets/base",
            "_model_module_version": "1.2.0",
            "_model_name": "LayoutModel",
            "_view_count": null,
            "_view_module": "@jupyter-widgets/base",
            "_view_module_version": "1.2.0",
            "_view_name": "LayoutView",
            "align_content": null,
            "align_items": null,
            "align_self": null,
            "border": null,
            "bottom": null,
            "display": null,
            "flex": null,
            "flex_flow": null,
            "grid_area": null,
            "grid_auto_columns": null,
            "grid_auto_flow": null,
            "grid_auto_rows": null,
            "grid_column": null,
            "grid_gap": null,
            "grid_row": null,
            "grid_template_areas": null,
            "grid_template_columns": null,
            "grid_template_rows": null,
            "height": null,
            "justify_content": null,
            "justify_items": null,
            "left": null,
            "margin": null,
            "max_height": null,
            "max_width": null,
            "min_height": null,
            "min_width": null,
            "object_fit": null,
            "object_position": null,
            "order": null,
            "overflow": null,
            "overflow_x": null,
            "overflow_y": null,
            "padding": null,
            "right": null,
            "top": null,
            "visibility": null,
            "width": null
          }
        },
        "19996e6ad0bf40babba3c1a3ed5ba29b": {
          "model_module": "@jupyter-widgets/controls",
          "model_name": "DescriptionStyleModel",
          "model_module_version": "1.5.0",
          "state": {
            "_model_module": "@jupyter-widgets/controls",
            "_model_module_version": "1.5.0",
            "_model_name": "DescriptionStyleModel",
            "_view_count": null,
            "_view_module": "@jupyter-widgets/base",
            "_view_module_version": "1.2.0",
            "_view_name": "StyleView",
            "description_width": ""
          }
        },
        "de91e8a2cb0f4ff7a34da3180c4d7cdc": {
          "model_module": "@jupyter-widgets/base",
          "model_name": "LayoutModel",
          "model_module_version": "1.2.0",
          "state": {
            "_model_module": "@jupyter-widgets/base",
            "_model_module_version": "1.2.0",
            "_model_name": "LayoutModel",
            "_view_count": null,
            "_view_module": "@jupyter-widgets/base",
            "_view_module_version": "1.2.0",
            "_view_name": "LayoutView",
            "align_content": null,
            "align_items": null,
            "align_self": null,
            "border": null,
            "bottom": null,
            "display": null,
            "flex": null,
            "flex_flow": null,
            "grid_area": null,
            "grid_auto_columns": null,
            "grid_auto_flow": null,
            "grid_auto_rows": null,
            "grid_column": null,
            "grid_gap": null,
            "grid_row": null,
            "grid_template_areas": null,
            "grid_template_columns": null,
            "grid_template_rows": null,
            "height": null,
            "justify_content": null,
            "justify_items": null,
            "left": null,
            "margin": null,
            "max_height": null,
            "max_width": null,
            "min_height": null,
            "min_width": null,
            "object_fit": null,
            "object_position": null,
            "order": null,
            "overflow": null,
            "overflow_x": null,
            "overflow_y": null,
            "padding": null,
            "right": null,
            "top": null,
            "visibility": null,
            "width": null
          }
        },
        "384fd7542c8149279e848d74098cce60": {
          "model_module": "@jupyter-widgets/controls",
          "model_name": "ProgressStyleModel",
          "model_module_version": "1.5.0",
          "state": {
            "_model_module": "@jupyter-widgets/controls",
            "_model_module_version": "1.5.0",
            "_model_name": "ProgressStyleModel",
            "_view_count": null,
            "_view_module": "@jupyter-widgets/base",
            "_view_module_version": "1.2.0",
            "_view_name": "StyleView",
            "bar_color": null,
            "description_width": ""
          }
        },
        "d5c65fb4a9a24609bb43af957af066b7": {
          "model_module": "@jupyter-widgets/base",
          "model_name": "LayoutModel",
          "model_module_version": "1.2.0",
          "state": {
            "_model_module": "@jupyter-widgets/base",
            "_model_module_version": "1.2.0",
            "_model_name": "LayoutModel",
            "_view_count": null,
            "_view_module": "@jupyter-widgets/base",
            "_view_module_version": "1.2.0",
            "_view_name": "LayoutView",
            "align_content": null,
            "align_items": null,
            "align_self": null,
            "border": null,
            "bottom": null,
            "display": null,
            "flex": null,
            "flex_flow": null,
            "grid_area": null,
            "grid_auto_columns": null,
            "grid_auto_flow": null,
            "grid_auto_rows": null,
            "grid_column": null,
            "grid_gap": null,
            "grid_row": null,
            "grid_template_areas": null,
            "grid_template_columns": null,
            "grid_template_rows": null,
            "height": null,
            "justify_content": null,
            "justify_items": null,
            "left": null,
            "margin": null,
            "max_height": null,
            "max_width": null,
            "min_height": null,
            "min_width": null,
            "object_fit": null,
            "object_position": null,
            "order": null,
            "overflow": null,
            "overflow_x": null,
            "overflow_y": null,
            "padding": null,
            "right": null,
            "top": null,
            "visibility": null,
            "width": null
          }
        },
        "50d387d03d2443679159da3b3ecde374": {
          "model_module": "@jupyter-widgets/controls",
          "model_name": "DescriptionStyleModel",
          "model_module_version": "1.5.0",
          "state": {
            "_model_module": "@jupyter-widgets/controls",
            "_model_module_version": "1.5.0",
            "_model_name": "DescriptionStyleModel",
            "_view_count": null,
            "_view_module": "@jupyter-widgets/base",
            "_view_module_version": "1.2.0",
            "_view_name": "StyleView",
            "description_width": ""
          }
        }
      }
    }
  },
  "nbformat": 4,
  "nbformat_minor": 0
}